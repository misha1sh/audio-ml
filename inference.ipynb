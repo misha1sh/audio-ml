{
 "cells": [
  {
   "cell_type": "code",
   "execution_count": 2,
   "metadata": {},
   "outputs": [
    {
     "name": "stderr",
     "output_type": "stream",
     "text": [
      "Triton is not available, some optimizations will not be enabled.\n",
      "This is just a warning: No module named 'triton'\n",
      "Either FairScale or torch distributed is not available, MixtureOfExperts will not be exposed. Please install them if you would like to use MoE\n"
     ]
    },
    {
     "data": {
      "text/plain": [
       "Model(\n",
       "  (model): Sequential(\n",
       "    (0): Linear(in_features=363, out_features=64, bias=True)\n",
       "    (1): BatchNorm1d(16, eps=1e-05, momentum=0.1, affine=True, track_running_stats=True)\n",
       "    (2): ReLU()\n",
       "    (3): xFormerEncoderBlock(\n",
       "      (pose_encoding): SinePositionalEmbedding()\n",
       "      (wrap_att): Residual(\n",
       "        (layer): PreNorm(\n",
       "          (norm): LayerNorm((64,), eps=1e-05, elementwise_affine=True)\n",
       "          (sublayer): MultiHeadDispatch(\n",
       "            (attention): ScaledDotProduct(\n",
       "              (attn_drop): Dropout(p=0.0, inplace=False)\n",
       "            )\n",
       "            (in_proj_container): InputProjection(\n",
       "              (q_proj): Linear(in_features=64, out_features=64, bias=True)\n",
       "              (k_proj): Linear(in_features=64, out_features=64, bias=True)\n",
       "              (v_proj): Linear(in_features=64, out_features=64, bias=True)\n",
       "            )\n",
       "            (resid_drop): Dropout(p=0.0, inplace=False)\n",
       "            (proj): Linear(in_features=64, out_features=64, bias=True)\n",
       "          )\n",
       "        )\n",
       "      )\n",
       "      (wrap_ff): PostNorm(\n",
       "        (norm): LayerNorm((64,), eps=1e-05, elementwise_affine=True)\n",
       "        (sublayer): Residual(\n",
       "          (layer): PreNorm(\n",
       "            (norm): LayerNorm((64,), eps=1e-05, elementwise_affine=True)\n",
       "            (sublayer): MLP(\n",
       "              (mlp): Sequential(\n",
       "                (0): Linear(in_features=64, out_features=64, bias=True)\n",
       "                (1): ReLU()\n",
       "                (2): Dropout(p=0.0, inplace=False)\n",
       "                (3): Linear(in_features=64, out_features=64, bias=True)\n",
       "                (4): Dropout(p=0.0, inplace=False)\n",
       "              )\n",
       "            )\n",
       "          )\n",
       "        )\n",
       "      )\n",
       "    )\n",
       "    (4): Flatten(start_dim=1, end_dim=-1)\n",
       "    (5): Linear(in_features=1024, out_features=3, bias=True)\n",
       "  )\n",
       ")"
      ]
     },
     "execution_count": 2,
     "metadata": {},
     "output_type": "execute_result"
    }
   ],
   "source": [
    "from xformers.factory import xFormerEncoderBlock, xFormerEncoderConfig\n",
    "from pymorphy2.tagset import OpencorporaTag\n",
    "from params import NO_PUNCT, build_params\n",
    "import torch\n",
    "import torch.nn as nn\n",
    "\n",
    "feature_tags_array = [\n",
    "    OpencorporaTag.PARTS_OF_SPEECH, # часть речи\n",
    "    OpencorporaTag.GENDERS, # род\n",
    "    OpencorporaTag.NUMBERS, # число\n",
    "    OpencorporaTag.CASES, # падеж\n",
    "    OpencorporaTag.ASPECTS, # соверш / несоверш\n",
    "    OpencorporaTag.TRANSITIVITY, # перех / непереходный\n",
    "    OpencorporaTag.PERSONS, # лицо\n",
    "    OpencorporaTag.TENSES, # время\n",
    "    OpencorporaTag.MOODS, # наклонение\n",
    "    OpencorporaTag.VOICES, # залог\n",
    "    #INVOLVEMENT\n",
    "    ['Prnt'], # вводные слова\n",
    "    ['Apro'], # местоимение\n",
    "    ['NUMB'], # число вида 1234\n",
    "    ['LATIN'], # текст на английском\n",
    "    ['UNKN'], # неизвестный токен\n",
    "    ['PUNCT_DASH', 'PUNCT_DOT', 'PUNCT_COMMA', 'PUNCT_QUOTE',\n",
    "     'PUNCT_LEFT_PARENTHESIS', 'PUNCT_RIGHT_PARENTHESIS' ], # \"()\n",
    "    ['CAPITALIZED'], # начинается с заглавной буквы\n",
    "    ['Fixd', 'Abbr'] # неизменяемое, сокращение\n",
    "]\n",
    "\n",
    "CUT_NAVEC_TAGS_ARRAY = [\n",
    "    #'NOUN', #'ADJF'\n",
    "]\n",
    "\n",
    "params = build_params({\n",
    "    \"VARIANTS_CNT\": 1,\n",
    "    \"TARGET_CLASSES_COUNT\": 3,\n",
    "    \"INPUT_WORDS_CNT\": 16,\n",
    "    \"feature_tags_array\": feature_tags_array,\n",
    "    \"PUNCTUATION_TARGET\": {\n",
    "        \"$empty\": NO_PUNCT,\n",
    "        \",\": 1,\n",
    "        \".\": 2,\n",
    "        \"!\": 2,\n",
    "        \"?\": 2,\n",
    "    },\n",
    "    \"USE_NAVEC\": True,\n",
    "    'CUT_NAVEC_TAGS_SET': set(CUT_NAVEC_TAGS_ARRAY),\n",
    "    'INFECTED_TEXT_PROB': 0.1,\n",
    "    \"RETAIN_LEFT_PUNCT\": True,\n",
    "})\n",
    "\n",
    "N_words = params[\"INPUT_WORDS_CNT\"]\n",
    "# N_variants = params[\"VARIANTS_CNT\"]\n",
    "N_features = params[\"TOTAL_WORD_FEATURES_CNT\"]\n",
    "\n",
    "INTERNAL_EMBEDDING_SIZE = 64\n",
    "\n",
    "encoder_config = {\n",
    "    \"dim_model\": INTERNAL_EMBEDDING_SIZE, #N_variants * N_features,\n",
    "    \"residual_norm_style\": \"pre\",  # Optional, pre/post\n",
    "    \"position_encoding_config\": {\n",
    "        \"name\": \"sine\",  #sine\n",
    "        # \"dim_model\": VARIANTS_CNT * N_features,\n",
    "    },\n",
    "    \"multi_head_config\": {\n",
    "        \"num_heads\": 4,\n",
    "        \"residual_dropout\": 0.,\n",
    "        \"attention\": {\n",
    "            \"name\": \"scaled_dot_product\", #linformer scaled_dot_product fourier_mix, \"linformer\" scaled_dot_product,  # whatever attention mechanism\n",
    "            \"dropout\": 0., # linformer\n",
    "            \"seq_len\": N_words, # linformer, scaled_dot_product\n",
    "            \"to_seq_len\": N_words, # scaled_dot_product\n",
    "        },\n",
    "    },\n",
    "    \"feedforward_config\": {\n",
    "        \"name\": \"MLP\",\n",
    "        \"dropout\": 0.,\n",
    "        \"activation\": \"relu\",\n",
    "        \"hidden_layer_multiplier\": 1,\n",
    "    },\n",
    "}\n",
    "\n",
    "class Model(nn.Module):\n",
    "    def __init__(self, **kwargs):\n",
    "        super().__init__()\n",
    "        N_words = params['INPUT_WORDS_CNT']\n",
    "        # N_variants = params['VARIANTS_CNT']\n",
    "        N_features = params['TOTAL_WORD_FEATURES_CNT']\n",
    "\n",
    "        # input is (N, N_words, N_features)\n",
    "        # output is (N, N_words, )\n",
    "\n",
    "        self.model = nn.Sequential(\n",
    "            # nn.Flatten(2), \n",
    "            # (N, N_words, N_features + )\n",
    "            # nn.TransformerEncoder(encoder_layer, num_layers=1),encoder = \n",
    "            nn.Linear(N_features, INTERNAL_EMBEDDING_SIZE),\n",
    "            nn.BatchNorm1d(N_words),\n",
    "            nn.ReLU(),\n",
    "            \n",
    "            xFormerEncoderBlock(xFormerEncoderConfig(**encoder_config)),\n",
    "            # xFormerEncoderBlock(xFormerEncoderConfig(**encoder_config)),\n",
    "            # xFormerEncoderBlock(xFormerEncoderConfig(**encoder_config)),\n",
    "            # xFormerEncoderBlock(xFormerEncoderConfig(**encoder_config)),\n",
    "\n",
    "            nn.Flatten(1), # (N, N_words* INTERNAL_EMBEDDING_SIZE)\n",
    "            # nn.Tanh(),\n",
    "            nn.Linear(N_words* INTERNAL_EMBEDDING_SIZE, params['TARGET_CLASSES_COUNT']),\n",
    "            # nn.ReLU(),\n",
    "            # nn.Linear(100, TARGET_CLASSES_COUNT),\n",
    "            # nn.Tanh(),\n",
    "            # nn.Tanhshrink(),\n",
    "            # nn.Sigmoid(),\n",
    "            # nn.ReLU(),\n",
    "        )\n",
    "\n",
    "\n",
    "    def forward(self, x):\n",
    "        return self.model(x)\n",
    "\n",
    "    # buffer_size = 0\n",
    "    # for buffer in model.buffers():\n",
    "    #     buffer_size += buffer.nelement() * buffer.element_size()\n",
    "    # return (param_size + buffer_size) / 1024**2\n",
    "\n",
    "model = torch.load(\"model.v1\", map_location=torch.device('cpu'))\n",
    "model"
   ]
  },
  {
   "cell_type": "code",
   "execution_count": 2,
   "metadata": {},
   "outputs": [
    {
     "data": {
      "text/plain": [
       "363"
      ]
     },
     "execution_count": 2,
     "metadata": {},
     "output_type": "execute_result"
    }
   ],
   "source": [
    "params['TOTAL_WORD_FEATURES_CNT']"
   ]
  },
  {
   "cell_type": "code",
   "execution_count": 3,
   "metadata": {},
   "outputs": [
    {
     "name": "stdout",
     "output_type": "stream",
     "text": [
      "tensor([[-2.1201,  2.5673, -0.3095]])\n"
     ]
    }
   ],
   "source": [
    "dummy_input = torch.ones((1, params['INPUT_WORDS_CNT'], params['TOTAL_WORD_FEATURES_CNT']))\n",
    "with torch.no_grad():\n",
    "        print(model(dummy_input))\n",
    "        # torch.onnx.export(model, dummy_input, \"model.v1.onnx\", verbose=True)"
   ]
  },
  {
   "cell_type": "code",
   "execution_count": 106,
   "metadata": {},
   "outputs": [
    {
     "name": "stderr",
     "output_type": "stream",
     "text": [
      "/home/misha-sh/.local/lib/python3.10/site-packages/xformers/components/multi_head_dispatch.py:170: TracerWarning: Converting a tensor to a Python boolean might cause the trace to be incorrect. We can't record the data flow of Python values, so this value will be treated as a constant in the future. This means that the trace might not generalize to other inputs!\n",
      "  if query.shape[0] != key.shape[0] or query.shape[0] != value.shape[0]:\n",
      "/home/misha-sh/.local/lib/python3.10/site-packages/xformers/components/multi_head_dispatch.py:180: TracerWarning: Converting a tensor to a Python boolean might cause the trace to be incorrect. We can't record the data flow of Python values, so this value will be treated as a constant in the future. This means that the trace might not generalize to other inputs!\n",
      "  if S_Q != S_K:\n",
      "/home/misha-sh/.local/lib/python3.10/site-packages/xformers/components/multi_head_dispatch.py:215: TracerWarning: Converting a tensor to a Python boolean might cause the trace to be incorrect. We can't record the data flow of Python values, so this value will be treated as a constant in the future. This means that the trace might not generalize to other inputs!\n",
      "  assert (\n",
      "/home/misha-sh/.local/lib/python3.10/site-packages/xformers/components/attention/core.py:223: TracerWarning: Converting a tensor to a Python float might cause the trace to be incorrect. We can't record the data flow of Python values, so this value will be treated as a constant in the future. This means that the trace might not generalize to other inputs!\n",
      "  q = q / math.sqrt(k.size(-1))\n"
     ]
    }
   ],
   "source": [
    "torch_script_graph, unconvertible_ops = torch.onnx.utils.unconvertible_ops(\n",
    "    model, dummy_input #, opset_version=opset_version\n",
    ")\n"
   ]
  },
  {
   "cell_type": "code",
   "execution_count": 107,
   "metadata": {},
   "outputs": [
    {
     "data": {
      "text/plain": [
       "[]"
      ]
     },
     "execution_count": 107,
     "metadata": {},
     "output_type": "execute_result"
    }
   ],
   "source": [
    "unconvertible_ops"
   ]
  },
  {
   "cell_type": "code",
   "execution_count": 108,
   "metadata": {},
   "outputs": [
    {
     "name": "stderr",
     "output_type": "stream",
     "text": [
      "/home/misha-sh/.local/lib/python3.10/site-packages/torch/onnx/_internal/jit_utils.py:258: UserWarning: Constant folding - Only steps=1 can be constant folded for opset >= 10 onnx::Slice op. Constant folding not applied. (Triggered internally at ../torch/csrc/jit/passes/onnx/constant_fold.cpp:179.)\n",
      "  _C._jit_pass_onnx_node_shape_type_inference(node, params_dict, opset_version)\n",
      "/home/misha-sh/.local/lib/python3.10/site-packages/torch/onnx/utils.py:687: UserWarning: Constant folding - Only steps=1 can be constant folded for opset >= 10 onnx::Slice op. Constant folding not applied. (Triggered internally at ../torch/csrc/jit/passes/onnx/constant_fold.cpp:179.)\n",
      "  _C._jit_pass_onnx_graph_shape_type_inference(\n",
      "/home/misha-sh/.local/lib/python3.10/site-packages/torch/onnx/utils.py:1172: UserWarning: Constant folding - Only steps=1 can be constant folded for opset >= 10 onnx::Slice op. Constant folding not applied. (Triggered internally at ../torch/csrc/jit/passes/onnx/constant_fold.cpp:179.)\n",
      "  params_dict = _C._jit_pass_onnx_constant_fold(\n",
      "/home/misha-sh/.local/lib/python3.10/site-packages/torch/onnx/utils.py:1178: UserWarning: Constant folding - Only steps=1 can be constant folded for opset >= 10 onnx::Slice op. Constant folding not applied. (Triggered internally at ../torch/csrc/jit/passes/onnx/constant_fold.cpp:179.)\n",
      "  _C._jit_pass_onnx_graph_shape_type_inference(\n"
     ]
    }
   ],
   "source": [
    "torch.onnx.export(model, (dummy_input, ), \"model.v1.onnx\", \n",
    "                input_names = ['inputt'],\n",
    "                output_names = ['output'])#, verbose=True)\n",
    "        # print(torch.onnx.export_to_pretty_string(model, (dummy_input, )))#, verbose=True))\n"
   ]
  },
  {
   "cell_type": "code",
   "execution_count": 111,
   "metadata": {},
   "outputs": [
    {
     "name": "stdout",
     "output_type": "stream",
     "text": [
      "torch: tensor([[-2.1201,  2.5673, -0.3095]])\n",
      "onnx: [[-2.1201398  2.5672958 -0.3095349]]\n",
      "torch: tensor([[ 7.6277, -7.6282, -2.7835]])\n",
      "onnx: [[ 7.6277103 -7.6281767 -2.7834713]]\n"
     ]
    }
   ],
   "source": [
    "for a in [dummy_input, np.zeros_like(dummy_input)]:\n",
    "    print('torch:', torch_model_runner(model)(torch.Tensor(a)))\n",
    "    print('onnx:', onnx_model_runner('model.v1.onnx')(a))"
   ]
  },
  {
   "cell_type": "code",
   "execution_count": null,
   "metadata": {},
   "outputs": [],
   "source": []
  },
  {
   "cell_type": "code",
   "execution_count": 93,
   "metadata": {},
   "outputs": [
    {
     "data": {
      "text/plain": [
       "<matplotlib.image.AxesImage at 0x7f67ae8b9690>"
      ]
     },
     "execution_count": 93,
     "metadata": {},
     "output_type": "execute_result"
    },
    {
     "data": {
      "image/png": "[encoded data removed]",
      "text/plain": [
       "<Figure size 640x480 with 1 Axes>"
      ]
     },
     "metadata": {},
     "output_type": "display_data"
    }
   ],
   "source": [
    "import onnx\n",
    "onnx_model = onnx.load(\"model.v1.onnx\")\n",
    "\n",
    "\n",
    "from onnx.tools.net_drawer import GetOpNodeProducer, GetPydotGraph\n",
    "\n",
    "pydot_graph = GetPydotGraph(\n",
    "    onnx_model.graph, name=onnx_model.graph.name, rankdir=\"LR\", node_producer=GetOpNodeProducer(\"docstring\")\n",
    ")\n",
    "pydot_graph.write_dot(\"graph.dot\")\n",
    "\n",
    "import os\n",
    "os.system(\"dot -O -Tsvg graph.dot\")\n",
    "\n",
    "import matplotlib.pyplot as plt\n",
    "\n",
    "image = plt.imread(\"graph.dot.png\")\n",
    "plt.imshow(image)"
   ]
  },
  {
   "cell_type": "code",
   "execution_count": 75,
   "metadata": {},
   "outputs": [
    {
     "data": {
      "text/plain": [
       "[array([[-2.1201398,  2.5672958, -0.3095349]], dtype=float32)]"
      ]
     },
     "execution_count": 75,
     "metadata": {},
     "output_type": "execute_result"
    }
   ],
   "source": []
  },
  {
   "cell_type": "code",
   "execution_count": 18,
   "metadata": {},
   "outputs": [
    {
     "data": {
      "text/plain": [
       "'Отмечается, что 44-летняя россиянка, первый человек, которому предъявят обвинение в попытке вмешаться в выборы 2018 года. По информации Минюста, она и еще несколько человек выдавала себя за американскую политическую активистку и скрывала свое российское происхождение.'"
      ]
     },
     "execution_count": 18,
     "metadata": {},
     "output_type": "execute_result"
    }
   ],
   "source": [
    "import pymorphy2\n",
    "from dataset_builder import calculate_word_features_for_tokens, get_word_features, PAD_TOKEN\n",
    "import onnxruntime as ort\n",
    "import numpy as np\n",
    "\n",
    "def torch_model_runner(model):\n",
    "    model.eval()\n",
    "    def func(input):\n",
    "        with torch.no_grad():\n",
    "            return model(input)\n",
    "    return func\n",
    "\n",
    "def onnx_model_runner(path):\n",
    "    ort_sess = ort.InferenceSession(path)\n",
    "    def func(input):\n",
    "        return ort_sess.run(None, {'inputt': np.array(input) })[0]\n",
    "    return func\n",
    "\n",
    "def infer(model, text):\n",
    "    assert params[\"RETAIN_LEFT_PUNCT\"] # \n",
    "\n",
    "    unpadded_tokens = text.split(' ')\n",
    "    unpadded_tokens = list(filter(lambda x: len(x) > 0, unpadded_tokens))\n",
    "    tokens = [PAD_TOKEN] * params['INPUT_WORDS_CNT_LEFT'] + unpadded_tokens + [PAD_TOKEN] * (params[\"INPUT_WORDS_CNT_RIGHT\"] + 1)\n",
    "    features = calculate_word_features_for_tokens(tokens, params)\n",
    "\n",
    "    res = \"\"\n",
    "\n",
    "    i = params['INPUT_WORDS_CNT_LEFT']\n",
    "    while i < len(tokens) - params['INPUT_WORDS_CNT_RIGHT']:\n",
    "        tokens_for_batch = tokens[i - params['INPUT_WORDS_CNT_LEFT']: i + params['INPUT_WORDS_CNT_RIGHT']]\n",
    "\n",
    "        tokens_for_batch_copy = tokens_for_batch.copy()\n",
    "        tokens_for_batch_copy.insert(params['INPUT_WORDS_CNT_LEFT'], '?')\n",
    "        # print(\" \".join(tokens_for_batch_copy))\n",
    "\n",
    "\n",
    "        features_for_batch = features[i - params['INPUT_WORDS_CNT_LEFT']: i + params['INPUT_WORDS_CNT_RIGHT']]\n",
    "        features_for_batch = torch.stack((features_for_batch, ))\n",
    "        output_probs = model(features_for_batch)\n",
    "        punct_idx = np.argmax(output_probs).item()\n",
    "        punct = params[\"ID_TO_PUNCTUATION\"][punct_idx]\n",
    "\n",
    "        # print(punct)\n",
    "\n",
    "        # punct = '.'\n",
    "\n",
    "        if punct != '$empty':\n",
    "            res += punct\n",
    "            if tokens[i] != 'PAD':\n",
    "                res += \" \" + tokens[i]\n",
    "            tokens.insert(i, punct)\n",
    "            features = torch.cat((features[:i], \n",
    "                    torch.stack((get_word_features(punct, params), )), \n",
    "                    features[i:]), 0)\n",
    "            i += 2\n",
    "        else:\n",
    "            if tokens[i] != 'PAD':\n",
    "                res += \" \" + tokens[i]\n",
    "            i += 1\n",
    "\n",
    "    return res.strip()\n",
    "\n",
    "\n",
    "infer(onnx_model_runner(\"model.v1.onnx\"), \"Отмечается что 44-летняя россиянка первый человек которому предъявят обвинение в попытке вмешаться в выборы 2018 года По информации Минюста она и еще несколько человек выдавала себя за американскую политическую активистку и скрывала свое российское происхождение\")\n",
    "# print(infer(torch_model_runner(model), \"Я пришел домой Мама сварила суп\"))\n",
    "# https://onnxruntime.ai/docs/reference/ort-format-models.html\n",
    "\n",
    "# infer(onnx_model_runner(\"model.v1.onnx\"), \"Я пришел домой Мама сварила суп\")\n"
   ]
  },
  {
   "cell_type": "code",
   "execution_count": 49,
   "metadata": {},
   "outputs": [
    {
     "data": {
      "text/plain": [
       "Parse(word='фывфывфов', tag=OpencorporaTag('NOUN,inan,masc plur,gent'), normal_form='фывфывф', score=1.0, methods_stack=((FakeDictionary(), 'фывфывфов', 34, 7), (KnownSuffixAnalyzer(min_word_length=4, score_multiplier=0.5), 'фы')))"
      ]
     },
     "execution_count": 49,
     "metadata": {},
     "output_type": "execute_result"
    }
   ],
   "source": [
    "import pymorphy2\n",
    "morph = pymorphy2.MorphAnalyzer()\n",
    "morph.parse(\"фывфывфы\")[0].inflect({'gent'})"
   ]
  },
  {
   "cell_type": "code",
   "execution_count": 50,
   "metadata": {},
   "outputs": [
    {
     "name": "stdout",
     "output_type": "stream",
     "text": [
      "  Мама, обычно холодная, как оконное стекло, была в такой ярости, что переколотила дома всю посуду. Хотела даже просить расчёт, но опомнилась: в других ресторанах и своих певиц хватало. Потому мама просто перестала брать Саню с собой, и он впервые оказался предоставлен самому себе. Поначалу Саня робел один выйти наружу, скучал, слонялся, не зная, чем заняться, — то по комнатам, то по двору. Но к весне осмелел настолько, что исследовал сперва окрестные улицы, а потом и весь обитаемый воронежский мир.  Мир этот оказался полон женщинами.  Саня, разинув от восхищения рот, смотрел на проплывающих по Большой Дворянской разодетых дам, похожих на вазы с фруктами и цветами. На гимназисток, вечно державшихся дрожащими стайками, словно мотыльки. На горничных девушек, спешащих по хозяйкиным делам и прошивающих город мелкими аккуратными стежками.  Саня влюбился во всех них сразу — и навсегда.\n"
     ]
    }
   ],
   "source": [
    "text = \"\"\"\n",
    "Кристина Герасимова (к концу десятилетия, кажется, поменявшая фамилию на Луна) к концу 2010-х оказалась одним из самых работоспособных музыкантов в русской поп-музыке (впрочем, и не только поп), выйдя на уровень, при котором она смогла себе позволить выпускать по альбому в год без потерь в качестве. Лучший из них, впрочем, «Заколдованные сны», как будто бы нарушал классическую для нее схему и уходил то в чистый и практически бессловесный электропоп, то в ностальгию по неприхотливой русской поп-музыке нулевых, то в постпанк — при этом всегда оставаясь песнями самой Луны.\n",
    "\"\"\"\n",
    "text = \"\"\"\n",
    "\n",
    "Мама, обычно холодная, как оконное стекло, была в такой ярости, что переколотила дома всю посуду. Хотела даже просить расчёт, но опомнилась: в других ресторанах и своих певиц хватало. Потому мама просто перестала брать Саню с собой, и он впервые оказался предоставлен самому себе. Поначалу Саня робел один выйти наружу, скучал, слонялся, не зная, чем заняться, — то по комнатам, то по двору. Но к весне осмелел настолько, что исследовал сперва окрестные улицы, а потом и весь обитаемый воронежский мир.\n",
    "\n",
    "Мир этот оказался полон женщинами.\n",
    "\n",
    "Саня, разинув от восхищения рот, смотрел на проплывающих по Большой Дворянской разодетых дам, похожих на вазы с фруктами и цветами. На гимназисток, вечно державшихся дрожащими стайками, словно мотыльки. На горничных девушек, спешащих по хозяйкиным делам и прошивающих город мелкими аккуратными стежками.\n",
    "\n",
    "Саня влюбился во всех них сразу — и навсегда.\"\"\".replace(\"\\n\", \" \")\n",
    "print(text)\n",
    "\n",
    "text = text.replace(\".\", \"\").replace(\",\", \"\").replace(\"\\n\", \" \")\n",
    "# text"
   ]
  },
  {
   "cell_type": "code",
   "execution_count": 1,
   "metadata": {},
   "outputs": [
    {
     "ename": "NameError",
     "evalue": "name 'model' is not defined",
     "output_type": "error",
     "traceback": [
      "\u001b[0;31m---------------------------------------------------------------------------\u001b[0m",
      "\u001b[0;31mNameError\u001b[0m                                 Traceback (most recent call last)",
      "Cell \u001b[0;32mIn [1], line 2\u001b[0m\n\u001b[1;32m      1\u001b[0m \u001b[39mfrom\u001b[39;00m \u001b[39mutils\u001b[39;00m \u001b[39mimport\u001b[39;00m count_parameters\n\u001b[0;32m----> 2\u001b[0m count_parameters(model)\n",
      "\u001b[0;31mNameError\u001b[0m: name 'model' is not defined"
     ]
    }
   ],
   "source": []
  },
  {
   "cell_type": "code",
   "execution_count": 55,
   "metadata": {},
   "outputs": [
    {
     "name": "stdout",
     "output_type": "stream",
     "text": [
      "172.7963150459843 tokens per second\n"
     ]
    }
   ],
   "source": [
    "from time import time\n",
    "\n",
    "start = time()\n",
    "reps = 100\n",
    "for i in range(0, reps):\n",
    "    infer(onnx_model_runner(\"model.v1.onnx\"), text)\n",
    "end = time()\n",
    "\n",
    "print(1 / ((end - start) / reps / len(text.split(' '))) / 8, 'tokens per second')\n",
    "\n"
   ]
  },
  {
   "cell_type": "code",
   "execution_count": 13,
   "metadata": {},
   "outputs": [
    {
     "name": "stdout",
     "output_type": "stream",
     "text": [
      "129.86710276061967 tokens per second\n"
     ]
    }
   ],
   "source": [
    "from time import time\n",
    "dummy_input = torch.ones((1, params['INPUT_WORDS_CNT'], params['TOTAL_WORD_FEATURES_CNT']))\n",
    "model.eval()\n",
    "\n",
    "start = time()\n",
    "reps = 10000\n",
    "for i in range(0, reps):\n",
    "    with torch.no_grad():\n",
    "        model(dummy_input)\n",
    "end = time()\n",
    "\n",
    "print(1 / ((end - start) / reps) / 8, 'tokens per second')"
   ]
  },
  {
   "cell_type": "code",
   "execution_count": 14,
   "metadata": {},
   "outputs": [
    {
     "data": {
      "text/plain": [
       "0.19739913940429688"
      ]
     },
     "execution_count": 14,
     "metadata": {},
     "output_type": "execute_result"
    }
   ],
   "source": [
    "from utils import count_parameters\n",
    "count_parameters(model)"
   ]
  },
  {
   "cell_type": "code",
   "execution_count": 3,
   "metadata": {},
   "outputs": [
    {
     "ename": "AttributeError",
     "evalue": "Can't get attribute 'Model' on <module '__main__'>",
     "output_type": "error",
     "traceback": [
      "\u001b[0;31m---------------------------------------------------------------------------\u001b[0m",
      "\u001b[0;31mAttributeError\u001b[0m                            Traceback (most recent call last)",
      "Cell \u001b[0;32mIn [3], line 2\u001b[0m\n\u001b[1;32m      1\u001b[0m \u001b[39mimport\u001b[39;00m \u001b[39mtorch\u001b[39;00m\n\u001b[0;32m----> 2\u001b[0m model \u001b[39m=\u001b[39m torch\u001b[39m.\u001b[39;49mload(\u001b[39m\"\u001b[39;49m\u001b[39mmodel.v1\u001b[39;49m\u001b[39m\"\u001b[39;49m)\n\u001b[1;32m      3\u001b[0m model\n",
      "File \u001b[0;32m~/.local/lib/python3.10/site-packages/torch/serialization.py:789\u001b[0m, in \u001b[0;36mload\u001b[0;34m(f, map_location, pickle_module, weights_only, **pickle_load_args)\u001b[0m\n\u001b[1;32m    787\u001b[0m             \u001b[39mexcept\u001b[39;00m \u001b[39mRuntimeError\u001b[39;00m \u001b[39mas\u001b[39;00m e:\n\u001b[1;32m    788\u001b[0m                 \u001b[39mraise\u001b[39;00m pickle\u001b[39m.\u001b[39mUnpicklingError(UNSAFE_MESSAGE \u001b[39m+\u001b[39m \u001b[39mstr\u001b[39m(e)) \u001b[39mfrom\u001b[39;00m \u001b[39mNone\u001b[39m\n\u001b[0;32m--> 789\u001b[0m         \u001b[39mreturn\u001b[39;00m _load(opened_zipfile, map_location, pickle_module, \u001b[39m*\u001b[39;49m\u001b[39m*\u001b[39;49mpickle_load_args)\n\u001b[1;32m    790\u001b[0m \u001b[39mif\u001b[39;00m weights_only:\n\u001b[1;32m    791\u001b[0m     \u001b[39mtry\u001b[39;00m:\n",
      "File \u001b[0;32m~/.local/lib/python3.10/site-packages/torch/serialization.py:1131\u001b[0m, in \u001b[0;36m_load\u001b[0;34m(zip_file, map_location, pickle_module, pickle_file, **pickle_load_args)\u001b[0m\n\u001b[1;32m   1129\u001b[0m unpickler \u001b[39m=\u001b[39m UnpicklerWrapper(data_file, \u001b[39m*\u001b[39m\u001b[39m*\u001b[39mpickle_load_args)\n\u001b[1;32m   1130\u001b[0m unpickler\u001b[39m.\u001b[39mpersistent_load \u001b[39m=\u001b[39m persistent_load\n\u001b[0;32m-> 1131\u001b[0m result \u001b[39m=\u001b[39m unpickler\u001b[39m.\u001b[39;49mload()\n\u001b[1;32m   1133\u001b[0m torch\u001b[39m.\u001b[39m_utils\u001b[39m.\u001b[39m_validate_loaded_sparse_tensors()\n\u001b[1;32m   1135\u001b[0m \u001b[39mreturn\u001b[39;00m result\n",
      "File \u001b[0;32m~/.local/lib/python3.10/site-packages/torch/serialization.py:1124\u001b[0m, in \u001b[0;36m_load.<locals>.UnpicklerWrapper.find_class\u001b[0;34m(self, mod_name, name)\u001b[0m\n\u001b[1;32m   1122\u001b[0m         \u001b[39mpass\u001b[39;00m\n\u001b[1;32m   1123\u001b[0m mod_name \u001b[39m=\u001b[39m load_module_mapping\u001b[39m.\u001b[39mget(mod_name, mod_name)\n\u001b[0;32m-> 1124\u001b[0m \u001b[39mreturn\u001b[39;00m \u001b[39msuper\u001b[39;49m()\u001b[39m.\u001b[39;49mfind_class(mod_name, name)\n",
      "\u001b[0;31mAttributeError\u001b[0m: Can't get attribute 'Model' on <module '__main__'>"
     ]
    }
   ],
   "source": [
    "import torch\n",
    "model = torch.load(\"model.v1\")\n",
    "model"
   ]
  }
 ],
 "metadata": {
  "kernelspec": {
   "display_name": "Python 3.10.4 64-bit",
   "language": "python",
   "name": "python3"
  },
  "language_info": {
   "codemirror_mode": {
    "name": "ipython",
    "version": 3
   },
   "file_extension": ".py",
   "mimetype": "text/x-python",
   "name": "python",
   "nbconvert_exporter": "python",
   "pygments_lexer": "ipython3",
   "version": "3.10.4"
  },
  "orig_nbformat": 4,
  "vscode": {
   "interpreter": {
    "hash": "767d51c1340bd893661ea55ea3124f6de3c7a262a8b4abca0554b478b1e2ff90"
   }
  }
 },
 "nbformat": 4,
 "nbformat_minor": 2
}
