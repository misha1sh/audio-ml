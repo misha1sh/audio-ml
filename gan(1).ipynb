{
 "cells": [
  {
   "cell_type": "code",
   "execution_count": null,
   "id": "6f5fff9b",
   "metadata": {
    "cellId": "imezge4b9mmfalbn59pg3o"
   },
   "outputs": [],
   "source": [
    "!git clone https://github.com/mdeff/fma.git"
   ]
  },
  {
   "cell_type": "code",
   "execution_count": null,
   "id": "5aef298d",
   "metadata": {
    "cellId": "qg1x52eqfw9tzb0odh9yu"
   },
   "outputs": [],
   "source": [
    "#!:bash\n",
    "#pragma dataset init fma_small --size 20Gb\n",
    "set -e\n",
    "\n",
    "cd /home/jupyter/mnt/datasets/fma_small\n",
    "\n",
    "wget https://os.unil.cloud.switch.ch/fma/fma_metadata.zip -P ./\n",
    "echo \"f0df49ffe5f2a6008d7dc83c6915b31835dfe733  ./fma_metadata.zip\" | sha1sum -c -\n",
    "7z x ./fma_metadata.zip -o./\n",
    "rm -rf fma_metadata.zip\n",
    "\n",
    "wget https://os.unil.cloud.switch.ch/fma/fma_small.zip -P ./\n",
    "echo \"ade154f733639d52e35e32f5593efe5be76c6d70  ./fma_small.zip\" | sha1sum -c -\n",
    "7z x ./fma_small.zip -o./\n",
    "rm -rf fma_small.zip"
   ]
  },
  {
   "cell_type": "code",
   "execution_count": null,
   "id": "a9cfef2f",
   "metadata": {
    "cellId": "ttswzc7kdbr9xm1e0z6108",
    "execution_id": "5fda763d-f8d2-4835-ad4e-7ce5c6153ff3"
   },
   "outputs": [],
   "source": [
    "#!:bash\n",
    "#pragma dataset init fma_medium --size 50Gb\n",
    "set -e\n",
    "\n",
    "cd /home/jupyter/mnt/datasets/fma_medium\n",
    "\n",
    "wget https://os.unil.cloud.switch.ch/fma/fma_metadata.zip -P ./\n",
    "echo \"f0df49ffe5f2a6008d7dc83c6915b31835dfe733  ./fma_metadata.zip\" | sha1sum -c -\n",
    "7z x ./fma_metadata.zip -o./\n",
    "rm -rf fma_metadata.zip\n",
    "\n",
    "wget https://os.unil.cloud.switch.ch/fma/fma_medium.zip -P ./\n",
    "echo \"c67b69ea232021025fca9231fc1c7c1a063ab50b  fma_medium.zip\"   | sha1sum -c -\n",
    "7z x ./fma_medium.zip -o./\n",
    "rm -rf fma_medium.zip"
   ]
  },
  {
   "cell_type": "code",
   "execution_count": null,
   "id": "b8b416c6",
   "metadata": {
    "cellId": "qt81bbnhr7ex9yox5w71h",
    "execution_id": "ce2e27c4-6450-482d-9759-ba9db0f3d59d"
   },
   "outputs": [],
   "source": [
    "%pip install python-dotenv kapre seaborn"
   ]
  },
  {
   "cell_type": "code",
   "execution_count": 7,
   "id": "30cf60cf",
   "metadata": {
    "cellId": "peptd81woat5q9luje5l8a"
   },
   "outputs": [],
   "source": [
    "#!g2.mig\n",
    "\n",
    "import importlib\n",
    "import utils\n",
    "importlib.reload(utils)\n",
    "\n",
    "from utils import *\n"
   ]
  },
  {
   "cell_type": "code",
   "execution_count": null,
   "id": "2f8d700b",
   "metadata": {
    "cellId": "qi4gwk3o086pdsu7zc558"
   },
   "outputs": [],
   "source": [
    "calculate_x_and_y_from_files()"
   ]
  },
  {
   "cell_type": "code",
   "execution_count": 17,
   "id": "a7971741",
   "metadata": {
    "cellId": "j1jccov51mcaaj7jbxytg"
   },
   "outputs": [
    {
     "name": "stdout",
     "output_type": "stream",
     "text": [
      "Unmounting dataset xy... ok\n",
      "Deleting old dataset xy... ok\n"
     ]
    }
   ],
   "source": [
    "#pragma dataset delete xy"
   ]
  },
  {
   "cell_type": "code",
   "execution_count": null,
   "id": "b52c3141",
   "metadata": {
    "cellId": "8j34dkegvvq62g0ra1l57g"
   },
   "outputs": [],
   "source": [
    "#!:bash\n",
    "#pragma dataset init xy2 --size 1Gb\n",
    "cp ./x.npz /home/jupyter/mnt/datasets/xy2/x.npz\n",
    "cp ./y.npz /home/jupyter/mnt/datasets/xy2/y.npz"
   ]
  },
  {
   "cell_type": "code",
   "execution_count": 15,
   "id": "99a1af5a",
   "metadata": {
    "cellId": "edp4o8ebcgf9sb8wukrx",
    "scrolled": true
   },
   "outputs": [],
   "source": [
    "#!g2.mig\n",
    "# run_proc(save_x_stft)"
   ]
  },
  {
   "cell_type": "code",
   "execution_count": 19,
   "id": "ef502dd8",
   "metadata": {
    "cellId": "p7r28z1fek7j2za3jaupb"
   },
   "outputs": [
    {
     "ename": "Execute error",
     "evalue": "Dataset x_stft delete requested, but dataset does not exists.\n",
     "output_type": "error",
     "traceback": []
    }
   ],
   "source": [
    "#pragma dataset delete x_stft"
   ]
  },
  {
   "cell_type": "code",
   "execution_count": null,
   "id": "4dddd636",
   "metadata": {
    "cellId": "3k6uwffkttvstiqgc926g"
   },
   "outputs": [],
   "source": [
    "#!:bash\n",
    "#pragma dataset init x_stft --size 3Gb\n",
    "cp ./x_stft.npy /home/jupyter/mnt/datasets/x_stft/x_stft.npy"
   ]
  },
  {
   "cell_type": "code",
   "execution_count": 195,
   "id": "e39a959d",
   "metadata": {
    "cellId": "pnblp5xbtg8rhh75aienf"
   },
   "outputs": [
    {
     "data": {
      "text/plain": [
       "(7994, 1025, 41)"
      ]
     },
     "execution_count": 195,
     "metadata": {},
     "output_type": "execute_result"
    }
   ],
   "source": [
    "#!g2.mig\n",
    "load_x_stft().shape"
   ]
  },
  {
   "cell_type": "code",
   "execution_count": null,
   "id": "1d3b3660",
   "metadata": {
    "cellId": "mpjlds3hz3bt6xuqck8ki",
    "execution_id": "d40f1817-b146-45d5-84fd-277bc02b1bfb"
   },
   "outputs": [],
   "source": [
    "#!g2.mig\n",
    "from tensorflow.keras.backend import clear_session\n",
    "clear_session()\n",
    "# ! nvidia-smi"
   ]
  },
  {
   "cell_type": "code",
   "execution_count": null,
   "id": "6750a9a7",
   "metadata": {
    "cellId": "5sslb9kur3qjq6vr3tfgzb"
   },
   "outputs": [],
   "source": [
    "#!g2.mig\n",
    "!nvidia-smi"
   ]
  },
  {
   "cell_type": "code",
   "execution_count": 8,
   "id": "6ca191d0",
   "metadata": {
    "cellId": "1jv3sie27rrk380jsp1i3"
   },
   "outputs": [],
   "source": [
    "#!g2.mig\n",
    "\n",
    "# returns (fft_bins_count, bands_count)\n",
    "@inject(\"tf\")\n",
    "def get_bands_matrix(fft_bins_count, bands_count):\n",
    "    sample_rate = 4096\n",
    "    lower_edge_hertz = 80\n",
    "    upper_edge_hertz = sample_rate // 2\n",
    "    matrix = tf.signal.linear_to_mel_weight_matrix(\n",
    "        bands_count, fft_bins_count, sample_rate, lower_edge_hertz,\n",
    "        upper_edge_hertz).numpy()\n",
    "    matrix[:, 0][:np.argmax(matrix[:, 0])] = 1\n",
    "    matrix[:, -1][np.argmax(matrix[:, -1]):] = 1\n",
    "    return matrix\n",
    "\n",
    "# takes (N, stft_bins, time)\n",
    "# returns (N, bands_count, time)\n",
    "@inject(\"plt\")\n",
    "def stft_to_bands(mag, bands_count):\n",
    "    fft_bins_count = mag.shape[1]\n",
    "    matrix = get_bands_matrix(fft_bins_count, bands_count)\n",
    "    res = np.einsum('ijk,jf->ifk', mag, matrix)\n",
    "    return res\n",
    "    \n",
    "\n",
    "# bands     (N, bands_count, time)\n",
    "# eq_coeffs (N, bands_count)\n",
    "# returns   (N, bands_count, time)\n",
    "def apply_eq_to_bands(bands, eq_coefs):\n",
    "    return bands * eq_coefs[..., np.newaxis]\n",
    "\n",
    "\n",
    "# mag     (N, fft_bins, time)\n",
    "# eq_coeffs (N, bands_count)\n",
    "# returns   (N, fft_bins, time)\n",
    "def apply_eq_to_stft(mag, eq_coeffs):\n",
    "    N = mag.shape[0]\n",
    "    fft_bins_count = mag.shape[1]\n",
    "    bands_count = eq_coeffs.shape[1]\n",
    "    matrix = get_bands_matrix(fft_bins_count, bands_count)  # (fft_bins_count, bands_count)\n",
    "    new_eq_coeffs = np.einsum(\"fb,nb->nf\", matrix, eq_coeffs) # (N, fft_bins_count)\n",
    "    res = apply_eq_to_bands(mag, new_eq_coeffs)\n",
    "    return res\n",
    "\n",
    "\n",
    "#!g2.mig\n",
    "\n",
    "@inject(\"x_stft\", log=True)\n",
    "def calc_bands(bands_count):\n",
    "    mag, ang = nnorm(x_stft)\n",
    "    bands = stft_to_bands(mag, bands_count)\n",
    "    bands /= 62\n",
    "    np.save(\"bands\", bands)\n",
    "\n",
    "@register(\"bands\")\n",
    "def load_bands():\n",
    "    return np.load(\"bands.npy\")\n",
    "\n",
    "# calc_bands(10)"
   ]
  },
  {
   "cell_type": "code",
   "execution_count": 79,
   "id": "0d8442c4",
   "metadata": {
    "cellId": "4p5borqskm5vqjfgnglht"
   },
   "outputs": [],
   "source": [
    "#!g2.mig\n"
   ]
  },
  {
   "cell_type": "code",
   "execution_count": 77,
   "id": "6284bec1",
   "metadata": {
    "cellId": "o2gg8voimfjpuq10xu2g"
   },
   "outputs": [
    {
     "data": {
      "text/plain": [
       "<module 'numpy' from '/kernel/fallback/lib/python3.8/site-packages/numpy/__init__.py'>"
      ]
     },
     "execution_count": 77,
     "metadata": {},
     "output_type": "execute_result"
    }
   ],
   "source": [
    "#!g2.mig\n",
    "#     def tf_random_sample(array, count):\n",
    "#         idxs = tf.range(tf.shape(array)[0])\n",
    "#         ridxs = tf.random.shuffle(idxs)[:count]\n",
    "#         rinput = tf.gather(inputs, ridxs)\n",
    "#         return rinput"
   ]
  },
  {
   "cell_type": "code",
   "execution_count": 3,
   "id": "1c9432e9",
   "metadata": {
    "cellId": "2n4lnu1hyp1tjth2rg4csf"
   },
   "outputs": [
    {
     "data": {
      "text/plain": [
       "(0.0, 0.98855895)"
      ]
     },
     "execution_count": 3,
     "metadata": {},
     "output_type": "execute_result"
    }
   ],
   "source": [
    "#!g2.mig\n",
    "np.min(load_bands()), np.max(load_bands())"
   ]
  },
  {
   "cell_type": "code",
   "execution_count": 37,
   "id": "15707f90",
   "metadata": {
    "cellId": "ls4bjglay6r8746umqjnb6"
   },
   "outputs": [
    {
     "data": {
      "text/plain": [
       "7994"
      ]
     },
     "execution_count": 37,
     "metadata": {},
     "output_type": "execute_result"
    }
   ],
   "source": [
    "#!g2.mig\n",
    "len(load_bands())"
   ]
  },
  {
   "cell_type": "code",
   "execution_count": null,
   "id": "dbd4d7f5",
   "metadata": {
    "cellId": "wu6hbgzunvybeklw6ws9k",
    "execution_id": "260f074a-1fc3-4093-86df-46cd6503faa7"
   },
   "outputs": [
    {
     "name": "stdout",
     "output_type": "stream",
     "text": [
      "starting proc\n",
      "loading bands\n",
      "loading keras\n",
      "loading tf\n",
      "loading plt\n"
     ]
    },
    {
     "name": "stderr",
     "output_type": "stream",
     "text": [
      "2022-09-18 17:53:43.348944: I tensorflow/core/platform/cpu_feature_guard.cc:142] This TensorFlow binary is optimized with oneAPI Deep Neural Network Library (oneDNN) to use the following CPU instructions in performance-critical operations:  AVX2 FMA\n",
      "To enable them in other operations, rebuild TensorFlow with the appropriate compiler flags.\n",
      "2022-09-18 17:53:43.866674: I tensorflow/core/common_runtime/gpu/gpu_device.cc:1510] Created device /job:localhost/replica:0/task:0/device:GPU:0 with 2629 MB memory:  -> device: 0, name: GRID A100X-1-5C MIG 1g.5gb, pci bus id: 0000:8c:00.0, compute capability: 8.0\n"
     ]
    },
    {
     "name": "stdout",
     "output_type": "stream",
     "text": [
      "Epoch 1/3000\n"
     ]
    },
    {
     "name": "stderr",
     "output_type": "stream",
     "text": [
      "2022-09-18 17:53:44.688229: I tensorflow/stream_executor/cuda/cuda_blas.cc:1760] TensorFloat-32 will be used for the matrix multiplication. This will only be logged once.\n"
     ]
    },
    {
     "name": "stdout",
     "output_type": "stream",
     "text": [
      "1/1 - 1s - g_loss: 0.7136 - d_loss: 1.3850 - diff_with_real: 3.7533e-04 - noise: 3.7533e-04 - g_diversity: 0.0436\n",
      "Epoch 2/3000\n",
      "1/1 - 0s - g_loss: 0.7091 - d_loss: 1.3830 - diff_with_real: 3.7533e-04 - noise: 3.7533e-04 - g_diversity: 0.0442\n",
      "Epoch 3/3000\n",
      "1/1 - 0s - g_loss: 0.7035 - d_loss: 1.3819 - diff_with_real: 3.7533e-04 - noise: 3.7533e-04 - g_diversity: 0.0449\n",
      "Epoch 4/3000\n",
      "1/1 - 0s - g_loss: 0.6993 - d_loss: 1.3810 - diff_with_real: 3.7533e-04 - noise: 3.7533e-04 - g_diversity: 0.0456\n",
      "Epoch 5/3000\n",
      "1/1 - 0s - g_loss: 0.6965 - d_loss: 1.3802 - diff_with_real: 3.7533e-04 - noise: 3.7533e-04 - g_diversity: 0.0463\n",
      "Epoch 6/3000\n",
      "1/1 - 0s - g_loss: 0.6955 - d_loss: 1.3793 - diff_with_real: 3.7533e-04 - noise: 3.7533e-04 - g_diversity: 0.0470\n",
      "Epoch 7/3000\n",
      "1/1 - 0s - g_loss: 0.6965 - d_loss: 1.3782 - diff_with_real: 3.7533e-04 - noise: 3.7533e-04 - g_diversity: 0.0478\n",
      "Epoch 8/3000\n",
      "1/1 - 0s - g_loss: 0.6992 - d_loss: 1.3771 - diff_with_real: 3.7533e-04 - noise: 3.7533e-04 - g_diversity: 0.0487\n",
      "Epoch 9/3000\n",
      "1/1 - 0s - g_loss: 0.7029 - d_loss: 1.3759 - diff_with_real: 3.7533e-04 - noise: 3.7533e-04 - g_diversity: 0.0496\n",
      "Epoch 10/3000\n",
      "1/1 - 0s - g_loss: 0.7068 - d_loss: 1.3748 - diff_with_real: 3.7533e-04 - noise: 3.7533e-04 - g_diversity: 0.0507\n",
      "Epoch 11/3000\n",
      "1/1 - 0s - g_loss: 0.7113 - d_loss: 1.3731 - diff_with_real: 3.7533e-04 - noise: 3.7533e-04 - g_diversity: 0.0519\n",
      "Epoch 12/3000\n",
      "1/1 - 0s - g_loss: 0.7147 - d_loss: 1.3719 - diff_with_real: 3.7533e-04 - noise: 3.7533e-04 - g_diversity: 0.0531\n",
      "Epoch 13/3000\n",
      "1/1 - 0s - g_loss: 0.7159 - d_loss: 1.3700 - diff_with_real: 3.7533e-04 - noise: 3.7533e-04 - g_diversity: 0.0543\n",
      "Epoch 14/3000\n",
      "1/1 - 0s - g_loss: 0.7139 - d_loss: 1.3688 - diff_with_real: 3.7533e-04 - noise: 3.7533e-04 - g_diversity: 0.0555\n",
      "Epoch 15/3000\n",
      "1/1 - 0s - g_loss: 0.7126 - d_loss: 1.3662 - diff_with_real: 3.7533e-04 - noise: 3.7533e-04 - g_diversity: 0.0568\n",
      "Epoch 16/3000\n",
      "1/1 - 0s - g_loss: 0.7114 - d_loss: 1.3641 - diff_with_real: 3.7533e-04 - noise: 3.7533e-04 - g_diversity: 0.0580\n",
      "Epoch 17/3000\n",
      "1/1 - 0s - g_loss: 0.7130 - d_loss: 1.3616 - diff_with_real: 3.7533e-04 - noise: 3.7533e-04 - g_diversity: 0.0591\n",
      "Epoch 18/3000\n",
      "1/1 - 0s - g_loss: 0.7169 - d_loss: 1.3598 - diff_with_real: 3.7533e-04 - noise: 3.7533e-04 - g_diversity: 0.0602\n",
      "Epoch 19/3000\n",
      "1/1 - 0s - g_loss: 0.7237 - d_loss: 1.3564 - diff_with_real: 3.7533e-04 - noise: 3.7533e-04 - g_diversity: 0.0613\n",
      "Epoch 20/3000\n",
      "1/1 - 0s - g_loss: 0.7275 - d_loss: 1.3539 - diff_with_real: 3.7533e-04 - noise: 3.7533e-04 - g_diversity: 0.0622\n",
      "Epoch 21/3000\n",
      "1/1 - 0s - g_loss: 0.7280 - d_loss: 1.3516 - diff_with_real: 3.7533e-04 - noise: 3.7533e-04 - g_diversity: 0.0631\n",
      "Epoch 22/3000\n",
      "1/1 - 0s - g_loss: 0.7276 - d_loss: 1.3483 - diff_with_real: 3.7533e-04 - noise: 3.7533e-04 - g_diversity: 0.0640\n",
      "Epoch 23/3000\n",
      "1/1 - 0s - g_loss: 0.7274 - d_loss: 1.3449 - diff_with_real: 3.7533e-04 - noise: 3.7533e-04 - g_diversity: 0.0647\n",
      "Epoch 24/3000\n",
      "1/1 - 0s - g_loss: 0.7282 - d_loss: 1.3408 - diff_with_real: 3.7533e-04 - noise: 3.7533e-04 - g_diversity: 0.0655\n",
      "Epoch 25/3000\n",
      "1/1 - 0s - g_loss: 0.7284 - d_loss: 1.3380 - diff_with_real: 3.7533e-04 - noise: 3.7533e-04 - g_diversity: 0.0661\n",
      "Epoch 26/3000\n",
      "1/1 - 0s - g_loss: 0.7308 - d_loss: 1.3340 - diff_with_real: 3.7533e-04 - noise: 3.7533e-04 - g_diversity: 0.0669\n",
      "Epoch 27/3000\n",
      "1/1 - 0s - g_loss: 0.7336 - d_loss: 1.3307 - diff_with_real: 3.7533e-04 - noise: 3.7533e-04 - g_diversity: 0.0674\n",
      "Epoch 28/3000\n",
      "1/1 - 0s - g_loss: 0.7337 - d_loss: 1.3281 - diff_with_real: 3.7533e-04 - noise: 3.7533e-04 - g_diversity: 0.0681\n",
      "Epoch 29/3000\n",
      "1/1 - 0s - g_loss: 0.7347 - d_loss: 1.3249 - diff_with_real: 3.7533e-04 - noise: 3.7533e-04 - g_diversity: 0.0686\n",
      "Epoch 30/3000\n",
      "1/1 - 0s - g_loss: 0.7377 - d_loss: 1.3216 - diff_with_real: 3.7533e-04 - noise: 3.7533e-04 - g_diversity: 0.0693\n",
      "Epoch 31/3000\n",
      "1/1 - 0s - g_loss: 0.7394 - d_loss: 1.3201 - diff_with_real: 3.7533e-04 - noise: 3.7533e-04 - g_diversity: 0.0697\n",
      "Epoch 32/3000\n",
      "1/1 - 0s - g_loss: 0.7441 - d_loss: 1.3169 - diff_with_real: 3.7533e-04 - noise: 3.7533e-04 - g_diversity: 0.0704\n",
      "Epoch 33/3000\n",
      "1/1 - 0s - g_loss: 0.7432 - d_loss: 1.3150 - diff_with_real: 3.7533e-04 - noise: 3.7533e-04 - g_diversity: 0.0711\n",
      "Epoch 34/3000\n",
      "1/1 - 0s - g_loss: 0.7485 - d_loss: 1.3111 - diff_with_real: 3.7533e-04 - noise: 3.7533e-04 - g_diversity: 0.0716\n",
      "Epoch 35/3000\n",
      "1/1 - 0s - g_loss: 0.7546 - d_loss: 1.3097 - diff_with_real: 3.7533e-04 - noise: 3.7533e-04 - g_diversity: 0.0722\n",
      "Epoch 36/3000\n",
      "1/1 - 0s - g_loss: 0.7499 - d_loss: 1.3125 - diff_with_real: 3.7533e-04 - noise: 3.7533e-04 - g_diversity: 0.0728\n",
      "Epoch 37/3000\n",
      "1/1 - 0s - g_loss: 0.7595 - d_loss: 1.3084 - diff_with_real: 3.7533e-04 - noise: 3.7533e-04 - g_diversity: 0.0734\n",
      "Epoch 38/3000\n",
      "1/1 - 0s - g_loss: 0.7567 - d_loss: 1.3084 - diff_with_real: 3.7533e-04 - noise: 3.7533e-04 - g_diversity: 0.0741\n",
      "Epoch 39/3000\n",
      "1/1 - 0s - g_loss: 0.7604 - d_loss: 1.3058 - diff_with_real: 3.7533e-04 - noise: 3.7533e-04 - g_diversity: 0.0747\n",
      "Epoch 40/3000\n",
      "1/1 - 0s - g_loss: 0.7597 - d_loss: 1.3083 - diff_with_real: 3.7533e-04 - noise: 3.7533e-04 - g_diversity: 0.0753\n",
      "Epoch 41/3000\n",
      "1/1 - 0s - g_loss: 0.7653 - d_loss: 1.3049 - diff_with_real: 3.7533e-04 - noise: 3.7533e-04 - g_diversity: 0.0760\n",
      "Epoch 42/3000\n",
      "1/1 - 0s - g_loss: 0.7559 - d_loss: 1.3072 - diff_with_real: 3.7533e-04 - noise: 3.7533e-04 - g_diversity: 0.0768\n",
      "Epoch 43/3000\n",
      "1/1 - 0s - g_loss: 0.7631 - d_loss: 1.3083 - diff_with_real: 3.7533e-04 - noise: 3.7533e-04 - g_diversity: 0.0775\n",
      "Epoch 44/3000\n",
      "1/1 - 0s - g_loss: 0.7556 - d_loss: 1.3108 - diff_with_real: 3.7533e-04 - noise: 3.7533e-04 - g_diversity: 0.0783\n",
      "Epoch 45/3000\n",
      "1/1 - 0s - g_loss: 0.7576 - d_loss: 1.3136 - diff_with_real: 3.7533e-04 - noise: 3.7533e-04 - g_diversity: 0.0790\n",
      "Epoch 46/3000\n",
      "1/1 - 0s - g_loss: 0.7545 - d_loss: 1.3170 - diff_with_real: 3.7533e-04 - noise: 3.7533e-04 - g_diversity: 0.0798\n",
      "Epoch 47/3000\n",
      "1/1 - 0s - g_loss: 0.7483 - d_loss: 1.3204 - diff_with_real: 3.7533e-04 - noise: 3.7533e-04 - g_diversity: 0.0806\n",
      "Epoch 48/3000\n",
      "1/1 - 0s - g_loss: 0.7536 - d_loss: 1.3217 - diff_with_real: 3.7533e-04 - noise: 3.7533e-04 - g_diversity: 0.0815\n",
      "Epoch 49/3000\n",
      "1/1 - 0s - g_loss: 0.7422 - d_loss: 1.3261 - diff_with_real: 3.7533e-04 - noise: 3.7533e-04 - g_diversity: 0.0822\n",
      "Epoch 50/3000\n",
      "1/1 - 0s - g_loss: 0.7535 - d_loss: 1.3263 - diff_with_real: 3.7533e-04 - noise: 3.7533e-04 - g_diversity: 0.0830\n",
      "Epoch 51/3000\n"
     ]
    },
    {
     "data": {
      "image/png": "[encoded data removed]",
      "text/plain": [
       "<Figure size 432x288 with 2 Axes>"
      ]
     },
     "metadata": {
      "needs_background": "light"
     },
     "output_type": "display_data"
    },
    {
     "name": "stdout",
     "output_type": "stream",
     "text": [
      "1/1 - 0s - g_loss: 0.7434 - d_loss: 1.3301 - diff_with_real: 3.7533e-04 - noise: 3.7533e-04 - g_diversity: 0.0837\n",
      "Epoch 52/3000\n",
      "1/1 - 0s - g_loss: 0.7658 - d_loss: 1.3299 - diff_with_real: 3.7533e-04 - noise: 3.7533e-04 - g_diversity: 0.0844\n",
      "Epoch 53/3000\n",
      "1/1 - 0s - g_loss: 0.7541 - d_loss: 1.3320 - diff_with_real: 3.7533e-04 - noise: 3.8784e-04 - g_diversity: 0.0849\n",
      "Epoch 54/3000\n",
      "1/1 - 0s - g_loss: 0.7699 - d_loss: 1.3345 - diff_with_real: 3.7533e-04 - noise: 3.7533e-04 - g_diversity: 0.0855\n",
      "Epoch 55/3000\n",
      "1/1 - 0s - g_loss: 0.7525 - d_loss: 1.3391 - diff_with_real: 3.7533e-04 - noise: 3.7533e-04 - g_diversity: 0.0859\n",
      "Epoch 56/3000\n",
      "1/1 - 0s - g_loss: 0.7548 - d_loss: 1.3394 - diff_with_real: 3.7533e-04 - noise: 3.7533e-04 - g_diversity: 0.0861\n",
      "Epoch 57/3000\n",
      "1/1 - 0s - g_loss: 0.7405 - d_loss: 1.3473 - diff_with_real: 3.7533e-04 - noise: 3.7533e-04 - g_diversity: 0.0862\n",
      "Epoch 58/3000\n",
      "1/1 - 0s - g_loss: 0.7325 - d_loss: 1.3477 - diff_with_real: 3.7533e-04 - noise: 3.7533e-04 - g_diversity: 0.0861\n",
      "Epoch 59/3000\n",
      "1/1 - 0s - g_loss: 0.7443 - d_loss: 1.3460 - diff_with_real: 3.7533e-04 - noise: 3.7533e-04 - g_diversity: 0.0859\n",
      "Epoch 60/3000\n",
      "1/1 - 0s - g_loss: 0.7338 - d_loss: 1.3498 - diff_with_real: 3.7533e-04 - noise: 3.7533e-04 - g_diversity: 0.0854\n",
      "Epoch 61/3000\n",
      "1/1 - 0s - g_loss: 0.7519 - d_loss: 1.3498 - diff_with_real: 3.7533e-04 - noise: 3.7533e-04 - g_diversity: 0.0849\n",
      "Epoch 62/3000\n",
      "1/1 - 0s - g_loss: 0.7515 - d_loss: 1.3493 - diff_with_real: 3.7533e-04 - noise: 3.7533e-04 - g_diversity: 0.0842\n",
      "Epoch 63/3000\n",
      "1/1 - 0s - g_loss: 0.7479 - d_loss: 1.3522 - diff_with_real: 3.7533e-04 - noise: 3.7533e-04 - g_diversity: 0.0833\n",
      "Epoch 64/3000\n",
      "1/1 - 0s - g_loss: 0.7478 - d_loss: 1.3507 - diff_with_real: 3.7533e-04 - noise: 3.7533e-04 - g_diversity: 0.0823\n",
      "Epoch 65/3000\n",
      "1/1 - 0s - g_loss: 0.7370 - d_loss: 1.3527 - diff_with_real: 3.7533e-04 - noise: 3.7533e-04 - g_diversity: 0.0812\n",
      "Epoch 66/3000\n",
      "1/1 - 0s - g_loss: 0.7424 - d_loss: 1.3514 - diff_with_real: 3.7533e-04 - noise: 3.7533e-04 - g_diversity: 0.0800\n",
      "Epoch 67/3000\n",
      "1/1 - 0s - g_loss: 0.7342 - d_loss: 1.3494 - diff_with_real: 3.7533e-04 - noise: 3.7533e-04 - g_diversity: 0.0787\n",
      "Epoch 68/3000\n",
      "1/1 - 0s - g_loss: 0.7388 - d_loss: 1.3508 - diff_with_real: 3.7533e-04 - noise: 3.7533e-04 - g_diversity: 0.0774\n",
      "Epoch 69/3000\n",
      "1/1 - 0s - g_loss: 0.7392 - d_loss: 1.3495 - diff_with_real: 3.7533e-04 - noise: 3.7533e-04 - g_diversity: 0.0760\n",
      "Epoch 70/3000\n",
      "1/1 - 0s - g_loss: 0.7364 - d_loss: 1.3520 - diff_with_real: 3.7533e-04 - noise: 3.7533e-04 - g_diversity: 0.0746\n",
      "Epoch 71/3000\n",
      "1/1 - 0s - g_loss: 0.7422 - d_loss: 1.3518 - diff_with_real: 3.7533e-04 - noise: 3.7533e-04 - g_diversity: 0.0732\n",
      "Epoch 72/3000\n",
      "1/1 - 0s - g_loss: 0.7376 - d_loss: 1.3482 - diff_with_real: 3.7533e-04 - noise: 3.7533e-04 - g_diversity: 0.0718\n",
      "Epoch 73/3000\n",
      "1/1 - 0s - g_loss: 0.7301 - d_loss: 1.3516 - diff_with_real: 3.7533e-04 - noise: 3.7533e-04 - g_diversity: 0.0706\n",
      "Epoch 74/3000\n",
      "1/1 - 0s - g_loss: 0.7407 - d_loss: 1.3483 - diff_with_real: 3.7533e-04 - noise: 3.7533e-04 - g_diversity: 0.0694\n",
      "Epoch 75/3000\n",
      "1/1 - 0s - g_loss: 0.7338 - d_loss: 1.3478 - diff_with_real: 3.7533e-04 - noise: 3.7533e-04 - g_diversity: 0.0684\n",
      "Epoch 76/3000\n",
      "1/1 - 0s - g_loss: 0.7282 - d_loss: 1.3508 - diff_with_real: 3.7533e-04 - noise: 3.7533e-04 - g_diversity: 0.0676\n",
      "Epoch 77/3000\n",
      "1/1 - 0s - g_loss: 0.7368 - d_loss: 1.3493 - diff_with_real: 3.7533e-04 - noise: 3.7533e-04 - g_diversity: 0.0671\n",
      "Epoch 78/3000\n",
      "1/1 - 0s - g_loss: 0.7370 - d_loss: 1.3495 - diff_with_real: 3.7533e-04 - noise: 3.7533e-04 - g_diversity: 0.0668\n",
      "Epoch 79/3000\n",
      "1/1 - 0s - g_loss: 0.7380 - d_loss: 1.3478 - diff_with_real: 3.7533e-04 - noise: 3.7533e-04 - g_diversity: 0.0668\n",
      "Epoch 80/3000\n",
      "1/1 - 0s - g_loss: 0.7416 - d_loss: 1.3469 - diff_with_real: 3.7533e-04 - noise: 3.7533e-04 - g_diversity: 0.0671\n",
      "Epoch 81/3000\n",
      "1/1 - 0s - g_loss: 0.7462 - d_loss: 1.3432 - diff_with_real: 3.7533e-04 - noise: 3.7533e-04 - g_diversity: 0.0678\n",
      "Epoch 82/3000\n",
      "1/1 - 0s - g_loss: 0.7388 - d_loss: 1.3437 - diff_with_real: 3.7533e-04 - noise: 3.7533e-04 - g_diversity: 0.0687\n",
      "Epoch 83/3000\n",
      "1/1 - 0s - g_loss: 0.7345 - d_loss: 1.3457 - diff_with_real: 3.7533e-04 - noise: 3.7533e-04 - g_diversity: 0.0700\n",
      "Epoch 84/3000\n",
      "1/1 - 0s - g_loss: 0.7280 - d_loss: 1.3414 - diff_with_real: 3.7533e-04 - noise: 3.7533e-04 - g_diversity: 0.0715\n",
      "Epoch 85/3000\n",
      "1/1 - 0s - g_loss: 0.7345 - d_loss: 1.3383 - diff_with_real: 3.7533e-04 - noise: 3.7533e-04 - g_diversity: 0.0733\n",
      "Epoch 86/3000\n",
      "1/1 - 0s - g_loss: 0.7468 - d_loss: 1.3360 - diff_with_real: 3.7533e-04 - noise: 3.7533e-04 - g_diversity: 0.0752\n",
      "Epoch 87/3000\n",
      "1/1 - 0s - g_loss: 0.7407 - d_loss: 1.3331 - diff_with_real: 3.7533e-04 - noise: 3.7533e-04 - g_diversity: 0.0773\n",
      "Epoch 88/3000\n",
      "1/1 - 0s - g_loss: 0.7360 - d_loss: 1.3331 - diff_with_real: 3.7533e-04 - noise: 3.7533e-04 - g_diversity: 0.0794\n",
      "Epoch 89/3000\n",
      "1/1 - 0s - g_loss: 0.7434 - d_loss: 1.3289 - diff_with_real: 3.7533e-04 - noise: 3.7533e-04 - g_diversity: 0.0815\n",
      "Epoch 90/3000\n",
      "1/1 - 0s - g_loss: 0.7509 - d_loss: 1.3261 - diff_with_real: 3.7533e-04 - noise: 3.7533e-04 - g_diversity: 0.0836\n",
      "Epoch 91/3000\n",
      "1/1 - 0s - g_loss: 0.7441 - d_loss: 1.3231 - diff_with_real: 3.7533e-04 - noise: 3.7533e-04 - g_diversity: 0.0856\n",
      "Epoch 92/3000\n",
      "1/1 - 0s - g_loss: 0.7338 - d_loss: 1.3181 - diff_with_real: 3.7533e-04 - noise: 3.7533e-04 - g_diversity: 0.0877\n",
      "Epoch 93/3000\n",
      "1/1 - 0s - g_loss: 0.7510 - d_loss: 1.3108 - diff_with_real: 3.7533e-04 - noise: 3.7533e-04 - g_diversity: 0.0896\n",
      "Epoch 94/3000\n",
      "1/1 - 0s - g_loss: 0.7531 - d_loss: 1.3085 - diff_with_real: 3.7533e-04 - noise: 3.7533e-04 - g_diversity: 0.0913\n",
      "Epoch 95/3000\n",
      "1/1 - 0s - g_loss: 0.7560 - d_loss: 1.3062 - diff_with_real: 3.7533e-04 - noise: 3.7533e-04 - g_diversity: 0.0929\n",
      "Epoch 96/3000\n",
      "1/1 - 0s - g_loss: 0.7568 - d_loss: 1.3014 - diff_with_real: 3.7533e-04 - noise: 3.7533e-04 - g_diversity: 0.0944\n",
      "Epoch 97/3000\n",
      "1/1 - 0s - g_loss: 0.7530 - d_loss: 1.2937 - diff_with_real: 3.7533e-04 - noise: 3.7533e-04 - g_diversity: 0.0957\n",
      "Epoch 98/3000\n",
      "1/1 - 0s - g_loss: 0.7644 - d_loss: 1.2913 - diff_with_real: 3.7533e-04 - noise: 3.7533e-04 - g_diversity: 0.0967\n",
      "Epoch 99/3000\n",
      "1/1 - 0s - g_loss: 0.7648 - d_loss: 1.2864 - diff_with_real: 3.7533e-04 - noise: 3.7533e-04 - g_diversity: 0.0976\n",
      "Epoch 100/3000\n",
      "1/1 - 0s - g_loss: 0.7784 - d_loss: 1.2788 - diff_with_real: 3.7533e-04 - noise: 3.7533e-04 - g_diversity: 0.0983\n",
      "Epoch 101/3000\n"
     ]
    },
    {
     "data": {
      "image/png": "[encoded data removed]",
      "text/plain": [
       "<Figure size 432x288 with 2 Axes>"
      ]
     },
     "metadata": {
      "needs_background": "light"
     },
     "output_type": "display_data"
    },
    {
     "name": "stdout",
     "output_type": "stream",
     "text": [
      "1/1 - 0s - g_loss: 0.7805 - d_loss: 1.2737 - diff_with_real: 3.7533e-04 - noise: 3.7533e-04 - g_diversity: 0.0989\n",
      "Epoch 102/3000\n",
      "1/1 - 0s - g_loss: 0.7603 - d_loss: 1.2693 - diff_with_real: 3.7533e-04 - noise: 3.7533e-04 - g_diversity: 0.0994\n",
      "Epoch 103/3000\n",
      "1/1 - 0s - g_loss: 0.7916 - d_loss: 1.2605 - diff_with_real: 3.7533e-04 - noise: 3.7533e-04 - g_diversity: 0.0998\n",
      "Epoch 104/3000\n",
      "1/1 - 0s - g_loss: 0.7822 - d_loss: 1.2554 - diff_with_real: 3.7533e-04 - noise: 3.7533e-04 - g_diversity: 0.1001\n",
      "Epoch 105/3000\n",
      "1/1 - 0s - g_loss: 0.7818 - d_loss: 1.2515 - diff_with_real: 3.7533e-04 - noise: 3.7533e-04 - g_diversity: 0.1004\n",
      "Epoch 106/3000\n",
      "1/1 - 0s - g_loss: 0.8073 - d_loss: 1.2436 - diff_with_real: 3.7533e-04 - noise: 3.7533e-04 - g_diversity: 0.1006\n",
      "Epoch 107/3000\n",
      "1/1 - 0s - g_loss: 0.7984 - d_loss: 1.2412 - diff_with_real: 3.7533e-04 - noise: 3.7533e-04 - g_diversity: 0.1008\n",
      "Epoch 108/3000\n",
      "1/1 - 0s - g_loss: 0.8033 - d_loss: 1.2345 - diff_with_real: 3.7533e-04 - noise: 3.7533e-04 - g_diversity: 0.1010\n",
      "Epoch 109/3000\n",
      "1/1 - 0s - g_loss: 0.8093 - d_loss: 1.2239 - diff_with_real: 3.7533e-04 - noise: 3.7533e-04 - g_diversity: 0.1012\n",
      "Epoch 110/3000\n",
      "1/1 - 0s - g_loss: 0.8161 - d_loss: 1.2212 - diff_with_real: 3.7533e-04 - noise: 3.7533e-04 - g_diversity: 0.1014\n",
      "Epoch 111/3000\n",
      "1/1 - 0s - g_loss: 0.8161 - d_loss: 1.2127 - diff_with_real: 3.7533e-04 - noise: 3.7533e-04 - g_diversity: 0.1017\n",
      "Epoch 112/3000\n",
      "1/1 - 0s - g_loss: 0.8302 - d_loss: 1.2083 - diff_with_real: 3.7533e-04 - noise: 3.7533e-04 - g_diversity: 0.1020\n",
      "Epoch 113/3000\n",
      "1/1 - 0s - g_loss: 0.8347 - d_loss: 1.2027 - diff_with_real: 3.7533e-04 - noise: 3.7533e-04 - g_diversity: 0.1024\n",
      "Epoch 114/3000\n",
      "1/1 - 0s - g_loss: 0.8164 - d_loss: 1.1954 - diff_with_real: 3.7533e-04 - noise: 3.7533e-04 - g_diversity: 0.1029\n",
      "Epoch 115/3000\n",
      "1/1 - 0s - g_loss: 0.8616 - d_loss: 1.1928 - diff_with_real: 3.7533e-04 - noise: 3.7533e-04 - g_diversity: 0.1034\n",
      "Epoch 116/3000\n",
      "1/1 - 0s - g_loss: 0.8247 - d_loss: 1.1888 - diff_with_real: 3.7533e-04 - noise: 3.7533e-04 - g_diversity: 0.1041\n",
      "Epoch 117/3000\n",
      "1/1 - 0s - g_loss: 0.8532 - d_loss: 1.1817 - diff_with_real: 3.7533e-04 - noise: 3.7533e-04 - g_diversity: 0.1049\n",
      "Epoch 118/3000\n",
      "1/1 - 0s - g_loss: 0.8845 - d_loss: 1.1817 - diff_with_real: 3.7533e-04 - noise: 3.7533e-04 - g_diversity: 0.1059\n",
      "Epoch 119/3000\n",
      "1/1 - 0s - g_loss: 0.8102 - d_loss: 1.1715 - diff_with_real: 3.7533e-04 - noise: 3.7533e-04 - g_diversity: 0.1069\n",
      "Epoch 120/3000\n",
      "1/1 - 0s - g_loss: 0.8710 - d_loss: 1.1682 - diff_with_real: 3.7533e-04 - noise: 3.7533e-04 - g_diversity: 0.1081\n",
      "Epoch 121/3000\n",
      "1/1 - 0s - g_loss: 0.8958 - d_loss: 1.1647 - diff_with_real: 3.7533e-04 - noise: 3.7533e-04 - g_diversity: 0.1096\n",
      "Epoch 122/3000\n",
      "1/1 - 0s - g_loss: 0.8743 - d_loss: 1.1649 - diff_with_real: 3.7533e-04 - noise: 3.7533e-04 - g_diversity: 0.1111\n",
      "Epoch 123/3000\n",
      "1/1 - 0s - g_loss: 0.8730 - d_loss: 1.1544 - diff_with_real: 3.7533e-04 - noise: 3.7533e-04 - g_diversity: 0.1128\n",
      "Epoch 124/3000\n",
      "1/1 - 0s - g_loss: 0.9020 - d_loss: 1.1497 - diff_with_real: 3.7533e-04 - noise: 3.7533e-04 - g_diversity: 0.1147\n",
      "Epoch 125/3000\n",
      "1/1 - 0s - g_loss: 0.8487 - d_loss: 1.1476 - diff_with_real: 3.7533e-04 - noise: 3.7533e-04 - g_diversity: 0.1167\n",
      "Epoch 126/3000\n",
      "1/1 - 0s - g_loss: 0.9341 - d_loss: 1.1419 - diff_with_real: 3.7533e-04 - noise: 3.7533e-04 - g_diversity: 0.1189\n",
      "Epoch 127/3000\n",
      "1/1 - 0s - g_loss: 0.9047 - d_loss: 1.1368 - diff_with_real: 3.7533e-04 - noise: 3.7533e-04 - g_diversity: 0.1212\n",
      "Epoch 128/3000\n",
      "1/1 - 0s - g_loss: 0.8943 - d_loss: 1.1314 - diff_with_real: 3.8784e-04 - noise: 3.7533e-04 - g_diversity: 0.1236\n",
      "Epoch 129/3000\n",
      "1/1 - 0s - g_loss: 0.9197 - d_loss: 1.1230 - diff_with_real: 3.7533e-04 - noise: 3.7533e-04 - g_diversity: 0.1262\n",
      "Epoch 130/3000\n",
      "1/1 - 0s - g_loss: 0.9289 - d_loss: 1.1227 - diff_with_real: 3.7533e-04 - noise: 3.7533e-04 - g_diversity: 0.1288\n",
      "Epoch 131/3000\n",
      "1/1 - 0s - g_loss: 0.9148 - d_loss: 1.1121 - diff_with_real: 3.7533e-04 - noise: 3.7533e-04 - g_diversity: 0.1314\n",
      "Epoch 132/3000\n",
      "1/1 - 0s - g_loss: 0.9494 - d_loss: 1.1085 - diff_with_real: 3.7533e-04 - noise: 3.7533e-04 - g_diversity: 0.1341\n",
      "Epoch 133/3000\n",
      "1/1 - 0s - g_loss: 0.9239 - d_loss: 1.0958 - diff_with_real: 3.7533e-04 - noise: 3.7533e-04 - g_diversity: 0.1369\n",
      "Epoch 134/3000\n",
      "1/1 - 0s - g_loss: 0.9931 - d_loss: 1.0901 - diff_with_real: 3.7533e-04 - noise: 3.7533e-04 - g_diversity: 0.1396\n",
      "Epoch 135/3000\n",
      "1/1 - 0s - g_loss: 0.9373 - d_loss: 1.0811 - diff_with_real: 3.7533e-04 - noise: 3.7533e-04 - g_diversity: 0.1422\n",
      "Epoch 136/3000\n",
      "1/1 - 0s - g_loss: 0.9942 - d_loss: 1.0718 - diff_with_real: 3.7533e-04 - noise: 3.7533e-04 - g_diversity: 0.1448\n",
      "Epoch 137/3000\n",
      "1/1 - 0s - g_loss: 0.9774 - d_loss: 1.0606 - diff_with_real: 3.7533e-04 - noise: 3.7533e-04 - g_diversity: 0.1473\n",
      "Epoch 138/3000\n",
      "1/1 - 0s - g_loss: 1.0002 - d_loss: 1.0495 - diff_with_real: 3.7533e-04 - noise: 3.7533e-04 - g_diversity: 0.1497\n",
      "Epoch 139/3000\n",
      "1/1 - 0s - g_loss: 1.0314 - d_loss: 1.0324 - diff_with_real: 3.7533e-04 - noise: 3.7533e-04 - g_diversity: 0.1518\n",
      "Epoch 140/3000\n",
      "1/1 - 0s - g_loss: 1.0285 - d_loss: 1.0195 - diff_with_real: 3.7533e-04 - noise: 3.7533e-04 - g_diversity: 0.1539\n",
      "Epoch 141/3000\n",
      "1/1 - 0s - g_loss: 1.0429 - d_loss: 1.0106 - diff_with_real: 3.7533e-04 - noise: 3.7533e-04 - g_diversity: 0.1558\n",
      "Epoch 142/3000\n",
      "1/1 - 0s - g_loss: 1.1062 - d_loss: 0.9929 - diff_with_real: 3.7533e-04 - noise: 3.7533e-04 - g_diversity: 0.1574\n",
      "Epoch 143/3000\n",
      "1/1 - 0s - g_loss: 1.0372 - d_loss: 0.9833 - diff_with_real: 3.7533e-04 - noise: 3.7533e-04 - g_diversity: 0.1588\n",
      "Epoch 144/3000\n",
      "1/1 - 0s - g_loss: 1.1597 - d_loss: 0.9626 - diff_with_real: 3.7533e-04 - noise: 3.7533e-04 - g_diversity: 0.1600\n",
      "Epoch 145/3000\n",
      "1/1 - 0s - g_loss: 1.1374 - d_loss: 0.9480 - diff_with_real: 3.7533e-04 - noise: 3.7533e-04 - g_diversity: 0.1610\n",
      "Epoch 146/3000\n",
      "1/1 - 0s - g_loss: 1.1470 - d_loss: 0.9301 - diff_with_real: 3.7533e-04 - noise: 3.7533e-04 - g_diversity: 0.1618\n",
      "Epoch 147/3000\n",
      "1/1 - 0s - g_loss: 1.2586 - d_loss: 0.9218 - diff_with_real: 3.7533e-04 - noise: 3.7533e-04 - g_diversity: 0.1623\n",
      "Epoch 148/3000\n",
      "1/1 - 0s - g_loss: 1.1178 - d_loss: 0.9071 - diff_with_real: 3.8784e-04 - noise: 3.7533e-04 - g_diversity: 0.1625\n",
      "Epoch 149/3000\n",
      "1/1 - 0s - g_loss: 1.3289 - d_loss: 0.8950 - diff_with_real: 3.7533e-04 - noise: 3.7533e-04 - g_diversity: 0.1625\n",
      "Epoch 150/3000\n",
      "1/1 - 0s - g_loss: 1.2655 - d_loss: 0.8844 - diff_with_real: 3.7533e-04 - noise: 3.7533e-04 - g_diversity: 0.1622\n",
      "Epoch 151/3000\n"
     ]
    },
    {
     "data": {
      "image/png": "[encoded data removed]",
      "text/plain": [
       "<Figure size 432x288 with 2 Axes>"
      ]
     },
     "metadata": {
      "needs_background": "light"
     },
     "output_type": "display_data"
    },
    {
     "name": "stdout",
     "output_type": "stream",
     "text": [
      "1/1 - 0s - g_loss: 1.2576 - d_loss: 0.8704 - diff_with_real: 3.7533e-04 - noise: 3.7533e-04 - g_diversity: 0.1615\n",
      "Epoch 152/3000\n",
      "1/1 - 0s - g_loss: 1.3848 - d_loss: 0.8558 - diff_with_real: 3.7533e-04 - noise: 3.7533e-04 - g_diversity: 0.1607\n",
      "Epoch 153/3000\n",
      "1/1 - 0s - g_loss: 1.3180 - d_loss: 0.8498 - diff_with_real: 3.7533e-04 - noise: 3.7533e-04 - g_diversity: 0.1595\n",
      "Epoch 154/3000\n",
      "1/1 - 0s - g_loss: 1.3889 - d_loss: 0.8385 - diff_with_real: 3.7533e-04 - noise: 3.7533e-04 - g_diversity: 0.1579\n",
      "Epoch 155/3000\n",
      "1/1 - 0s - g_loss: 1.3909 - d_loss: 0.8281 - diff_with_real: 3.7533e-04 - noise: 3.7533e-04 - g_diversity: 0.1562\n",
      "Epoch 156/3000\n",
      "1/1 - 0s - g_loss: 1.5023 - d_loss: 0.8250 - diff_with_real: 3.7533e-04 - noise: 3.7533e-04 - g_diversity: 0.1540\n",
      "Epoch 157/3000\n",
      "1/1 - 0s - g_loss: 1.3469 - d_loss: 0.8115 - diff_with_real: 3.7533e-04 - noise: 3.7533e-04 - g_diversity: 0.1515\n",
      "Epoch 158/3000\n",
      "1/1 - 0s - g_loss: 1.5706 - d_loss: 0.8125 - diff_with_real: 3.7533e-04 - noise: 3.7533e-04 - g_diversity: 0.1488\n",
      "Epoch 159/3000\n",
      "1/1 - 0s - g_loss: 1.4107 - d_loss: 0.8076 - diff_with_real: 3.7533e-04 - noise: 3.7533e-04 - g_diversity: 0.1458\n",
      "Epoch 160/3000\n",
      "1/1 - 0s - g_loss: 1.5196 - d_loss: 0.8083 - diff_with_real: 3.7533e-04 - noise: 3.7533e-04 - g_diversity: 0.1426\n",
      "Epoch 161/3000\n",
      "1/1 - 0s - g_loss: 1.5296 - d_loss: 0.7981 - diff_with_real: 3.7533e-04 - noise: 3.7533e-04 - g_diversity: 0.1392\n",
      "Epoch 162/3000\n",
      "1/1 - 0s - g_loss: 1.5018 - d_loss: 0.7972 - diff_with_real: 3.7533e-04 - noise: 3.7533e-04 - g_diversity: 0.1357\n",
      "Epoch 163/3000\n",
      "1/1 - 0s - g_loss: 1.6144 - d_loss: 0.7945 - diff_with_real: 3.7533e-04 - noise: 3.7533e-04 - g_diversity: 0.1321\n",
      "Epoch 164/3000\n",
      "1/1 - 0s - g_loss: 1.4127 - d_loss: 0.7922 - diff_with_real: 3.7533e-04 - noise: 3.7533e-04 - g_diversity: 0.1284\n",
      "Epoch 165/3000\n",
      "1/1 - 0s - g_loss: 1.6529 - d_loss: 0.7887 - diff_with_real: 3.7533e-04 - noise: 3.7533e-04 - g_diversity: 0.1247\n",
      "Epoch 166/3000\n",
      "1/1 - 0s - g_loss: 1.5652 - d_loss: 0.7909 - diff_with_real: 3.7533e-04 - noise: 3.7533e-04 - g_diversity: 0.1211\n",
      "Epoch 167/3000\n",
      "1/1 - 0s - g_loss: 1.5714 - d_loss: 0.7883 - diff_with_real: 3.7533e-04 - noise: 3.7533e-04 - g_diversity: 0.1175\n",
      "Epoch 168/3000\n",
      "1/1 - 0s - g_loss: 1.5875 - d_loss: 0.7808 - diff_with_real: 3.7533e-04 - noise: 3.7533e-04 - g_diversity: 0.1141\n",
      "Epoch 169/3000\n",
      "1/1 - 0s - g_loss: 1.5409 - d_loss: 0.7891 - diff_with_real: 3.7533e-04 - noise: 3.7533e-04 - g_diversity: 0.1111\n",
      "Epoch 170/3000\n",
      "1/1 - 0s - g_loss: 1.5940 - d_loss: 0.7815 - diff_with_real: 3.7533e-04 - noise: 3.7533e-04 - g_diversity: 0.1084\n",
      "Epoch 171/3000\n",
      "1/1 - 0s - g_loss: 1.7468 - d_loss: 0.7841 - diff_with_real: 3.7533e-04 - noise: 3.7533e-04 - g_diversity: 0.1060\n",
      "Epoch 172/3000\n",
      "1/1 - 0s - g_loss: 1.3920 - d_loss: 0.8052 - diff_with_real: 3.7533e-04 - noise: 3.7533e-04 - g_diversity: 0.1041\n",
      "Epoch 173/3000\n",
      "1/1 - 0s - g_loss: 1.6612 - d_loss: 0.7927 - diff_with_real: 3.7533e-04 - noise: 3.7533e-04 - g_diversity: 0.1028\n",
      "Epoch 174/3000\n",
      "1/1 - 0s - g_loss: 1.6416 - d_loss: 0.7819 - diff_with_real: 3.7533e-04 - noise: 3.7533e-04 - g_diversity: 0.1021\n",
      "Epoch 175/3000\n",
      "1/1 - 0s - g_loss: 1.5628 - d_loss: 0.7891 - diff_with_real: 3.7533e-04 - noise: 3.7533e-04 - g_diversity: 0.1019\n",
      "Epoch 176/3000\n",
      "1/1 - 0s - g_loss: 1.6217 - d_loss: 0.7790 - diff_with_real: 3.7533e-04 - noise: 3.7533e-04 - g_diversity: 0.1022\n",
      "Epoch 177/3000\n",
      "1/1 - 0s - g_loss: 1.6377 - d_loss: 0.7852 - diff_with_real: 3.7533e-04 - noise: 3.7533e-04 - g_diversity: 0.1029\n",
      "Epoch 178/3000\n",
      "1/1 - 0s - g_loss: 1.5445 - d_loss: 0.7821 - diff_with_real: 3.7533e-04 - noise: 3.7533e-04 - g_diversity: 0.1042\n",
      "Epoch 179/3000\n",
      "1/1 - 0s - g_loss: 1.6220 - d_loss: 0.7718 - diff_with_real: 3.7533e-04 - noise: 3.7533e-04 - g_diversity: 0.1059\n",
      "Epoch 180/3000\n",
      "1/1 - 0s - g_loss: 1.6998 - d_loss: 0.7706 - diff_with_real: 3.7533e-04 - noise: 3.7533e-04 - g_diversity: 0.1077\n",
      "Epoch 181/3000\n",
      "1/1 - 0s - g_loss: 1.5790 - d_loss: 0.7678 - diff_with_real: 3.7533e-04 - noise: 3.7533e-04 - g_diversity: 0.1099\n",
      "Epoch 182/3000\n",
      "1/1 - 0s - g_loss: 1.6561 - d_loss: 0.7648 - diff_with_real: 3.7533e-04 - noise: 3.7533e-04 - g_diversity: 0.1123\n",
      "Epoch 183/3000\n",
      "1/1 - 0s - g_loss: 1.7572 - d_loss: 0.7412 - diff_with_real: 3.7533e-04 - noise: 3.7533e-04 - g_diversity: 0.1151\n",
      "Epoch 184/3000\n",
      "1/1 - 0s - g_loss: 1.7615 - d_loss: 0.7474 - diff_with_real: 3.7533e-04 - noise: 3.7533e-04 - g_diversity: 0.1180\n",
      "Epoch 185/3000\n",
      "1/1 - 0s - g_loss: 1.6905 - d_loss: 0.7357 - diff_with_real: 3.7533e-04 - noise: 3.7533e-04 - g_diversity: 0.1208\n",
      "Epoch 186/3000\n",
      "1/1 - 0s - g_loss: 1.5475 - d_loss: 0.7270 - diff_with_real: 3.7533e-04 - noise: 3.7533e-04 - g_diversity: 0.1235\n",
      "Epoch 187/3000\n",
      "1/1 - 0s - g_loss: 1.8711 - d_loss: 0.7208 - diff_with_real: 3.7533e-04 - noise: 3.7533e-04 - g_diversity: 0.1261\n",
      "Epoch 188/3000\n",
      "1/1 - 0s - g_loss: 1.5428 - d_loss: 0.7217 - diff_with_real: 3.7533e-04 - noise: 3.7533e-04 - g_diversity: 0.1285\n",
      "Epoch 189/3000\n",
      "1/1 - 0s - g_loss: 1.9345 - d_loss: 0.6779 - diff_with_real: 3.7533e-04 - noise: 3.7533e-04 - g_diversity: 0.1308\n",
      "Epoch 190/3000\n",
      "1/1 - 0s - g_loss: 2.1157 - d_loss: 0.6961 - diff_with_real: 3.7533e-04 - noise: 3.7533e-04 - g_diversity: 0.1329\n",
      "Epoch 191/3000\n",
      "1/1 - 0s - g_loss: 1.7894 - d_loss: 0.6803 - diff_with_real: 3.7533e-04 - noise: 3.7533e-04 - g_diversity: 0.1349\n",
      "Epoch 192/3000\n",
      "1/1 - 0s - g_loss: 1.9121 - d_loss: 0.6584 - diff_with_real: 3.7533e-04 - noise: 3.7533e-04 - g_diversity: 0.1367\n",
      "Epoch 193/3000\n",
      "1/1 - 0s - g_loss: 2.1783 - d_loss: 0.6809 - diff_with_real: 3.7533e-04 - noise: 3.7533e-04 - g_diversity: 0.1381\n",
      "Epoch 194/3000\n",
      "1/1 - 0s - g_loss: 1.7081 - d_loss: 0.6649 - diff_with_real: 3.7533e-04 - noise: 3.7533e-04 - g_diversity: 0.1391\n",
      "Epoch 195/3000\n",
      "1/1 - 0s - g_loss: 1.8471 - d_loss: 0.6550 - diff_with_real: 3.7533e-04 - noise: 3.7533e-04 - g_diversity: 0.1399\n",
      "Epoch 196/3000\n",
      "1/1 - 0s - g_loss: 2.2228 - d_loss: 0.6565 - diff_with_real: 3.7533e-04 - noise: 3.7533e-04 - g_diversity: 0.1402\n",
      "Epoch 197/3000\n",
      "1/1 - 0s - g_loss: 2.0459 - d_loss: 0.6340 - diff_with_real: 3.7533e-04 - noise: 3.7533e-04 - g_diversity: 0.1402\n",
      "Epoch 198/3000\n",
      "1/1 - 0s - g_loss: 2.0906 - d_loss: 0.6357 - diff_with_real: 3.7533e-04 - noise: 3.7533e-04 - g_diversity: 0.1398\n",
      "Epoch 199/3000\n",
      "1/1 - 0s - g_loss: 2.2269 - d_loss: 0.6335 - diff_with_real: 3.7533e-04 - noise: 3.7533e-04 - g_diversity: 0.1391\n",
      "Epoch 200/3000\n",
      "1/1 - 0s - g_loss: 2.1788 - d_loss: 0.6234 - diff_with_real: 3.7533e-04 - noise: 3.7533e-04 - g_diversity: 0.1382\n",
      "Epoch 201/3000\n"
     ]
    },
    {
     "data": {
      "image/png": "[encoded data removed]",
      "text/plain": [
       "<Figure size 432x288 with 2 Axes>"
      ]
     },
     "metadata": {
      "needs_background": "light"
     },
     "output_type": "display_data"
    },
    {
     "name": "stdout",
     "output_type": "stream",
     "text": [
      "1/1 - 0s - g_loss: 2.0482 - d_loss: 0.6231 - diff_with_real: 3.7533e-04 - noise: 3.7533e-04 - g_diversity: 0.1370\n",
      "Epoch 202/3000\n",
      "1/1 - 0s - g_loss: 2.1346 - d_loss: 0.6059 - diff_with_real: 3.7533e-04 - noise: 3.7533e-04 - g_diversity: 0.1358\n",
      "Epoch 203/3000\n",
      "1/1 - 0s - g_loss: 2.3078 - d_loss: 0.6302 - diff_with_real: 3.7533e-04 - noise: 3.7533e-04 - g_diversity: 0.1344\n",
      "Epoch 204/3000\n",
      "1/1 - 0s - g_loss: 2.1321 - d_loss: 0.5980 - diff_with_real: 3.7533e-04 - noise: 3.7533e-04 - g_diversity: 0.1328\n",
      "Epoch 205/3000\n",
      "1/1 - 0s - g_loss: 2.1813 - d_loss: 0.5940 - diff_with_real: 3.7533e-04 - noise: 3.7533e-04 - g_diversity: 0.1311\n",
      "Epoch 206/3000\n",
      "1/1 - 0s - g_loss: 2.3539 - d_loss: 0.6068 - diff_with_real: 3.7533e-04 - noise: 3.7533e-04 - g_diversity: 0.1293\n",
      "Epoch 207/3000\n",
      "1/1 - 0s - g_loss: 2.2610 - d_loss: 0.5827 - diff_with_real: 3.7533e-04 - noise: 3.7533e-04 - g_diversity: 0.1273\n",
      "Epoch 208/3000\n",
      "1/1 - 0s - g_loss: 2.1513 - d_loss: 0.5850 - diff_with_real: 3.7533e-04 - noise: 3.7533e-04 - g_diversity: 0.1252\n",
      "Epoch 209/3000\n",
      "1/1 - 0s - g_loss: 2.3590 - d_loss: 0.5845 - diff_with_real: 3.7533e-04 - noise: 3.7533e-04 - g_diversity: 0.1232\n",
      "Epoch 210/3000\n",
      "1/1 - 0s - g_loss: 2.3556 - d_loss: 0.5842 - diff_with_real: 3.7533e-04 - noise: 3.7533e-04 - g_diversity: 0.1212\n",
      "Epoch 211/3000\n",
      "1/1 - 0s - g_loss: 2.1817 - d_loss: 0.5842 - diff_with_real: 3.7533e-04 - noise: 3.7533e-04 - g_diversity: 0.1193\n",
      "Epoch 212/3000\n",
      "1/1 - 0s - g_loss: 2.3370 - d_loss: 0.5756 - diff_with_real: 3.7533e-04 - noise: 3.7533e-04 - g_diversity: 0.1175\n",
      "Epoch 213/3000\n",
      "1/1 - 0s - g_loss: 2.4370 - d_loss: 0.5730 - diff_with_real: 3.7533e-04 - noise: 3.7533e-04 - g_diversity: 0.1159\n",
      "Epoch 214/3000\n",
      "1/1 - 0s - g_loss: 2.3200 - d_loss: 0.5653 - diff_with_real: 3.7533e-04 - noise: 3.7533e-04 - g_diversity: 0.1146\n",
      "Epoch 215/3000\n",
      "1/1 - 0s - g_loss: 2.2616 - d_loss: 0.5608 - diff_with_real: 3.7533e-04 - noise: 3.7533e-04 - g_diversity: 0.1135\n",
      "Epoch 216/3000\n",
      "1/1 - 0s - g_loss: 2.4637 - d_loss: 0.5705 - diff_with_real: 3.7533e-04 - noise: 3.7533e-04 - g_diversity: 0.1128\n",
      "Epoch 217/3000\n",
      "1/1 - 0s - g_loss: 2.1460 - d_loss: 0.5627 - diff_with_real: 3.7533e-04 - noise: 3.7533e-04 - g_diversity: 0.1123\n",
      "Epoch 218/3000\n",
      "1/1 - 0s - g_loss: 2.3296 - d_loss: 0.5635 - diff_with_real: 3.7533e-04 - noise: 3.7533e-04 - g_diversity: 0.1122\n",
      "Epoch 219/3000\n",
      "1/1 - 0s - g_loss: 2.4910 - d_loss: 0.5455 - diff_with_real: 3.7533e-04 - noise: 3.7533e-04 - g_diversity: 0.1123\n",
      "Epoch 220/3000\n",
      "1/1 - 0s - g_loss: 2.4344 - d_loss: 0.5611 - diff_with_real: 3.7533e-04 - noise: 3.7533e-04 - g_diversity: 0.1127\n",
      "Epoch 221/3000\n",
      "1/1 - 0s - g_loss: 2.2302 - d_loss: 0.5522 - diff_with_real: 3.7533e-04 - noise: 3.7533e-04 - g_diversity: 0.1133\n",
      "Epoch 222/3000\n",
      "1/1 - 0s - g_loss: 2.2785 - d_loss: 0.5542 - diff_with_real: 3.7533e-04 - noise: 3.7533e-04 - g_diversity: 0.1141\n",
      "Epoch 223/3000\n",
      "1/1 - 0s - g_loss: 2.4766 - d_loss: 0.5431 - diff_with_real: 3.7533e-04 - noise: 3.7533e-04 - g_diversity: 0.1150\n",
      "Epoch 224/3000\n",
      "1/1 - 0s - g_loss: 2.4763 - d_loss: 0.5412 - diff_with_real: 3.7533e-04 - noise: 3.7533e-04 - g_diversity: 0.1159\n",
      "Epoch 225/3000\n",
      "1/1 - 0s - g_loss: 2.2745 - d_loss: 0.5352 - diff_with_real: 3.7533e-04 - noise: 3.7533e-04 - g_diversity: 0.1171\n",
      "Epoch 226/3000\n",
      "1/1 - 0s - g_loss: 2.4142 - d_loss: 0.5377 - diff_with_real: 3.7533e-04 - noise: 3.7533e-04 - g_diversity: 0.1184\n",
      "Epoch 227/3000\n",
      "1/1 - 0s - g_loss: 2.5884 - d_loss: 0.5352 - diff_with_real: 3.7533e-04 - noise: 3.7533e-04 - g_diversity: 0.1197\n",
      "Epoch 228/3000\n",
      "1/1 - 0s - g_loss: 2.3567 - d_loss: 0.5269 - diff_with_real: 3.7533e-04 - noise: 3.7533e-04 - g_diversity: 0.1210\n",
      "Epoch 229/3000\n",
      "1/1 - 0s - g_loss: 2.4443 - d_loss: 0.5120 - diff_with_real: 3.7533e-04 - noise: 3.7533e-04 - g_diversity: 0.1225\n",
      "Epoch 230/3000\n",
      "1/1 - 0s - g_loss: 2.6683 - d_loss: 0.5156 - diff_with_real: 3.7533e-04 - noise: 3.7533e-04 - g_diversity: 0.1241\n",
      "Epoch 231/3000\n",
      "1/1 - 0s - g_loss: 2.4925 - d_loss: 0.5064 - diff_with_real: 3.7533e-04 - noise: 3.7533e-04 - g_diversity: 0.1258\n",
      "Epoch 232/3000\n",
      "1/1 - 0s - g_loss: 2.3880 - d_loss: 0.5126 - diff_with_real: 3.7533e-04 - noise: 3.7533e-04 - g_diversity: 0.1276\n",
      "Epoch 233/3000\n",
      "1/1 - 0s - g_loss: 2.7353 - d_loss: 0.4987 - diff_with_real: 3.7533e-04 - noise: 3.7533e-04 - g_diversity: 0.1293\n",
      "Epoch 234/3000\n",
      "1/1 - 0s - g_loss: 2.5904 - d_loss: 0.4962 - diff_with_real: 3.7533e-04 - noise: 3.7533e-04 - g_diversity: 0.1311\n",
      "Epoch 235/3000\n",
      "1/1 - 0s - g_loss: 2.5309 - d_loss: 0.4936 - diff_with_real: 3.7533e-04 - noise: 3.7533e-04 - g_diversity: 0.1332\n",
      "Epoch 236/3000\n",
      "1/1 - 0s - g_loss: 2.7544 - d_loss: 0.4915 - diff_with_real: 3.7533e-04 - noise: 3.7533e-04 - g_diversity: 0.1351\n",
      "Epoch 237/3000\n",
      "1/1 - 0s - g_loss: 2.5652 - d_loss: 0.4845 - diff_with_real: 3.7533e-04 - noise: 3.7533e-04 - g_diversity: 0.1369\n",
      "Epoch 238/3000\n",
      "1/1 - 0s - g_loss: 2.6783 - d_loss: 0.4873 - diff_with_real: 3.7533e-04 - noise: 3.7533e-04 - g_diversity: 0.1385\n",
      "Epoch 239/3000\n",
      "1/1 - 0s - g_loss: 2.7160 - d_loss: 0.4694 - diff_with_real: 3.7533e-04 - noise: 3.7533e-04 - g_diversity: 0.1401\n",
      "Epoch 240/3000\n",
      "1/1 - 0s - g_loss: 2.7201 - d_loss: 0.4699 - diff_with_real: 3.7533e-04 - noise: 3.7533e-04 - g_diversity: 0.1413\n",
      "Epoch 241/3000\n",
      "1/1 - 0s - g_loss: 2.7556 - d_loss: 0.4691 - diff_with_real: 3.7533e-04 - noise: 3.7533e-04 - g_diversity: 0.1423\n",
      "Epoch 242/3000\n",
      "1/1 - 0s - g_loss: 2.7219 - d_loss: 0.4590 - diff_with_real: 3.7533e-04 - noise: 3.7533e-04 - g_diversity: 0.1430\n",
      "Epoch 243/3000\n",
      "1/1 - 0s - g_loss: 2.7884 - d_loss: 0.4566 - diff_with_real: 3.7533e-04 - noise: 3.7533e-04 - g_diversity: 0.1438\n",
      "Epoch 244/3000\n",
      "1/1 - 0s - g_loss: 2.8507 - d_loss: 0.4528 - diff_with_real: 3.7533e-04 - noise: 3.7533e-04 - g_diversity: 0.1445\n",
      "Epoch 245/3000\n",
      "1/1 - 0s - g_loss: 2.8575 - d_loss: 0.4497 - diff_with_real: 3.7533e-04 - noise: 3.7533e-04 - g_diversity: 0.1451\n",
      "Epoch 246/3000\n",
      "1/1 - 0s - g_loss: 2.7991 - d_loss: 0.4492 - diff_with_real: 3.7533e-04 - noise: 3.7533e-04 - g_diversity: 0.1455\n",
      "Epoch 247/3000\n",
      "1/1 - 0s - g_loss: 2.8500 - d_loss: 0.4461 - diff_with_real: 3.7533e-04 - noise: 3.7533e-04 - g_diversity: 0.1458\n",
      "Epoch 248/3000\n",
      "1/1 - 0s - g_loss: 2.9372 - d_loss: 0.4400 - diff_with_real: 3.7533e-04 - noise: 3.7533e-04 - g_diversity: 0.1460\n",
      "Epoch 249/3000\n",
      "1/1 - 0s - g_loss: 2.9995 - d_loss: 0.4322 - diff_with_real: 3.7533e-04 - noise: 3.7533e-04 - g_diversity: 0.1461\n",
      "Epoch 250/3000\n",
      "1/1 - 0s - g_loss: 3.0089 - d_loss: 0.4300 - diff_with_real: 3.7533e-04 - noise: 3.7533e-04 - g_diversity: 0.1461\n",
      "Epoch 251/3000\n"
     ]
    },
    {
     "data": {
      "image/png": "[encoded data removed]",
      "text/plain": [
       "<Figure size 432x288 with 2 Axes>"
      ]
     },
     "metadata": {
      "needs_background": "light"
     },
     "output_type": "display_data"
    },
    {
     "name": "stdout",
     "output_type": "stream",
     "text": [
      "1/1 - 0s - g_loss: 2.9890 - d_loss: 0.4237 - diff_with_real: 3.7533e-04 - noise: 3.7533e-04 - g_diversity: 0.1460\n",
      "Epoch 252/3000\n",
      "1/1 - 0s - g_loss: 3.0006 - d_loss: 0.4188 - diff_with_real: 3.7533e-04 - noise: 3.7533e-04 - g_diversity: 0.1459\n",
      "Epoch 253/3000\n",
      "1/1 - 0s - g_loss: 3.0364 - d_loss: 0.4142 - diff_with_real: 3.7533e-04 - noise: 3.7533e-04 - g_diversity: 0.1457\n",
      "Epoch 254/3000\n",
      "1/1 - 0s - g_loss: 3.1127 - d_loss: 0.4101 - diff_with_real: 3.7533e-04 - noise: 3.7533e-04 - g_diversity: 0.1451\n",
      "Epoch 255/3000\n",
      "1/1 - 0s - g_loss: 3.0514 - d_loss: 0.4047 - diff_with_real: 3.7533e-04 - noise: 3.7533e-04 - g_diversity: 0.1445\n",
      "Epoch 256/3000\n",
      "1/1 - 0s - g_loss: 3.2350 - d_loss: 0.3993 - diff_with_real: 3.7533e-04 - noise: 3.7533e-04 - g_diversity: 0.1435\n",
      "Epoch 257/3000\n",
      "1/1 - 0s - g_loss: 3.0233 - d_loss: 0.4122 - diff_with_real: 3.7533e-04 - noise: 3.7533e-04 - g_diversity: 0.1425\n",
      "Epoch 258/3000\n",
      "1/1 - 0s - g_loss: 3.2072 - d_loss: 0.4036 - diff_with_real: 3.7533e-04 - noise: 3.7533e-04 - g_diversity: 0.1412\n",
      "Epoch 259/3000\n",
      "1/1 - 0s - g_loss: 3.1875 - d_loss: 0.3982 - diff_with_real: 3.7533e-04 - noise: 3.7533e-04 - g_diversity: 0.1397\n",
      "Epoch 260/3000\n",
      "1/1 - 0s - g_loss: 3.2053 - d_loss: 0.3936 - diff_with_real: 3.7533e-04 - noise: 3.7533e-04 - g_diversity: 0.1380\n",
      "Epoch 261/3000\n",
      "1/1 - 0s - g_loss: 3.3514 - d_loss: 0.4039 - diff_with_real: 3.7533e-04 - noise: 3.7533e-04 - g_diversity: 0.1361\n",
      "Epoch 262/3000\n",
      "1/1 - 0s - g_loss: 3.1744 - d_loss: 0.3914 - diff_with_real: 3.7533e-04 - noise: 3.7533e-04 - g_diversity: 0.1345\n",
      "Epoch 263/3000\n",
      "1/1 - 0s - g_loss: 3.2865 - d_loss: 0.3826 - diff_with_real: 3.7533e-04 - noise: 3.7533e-04 - g_diversity: 0.1329\n",
      "Epoch 264/3000\n",
      "1/1 - 0s - g_loss: 3.3252 - d_loss: 0.3888 - diff_with_real: 3.7533e-04 - noise: 3.7533e-04 - g_diversity: 0.1312\n",
      "Epoch 265/3000\n",
      "1/1 - 0s - g_loss: 3.1723 - d_loss: 0.3855 - diff_with_real: 3.7533e-04 - noise: 3.7533e-04 - g_diversity: 0.1295\n",
      "Epoch 266/3000\n",
      "1/1 - 0s - g_loss: 3.3539 - d_loss: 0.3789 - diff_with_real: 3.7533e-04 - noise: 3.7533e-04 - g_diversity: 0.1279\n",
      "Epoch 267/3000\n",
      "1/1 - 0s - g_loss: 3.5234 - d_loss: 0.3761 - diff_with_real: 3.7533e-04 - noise: 3.7533e-04 - g_diversity: 0.1259\n",
      "Epoch 268/3000\n",
      "1/1 - 0s - g_loss: 3.1371 - d_loss: 0.3895 - diff_with_real: 3.7533e-04 - noise: 3.7533e-04 - g_diversity: 0.1240\n",
      "Epoch 269/3000\n",
      "1/1 - 0s - g_loss: 3.3252 - d_loss: 0.3761 - diff_with_real: 3.7533e-04 - noise: 3.7533e-04 - g_diversity: 0.1221\n",
      "Epoch 270/3000\n",
      "1/1 - 0s - g_loss: 3.5633 - d_loss: 0.3815 - diff_with_real: 3.7533e-04 - noise: 3.7533e-04 - g_diversity: 0.1199\n",
      "Epoch 271/3000\n",
      "1/1 - 0s - g_loss: 3.1798 - d_loss: 0.3768 - diff_with_real: 3.7533e-04 - noise: 3.7533e-04 - g_diversity: 0.1174\n",
      "Epoch 272/3000\n",
      "1/1 - 0s - g_loss: 3.3175 - d_loss: 0.3948 - diff_with_real: 3.7533e-04 - noise: 3.7533e-04 - g_diversity: 0.1149\n",
      "Epoch 273/3000\n",
      "1/1 - 0s - g_loss: 3.4727 - d_loss: 0.3736 - diff_with_real: 3.7533e-04 - noise: 3.7533e-04 - g_diversity: 0.1127\n",
      "Epoch 274/3000\n",
      "1/1 - 0s - g_loss: 3.3809 - d_loss: 0.3826 - diff_with_real: 3.7533e-04 - noise: 3.7533e-04 - g_diversity: 0.1106\n",
      "Epoch 275/3000\n",
      "1/1 - 0s - g_loss: 3.2155 - d_loss: 0.3796 - diff_with_real: 3.7533e-04 - noise: 3.7533e-04 - g_diversity: 0.1081\n",
      "Epoch 276/3000\n",
      "1/1 - 0s - g_loss: 3.3754 - d_loss: 0.3700 - diff_with_real: 3.7533e-04 - noise: 3.7533e-04 - g_diversity: 0.1055\n",
      "Epoch 277/3000\n",
      "1/1 - 0s - g_loss: 3.5964 - d_loss: 0.3752 - diff_with_real: 3.7533e-04 - noise: 3.7533e-04 - g_diversity: 0.1028\n",
      "Epoch 278/3000\n",
      "1/1 - 0s - g_loss: 3.2420 - d_loss: 0.3779 - diff_with_real: 3.7533e-04 - noise: 3.7533e-04 - g_diversity: 0.1003\n",
      "Epoch 279/3000\n",
      "1/1 - 0s - g_loss: 3.4326 - d_loss: 0.3707 - diff_with_real: 3.7533e-04 - noise: 3.7533e-04 - g_diversity: 0.0980\n",
      "Epoch 280/3000\n",
      "1/1 - 0s - g_loss: 3.6549 - d_loss: 0.3751 - diff_with_real: 3.7533e-04 - noise: 3.7533e-04 - g_diversity: 0.0958\n",
      "Epoch 281/3000\n",
      "1/1 - 0s - g_loss: 3.0663 - d_loss: 0.3828 - diff_with_real: 3.7533e-04 - noise: 3.7533e-04 - g_diversity: 0.0937\n",
      "Epoch 282/3000\n",
      "1/1 - 0s - g_loss: 3.3409 - d_loss: 0.3819 - diff_with_real: 3.7533e-04 - noise: 3.7533e-04 - g_diversity: 0.0918\n",
      "Epoch 283/3000\n",
      "1/1 - 0s - g_loss: 3.7182 - d_loss: 0.3940 - diff_with_real: 3.7533e-04 - noise: 3.7533e-04 - g_diversity: 0.0901\n",
      "Epoch 284/3000\n",
      "1/1 - 0s - g_loss: 3.0599 - d_loss: 0.3969 - diff_with_real: 3.7533e-04 - noise: 3.7533e-04 - g_diversity: 0.0887\n",
      "Epoch 285/3000\n",
      "1/1 - 0s - g_loss: 3.3066 - d_loss: 0.4037 - diff_with_real: 3.7533e-04 - noise: 3.7533e-04 - g_diversity: 0.0869\n",
      "Epoch 286/3000\n",
      "1/1 - 0s - g_loss: 3.4836 - d_loss: 0.3975 - diff_with_real: 3.7533e-04 - noise: 3.7533e-04 - g_diversity: 0.0845\n",
      "Epoch 287/3000\n",
      "1/1 - 0s - g_loss: 3.1776 - d_loss: 0.3853 - diff_with_real: 3.7533e-04 - noise: 3.7533e-04 - g_diversity: 0.0822\n",
      "Epoch 288/3000\n",
      "1/1 - 0s - g_loss: 3.5086 - d_loss: 0.3893 - diff_with_real: 3.7533e-04 - noise: 3.7533e-04 - g_diversity: 0.0802\n",
      "Epoch 289/3000\n",
      "1/1 - 0s - g_loss: 3.4049 - d_loss: 0.3810 - diff_with_real: 3.7533e-04 - noise: 3.7533e-04 - g_diversity: 0.0789\n",
      "Epoch 290/3000\n",
      "1/1 - 0s - g_loss: 3.1411 - d_loss: 0.3727 - diff_with_real: 3.7533e-04 - noise: 3.7533e-04 - g_diversity: 0.0777\n",
      "Epoch 291/3000\n",
      "1/1 - 0s - g_loss: 3.3684 - d_loss: 0.3767 - diff_with_real: 3.7533e-04 - noise: 3.7533e-04 - g_diversity: 0.0767\n",
      "Epoch 292/3000\n",
      "1/1 - 0s - g_loss: 3.5921 - d_loss: 0.3603 - diff_with_real: 3.7533e-04 - noise: 3.7533e-04 - g_diversity: 0.0757\n",
      "Epoch 293/3000\n",
      "1/1 - 0s - g_loss: 3.4079 - d_loss: 0.3616 - diff_with_real: 3.7533e-04 - noise: 3.7533e-04 - g_diversity: 0.0746\n",
      "Epoch 294/3000\n",
      "1/1 - 0s - g_loss: 3.3076 - d_loss: 0.3621 - diff_with_real: 3.7533e-04 - noise: 3.7533e-04 - g_diversity: 0.0744\n",
      "Epoch 295/3000\n",
      "1/1 - 0s - g_loss: 3.3121 - d_loss: 0.3699 - diff_with_real: 3.7533e-04 - noise: 3.7533e-04 - g_diversity: 0.0744\n",
      "Epoch 296/3000\n",
      "1/1 - 0s - g_loss: 3.6030 - d_loss: 0.3571 - diff_with_real: 3.7533e-04 - noise: 3.7533e-04 - g_diversity: 0.0742\n",
      "Epoch 297/3000\n",
      "1/1 - 0s - g_loss: 3.5028 - d_loss: 0.3441 - diff_with_real: 3.7533e-04 - noise: 3.7533e-04 - g_diversity: 0.0740\n",
      "Epoch 298/3000\n",
      "1/1 - 0s - g_loss: 3.4814 - d_loss: 0.3642 - diff_with_real: 3.7533e-04 - noise: 3.7533e-04 - g_diversity: 0.0734\n",
      "Epoch 299/3000\n",
      "1/1 - 0s - g_loss: 3.1582 - d_loss: 0.3514 - diff_with_real: 3.7533e-04 - noise: 3.7533e-04 - g_diversity: 0.0733\n",
      "Epoch 300/3000\n",
      "1/1 - 0s - g_loss: 3.6441 - d_loss: 0.3553 - diff_with_real: 3.7533e-04 - noise: 3.7533e-04 - g_diversity: 0.0731\n",
      "Epoch 301/3000\n"
     ]
    },
    {
     "data": {
      "image/png": "[encoded data removed]",
      "text/plain": [
       "<Figure size 432x288 with 2 Axes>"
      ]
     },
     "metadata": {
      "needs_background": "light"
     },
     "output_type": "display_data"
    },
    {
     "name": "stdout",
     "output_type": "stream",
     "text": [
      "1/1 - 0s - g_loss: 3.4353 - d_loss: 0.3454 - diff_with_real: 3.7533e-04 - noise: 3.7533e-04 - g_diversity: 0.0731\n",
      "Epoch 302/3000\n",
      "1/1 - 0s - g_loss: 3.1458 - d_loss: 0.3574 - diff_with_real: 3.7533e-04 - noise: 3.7533e-04 - g_diversity: 0.0735\n",
      "Epoch 303/3000\n",
      "1/1 - 0s - g_loss: 3.5423 - d_loss: 0.3616 - diff_with_real: 3.7533e-04 - noise: 3.7533e-04 - g_diversity: 0.0740\n",
      "Epoch 304/3000\n",
      "1/1 - 0s - g_loss: 3.3375 - d_loss: 0.3537 - diff_with_real: 3.7533e-04 - noise: 3.7533e-04 - g_diversity: 0.0743\n",
      "Epoch 305/3000\n",
      "1/1 - 0s - g_loss: 3.2818 - d_loss: 0.3477 - diff_with_real: 3.7533e-04 - noise: 3.7533e-04 - g_diversity: 0.0746\n",
      "Epoch 306/3000\n",
      "1/1 - 0s - g_loss: 3.6287 - d_loss: 0.3577 - diff_with_real: 3.7533e-04 - noise: 3.7533e-04 - g_diversity: 0.0748\n",
      "Epoch 307/3000\n",
      "1/1 - 0s - g_loss: 3.4032 - d_loss: 0.3366 - diff_with_real: 3.7533e-04 - noise: 3.7533e-04 - g_diversity: 0.0751\n",
      "Epoch 308/3000\n",
      "1/1 - 0s - g_loss: 3.2244 - d_loss: 0.3487 - diff_with_real: 3.7533e-04 - noise: 3.7533e-04 - g_diversity: 0.0755\n",
      "Epoch 309/3000\n",
      "1/1 - 0s - g_loss: 3.4321 - d_loss: 0.3540 - diff_with_real: 3.7533e-04 - noise: 3.7533e-04 - g_diversity: 0.0759\n",
      "Epoch 310/3000\n",
      "1/1 - 0s - g_loss: 3.2834 - d_loss: 0.3408 - diff_with_real: 3.7533e-04 - noise: 3.7533e-04 - g_diversity: 0.0759\n",
      "Epoch 311/3000\n",
      "1/1 - 0s - g_loss: 3.3225 - d_loss: 0.3559 - diff_with_real: 3.7533e-04 - noise: 3.7533e-04 - g_diversity: 0.0763\n",
      "Epoch 312/3000\n",
      "1/1 - 0s - g_loss: 3.5163 - d_loss: 0.3454 - diff_with_real: 3.7533e-04 - noise: 3.7533e-04 - g_diversity: 0.0765\n",
      "Epoch 313/3000\n",
      "1/1 - 0s - g_loss: 3.2094 - d_loss: 0.3455 - diff_with_real: 3.7533e-04 - noise: 3.7533e-04 - g_diversity: 0.0770\n",
      "Epoch 314/3000\n",
      "1/1 - 0s - g_loss: 3.3618 - d_loss: 0.3683 - diff_with_real: 3.7533e-04 - noise: 3.7533e-04 - g_diversity: 0.0776\n",
      "Epoch 315/3000\n",
      "1/1 - 0s - g_loss: 3.2400 - d_loss: 0.3355 - diff_with_real: 3.7533e-04 - noise: 3.7533e-04 - g_diversity: 0.0783\n",
      "Epoch 316/3000\n",
      "1/1 - 0s - g_loss: 3.3494 - d_loss: 0.3358 - diff_with_real: 3.7533e-04 - noise: 3.7533e-04 - g_diversity: 0.0790\n",
      "Epoch 317/3000\n",
      "1/1 - 0s - g_loss: 3.3891 - d_loss: 0.3502 - diff_with_real: 3.7533e-04 - noise: 3.7533e-04 - g_diversity: 0.0789\n",
      "Epoch 318/3000\n",
      "1/1 - 0s - g_loss: 3.2502 - d_loss: 0.3286 - diff_with_real: 3.7533e-04 - noise: 3.7533e-04 - g_diversity: 0.0785\n",
      "Epoch 319/3000\n",
      "1/1 - 0s - g_loss: 3.2672 - d_loss: 0.3317 - diff_with_real: 3.7533e-04 - noise: 3.7533e-04 - g_diversity: 0.0779\n",
      "Epoch 320/3000\n",
      "1/1 - 0s - g_loss: 3.3276 - d_loss: 0.3375 - diff_with_real: 3.7533e-04 - noise: 3.7533e-04 - g_diversity: 0.0780\n",
      "Epoch 321/3000\n",
      "1/1 - 0s - g_loss: 3.2843 - d_loss: 0.3233 - diff_with_real: 3.7533e-04 - noise: 3.7533e-04 - g_diversity: 0.0791\n",
      "Epoch 322/3000\n",
      "1/1 - 0s - g_loss: 3.4640 - d_loss: 0.3340 - diff_with_real: 3.7533e-04 - noise: 3.7533e-04 - g_diversity: 0.0799\n",
      "Epoch 323/3000\n",
      "1/1 - 0s - g_loss: 3.1568 - d_loss: 0.3369 - diff_with_real: 3.7533e-04 - noise: 3.7533e-04 - g_diversity: 0.0806\n",
      "Epoch 324/3000\n",
      "1/1 - 0s - g_loss: 3.4335 - d_loss: 0.3362 - diff_with_real: 3.7533e-04 - noise: 3.7533e-04 - g_diversity: 0.0800\n",
      "Epoch 325/3000\n",
      "1/1 - 0s - g_loss: 3.2683 - d_loss: 0.3334 - diff_with_real: 3.7533e-04 - noise: 3.7533e-04 - g_diversity: 0.0788\n",
      "Epoch 326/3000\n",
      "1/1 - 0s - g_loss: 3.0270 - d_loss: 0.3318 - diff_with_real: 3.7533e-04 - noise: 3.7533e-04 - g_diversity: 0.0786\n",
      "Epoch 327/3000\n",
      "1/1 - 0s - g_loss: 3.4303 - d_loss: 0.3415 - diff_with_real: 3.7533e-04 - noise: 3.7533e-04 - g_diversity: 0.0798\n",
      "Epoch 328/3000\n",
      "1/1 - 0s - g_loss: 3.0336 - d_loss: 0.3323 - diff_with_real: 3.7533e-04 - noise: 3.7533e-04 - g_diversity: 0.0806\n",
      "Epoch 329/3000\n",
      "1/1 - 0s - g_loss: 3.2364 - d_loss: 0.3298 - diff_with_real: 3.7533e-04 - noise: 3.7533e-04 - g_diversity: 0.0813\n",
      "Epoch 330/3000\n",
      "1/1 - 0s - g_loss: 3.3533 - d_loss: 0.3405 - diff_with_real: 3.7533e-04 - noise: 3.7533e-04 - g_diversity: 0.0808\n",
      "Epoch 331/3000\n",
      "1/1 - 0s - g_loss: 3.0750 - d_loss: 0.3410 - diff_with_real: 3.7533e-04 - noise: 3.7533e-04 - g_diversity: 0.0804\n",
      "Epoch 332/3000\n",
      "1/1 - 0s - g_loss: 3.1621 - d_loss: 0.3502 - diff_with_real: 3.7533e-04 - noise: 3.7533e-04 - g_diversity: 0.0798\n",
      "Epoch 333/3000\n",
      "1/1 - 0s - g_loss: 3.0750 - d_loss: 0.3381 - diff_with_real: 3.7533e-04 - noise: 3.7533e-04 - g_diversity: 0.0799\n",
      "Epoch 334/3000\n",
      "1/1 - 0s - g_loss: 3.2130 - d_loss: 0.3332 - diff_with_real: 3.7533e-04 - noise: 3.7533e-04 - g_diversity: 0.0811\n",
      "Epoch 335/3000\n",
      "1/1 - 0s - g_loss: 3.2023 - d_loss: 0.3449 - diff_with_real: 3.7533e-04 - noise: 3.7533e-04 - g_diversity: 0.0822\n",
      "Epoch 336/3000\n",
      "1/1 - 0s - g_loss: 2.9210 - d_loss: 0.3403 - diff_with_real: 3.7533e-04 - noise: 3.7533e-04 - g_diversity: 0.0822\n",
      "Epoch 337/3000\n",
      "1/1 - 0s - g_loss: 3.3289 - d_loss: 0.3454 - diff_with_real: 3.7533e-04 - noise: 3.7533e-04 - g_diversity: 0.0818\n",
      "Epoch 338/3000\n",
      "1/1 - 0s - g_loss: 2.9699 - d_loss: 0.3419 - diff_with_real: 3.7533e-04 - noise: 3.7533e-04 - g_diversity: 0.0825\n",
      "Epoch 339/3000\n",
      "1/1 - 0s - g_loss: 2.9851 - d_loss: 0.3576 - diff_with_real: 3.7533e-04 - noise: 3.7533e-04 - g_diversity: 0.0825\n",
      "Epoch 340/3000\n",
      "1/1 - 0s - g_loss: 3.0490 - d_loss: 0.3572 - diff_with_real: 3.7533e-04 - noise: 3.7533e-04 - g_diversity: 0.0822\n",
      "Epoch 341/3000\n",
      "1/1 - 0s - g_loss: 3.0119 - d_loss: 0.3501 - diff_with_real: 3.7533e-04 - noise: 3.7533e-04 - g_diversity: 0.0813\n",
      "Epoch 342/3000\n",
      "1/1 - 0s - g_loss: 3.2184 - d_loss: 0.3373 - diff_with_real: 3.7533e-04 - noise: 3.7533e-04 - g_diversity: 0.0823\n",
      "Epoch 343/3000\n",
      "1/1 - 0s - g_loss: 3.1358 - d_loss: 0.3368 - diff_with_real: 3.7533e-04 - noise: 3.7533e-04 - g_diversity: 0.0851\n",
      "Epoch 344/3000\n",
      "1/1 - 0s - g_loss: 2.8795 - d_loss: 0.3504 - diff_with_real: 3.7533e-04 - noise: 3.7533e-04 - g_diversity: 0.0857\n",
      "Epoch 345/3000\n",
      "1/1 - 0s - g_loss: 3.1780 - d_loss: 0.3180 - diff_with_real: 3.7533e-04 - noise: 3.7533e-04 - g_diversity: 0.0847\n",
      "Epoch 346/3000\n",
      "1/1 - 0s - g_loss: 3.4958 - d_loss: 0.3720 - diff_with_real: 3.7533e-04 - noise: 3.7533e-04 - g_diversity: 0.0835\n",
      "Epoch 347/3000\n",
      "1/1 - 0s - g_loss: 2.3318 - d_loss: 0.4151 - diff_with_real: 3.7533e-04 - noise: 3.7533e-04 - g_diversity: 0.0835\n",
      "Epoch 348/3000\n",
      "1/1 - 0s - g_loss: 2.8227 - d_loss: 0.3668 - diff_with_real: 3.7533e-04 - noise: 3.7533e-04 - g_diversity: 0.0845\n",
      "Epoch 349/3000\n",
      "1/1 - 0s - g_loss: 4.0086 - d_loss: 0.5161 - diff_with_real: 3.7533e-04 - noise: 3.7533e-04 - g_diversity: 0.0857\n",
      "Epoch 350/3000\n",
      "1/1 - 0s - g_loss: 1.7985 - d_loss: 0.5951 - diff_with_real: 3.7533e-04 - noise: 3.7533e-04 - g_diversity: 0.0852\n",
      "Epoch 351/3000\n"
     ]
    },
    {
     "data": {
      "image/png": "[encoded data removed]",
      "text/plain": [
       "<Figure size 432x288 with 2 Axes>"
      ]
     },
     "metadata": {
      "needs_background": "light"
     },
     "output_type": "display_data"
    },
    {
     "name": "stdout",
     "output_type": "stream",
     "text": [
      "1/1 - 0s - g_loss: 1.9200 - d_loss: 0.6809 - diff_with_real: 3.7533e-04 - noise: 3.7533e-04 - g_diversity: 0.0876\n",
      "Epoch 352/3000\n",
      "1/1 - 0s - g_loss: 2.5567 - d_loss: 0.8570 - diff_with_real: 3.7533e-04 - noise: 3.7533e-04 - g_diversity: 0.0902\n",
      "Epoch 353/3000\n",
      "1/1 - 0s - g_loss: 1.5998 - d_loss: 0.6779 - diff_with_real: 3.7533e-04 - noise: 3.7533e-04 - g_diversity: 0.0931\n",
      "Epoch 354/3000\n",
      "1/1 - 0s - g_loss: 2.2651 - d_loss: 0.5581 - diff_with_real: 3.7533e-04 - noise: 3.7533e-04 - g_diversity: 0.0926\n",
      "Epoch 355/3000\n",
      "1/1 - 0s - g_loss: 3.2405 - d_loss: 0.8414 - diff_with_real: 3.7533e-04 - noise: 3.7533e-04 - g_diversity: 0.0896\n",
      "Epoch 356/3000\n",
      "1/1 - 0s - g_loss: 1.9680 - d_loss: 0.6119 - diff_with_real: 3.7533e-04 - noise: 3.7533e-04 - g_diversity: 0.0861\n",
      "Epoch 357/3000\n",
      "1/1 - 0s - g_loss: 2.2004 - d_loss: 0.5569 - diff_with_real: 3.7533e-04 - noise: 3.7533e-04 - g_diversity: 0.0847\n",
      "Epoch 358/3000\n",
      "1/1 - 0s - g_loss: 3.0924 - d_loss: 0.6311 - diff_with_real: 3.7533e-04 - noise: 3.7533e-04 - g_diversity: 0.0858\n",
      "Epoch 359/3000\n",
      "1/1 - 0s - g_loss: 2.5129 - d_loss: 0.7301 - diff_with_real: 3.7533e-04 - noise: 3.7533e-04 - g_diversity: 0.0901\n",
      "Epoch 360/3000\n",
      "1/1 - 0s - g_loss: 1.7304 - d_loss: 0.6489 - diff_with_real: 3.7533e-04 - noise: 3.7533e-04 - g_diversity: 0.0971\n",
      "Epoch 361/3000\n",
      "1/1 - 0s - g_loss: 3.1454 - d_loss: 0.3624 - diff_with_real: 3.7533e-04 - noise: 3.7533e-04 - g_diversity: 0.1037\n",
      "Epoch 362/3000\n",
      "1/1 - 0s - g_loss: 4.9735 - d_loss: 0.4299 - diff_with_real: 3.7533e-04 - noise: 3.7533e-04 - g_diversity: 0.1047\n",
      "Epoch 363/3000\n",
      "1/1 - 0s - g_loss: 4.4914 - d_loss: 0.4470 - diff_with_real: 3.7533e-04 - noise: 3.7533e-04 - g_diversity: 0.0997\n",
      "Epoch 364/3000\n",
      "1/1 - 0s - g_loss: 2.1061 - d_loss: 0.5007 - diff_with_real: 3.7533e-04 - noise: 3.7533e-04 - g_diversity: 0.0936\n",
      "Epoch 365/3000\n",
      "1/1 - 0s - g_loss: 1.7204 - d_loss: 0.6863 - diff_with_real: 3.7533e-04 - noise: 3.7533e-04 - g_diversity: 0.0890\n",
      "Epoch 366/3000\n",
      "1/1 - 0s - g_loss: 2.9064 - d_loss: 0.7021 - diff_with_real: 3.7533e-04 - noise: 3.7533e-04 - g_diversity: 0.0869\n",
      "Epoch 367/3000\n",
      "1/1 - 0s - g_loss: 3.3480 - d_loss: 0.4429 - diff_with_real: 3.7533e-04 - noise: 3.7533e-04 - g_diversity: 0.0867\n",
      "Epoch 368/3000\n",
      "1/1 - 0s - g_loss: 3.9773 - d_loss: 0.3358 - diff_with_real: 3.7533e-04 - noise: 3.7533e-04 - g_diversity: 0.0870\n",
      "Epoch 369/3000\n",
      "1/1 - 0s - g_loss: 4.8782 - d_loss: 0.3273 - diff_with_real: 3.7533e-04 - noise: 3.7533e-04 - g_diversity: 0.0867\n",
      "Epoch 370/3000\n",
      "1/1 - 0s - g_loss: 4.8421 - d_loss: 0.4354 - diff_with_real: 3.8784e-04 - noise: 3.7533e-04 - g_diversity: 0.0866\n",
      "Epoch 371/3000\n",
      "1/1 - 0s - g_loss: 3.3117 - d_loss: 0.4188 - diff_with_real: 3.7533e-04 - noise: 3.7533e-04 - g_diversity: 0.0875\n",
      "Epoch 372/3000\n",
      "1/1 - 0s - g_loss: 2.1438 - d_loss: 0.5903 - diff_with_real: 3.7533e-04 - noise: 3.7533e-04 - g_diversity: 0.0893\n",
      "Epoch 373/3000\n",
      "1/1 - 0s - g_loss: 2.1946 - d_loss: 0.6424 - diff_with_real: 3.7533e-04 - noise: 3.7533e-04 - g_diversity: 0.0934\n",
      "Epoch 374/3000\n",
      "1/1 - 0s - g_loss: 3.0504 - d_loss: 0.7177 - diff_with_real: 3.7533e-04 - noise: 3.7533e-04 - g_diversity: 0.0988\n",
      "Epoch 375/3000\n",
      "1/1 - 0s - g_loss: 3.3562 - d_loss: 0.3997 - diff_with_real: 3.7533e-04 - noise: 3.7533e-04 - g_diversity: 0.1049\n",
      "Epoch 376/3000\n",
      "1/1 - 0s - g_loss: 3.7934 - d_loss: 0.3575 - diff_with_real: 3.7533e-04 - noise: 3.7533e-04 - g_diversity: 0.1098\n",
      "Epoch 377/3000\n",
      "1/1 - 0s - g_loss: 3.8545 - d_loss: 0.3870 - diff_with_real: 3.7533e-04 - noise: 3.7533e-04 - g_diversity: 0.1102\n",
      "Epoch 378/3000\n",
      "1/1 - 0s - g_loss: 3.5204 - d_loss: 0.4190 - diff_with_real: 3.7533e-04 - noise: 3.7533e-04 - g_diversity: 0.1083\n",
      "Epoch 379/3000\n",
      "1/1 - 0s - g_loss: 3.0142 - d_loss: 0.4790 - diff_with_real: 3.7533e-04 - noise: 3.7533e-04 - g_diversity: 0.1040\n",
      "Epoch 380/3000\n",
      "1/1 - 0s - g_loss: 2.7592 - d_loss: 0.5241 - diff_with_real: 3.7533e-04 - noise: 3.7533e-04 - g_diversity: 0.0984\n",
      "Epoch 381/3000\n",
      "1/1 - 0s - g_loss: 2.6570 - d_loss: 0.6439 - diff_with_real: 3.7533e-04 - noise: 3.7533e-04 - g_diversity: 0.0932\n",
      "Epoch 382/3000\n",
      "1/1 - 0s - g_loss: 2.1101 - d_loss: 0.7953 - diff_with_real: 3.7533e-04 - noise: 3.7533e-04 - g_diversity: 0.0892\n",
      "Epoch 383/3000\n",
      "1/1 - 0s - g_loss: 1.8489 - d_loss: 0.7277 - diff_with_real: 3.7533e-04 - noise: 3.7533e-04 - g_diversity: 0.0869\n",
      "Epoch 384/3000\n",
      "1/1 - 0s - g_loss: 2.7211 - d_loss: 0.4911 - diff_with_real: 3.7533e-04 - noise: 3.7533e-04 - g_diversity: 0.0875\n",
      "Epoch 385/3000\n",
      "1/1 - 0s - g_loss: 4.0349 - d_loss: 0.4948 - diff_with_real: 3.7533e-04 - noise: 3.7533e-04 - g_diversity: 0.0879\n",
      "Epoch 386/3000\n",
      "1/1 - 0s - g_loss: 4.0376 - d_loss: 0.4679 - diff_with_real: 3.7533e-04 - noise: 3.7533e-04 - g_diversity: 0.0885\n",
      "Epoch 387/3000\n",
      "1/1 - 0s - g_loss: 3.4492 - d_loss: 0.4791 - diff_with_real: 3.7533e-04 - noise: 3.7533e-04 - g_diversity: 0.0882\n",
      "Epoch 388/3000\n",
      "1/1 - 0s - g_loss: 3.2119 - d_loss: 0.5200 - diff_with_real: 3.7533e-04 - noise: 3.7533e-04 - g_diversity: 0.0886\n",
      "Epoch 389/3000\n",
      "1/1 - 0s - g_loss: 3.4862 - d_loss: 0.4995 - diff_with_real: 3.7533e-04 - noise: 3.7533e-04 - g_diversity: 0.0878\n",
      "Epoch 390/3000\n",
      "1/1 - 0s - g_loss: 4.0027 - d_loss: 0.5011 - diff_with_real: 3.7533e-04 - noise: 3.7533e-04 - g_diversity: 0.0870\n",
      "Epoch 391/3000\n",
      "1/1 - 0s - g_loss: 3.9065 - d_loss: 0.5486 - diff_with_real: 3.7533e-04 - noise: 3.7533e-04 - g_diversity: 0.0861\n",
      "Epoch 392/3000\n",
      "1/1 - 0s - g_loss: 2.7387 - d_loss: 0.5437 - diff_with_real: 3.7533e-04 - noise: 3.7533e-04 - g_diversity: 0.0861\n",
      "Epoch 393/3000\n",
      "1/1 - 0s - g_loss: 2.2297 - d_loss: 0.6167 - diff_with_real: 3.7533e-04 - noise: 3.7533e-04 - g_diversity: 0.0861\n",
      "Epoch 394/3000\n",
      "1/1 - 0s - g_loss: 2.4782 - d_loss: 0.6794 - diff_with_real: 3.7533e-04 - noise: 3.7533e-04 - g_diversity: 0.0882\n",
      "Epoch 395/3000\n",
      "1/1 - 0s - g_loss: 2.3065 - d_loss: 0.7268 - diff_with_real: 3.7533e-04 - noise: 3.7533e-04 - g_diversity: 0.0907\n",
      "Epoch 396/3000\n",
      "1/1 - 0s - g_loss: 2.0741 - d_loss: 0.7659 - diff_with_real: 3.7533e-04 - noise: 3.7533e-04 - g_diversity: 0.0950\n",
      "Epoch 397/3000\n",
      "1/1 - 0s - g_loss: 2.2468 - d_loss: 0.7287 - diff_with_real: 3.7533e-04 - noise: 3.7533e-04 - g_diversity: 0.1002\n",
      "Epoch 398/3000\n",
      "1/1 - 0s - g_loss: 2.6541 - d_loss: 0.5594 - diff_with_real: 3.7533e-04 - noise: 3.7533e-04 - g_diversity: 0.1053\n",
      "Epoch 399/3000\n",
      "1/1 - 0s - g_loss: 3.0908 - d_loss: 0.4931 - diff_with_real: 3.7533e-04 - noise: 3.7533e-04 - g_diversity: 0.1091\n",
      "Epoch 400/3000\n",
      "1/1 - 0s - g_loss: 3.2269 - d_loss: 0.4472 - diff_with_real: 3.7533e-04 - noise: 3.7533e-04 - g_diversity: 0.1113\n",
      "Epoch 401/3000\n"
     ]
    },
    {
     "data": {
      "image/png": "[encoded data removed]",
      "text/plain": [
       "<Figure size 432x288 with 2 Axes>"
      ]
     },
     "metadata": {
      "needs_background": "light"
     },
     "output_type": "display_data"
    },
    {
     "name": "stdout",
     "output_type": "stream",
     "text": [
      "1/1 - 0s - g_loss: 3.4208 - d_loss: 0.4073 - diff_with_real: 3.7533e-04 - noise: 3.7533e-04 - g_diversity: 0.1118\n",
      "Epoch 402/3000\n",
      "1/1 - 0s - g_loss: 3.8458 - d_loss: 0.3489 - diff_with_real: 3.7533e-04 - noise: 3.7533e-04 - g_diversity: 0.1106\n",
      "Epoch 403/3000\n",
      "1/1 - 0s - g_loss: 4.3183 - d_loss: 0.3570 - diff_with_real: 3.7533e-04 - noise: 3.7533e-04 - g_diversity: 0.1085\n",
      "Epoch 404/3000\n",
      "1/1 - 0s - g_loss: 4.3072 - d_loss: 0.4308 - diff_with_real: 3.7533e-04 - noise: 3.7533e-04 - g_diversity: 0.1055\n",
      "Epoch 405/3000\n",
      "1/1 - 0s - g_loss: 3.2472 - d_loss: 0.4156 - diff_with_real: 3.7533e-04 - noise: 3.7533e-04 - g_diversity: 0.1000\n",
      "Epoch 406/3000\n",
      "1/1 - 0s - g_loss: 2.2238 - d_loss: 0.5234 - diff_with_real: 3.7533e-04 - noise: 3.7533e-04 - g_diversity: 0.0959\n",
      "Epoch 407/3000\n",
      "1/1 - 0s - g_loss: 2.3043 - d_loss: 0.5550 - diff_with_real: 3.7533e-04 - noise: 3.7533e-04 - g_diversity: 0.0926\n",
      "Epoch 408/3000\n",
      "1/1 - 0s - g_loss: 3.0229 - d_loss: 0.6034 - diff_with_real: 3.7533e-04 - noise: 3.7533e-04 - g_diversity: 0.0900\n",
      "Epoch 409/3000\n",
      "1/1 - 0s - g_loss: 2.6141 - d_loss: 0.4665 - diff_with_real: 3.7533e-04 - noise: 3.7533e-04 - g_diversity: 0.0874\n",
      "Epoch 410/3000\n",
      "1/1 - 0s - g_loss: 3.0863 - d_loss: 0.4180 - diff_with_real: 3.7533e-04 - noise: 3.7533e-04 - g_diversity: 0.0876\n",
      "Epoch 411/3000\n",
      "1/1 - 0s - g_loss: 3.9432 - d_loss: 0.4393 - diff_with_real: 3.7533e-04 - noise: 3.7533e-04 - g_diversity: 0.0873\n",
      "Epoch 412/3000\n",
      "1/1 - 0s - g_loss: 4.2020 - d_loss: 0.4423 - diff_with_real: 3.7533e-04 - noise: 3.7533e-04 - g_diversity: 0.0876\n",
      "Epoch 413/3000\n",
      "1/1 - 0s - g_loss: 3.6220 - d_loss: 0.3759 - diff_with_real: 3.7533e-04 - noise: 3.7533e-04 - g_diversity: 0.0882\n",
      "Epoch 414/3000\n",
      "1/1 - 0s - g_loss: 3.0406 - d_loss: 0.4052 - diff_with_real: 3.7533e-04 - noise: 3.7533e-04 - g_diversity: 0.0887\n",
      "Epoch 415/3000\n",
      "1/1 - 0s - g_loss: 2.9142 - d_loss: 0.4528 - diff_with_real: 3.7533e-04 - noise: 3.7533e-04 - g_diversity: 0.0891\n",
      "Epoch 416/3000\n",
      "1/1 - 0s - g_loss: 2.9165 - d_loss: 0.4747 - diff_with_real: 3.7533e-04 - noise: 3.7533e-04 - g_diversity: 0.0899\n",
      "Epoch 417/3000\n",
      "1/1 - 0s - g_loss: 2.7881 - d_loss: 0.4501 - diff_with_real: 3.7533e-04 - noise: 3.7533e-04 - g_diversity: 0.0911\n",
      "Epoch 418/3000\n",
      "1/1 - 0s - g_loss: 2.8175 - d_loss: 0.4656 - diff_with_real: 3.7533e-04 - noise: 3.7533e-04 - g_diversity: 0.0924\n",
      "Epoch 419/3000\n",
      "1/1 - 0s - g_loss: 2.8377 - d_loss: 0.4756 - diff_with_real: 3.7533e-04 - noise: 3.7533e-04 - g_diversity: 0.0941\n",
      "Epoch 420/3000\n",
      "1/1 - 0s - g_loss: 3.0615 - d_loss: 0.4733 - diff_with_real: 3.7533e-04 - noise: 3.7533e-04 - g_diversity: 0.0968\n",
      "Epoch 421/3000\n",
      "1/1 - 0s - g_loss: 2.9199 - d_loss: 0.4178 - diff_with_real: 3.7533e-04 - noise: 3.7533e-04 - g_diversity: 0.0987\n",
      "Epoch 422/3000\n",
      "1/1 - 0s - g_loss: 3.0389 - d_loss: 0.3953 - diff_with_real: 3.7533e-04 - noise: 3.7533e-04 - g_diversity: 0.1001\n",
      "Epoch 423/3000\n",
      "1/1 - 0s - g_loss: 3.2867 - d_loss: 0.4042 - diff_with_real: 3.7533e-04 - noise: 3.7533e-04 - g_diversity: 0.1014\n",
      "Epoch 424/3000\n",
      "1/1 - 0s - g_loss: 3.4191 - d_loss: 0.4128 - diff_with_real: 3.7533e-04 - noise: 3.7533e-04 - g_diversity: 0.1018\n",
      "Epoch 425/3000\n",
      "1/1 - 0s - g_loss: 3.0753 - d_loss: 0.4178 - diff_with_real: 3.7533e-04 - noise: 3.7533e-04 - g_diversity: 0.1007\n",
      "Epoch 426/3000\n",
      "1/1 - 0s - g_loss: 2.7331 - d_loss: 0.4316 - diff_with_real: 3.7533e-04 - noise: 3.7533e-04 - g_diversity: 0.0997\n",
      "Epoch 427/3000\n",
      "1/1 - 0s - g_loss: 2.8206 - d_loss: 0.4234 - diff_with_real: 3.7533e-04 - noise: 3.7533e-04 - g_diversity: 0.0984\n",
      "Epoch 428/3000\n",
      "1/1 - 0s - g_loss: 3.1052 - d_loss: 0.4176 - diff_with_real: 3.8784e-04 - noise: 3.7533e-04 - g_diversity: 0.0967\n",
      "Epoch 429/3000\n",
      "1/1 - 0s - g_loss: 3.3210 - d_loss: 0.4113 - diff_with_real: 3.7533e-04 - noise: 3.7533e-04 - g_diversity: 0.0973\n",
      "Epoch 430/3000\n",
      "1/1 - 0s - g_loss: 3.3941 - d_loss: 0.4115 - diff_with_real: 3.7533e-04 - noise: 3.7533e-04 - g_diversity: 0.0967\n",
      "Epoch 431/3000\n",
      "1/1 - 0s - g_loss: 3.2340 - d_loss: 0.4036 - diff_with_real: 3.7533e-04 - noise: 3.7533e-04 - g_diversity: 0.0972\n",
      "Epoch 432/3000\n",
      "1/1 - 0s - g_loss: 3.0951 - d_loss: 0.3788 - diff_with_real: 3.7533e-04 - noise: 3.7533e-04 - g_diversity: 0.0973\n",
      "Epoch 433/3000\n",
      "1/1 - 0s - g_loss: 3.0850 - d_loss: 0.3896 - diff_with_real: 3.7533e-04 - noise: 3.7533e-04 - g_diversity: 0.0976\n",
      "Epoch 434/3000\n",
      "1/1 - 0s - g_loss: 2.9267 - d_loss: 0.3935 - diff_with_real: 3.7533e-04 - noise: 3.7533e-04 - g_diversity: 0.0984\n",
      "Epoch 435/3000\n",
      "1/1 - 0s - g_loss: 2.9794 - d_loss: 0.3870 - diff_with_real: 3.7533e-04 - noise: 3.7533e-04 - g_diversity: 0.0984\n",
      "Epoch 436/3000\n",
      "1/1 - 0s - g_loss: 3.2196 - d_loss: 0.3784 - diff_with_real: 3.7533e-04 - noise: 3.7533e-04 - g_diversity: 0.0995\n",
      "Epoch 437/3000\n",
      "1/1 - 0s - g_loss: 3.2342 - d_loss: 0.3807 - diff_with_real: 3.7533e-04 - noise: 3.7533e-04 - g_diversity: 0.0999\n",
      "Epoch 438/3000\n",
      "1/1 - 0s - g_loss: 2.8806 - d_loss: 0.3800 - diff_with_real: 3.7533e-04 - noise: 3.7533e-04 - g_diversity: 0.1006\n",
      "Epoch 439/3000\n",
      "1/1 - 0s - g_loss: 2.9914 - d_loss: 0.3800 - diff_with_real: 3.7533e-04 - noise: 3.7533e-04 - g_diversity: 0.1025\n",
      "Epoch 440/3000\n",
      "1/1 - 0s - g_loss: 3.2610 - d_loss: 0.3694 - diff_with_real: 3.7533e-04 - noise: 3.7533e-04 - g_diversity: 0.1023\n",
      "Epoch 441/3000\n",
      "1/1 - 0s - g_loss: 3.3465 - d_loss: 0.3597 - diff_with_real: 3.7533e-04 - noise: 3.7533e-04 - g_diversity: 0.1033\n",
      "Epoch 442/3000\n",
      "1/1 - 0s - g_loss: 3.3137 - d_loss: 0.3682 - diff_with_real: 3.7533e-04 - noise: 3.7533e-04 - g_diversity: 0.1035\n",
      "Epoch 443/3000\n",
      "1/1 - 0s - g_loss: 3.2388 - d_loss: 0.3545 - diff_with_real: 3.8784e-04 - noise: 3.7533e-04 - g_diversity: 0.1050\n",
      "Epoch 444/3000\n",
      "1/1 - 0s - g_loss: 3.4724 - d_loss: 0.3499 - diff_with_real: 3.7533e-04 - noise: 3.7533e-04 - g_diversity: 0.1056\n",
      "Epoch 445/3000\n",
      "1/1 - 0s - g_loss: 3.3393 - d_loss: 0.3428 - diff_with_real: 3.7533e-04 - noise: 3.7533e-04 - g_diversity: 0.1059\n",
      "Epoch 446/3000\n",
      "1/1 - 0s - g_loss: 3.2010 - d_loss: 0.3502 - diff_with_real: 3.7533e-04 - noise: 3.7533e-04 - g_diversity: 0.1061\n",
      "Epoch 447/3000\n",
      "1/1 - 0s - g_loss: 3.2163 - d_loss: 0.3534 - diff_with_real: 3.7533e-04 - noise: 3.7533e-04 - g_diversity: 0.1062\n",
      "Epoch 448/3000\n",
      "1/1 - 0s - g_loss: 3.3362 - d_loss: 0.3477 - diff_with_real: 3.7533e-04 - noise: 3.7533e-04 - g_diversity: 0.1070\n",
      "Epoch 449/3000\n",
      "1/1 - 0s - g_loss: 3.3206 - d_loss: 0.3471 - diff_with_real: 3.7533e-04 - noise: 3.7533e-04 - g_diversity: 0.1072\n",
      "Epoch 450/3000\n",
      "1/1 - 0s - g_loss: 3.2998 - d_loss: 0.3481 - diff_with_real: 3.7533e-04 - noise: 3.7533e-04 - g_diversity: 0.1074\n",
      "Epoch 451/3000\n"
     ]
    },
    {
     "data": {
      "image/png": "[encoded data removed]",
      "text/plain": [
       "<Figure size 432x288 with 2 Axes>"
      ]
     },
     "metadata": {
      "needs_background": "light"
     },
     "output_type": "display_data"
    },
    {
     "name": "stdout",
     "output_type": "stream",
     "text": [
      "1/1 - 0s - g_loss: 3.4913 - d_loss: 0.3450 - diff_with_real: 3.7533e-04 - noise: 3.7533e-04 - g_diversity: 0.1071\n",
      "Epoch 452/3000\n",
      "1/1 - 0s - g_loss: 3.5706 - d_loss: 0.3417 - diff_with_real: 3.7533e-04 - noise: 3.7533e-04 - g_diversity: 0.1079\n",
      "Epoch 453/3000\n",
      "1/1 - 0s - g_loss: 3.3158 - d_loss: 0.3395 - diff_with_real: 3.7533e-04 - noise: 3.7533e-04 - g_diversity: 0.1085\n",
      "Epoch 454/3000\n",
      "1/1 - 0s - g_loss: 3.3746 - d_loss: 0.3312 - diff_with_real: 3.7533e-04 - noise: 3.7533e-04 - g_diversity: 0.1091\n",
      "Epoch 455/3000\n",
      "1/1 - 0s - g_loss: 3.4042 - d_loss: 0.3375 - diff_with_real: 3.7533e-04 - noise: 3.7533e-04 - g_diversity: 0.1090\n",
      "Epoch 456/3000\n",
      "1/1 - 0s - g_loss: 3.3204 - d_loss: 0.3384 - diff_with_real: 3.7533e-04 - noise: 3.7533e-04 - g_diversity: 0.1095\n",
      "Epoch 457/3000\n",
      "1/1 - 0s - g_loss: 3.2468 - d_loss: 0.3323 - diff_with_real: 3.7533e-04 - noise: 3.7533e-04 - g_diversity: 0.1104\n",
      "Epoch 458/3000\n",
      "1/1 - 0s - g_loss: 3.3645 - d_loss: 0.3313 - diff_with_real: 3.7533e-04 - noise: 3.7533e-04 - g_diversity: 0.1107\n",
      "Epoch 459/3000\n",
      "1/1 - 0s - g_loss: 3.5911 - d_loss: 0.3320 - diff_with_real: 3.7533e-04 - noise: 3.7533e-04 - g_diversity: 0.1113\n",
      "Epoch 460/3000\n",
      "1/1 - 0s - g_loss: 3.5064 - d_loss: 0.3252 - diff_with_real: 3.7533e-04 - noise: 3.7533e-04 - g_diversity: 0.1122\n",
      "Epoch 461/3000\n",
      "1/1 - 0s - g_loss: 3.5998 - d_loss: 0.3284 - diff_with_real: 3.7533e-04 - noise: 3.7533e-04 - g_diversity: 0.1128\n",
      "Epoch 462/3000\n",
      "1/1 - 0s - g_loss: 3.5083 - d_loss: 0.3180 - diff_with_real: 3.7533e-04 - noise: 3.7533e-04 - g_diversity: 0.1135\n",
      "Epoch 463/3000\n",
      "1/1 - 0s - g_loss: 3.5166 - d_loss: 0.3198 - diff_with_real: 3.7533e-04 - noise: 3.7533e-04 - g_diversity: 0.1138\n",
      "Epoch 464/3000\n",
      "1/1 - 0s - g_loss: 3.4187 - d_loss: 0.3206 - diff_with_real: 3.7533e-04 - noise: 3.7533e-04 - g_diversity: 0.1141\n",
      "Epoch 465/3000\n",
      "1/1 - 0s - g_loss: 3.4672 - d_loss: 0.3151 - diff_with_real: 3.7533e-04 - noise: 3.7533e-04 - g_diversity: 0.1147\n",
      "Epoch 466/3000\n",
      "1/1 - 0s - g_loss: 3.4898 - d_loss: 0.3163 - diff_with_real: 3.7533e-04 - noise: 3.7533e-04 - g_diversity: 0.1143\n",
      "Epoch 467/3000\n",
      "1/1 - 0s - g_loss: 3.5691 - d_loss: 0.3157 - diff_with_real: 3.7533e-04 - noise: 3.7533e-04 - g_diversity: 0.1152\n",
      "Epoch 468/3000\n",
      "1/1 - 0s - g_loss: 3.5893 - d_loss: 0.3095 - diff_with_real: 3.7533e-04 - noise: 3.7533e-04 - g_diversity: 0.1155\n",
      "Epoch 469/3000\n",
      "1/1 - 0s - g_loss: 3.6568 - d_loss: 0.3128 - diff_with_real: 3.7533e-04 - noise: 3.7533e-04 - g_diversity: 0.1162\n",
      "Epoch 470/3000\n",
      "1/1 - 0s - g_loss: 3.6356 - d_loss: 0.3097 - diff_with_real: 3.7533e-04 - noise: 3.7533e-04 - g_diversity: 0.1163\n",
      "Epoch 471/3000\n",
      "1/1 - 0s - g_loss: 3.5668 - d_loss: 0.3117 - diff_with_real: 3.7533e-04 - noise: 3.7533e-04 - g_diversity: 0.1167\n",
      "Epoch 472/3000\n",
      "1/1 - 0s - g_loss: 3.6013 - d_loss: 0.3140 - diff_with_real: 3.7533e-04 - noise: 3.7533e-04 - g_diversity: 0.1170\n",
      "Epoch 473/3000\n",
      "1/1 - 0s - g_loss: 3.4946 - d_loss: 0.3083 - diff_with_real: 3.7533e-04 - noise: 3.7533e-04 - g_diversity: 0.1170\n",
      "Epoch 474/3000\n",
      "1/1 - 0s - g_loss: 3.6141 - d_loss: 0.3068 - diff_with_real: 3.7533e-04 - noise: 3.7533e-04 - g_diversity: 0.1172\n",
      "Epoch 475/3000\n",
      "1/1 - 0s - g_loss: 3.7498 - d_loss: 0.3087 - diff_with_real: 3.7533e-04 - noise: 3.7533e-04 - g_diversity: 0.1180\n",
      "Epoch 476/3000\n",
      "1/1 - 0s - g_loss: 3.4860 - d_loss: 0.3180 - diff_with_real: 3.7533e-04 - noise: 3.7533e-04 - g_diversity: 0.1181\n",
      "Epoch 477/3000\n",
      "1/1 - 0s - g_loss: 3.6763 - d_loss: 0.3167 - diff_with_real: 3.7533e-04 - noise: 3.7533e-04 - g_diversity: 0.1185\n",
      "Epoch 478/3000\n",
      "1/1 - 0s - g_loss: 3.8805 - d_loss: 0.3169 - diff_with_real: 3.7533e-04 - noise: 3.7533e-04 - g_diversity: 0.1184\n",
      "Epoch 479/3000\n",
      "1/1 - 0s - g_loss: 3.7335 - d_loss: 0.3067 - diff_with_real: 3.7533e-04 - noise: 3.7533e-04 - g_diversity: 0.1189\n",
      "Epoch 480/3000\n",
      "1/1 - 0s - g_loss: 3.4844 - d_loss: 0.3225 - diff_with_real: 3.7533e-04 - noise: 3.7533e-04 - g_diversity: 0.1192\n",
      "Epoch 481/3000\n",
      "1/1 - 0s - g_loss: 3.4431 - d_loss: 0.3147 - diff_with_real: 3.7533e-04 - noise: 3.7533e-04 - g_diversity: 0.1195\n",
      "Epoch 482/3000\n",
      "1/1 - 0s - g_loss: 3.6408 - d_loss: 0.3038 - diff_with_real: 3.7533e-04 - noise: 3.7533e-04 - g_diversity: 0.1199\n",
      "Epoch 483/3000\n",
      "1/1 - 0s - g_loss: 3.9914 - d_loss: 0.3134 - diff_with_real: 3.7533e-04 - noise: 3.7533e-04 - g_diversity: 0.1199\n",
      "Epoch 484/3000\n",
      "1/1 - 0s - g_loss: 3.7478 - d_loss: 0.3215 - diff_with_real: 3.7533e-04 - noise: 3.7533e-04 - g_diversity: 0.1203\n",
      "Epoch 485/3000\n",
      "1/1 - 0s - g_loss: 3.3375 - d_loss: 0.3270 - diff_with_real: 3.7533e-04 - noise: 3.7533e-04 - g_diversity: 0.1206\n",
      "Epoch 486/3000\n",
      "1/1 - 0s - g_loss: 3.6943 - d_loss: 0.3267 - diff_with_real: 3.7533e-04 - noise: 3.7533e-04 - g_diversity: 0.1208\n",
      "Epoch 487/3000\n",
      "1/1 - 0s - g_loss: 3.9392 - d_loss: 0.3109 - diff_with_real: 3.7533e-04 - noise: 3.7533e-04 - g_diversity: 0.1204\n",
      "Epoch 488/3000\n",
      "1/1 - 0s - g_loss: 3.6017 - d_loss: 0.3179 - diff_with_real: 3.7533e-04 - noise: 3.7533e-04 - g_diversity: 0.1206\n",
      "Epoch 489/3000\n",
      "1/1 - 0s - g_loss: 3.4688 - d_loss: 0.3271 - diff_with_real: 3.7533e-04 - noise: 3.7533e-04 - g_diversity: 0.1208\n",
      "Epoch 490/3000\n",
      "1/1 - 0s - g_loss: 3.6932 - d_loss: 0.3267 - diff_with_real: 3.7533e-04 - noise: 3.7533e-04 - g_diversity: 0.1211\n",
      "Epoch 491/3000\n",
      "1/1 - 0s - g_loss: 3.8989 - d_loss: 0.3147 - diff_with_real: 3.7533e-04 - noise: 3.7533e-04 - g_diversity: 0.1213\n",
      "Epoch 492/3000\n",
      "1/1 - 0s - g_loss: 3.8182 - d_loss: 0.3226 - diff_with_real: 3.7533e-04 - noise: 3.7533e-04 - g_diversity: 0.1214\n",
      "Epoch 493/3000\n",
      "1/1 - 0s - g_loss: 3.6966 - d_loss: 0.3084 - diff_with_real: 3.7533e-04 - noise: 3.7533e-04 - g_diversity: 0.1215\n",
      "Epoch 494/3000\n",
      "1/1 - 0s - g_loss: 3.7349 - d_loss: 0.2984 - diff_with_real: 3.7533e-04 - noise: 3.7533e-04 - g_diversity: 0.1210\n",
      "Epoch 495/3000\n",
      "1/1 - 0s - g_loss: 3.9293 - d_loss: 0.3136 - diff_with_real: 3.7533e-04 - noise: 3.7533e-04 - g_diversity: 0.1210\n",
      "Epoch 496/3000\n",
      "1/1 - 0s - g_loss: 3.6596 - d_loss: 0.2912 - diff_with_real: 3.7533e-04 - noise: 3.7533e-04 - g_diversity: 0.1209\n",
      "Epoch 497/3000\n",
      "1/1 - 0s - g_loss: 3.5391 - d_loss: 0.2988 - diff_with_real: 3.7533e-04 - noise: 3.7533e-04 - g_diversity: 0.1208\n",
      "Epoch 498/3000\n",
      "1/1 - 0s - g_loss: 3.8987 - d_loss: 0.3043 - diff_with_real: 3.7533e-04 - noise: 3.7533e-04 - g_diversity: 0.1210\n",
      "Epoch 499/3000\n",
      "1/1 - 0s - g_loss: 4.1619 - d_loss: 0.2941 - diff_with_real: 3.7533e-04 - noise: 3.7533e-04 - g_diversity: 0.1213\n",
      "Epoch 500/3000\n",
      "1/1 - 0s - g_loss: 3.9238 - d_loss: 0.3053 - diff_with_real: 3.8784e-04 - noise: 3.7533e-04 - g_diversity: 0.1211\n",
      "Epoch 501/3000\n"
     ]
    },
    {
     "data": {
      "image/png": "[encoded data removed]",
      "text/plain": [
       "<Figure size 432x288 with 2 Axes>"
      ]
     },
     "metadata": {
      "needs_background": "light"
     },
     "output_type": "display_data"
    },
    {
     "name": "stdout",
     "output_type": "stream",
     "text": [
      "1/1 - 0s - g_loss: 3.7870 - d_loss: 0.3117 - diff_with_real: 3.7533e-04 - noise: 3.7533e-04 - g_diversity: 0.1207\n",
      "Epoch 502/3000\n",
      "1/1 - 0s - g_loss: 3.6731 - d_loss: 0.2910 - diff_with_real: 3.7533e-04 - noise: 3.7533e-04 - g_diversity: 0.1211\n",
      "Epoch 503/3000\n",
      "1/1 - 0s - g_loss: 3.8610 - d_loss: 0.3011 - diff_with_real: 3.7533e-04 - noise: 3.7533e-04 - g_diversity: 0.1212\n",
      "Epoch 504/3000\n",
      "1/1 - 0s - g_loss: 4.0255 - d_loss: 0.2801 - diff_with_real: 3.7533e-04 - noise: 3.7533e-04 - g_diversity: 0.1207\n",
      "Epoch 505/3000\n",
      "1/1 - 0s - g_loss: 4.0864 - d_loss: 0.2935 - diff_with_real: 3.7533e-04 - noise: 3.7533e-04 - g_diversity: 0.1211\n",
      "Epoch 506/3000\n",
      "1/1 - 0s - g_loss: 4.0867 - d_loss: 0.2842 - diff_with_real: 3.7533e-04 - noise: 3.7533e-04 - g_diversity: 0.1207\n",
      "Epoch 507/3000\n",
      "1/1 - 0s - g_loss: 3.8508 - d_loss: 0.2886 - diff_with_real: 3.7533e-04 - noise: 3.7533e-04 - g_diversity: 0.1205\n",
      "Epoch 508/3000\n",
      "1/1 - 0s - g_loss: 3.9683 - d_loss: 0.2843 - diff_with_real: 3.7533e-04 - noise: 3.7533e-04 - g_diversity: 0.1200\n",
      "Epoch 509/3000\n",
      "1/1 - 0s - g_loss: 4.2709 - d_loss: 0.2804 - diff_with_real: 3.7533e-04 - noise: 3.7533e-04 - g_diversity: 0.1200\n",
      "Epoch 510/3000\n",
      "1/1 - 0s - g_loss: 4.0073 - d_loss: 0.2794 - diff_with_real: 3.7533e-04 - noise: 3.7533e-04 - g_diversity: 0.1196\n",
      "Epoch 511/3000\n",
      "1/1 - 0s - g_loss: 3.9838 - d_loss: 0.2882 - diff_with_real: 3.7533e-04 - noise: 3.7533e-04 - g_diversity: 0.1190\n",
      "Epoch 512/3000\n",
      "1/1 - 0s - g_loss: 4.0793 - d_loss: 0.2707 - diff_with_real: 3.7533e-04 - noise: 3.7533e-04 - g_diversity: 0.1195\n",
      "Epoch 513/3000\n",
      "1/1 - 0s - g_loss: 4.1416 - d_loss: 0.2891 - diff_with_real: 3.7533e-04 - noise: 3.7533e-04 - g_diversity: 0.1188\n",
      "Epoch 514/3000\n",
      "1/1 - 0s - g_loss: 3.8789 - d_loss: 0.2829 - diff_with_real: 3.7533e-04 - noise: 3.7533e-04 - g_diversity: 0.1187\n",
      "Epoch 515/3000\n",
      "1/1 - 0s - g_loss: 4.0139 - d_loss: 0.2810 - diff_with_real: 3.7533e-04 - noise: 3.7533e-04 - g_diversity: 0.1188\n",
      "Epoch 516/3000\n",
      "1/1 - 0s - g_loss: 4.4870 - d_loss: 0.2800 - diff_with_real: 3.7533e-04 - noise: 3.7533e-04 - g_diversity: 0.1183\n",
      "Epoch 517/3000\n",
      "1/1 - 0s - g_loss: 4.0686 - d_loss: 0.2703 - diff_with_real: 3.7533e-04 - noise: 3.7533e-04 - g_diversity: 0.1182\n",
      "Epoch 518/3000\n",
      "1/1 - 0s - g_loss: 3.7634 - d_loss: 0.2848 - diff_with_real: 3.7533e-04 - noise: 3.7533e-04 - g_diversity: 0.1179\n",
      "Epoch 519/3000\n",
      "1/1 - 0s - g_loss: 4.0683 - d_loss: 0.2803 - diff_with_real: 3.7533e-04 - noise: 3.7533e-04 - g_diversity: 0.1178\n",
      "Epoch 520/3000\n",
      "1/1 - 0s - g_loss: 4.3077 - d_loss: 0.2632 - diff_with_real: 3.7533e-04 - noise: 3.7533e-04 - g_diversity: 0.1173\n",
      "Epoch 521/3000\n",
      "1/1 - 0s - g_loss: 4.3294 - d_loss: 0.2733 - diff_with_real: 3.7533e-04 - noise: 3.7533e-04 - g_diversity: 0.1173\n",
      "Epoch 522/3000\n",
      "1/1 - 0s - g_loss: 4.1990 - d_loss: 0.2718 - diff_with_real: 3.7533e-04 - noise: 3.7533e-04 - g_diversity: 0.1166\n",
      "Epoch 523/3000\n",
      "1/1 - 0s - g_loss: 4.2081 - d_loss: 0.2606 - diff_with_real: 3.7533e-04 - noise: 3.7533e-04 - g_diversity: 0.1168\n",
      "Epoch 524/3000\n",
      "1/1 - 0s - g_loss: 4.2184 - d_loss: 0.2683 - diff_with_real: 3.7533e-04 - noise: 3.7533e-04 - g_diversity: 0.1160\n",
      "Epoch 525/3000\n",
      "1/1 - 0s - g_loss: 4.1232 - d_loss: 0.2776 - diff_with_real: 3.7533e-04 - noise: 3.7533e-04 - g_diversity: 0.1163\n",
      "Epoch 526/3000\n",
      "1/1 - 0s - g_loss: 4.0524 - d_loss: 0.2675 - diff_with_real: 3.7533e-04 - noise: 3.7533e-04 - g_diversity: 0.1156\n",
      "Epoch 527/3000\n",
      "1/1 - 0s - g_loss: 4.5018 - d_loss: 0.2758 - diff_with_real: 3.7533e-04 - noise: 3.7533e-04 - g_diversity: 0.1150\n",
      "Epoch 528/3000\n",
      "1/1 - 0s - g_loss: 4.5197 - d_loss: 0.2803 - diff_with_real: 3.7533e-04 - noise: 3.7533e-04 - g_diversity: 0.1156\n",
      "Epoch 529/3000\n",
      "1/1 - 0s - g_loss: 4.0595 - d_loss: 0.2660 - diff_with_real: 3.7533e-04 - noise: 3.7533e-04 - g_diversity: 0.1153\n",
      "Epoch 530/3000\n",
      "1/1 - 0s - g_loss: 3.9330 - d_loss: 0.2827 - diff_with_real: 3.7533e-04 - noise: 3.7533e-04 - g_diversity: 0.1144\n",
      "Epoch 531/3000\n",
      "1/1 - 0s - g_loss: 4.2328 - d_loss: 0.2608 - diff_with_real: 3.7533e-04 - noise: 3.7533e-04 - g_diversity: 0.1135\n",
      "Epoch 532/3000\n",
      "1/1 - 0s - g_loss: 4.4344 - d_loss: 0.2546 - diff_with_real: 3.7533e-04 - noise: 3.7533e-04 - g_diversity: 0.1140\n",
      "Epoch 533/3000\n",
      "1/1 - 0s - g_loss: 4.3962 - d_loss: 0.2673 - diff_with_real: 3.7533e-04 - noise: 3.7533e-04 - g_diversity: 0.1132\n",
      "Epoch 534/3000\n",
      "1/1 - 0s - g_loss: 4.2937 - d_loss: 0.2658 - diff_with_real: 3.7533e-04 - noise: 3.7533e-04 - g_diversity: 0.1130\n",
      "Epoch 535/3000\n",
      "1/1 - 0s - g_loss: 4.2558 - d_loss: 0.2634 - diff_with_real: 3.7533e-04 - noise: 3.7533e-04 - g_diversity: 0.1127\n",
      "Epoch 536/3000\n",
      "1/1 - 0s - g_loss: 4.3899 - d_loss: 0.2522 - diff_with_real: 3.7533e-04 - noise: 3.7533e-04 - g_diversity: 0.1121\n",
      "Epoch 537/3000\n",
      "1/1 - 0s - g_loss: 4.6003 - d_loss: 0.2685 - diff_with_real: 3.7533e-04 - noise: 3.7533e-04 - g_diversity: 0.1115\n",
      "Epoch 538/3000\n",
      "1/1 - 0s - g_loss: 4.3056 - d_loss: 0.2466 - diff_with_real: 3.7533e-04 - noise: 3.7533e-04 - g_diversity: 0.1110\n",
      "Epoch 539/3000\n",
      "1/1 - 0s - g_loss: 4.2724 - d_loss: 0.2523 - diff_with_real: 3.7533e-04 - noise: 3.7533e-04 - g_diversity: 0.1105\n",
      "Epoch 540/3000\n",
      "1/1 - 0s - g_loss: 4.3449 - d_loss: 0.2475 - diff_with_real: 3.7533e-04 - noise: 3.7533e-04 - g_diversity: 0.1102\n",
      "Epoch 541/3000\n",
      "1/1 - 0s - g_loss: 4.5495 - d_loss: 0.2404 - diff_with_real: 3.7533e-04 - noise: 3.7533e-04 - g_diversity: 0.1104\n",
      "Epoch 542/3000\n",
      "1/1 - 0s - g_loss: 4.5844 - d_loss: 0.2509 - diff_with_real: 3.7533e-04 - noise: 3.7533e-04 - g_diversity: 0.1101\n",
      "Epoch 543/3000\n",
      "1/1 - 0s - g_loss: 4.3934 - d_loss: 0.2540 - diff_with_real: 3.7533e-04 - noise: 3.7533e-04 - g_diversity: 0.1095\n",
      "Epoch 544/3000\n",
      "1/1 - 0s - g_loss: 4.4109 - d_loss: 0.2504 - diff_with_real: 3.7533e-04 - noise: 3.7533e-04 - g_diversity: 0.1092\n",
      "Epoch 545/3000\n",
      "1/1 - 0s - g_loss: 4.7269 - d_loss: 0.2563 - diff_with_real: 3.7533e-04 - noise: 3.7533e-04 - g_diversity: 0.1085\n",
      "Epoch 546/3000\n",
      "1/1 - 0s - g_loss: 4.5995 - d_loss: 0.2527 - diff_with_real: 3.7533e-04 - noise: 3.7533e-04 - g_diversity: 0.1075\n",
      "Epoch 547/3000\n",
      "1/1 - 0s - g_loss: 4.1859 - d_loss: 0.2640 - diff_with_real: 3.7533e-04 - noise: 3.7533e-04 - g_diversity: 0.1074\n",
      "Epoch 548/3000\n",
      "1/1 - 0s - g_loss: 4.1545 - d_loss: 0.2632 - diff_with_real: 3.7533e-04 - noise: 3.7533e-04 - g_diversity: 0.1074\n",
      "Epoch 549/3000\n",
      "1/1 - 0s - g_loss: 4.2977 - d_loss: 0.2525 - diff_with_real: 3.8784e-04 - noise: 3.7533e-04 - g_diversity: 0.1066\n",
      "Epoch 550/3000\n",
      "1/1 - 0s - g_loss: 4.7702 - d_loss: 0.2499 - diff_with_real: 3.7533e-04 - noise: 3.7533e-04 - g_diversity: 0.1060\n",
      "Epoch 551/3000\n"
     ]
    },
    {
     "data": {
      "image/png": "[encoded data removed]",
      "text/plain": [
       "<Figure size 432x288 with 2 Axes>"
      ]
     },
     "metadata": {
      "needs_background": "light"
     },
     "output_type": "display_data"
    },
    {
     "name": "stdout",
     "output_type": "stream",
     "text": [
      "1/1 - 0s - g_loss: 4.6652 - d_loss: 0.2526 - diff_with_real: 3.7533e-04 - noise: 3.7533e-04 - g_diversity: 0.1058\n",
      "Epoch 552/3000\n",
      "1/1 - 0s - g_loss: 4.2296 - d_loss: 0.2700 - diff_with_real: 3.7533e-04 - noise: 3.7533e-04 - g_diversity: 0.1052\n",
      "Epoch 553/3000\n",
      "1/1 - 0s - g_loss: 4.2531 - d_loss: 0.2631 - diff_with_real: 3.7533e-04 - noise: 3.7533e-04 - g_diversity: 0.1051\n",
      "Epoch 554/3000\n",
      "1/1 - 0s - g_loss: 4.6507 - d_loss: 0.2537 - diff_with_real: 3.7533e-04 - noise: 3.7533e-04 - g_diversity: 0.1047\n",
      "Epoch 555/3000\n",
      "1/1 - 0s - g_loss: 4.6994 - d_loss: 0.2595 - diff_with_real: 3.7533e-04 - noise: 3.7533e-04 - g_diversity: 0.1046\n",
      "Epoch 556/3000\n",
      "1/1 - 0s - g_loss: 4.4360 - d_loss: 0.2665 - diff_with_real: 3.7533e-04 - noise: 3.7533e-04 - g_diversity: 0.1039\n",
      "Epoch 557/3000\n",
      "1/1 - 0s - g_loss: 4.2503 - d_loss: 0.2553 - diff_with_real: 3.7533e-04 - noise: 3.7533e-04 - g_diversity: 0.1033\n",
      "Epoch 558/3000\n",
      "1/1 - 0s - g_loss: 4.4905 - d_loss: 0.2653 - diff_with_real: 3.7533e-04 - noise: 3.7533e-04 - g_diversity: 0.1031\n",
      "Epoch 559/3000\n",
      "1/1 - 0s - g_loss: 4.7313 - d_loss: 0.2595 - diff_with_real: 3.7533e-04 - noise: 3.7533e-04 - g_diversity: 0.1030\n",
      "Epoch 560/3000\n",
      "1/1 - 0s - g_loss: 4.3807 - d_loss: 0.2410 - diff_with_real: 3.7533e-04 - noise: 3.7533e-04 - g_diversity: 0.1028\n",
      "Epoch 561/3000\n",
      "1/1 - 0s - g_loss: 4.5494 - d_loss: 0.2550 - diff_with_real: 3.7533e-04 - noise: 3.7533e-04 - g_diversity: 0.1023\n",
      "Epoch 562/3000\n",
      "1/1 - 0s - g_loss: 4.6041 - d_loss: 0.2672 - diff_with_real: 3.7533e-04 - noise: 3.7533e-04 - g_diversity: 0.1016\n",
      "Epoch 563/3000\n",
      "1/1 - 0s - g_loss: 4.4076 - d_loss: 0.2653 - diff_with_real: 3.7533e-04 - noise: 3.7533e-04 - g_diversity: 0.1014\n",
      "Epoch 564/3000\n",
      "1/1 - 0s - g_loss: 4.3755 - d_loss: 0.2600 - diff_with_real: 3.7533e-04 - noise: 3.7533e-04 - g_diversity: 0.1008\n",
      "Epoch 565/3000\n",
      "1/1 - 0s - g_loss: 4.6200 - d_loss: 0.2394 - diff_with_real: 3.7533e-04 - noise: 3.7533e-04 - g_diversity: 0.1006\n",
      "Epoch 566/3000\n",
      "1/1 - 0s - g_loss: 4.7410 - d_loss: 0.2378 - diff_with_real: 3.7533e-04 - noise: 3.7533e-04 - g_diversity: 0.0996\n",
      "Epoch 567/3000\n",
      "1/1 - 0s - g_loss: 4.6520 - d_loss: 0.2461 - diff_with_real: 3.7533e-04 - noise: 3.7533e-04 - g_diversity: 0.0985\n",
      "Epoch 568/3000\n",
      "1/1 - 0s - g_loss: 4.8532 - d_loss: 0.2490 - diff_with_real: 3.7533e-04 - noise: 3.7533e-04 - g_diversity: 0.0994\n",
      "Epoch 569/3000\n",
      "1/1 - 0s - g_loss: 4.9745 - d_loss: 0.2370 - diff_with_real: 3.7533e-04 - noise: 3.7533e-04 - g_diversity: 0.0991\n",
      "Epoch 570/3000\n",
      "1/1 - 0s - g_loss: 4.3712 - d_loss: 0.2430 - diff_with_real: 3.7533e-04 - noise: 3.7533e-04 - g_diversity: 0.0994\n",
      "Epoch 571/3000\n",
      "1/1 - 0s - g_loss: 4.6084 - d_loss: 0.2390 - diff_with_real: 3.7533e-04 - noise: 3.7533e-04 - g_diversity: 0.1001\n",
      "Epoch 572/3000\n",
      "1/1 - 0s - g_loss: 4.7201 - d_loss: 0.2422 - diff_with_real: 3.7533e-04 - noise: 3.7533e-04 - g_diversity: 0.0993\n",
      "Epoch 573/3000\n",
      "1/1 - 0s - g_loss: 4.7093 - d_loss: 0.2362 - diff_with_real: 3.7533e-04 - noise: 3.7533e-04 - g_diversity: 0.0989\n",
      "Epoch 574/3000\n",
      "1/1 - 0s - g_loss: 4.5692 - d_loss: 0.2464 - diff_with_real: 3.7533e-04 - noise: 3.7533e-04 - g_diversity: 0.0984\n",
      "Epoch 575/3000\n",
      "1/1 - 0s - g_loss: 4.6687 - d_loss: 0.2416 - diff_with_real: 3.7533e-04 - noise: 3.7533e-04 - g_diversity: 0.0972\n",
      "Epoch 576/3000\n",
      "1/1 - 0s - g_loss: 4.8880 - d_loss: 0.2486 - diff_with_real: 3.7533e-04 - noise: 3.7533e-04 - g_diversity: 0.0969\n",
      "Epoch 577/3000\n",
      "1/1 - 0s - g_loss: 4.8917 - d_loss: 0.2334 - diff_with_real: 3.7533e-04 - noise: 3.7533e-04 - g_diversity: 0.0958\n",
      "Epoch 578/3000\n",
      "1/1 - 0s - g_loss: 4.9027 - d_loss: 0.2867 - diff_with_real: 3.7533e-04 - noise: 3.7533e-04 - g_diversity: 0.0964\n",
      "Epoch 579/3000\n",
      "1/1 - 0s - g_loss: 4.1902 - d_loss: 0.2620 - diff_with_real: 3.7533e-04 - noise: 3.7533e-04 - g_diversity: 0.0960\n",
      "Epoch 580/3000\n",
      "1/1 - 0s - g_loss: 4.2999 - d_loss: 0.2619 - diff_with_real: 3.7533e-04 - noise: 3.7533e-04 - g_diversity: 0.0960\n",
      "Epoch 581/3000\n",
      "1/1 - 0s - g_loss: 4.9298 - d_loss: 0.2669 - diff_with_real: 3.7533e-04 - noise: 3.7533e-04 - g_diversity: 0.0966\n",
      "Epoch 582/3000\n",
      "1/1 - 0s - g_loss: 4.7447 - d_loss: 0.2571 - diff_with_real: 3.7533e-04 - noise: 3.7533e-04 - g_diversity: 0.0962\n",
      "Epoch 583/3000\n",
      "1/1 - 0s - g_loss: 4.3290 - d_loss: 0.2633 - diff_with_real: 3.7533e-04 - noise: 3.7533e-04 - g_diversity: 0.0959\n",
      "Epoch 584/3000\n",
      "1/1 - 0s - g_loss: 4.5947 - d_loss: 0.2587 - diff_with_real: 3.7533e-04 - noise: 3.7533e-04 - g_diversity: 0.0951\n",
      "Epoch 585/3000\n",
      "1/1 - 0s - g_loss: 4.6402 - d_loss: 0.2338 - diff_with_real: 3.7533e-04 - noise: 3.7533e-04 - g_diversity: 0.0948\n",
      "Epoch 586/3000\n",
      "1/1 - 0s - g_loss: 4.8457 - d_loss: 0.2467 - diff_with_real: 3.7533e-04 - noise: 3.7533e-04 - g_diversity: 0.0948\n",
      "Epoch 587/3000\n",
      "1/1 - 0s - g_loss: 4.9971 - d_loss: 0.2635 - diff_with_real: 3.7533e-04 - noise: 3.7533e-04 - g_diversity: 0.0952\n",
      "Epoch 588/3000\n",
      "1/1 - 0s - g_loss: 4.5249 - d_loss: 0.2487 - diff_with_real: 3.7533e-04 - noise: 3.7533e-04 - g_diversity: 0.0944\n",
      "Epoch 589/3000\n",
      "1/1 - 0s - g_loss: 4.3882 - d_loss: 0.2481 - diff_with_real: 3.7533e-04 - noise: 3.7533e-04 - g_diversity: 0.0951\n",
      "Epoch 590/3000\n",
      "1/1 - 0s - g_loss: 4.9051 - d_loss: 0.2557 - diff_with_real: 3.7533e-04 - noise: 3.7533e-04 - g_diversity: 0.0941\n",
      "Epoch 591/3000\n",
      "1/1 - 0s - g_loss: 5.0989 - d_loss: 0.2276 - diff_with_real: 3.7533e-04 - noise: 3.7533e-04 - g_diversity: 0.0944\n",
      "Epoch 592/3000\n",
      "1/1 - 0s - g_loss: 5.1119 - d_loss: 0.2288 - diff_with_real: 3.7533e-04 - noise: 3.7533e-04 - g_diversity: 0.0941\n",
      "Epoch 593/3000\n",
      "1/1 - 0s - g_loss: 4.8393 - d_loss: 0.2334 - diff_with_real: 3.7533e-04 - noise: 3.7533e-04 - g_diversity: 0.0942\n",
      "Epoch 594/3000\n",
      "1/1 - 0s - g_loss: 4.7958 - d_loss: 0.2231 - diff_with_real: 3.7533e-04 - noise: 3.7533e-04 - g_diversity: 0.0942\n",
      "Epoch 595/3000\n",
      "1/1 - 0s - g_loss: 5.1305 - d_loss: 0.2298 - diff_with_real: 3.7533e-04 - noise: 3.7533e-04 - g_diversity: 0.0935\n",
      "Epoch 596/3000\n",
      "1/1 - 0s - g_loss: 4.8800 - d_loss: 0.2179 - diff_with_real: 3.7533e-04 - noise: 3.7533e-04 - g_diversity: 0.0933\n",
      "Epoch 597/3000\n",
      "1/1 - 0s - g_loss: 4.6555 - d_loss: 0.2308 - diff_with_real: 3.7533e-04 - noise: 3.7533e-04 - g_diversity: 0.0935\n",
      "Epoch 598/3000\n",
      "1/1 - 0s - g_loss: 5.0474 - d_loss: 0.2227 - diff_with_real: 3.7533e-04 - noise: 3.7533e-04 - g_diversity: 0.0932\n",
      "Epoch 599/3000\n",
      "1/1 - 0s - g_loss: 5.1522 - d_loss: 0.2230 - diff_with_real: 3.7533e-04 - noise: 3.7533e-04 - g_diversity: 0.0930\n",
      "Epoch 600/3000\n",
      "1/1 - 0s - g_loss: 5.1367 - d_loss: 0.2185 - diff_with_real: 3.7533e-04 - noise: 3.7533e-04 - g_diversity: 0.0939\n",
      "Epoch 601/3000\n"
     ]
    },
    {
     "data": {
      "image/png": "[encoded data removed]",
      "text/plain": [
       "<Figure size 432x288 with 2 Axes>"
      ]
     },
     "metadata": {
      "needs_background": "light"
     },
     "output_type": "display_data"
    },
    {
     "name": "stdout",
     "output_type": "stream",
     "text": [
      "1/1 - 0s - g_loss: 4.9480 - d_loss: 0.2154 - diff_with_real: 3.7533e-04 - noise: 3.7533e-04 - g_diversity: 0.0928\n",
      "Epoch 602/3000\n",
      "1/1 - 0s - g_loss: 4.9063 - d_loss: 0.2207 - diff_with_real: 3.7533e-04 - noise: 3.7533e-04 - g_diversity: 0.0931\n",
      "Epoch 603/3000\n",
      "1/1 - 0s - g_loss: 5.0488 - d_loss: 0.2124 - diff_with_real: 3.7533e-04 - noise: 3.7533e-04 - g_diversity: 0.0928\n",
      "Epoch 604/3000\n",
      "1/1 - 0s - g_loss: 5.2940 - d_loss: 0.2012 - diff_with_real: 3.7533e-04 - noise: 3.7533e-04 - g_diversity: 0.0926\n",
      "Epoch 605/3000\n",
      "1/1 - 0s - g_loss: 5.2369 - d_loss: 0.2220 - diff_with_real: 3.7533e-04 - noise: 3.7533e-04 - g_diversity: 0.0918\n",
      "Epoch 606/3000\n",
      "1/1 - 0s - g_loss: 5.0018 - d_loss: 0.2229 - diff_with_real: 3.7533e-04 - noise: 3.7533e-04 - g_diversity: 0.0921\n",
      "Epoch 607/3000\n",
      "1/1 - 0s - g_loss: 5.0103 - d_loss: 0.2092 - diff_with_real: 3.7533e-04 - noise: 3.7533e-04 - g_diversity: 0.0920\n",
      "Epoch 608/3000\n",
      "1/1 - 0s - g_loss: 5.4238 - d_loss: 0.2290 - diff_with_real: 3.7533e-04 - noise: 3.7533e-04 - g_diversity: 0.0927\n",
      "Epoch 609/3000\n",
      "1/1 - 0s - g_loss: 4.9185 - d_loss: 0.2127 - diff_with_real: 3.7533e-04 - noise: 3.7533e-04 - g_diversity: 0.0917\n",
      "Epoch 610/3000\n",
      "1/1 - 0s - g_loss: 4.7654 - d_loss: 0.2212 - diff_with_real: 3.7533e-04 - noise: 3.7533e-04 - g_diversity: 0.0921\n",
      "Epoch 611/3000\n",
      "1/1 - 0s - g_loss: 5.1656 - d_loss: 0.2118 - diff_with_real: 3.7533e-04 - noise: 3.7533e-04 - g_diversity: 0.0916\n",
      "Epoch 612/3000\n",
      "1/1 - 0s - g_loss: 5.4779 - d_loss: 0.2149 - diff_with_real: 3.7533e-04 - noise: 3.7533e-04 - g_diversity: 0.0921\n",
      "Epoch 613/3000\n",
      "1/1 - 0s - g_loss: 5.0734 - d_loss: 0.2129 - diff_with_real: 3.7533e-04 - noise: 3.7533e-04 - g_diversity: 0.0922\n",
      "Epoch 614/3000\n",
      "1/1 - 0s - g_loss: 4.6497 - d_loss: 0.2372 - diff_with_real: 3.7533e-04 - noise: 3.7533e-04 - g_diversity: 0.0913\n",
      "Epoch 615/3000\n",
      "1/1 - 0s - g_loss: 5.0149 - d_loss: 0.2122 - diff_with_real: 3.7533e-04 - noise: 3.7533e-04 - g_diversity: 0.0909\n",
      "Epoch 616/3000\n",
      "1/1 - 0s - g_loss: 5.6406 - d_loss: 0.2448 - diff_with_real: 3.7533e-04 - noise: 3.7533e-04 - g_diversity: 0.0911\n",
      "Epoch 617/3000\n",
      "1/1 - 0s - g_loss: 4.6228 - d_loss: 0.2522 - diff_with_real: 3.7533e-04 - noise: 3.7533e-04 - g_diversity: 0.0910\n",
      "Epoch 618/3000\n",
      "1/1 - 0s - g_loss: 4.5396 - d_loss: 0.2810 - diff_with_real: 3.7533e-04 - noise: 3.7533e-04 - g_diversity: 0.0909\n",
      "Epoch 619/3000\n",
      "1/1 - 0s - g_loss: 5.0216 - d_loss: 0.2806 - diff_with_real: 3.7533e-04 - noise: 3.7533e-04 - g_diversity: 0.0910\n",
      "Epoch 620/3000\n",
      "1/1 - 0s - g_loss: 5.3373 - d_loss: 0.2440 - diff_with_real: 3.7533e-04 - noise: 3.7533e-04 - g_diversity: 0.0911\n",
      "Epoch 621/3000\n",
      "1/1 - 0s - g_loss: 4.8571 - d_loss: 0.2353 - diff_with_real: 3.7533e-04 - noise: 3.7533e-04 - g_diversity: 0.0922\n",
      "Epoch 622/3000\n",
      "1/1 - 0s - g_loss: 4.8841 - d_loss: 0.2573 - diff_with_real: 3.7533e-04 - noise: 3.7533e-04 - g_diversity: 0.0921\n",
      "Epoch 623/3000\n",
      "1/1 - 0s - g_loss: 5.1083 - d_loss: 0.2928 - diff_with_real: 3.7533e-04 - noise: 3.7533e-04 - g_diversity: 0.0919\n",
      "Epoch 624/3000\n",
      "1/1 - 0s - g_loss: 4.5802 - d_loss: 0.2708 - diff_with_real: 3.7533e-04 - noise: 3.7533e-04 - g_diversity: 0.0916\n",
      "Epoch 625/3000\n",
      "1/1 - 0s - g_loss: 4.6182 - d_loss: 0.2757 - diff_with_real: 3.7533e-04 - noise: 3.7533e-04 - g_diversity: 0.0899\n",
      "Epoch 626/3000\n",
      "1/1 - 0s - g_loss: 4.8296 - d_loss: 0.2921 - diff_with_real: 3.7533e-04 - noise: 3.7533e-04 - g_diversity: 0.0889\n",
      "Epoch 627/3000\n",
      "1/1 - 0s - g_loss: 4.9293 - d_loss: 0.2485 - diff_with_real: 3.7533e-04 - noise: 3.7533e-04 - g_diversity: 0.0871\n",
      "Epoch 628/3000\n",
      "1/1 - 0s - g_loss: 5.1020 - d_loss: 0.2582 - diff_with_real: 3.7533e-04 - noise: 3.7533e-04 - g_diversity: 0.0873\n",
      "Epoch 629/3000\n",
      "1/1 - 0s - g_loss: 4.6951 - d_loss: 0.2548 - diff_with_real: 3.7533e-04 - noise: 3.7533e-04 - g_diversity: 0.0879\n",
      "Epoch 630/3000\n",
      "1/1 - 0s - g_loss: 4.9661 - d_loss: 0.2298 - diff_with_real: 3.7533e-04 - noise: 3.7533e-04 - g_diversity: 0.0880\n",
      "Epoch 631/3000\n",
      "1/1 - 0s - g_loss: 5.8439 - d_loss: 0.3013 - diff_with_real: 3.7533e-04 - noise: 3.7533e-04 - g_diversity: 0.0890\n",
      "Epoch 632/3000\n",
      "1/1 - 0s - g_loss: 3.9524 - d_loss: 0.3183 - diff_with_real: 3.7533e-04 - noise: 3.7533e-04 - g_diversity: 0.0897\n",
      "Epoch 633/3000\n",
      "1/1 - 0s - g_loss: 3.9481 - d_loss: 0.3480 - diff_with_real: 3.7533e-04 - noise: 3.7533e-04 - g_diversity: 0.0904\n",
      "Epoch 634/3000\n",
      "1/1 - 0s - g_loss: 5.0449 - d_loss: 0.3593 - diff_with_real: 3.7533e-04 - noise: 3.7533e-04 - g_diversity: 0.0907\n",
      "Epoch 635/3000\n",
      "1/1 - 0s - g_loss: 5.1314 - d_loss: 0.3313 - diff_with_real: 3.7533e-04 - noise: 3.7533e-04 - g_diversity: 0.0922\n",
      "Epoch 636/3000\n",
      "1/1 - 0s - g_loss: 4.3987 - d_loss: 0.2662 - diff_with_real: 3.7533e-04 - noise: 3.7533e-04 - g_diversity: 0.0930\n",
      "Epoch 637/3000\n",
      "1/1 - 0s - g_loss: 4.7652 - d_loss: 0.2761 - diff_with_real: 3.7533e-04 - noise: 3.7533e-04 - g_diversity: 0.0918\n",
      "Epoch 638/3000\n",
      "1/1 - 0s - g_loss: 5.4158 - d_loss: 0.3613 - diff_with_real: 3.7533e-04 - noise: 3.7533e-04 - g_diversity: 0.0904\n",
      "Epoch 639/3000\n",
      "1/1 - 0s - g_loss: 4.0115 - d_loss: 0.3265 - diff_with_real: 3.7533e-04 - noise: 3.7533e-04 - g_diversity: 0.0879\n"
     ]
    }
   ],
   "source": [
    "#!g2.mig\n",
    "%matplotlib inline\n",
    "\n",
    "# Данные в генератор и дискриминатор передавать как stft * linear_to_mel_weight_matrix\n",
    "# Для эквалайзера использовать updated_linear_to_mel_weight_matrix\n",
    "\n",
    "# stft shape (7994, 1025, 41)\n",
    "# bands shape (7994, 10, 41)\n",
    "@register(\"model\")\n",
    "@inject(\"bands\", \"keras\", \"tf\", \"plt\", log=True)\n",
    "def getModel():\n",
    "    # bands -> eq_coeffs\n",
    "    generator =  tf.keras.Sequential([\n",
    "#         Input((10, 41)),\n",
    "        Input((2, 10, 1)),\n",
    "        Flatten(),\n",
    "#         Dense(50, activation=\"relu\"),\n",
    "#         Dense(820, activation=\"tanh\"),\n",
    "#         Dense(50, activation=\"tanh\"),\n",
    "#         Dense(50, activation=\"tanh\"),\n",
    "        \n",
    "        Dense(20, activation=\"tanh\"),\n",
    "        Dense(20, activation=\"tanh\"),\n",
    "\n",
    "        Dense(10, activation=\"sigmoid\")\n",
    "    ])\n",
    "    \n",
    "    # bands -> false/true\n",
    "    discriminator = tf.keras.Sequential([\n",
    "#         Input((10, 41)),\n",
    "        Input((2, 10, 1)),\n",
    "        Flatten(),\n",
    "#         Dense(820, activation=\"tanh\"),\n",
    "#         Dense(50, activation=\"tanh\"),\n",
    "        Dense(20, activation=\"relu\"),\n",
    "        Dense(20, activation=\"relu\"),\n",
    "        \n",
    "#         Dense(50, activation=\"tanh\"),\n",
    "        \n",
    "        Dense(1)\n",
    "    ])\n",
    "    \n",
    "    \n",
    "    BATCH_SIZE = 7993\n",
    "    dataset = tf.data.Dataset.from_tensor_slices((bands[:, :, 0:1], ))\n",
    "    dataset = dataset.shuffle(buffer_size=60000).batch(BATCH_SIZE, drop_remainder=True)\n",
    "    \n",
    "\n",
    "    cross_entropy = tf.keras.losses.BinaryCrossentropy(from_logits=True)\n",
    "    \n",
    "    def discriminator_loss(real_output, fake_output):\n",
    "        real_loss = cross_entropy(tf.ones_like(real_output), real_output)\n",
    "        fake_loss = cross_entropy(tf.zeros_like(fake_output), fake_output)\n",
    "        total_loss = real_loss + fake_loss\n",
    "        return total_loss\n",
    "    def generator_loss(fake_output):\n",
    "        return cross_entropy(tf.ones_like(fake_output), fake_output)\n",
    "    \n",
    "    class GAN(keras.Model):\n",
    "        def __init__(self, discriminator, generator):\n",
    "            super(GAN, self).__init__()\n",
    "            self.discriminator = discriminator\n",
    "            self.generator = generator\n",
    "            self.gen_loss_tracker = keras.metrics.Mean(name=\"generator_loss\")\n",
    "            self.disc_loss_tracker = keras.metrics.Mean(name=\"discriminator_loss\")\n",
    "            self.diff_with_real_tracker = keras.metrics.Accuracy(name=\"diff_with_real\")\n",
    "            self.noise_tracker = keras.metrics.Accuracy(name=\"noise\")\n",
    "            self.g_diversity_tracker = keras.metrics.Mean(name=\"g_diversity\")\n",
    "            \n",
    "            self.last_g_loss = 1\n",
    "            self.last_d_loss = 1\n",
    "            self.show_asdf = False\n",
    "\n",
    "        @property\n",
    "        def metrics(self):\n",
    "            return [self.gen_loss_tracker, self.disc_loss_tracker, self.diff_with_real_tracker, self.noise_tracker, self.g_diversity_tracker]\n",
    "\n",
    "        def compile(self, d_optimizer, g_optimizer, *args, **kwargs):\n",
    "            super(GAN, self).compile(*args, **kwargs)\n",
    "            self.d_optimizer = d_optimizer\n",
    "            self.g_optimizer = g_optimizer\n",
    "\n",
    "        def train_step(self, dataset):\n",
    "#             BATCH_SIZE = 1024\n",
    "#             real_bands_indicies = np.random.choice(bands_dataset.shape[0], BATCH_SIZE, replace=False)\n",
    "#             real_bands = bands[real_bands_indicies]\n",
    "            real_bands = dataset[0]\n",
    "#             random_eq_coeffs = np.array([1, 1, 0.3, 1, 1, 1, 1, 1, 1, 1])\n",
    "#             random_eq_coeffs = np.repeat(random_eq_coeffs[np.newaxis, ...], BATCH_SIZE, axis=0)\n",
    "            random_eq_coeffs = np.random.uniform(0.5, 1, (BATCH_SIZE, 10))\n",
    "\n",
    "#             real_bands_with_noise = apply_eq_to_bands(real_bands, random_eq_coeffs)\n",
    "            random_eq_coeffs_tensor = tf.constant(random_eq_coeffs[..., np.newaxis], dtype=tf.float32)\n",
    "            real_bands_with_noise = tf.multiply(real_bands, random_eq_coeffs_tensor)\n",
    "        \n",
    "        \n",
    "            with tf.GradientTape() as gen_tape, tf.GradientTape() as disc_tape:\n",
    "#                 eq_coeffs_generated = generator(real_bands_with_noise, training=True)\n",
    "                eq_coeffs_generated = generator(tf.stack([real_bands, real_bands_with_noise], axis=1), training=True)\n",
    "#                 eq_coeffs_generated = tf.clip_by_value(eq_coeffs_generated, -0.5, 0.5)\n",
    "                \n",
    "#                 fake_bands = apply_eq_to_bands(real_bands_with_noise, eq_coeffs_generated)\n",
    "                fake_bands = real_bands_with_noise * (eq_coeffs_generated[..., tf.newaxis] + 1)\n",
    "\n",
    "#                 real_output = discriminator(real_bands, training=True)\n",
    "#                 fake_output = discriminator(fake_bands, training=True)\n",
    "\n",
    "                real_output = discriminator(tf.stack([real_bands, real_bands], axis=1), training=True)\n",
    "                fake_output = discriminator(tf.stack([fake_bands, real_bands], axis=1), training=True)\n",
    "\n",
    "                gen_loss = generator_loss(fake_output)\n",
    "#                 gen_loss = tf.keras.losses.MeanSquaredError()(real_bands, fake_bands) #generator_loss(fake_output)\n",
    "                disc_loss = discriminator_loss(real_output, fake_output)\n",
    "\n",
    "            if self.last_g_loss > 0.3 or True:\n",
    "                gradients_of_generator = gen_tape.gradient(gen_loss, generator.trainable_variables)\n",
    "                self.g_optimizer.apply_gradients(zip(gradients_of_generator, generator.trainable_variables))\n",
    "            \n",
    "            if self.last_d_loss > 0.3 or True:\n",
    "                gradients_of_discriminator = disc_tape.gradient(disc_loss, discriminator.trainable_variables)\n",
    "                self.d_optimizer.apply_gradients(zip(gradients_of_discriminator, discriminator.trainable_variables))\n",
    "            \n",
    "            if self.show_asdf:\n",
    "                fig, (ax1, ax2) = plt.subplots(1, 2)\n",
    "                ax1.plot(real_bands[0, :, 0], label=\"real\")\n",
    "                ax1.plot(real_bands_with_noise[0, :, 0], label=\"noised\")\n",
    "                ax1.plot(fake_bands[0, :, 0], label=\"fake\")\n",
    "                ax1.legend()\n",
    "                ax2.plot(eq_coeffs_generated[0, :], label=\"coeffs fake\")\n",
    "                ax2.plot((1 / random_eq_coeffs[0, :]) - 1, label=\"real\")\n",
    "                ax2.legend()\n",
    "                fig.show()\n",
    "                \n",
    "                plt.show()\n",
    "\n",
    "            self.gen_loss_tracker.update_state(gen_loss)\n",
    "            self.disc_loss_tracker.update_state(disc_loss)\n",
    "            self.diff_with_real_tracker.update_state(real_bands, fake_bands)\n",
    "            self.noise_tracker.update_state(real_bands, real_bands_with_noise)\n",
    "#             self.g_diversity_tracker.update_state(np.mean(eq_coeffs_generated))\n",
    "            self.g_diversity_tracker.update_state(tf.math.reduce_std(eq_coeffs_generated))\n",
    "            \n",
    "            return {\n",
    "                \"g_loss\": self.gen_loss_tracker.result(), \n",
    "                \"d_loss\": self.disc_loss_tracker.result(),\n",
    "                \"diff_with_real\": self.diff_with_real_tracker.result(),\n",
    "                \"noise\": self.noise_tracker.result(),\n",
    "                \"g_diversity\": self.g_diversity_tracker.result(),\n",
    "            }\n",
    "        \n",
    "    class CustomCallback(keras.callbacks.Callback):\n",
    "        def on_epoch_end(self, epoch, logs=None):\n",
    "            gan.last_g_loss = logs['g_loss']\n",
    "            gan.last_d_loss = logs['d_loss']\n",
    "            if epoch % 50 == 49:\n",
    "                gan.show_asdf = True\n",
    "            else:\n",
    "                gan.show_asdf = False\n",
    "            \n",
    "            \n",
    "    gan = GAN(discriminator, generator)\n",
    "    gan.compile(\n",
    "        g_optimizer = tf.keras.optimizers.Adam(1e-3), # 1e-3\n",
    "        d_optimizer = tf.keras.optimizers.Adam(1e-3 * 5), # 1e-3\n",
    "        run_eagerly=True\n",
    "    )\n",
    "    gan.fit(dataset, epochs=3000, verbose=2, callbacks=[CustomCallback()])\n",
    "    \n",
    "    gan.generator.save(\"generator.keras\")\n",
    "    print(\"saved\")\n",
    "    \n",
    "@register(\"generator\")\n",
    "@inject(\"keras\")\n",
    "def load_generator():\n",
    "    return load_model(\"generator.keras\")\n",
    "\n",
    "run_proc(getModel)\n"
   ]
  },
  {
   "cell_type": "code",
   "execution_count": 13,
   "id": "86dfaf82",
   "metadata": {
    "cellId": "4aa6700vjrmkj9rorgjvn"
   },
   "outputs": [
    {
     "name": "stdout",
     "output_type": "stream",
     "text": [
      "starting proc\n",
      "loading generator\n"
     ]
    },
    {
     "name": "stderr",
     "output_type": "stream",
     "text": [
      "2022-09-18 16:50:30.390026: I tensorflow/core/platform/cpu_feature_guard.cc:142] This TensorFlow binary is optimized with oneAPI Deep Neural Network Library (oneDNN) to use the following CPU instructions in performance-critical operations:  AVX2 FMA\n",
      "To enable them in other operations, rebuild TensorFlow with the appropriate compiler flags.\n",
      "2022-09-18 16:50:30.919762: I tensorflow/core/common_runtime/gpu/gpu_device.cc:1510] Created device /job:localhost/replica:0/task:0/device:GPU:0 with 2629 MB memory:  -> device: 0, name: GRID A100X-1-5C MIG 1g.5gb, pci bus id: 0000:8c:00.0, compute capability: 8.0\n"
     ]
    },
    {
     "name": "stdout",
     "output_type": "stream",
     "text": [
      "WARNING:tensorflow:No training configuration found in the save file, so the model was *not* compiled. Compile it manually.\n",
      "loading bands\n"
     ]
    },
    {
     "name": "stderr",
     "output_type": "stream",
     "text": [
      "2022-09-18 16:50:31.164391: I tensorflow/compiler/mlir/mlir_graph_optimization_pass.cc:185] None of the MLIR Optimization Passes are enabled (registered 2)\n",
      "2022-09-18 16:50:31.802206: I tensorflow/stream_executor/cuda/cuda_blas.cc:1760] TensorFloat-32 will be used for the matrix multiplication. This will only be logged once.\n"
     ]
    },
    {
     "name": "stdout",
     "output_type": "stream",
     "text": [
      "[[-1.         -0.9999867  -1.         -1.         -0.99999905  1.\n",
      "  -1.          1.         -1.          1.        ]\n",
      " [-1.         -0.9999845  -1.         -1.         -0.9999993   1.\n",
      "  -1.          1.         -1.          1.        ]\n",
      " [-1.         -0.9999986  -1.         -1.         -1.          1.\n",
      "  -1.          1.         -1.          1.        ]\n",
      " [-0.93244874 -0.827925   -0.9998771  -0.9813186  -0.8704484   0.99496263\n",
      "  -0.99085426  0.9924538  -0.99312013  0.9910126 ]\n",
      " [-0.9789094  -0.9265134  -0.9999937  -0.9954161  -0.9576255   0.9992423\n",
      "  -0.9983812   0.99879754 -0.99905986  0.9985699 ]\n",
      " [-1.         -1.         -1.         -1.         -1.          1.\n",
      "  -1.          1.         -1.          1.        ]\n",
      " [-1.         -1.         -1.         -1.         -1.          1.\n",
      "  -1.          1.         -1.          1.        ]\n",
      " [-0.99977905 -0.9975082  -1.         -0.9999905  -0.99935395  1.\n",
      "  -0.9999989   0.9999995  -0.9999997   0.9999993 ]\n",
      " [-0.97707945 -0.918807   -0.99999243 -0.99505496 -0.95632213  0.99916\n",
      "  -0.9981991   0.9987636  -0.9989152   0.9983829 ]\n",
      " [-0.9945307  -0.9766101  -1.         -0.9994969  -0.98432916  0.99996024\n",
      "  -0.99987495  0.99991417 -0.99993443  0.99989706]]\n"
     ]
    }
   ],
   "source": [
    "#!g2.mig\n",
    "@inject(\"generator\", \"bands\", log=True)\n",
    "def test():\n",
    "#     eq_coeffs = generator.predict(bands[0:2, :, :])\n",
    "    eq_coeffs = generator.predict(np.stack((bands[0:10, :, :], bands[0:10, :, :] * 2), axis=1))\n",
    "    print(eq_coeffs)\n",
    "    \n",
    "run_proc(test)    "
   ]
  },
  {
   "cell_type": "code",
   "execution_count": null,
   "id": "2ab7dea9",
   "metadata": {
    "cellId": "27camtzwosg9bi51gp7n4"
   },
   "outputs": [],
   "source": [
    "#!g2.mig\n"
   ]
  },
  {
   "cell_type": "code",
   "execution_count": 9,
   "id": "545debe9",
   "metadata": {
    "cellId": "401ekz6mw0s588pe5b12o"
   },
   "outputs": [
    {
     "data": {
      "text/plain": [
       "array([[3, 4],\n",
       "       [5, 6]])"
      ]
     },
     "execution_count": 9,
     "metadata": {},
     "output_type": "execute_result"
    }
   ],
   "source": [
    "#!g2.mig\n",
    "a = np.array([[1, 2],\n",
    "             [3, 4],\n",
    "             [5, 6]])\n",
    "a[np.random.choice(a.shape[0], 2, replace=False)]"
   ]
  },
  {
   "cell_type": "code",
   "execution_count": 199,
   "id": "b702b56b",
   "metadata": {
    "cellId": "bz0hld74hgmdf6e2vrww84"
   },
   "outputs": [
    {
     "name": "stdout",
     "output_type": "stream",
     "text": [
      "starting proc\n",
      "1\n"
     ]
    }
   ],
   "source": [
    "#!g2.mig\n"
   ]
  },
  {
   "cell_type": "code",
   "execution_count": null,
   "id": "7850e1f0",
   "metadata": {
    "cellId": "jlzozlyo39gx2nmqetr7qj"
   },
   "outputs": [],
   "source": [
    "#!g2.mig\n"
   ]
  },
  {
   "cell_type": "code",
   "execution_count": null,
   "id": "99634264",
   "metadata": {
    "cellId": "dbacyuvtxtlm45683t3x7"
   },
   "outputs": [],
   "source": [
    "#!g2.mig\n"
   ]
  },
  {
   "cell_type": "code",
   "execution_count": 129,
   "id": "5963ee51",
   "metadata": {
    "cellId": "oh19k1upgjdxst187dazk",
    "scrolled": true
   },
   "outputs": [],
   "source": [
    "#!g2.mig\n",
    "\n",
    "def model_predict_mag(model, mag):\n",
    "    import numpy as np\n",
    "    pred_mag_1024 = model.predict(mag[:, :1024, :])\n",
    "    mag_1025 = np.concatenate((pred_mag_1024, mag[:, 1024:1025, :]), axis=-2)\n",
    "    return mag_1025\n",
    "\n",
    "def getAutoencoder():\n",
    "    class Autoencoder(Model):\n",
    "        def __init__(self):\n",
    "            super(Autoencoder, self).__init__()\n",
    "            \n",
    "            \n",
    "            input_shape = (1024, 9)\n",
    "            self.encoder = tf.keras.Sequential([\n",
    "                Input(input_shape),\n",
    "                Conv1D(filters=10, kernel_size=5, activation='tanh', padding=\"same\"),\n",
    "                MaxPooling1D(pool_size = 2),\n",
    "                Conv1D(filters=10, kernel_size=5, activation='tanh', padding=\"same\"),\n",
    "                MaxPooling1D(pool_size = 2),\n",
    "                Conv1D(filters=10, kernel_size=5, activation='tanh', padding=\"same\"),\n",
    "                MaxPooling1D(pool_size = 2),\n",
    "                Conv1D(filters=10, kernel_size=5, activation='tanh', padding=\"same\"),\n",
    "                MaxPooling1D(pool_size = 2),\n",
    "                Conv1D(filters=1, kernel_size=5, activation='tanh', padding=\"same\"),\n",
    "                Dense(16, activation='tanh'),\n",
    "            ])\n",
    "            self.decoder = tf.keras.Sequential([\n",
    "                Conv1D(filters=10, kernel_size=5, activation='tanh', padding=\"same\"),\n",
    "                UpSampling1D(size=2),\n",
    "                Conv1D(filters=10, kernel_size=5, activation='tanh', padding=\"same\"),\n",
    "                UpSampling1D(size=2),\n",
    "                Conv1D(filters=10, kernel_size=5, activation='tanh', padding=\"same\"),\n",
    "                UpSampling1D(size=2),\n",
    "                Conv1D(filters=10, kernel_size=5, activation='tanh', padding=\"same\"),\n",
    "                UpSampling1D(size=2),\n",
    "                Conv1D(filters=10, kernel_size=5, activation='tanh', padding=\"same\"),\n",
    "                Conv1D(filters=9, kernel_size=5, activation='tanh', padding=\"same\"),\n",
    "                Reshape( (1024, 9) ),\n",
    "            ])\n",
    "\n",
    "        def call(self, x):\n",
    "            encoded = self.encoder(x)\n",
    "            decoded = self.decoder(encoded)\n",
    "            return decoded\n",
    "        \n",
    "        def save(self):\n",
    "            self.encoder.save('encoder.keras')\n",
    "            self.decoder.save('decoder.keras')\n",
    "            \n",
    "        def load(self):\n",
    "            self.encoder = load_model(\"encoder.keras\")\n",
    "            self.decoder = load_model(\"decoder.keras\")\n",
    "        \n",
    "    return Autoencoder\n",
    "\n",
    "\n",
    "def run():\n",
    "    import numpy as np\n",
    "    print(\"loading_data\")\n",
    "    mag_ang = get_ddata(get_x_stft(load_x()))\n",
    "    print(\"importing\")\n",
    "    from keras import Model\n",
    "    from keras.models import Sequential\n",
    "    # from kapre import InverseSTFT, STFT, Magnitude, MagnitudeToDecibel\n",
    "    # from kapre.composed import get_melspectrogram_layer, get_log_frequency_spectrogram_layer\n",
    "    from keras.backend import cast as Cast\n",
    "    from tensorflow.keras.optimizers import Adam\n",
    "    import tensorflow as tf\n",
    "    print(\"preparing\")\n",
    "\n",
    "    \n",
    "\n",
    "    \n",
    "    normalizer = tf.keras.layers.Normalization(axis=-1)\n",
    "    normalizer.adapt(mag_ang)\n",
    "    \n",
    "# #     model.add(Flatten())\n",
    "# #     model.add(BatchNormalization())\n",
    "# #     model.add(Dense(1025 * 1, activation='sigmoid'))\n",
    "\n",
    "\n",
    "    autoencoder = getAutoencoder()()\n",
    "    #learning_rate=0.05 learning_rate=0.001 binary_crossentropy\n",
    "    autoencoder.compile(Adam(), 'mean_squared_error', 'mean_absolute_error')\n",
    "\n",
    "    print(\"training\")\n",
    "    import datetime\n",
    "    log_dir = \"logs/fit/\" + datetime.datetime.now().strftime(\"%Y%m%d-%H%M%S\")\n",
    "    tensorboard_callback = tf.keras.callbacks.TensorBoard(log_dir=log_dir, histogram_freq=1)\n",
    "    #\n",
    "    def my_callback(*args, **kwargs):\n",
    "        import numpy as np\n",
    "        m1, a1 = np.dsplit(model.predict(mag_ang[:1, :, :]), 2)\n",
    "        m2, a2 = np.dsplit(mag_ang[:1, :, :], 2)\n",
    "        import matplotlib.pyplot as plt\n",
    "        plt.plot(m1.reshape(1025)[:100])\n",
    "        plt.plot(m2.reshape(1025)[:100])\n",
    "        plt.show()\n",
    "        \n",
    "    def my_callback2(*args, **kwargs):\n",
    "        import numpy as np\n",
    "        m1 = model_predict_mag(autoencoder, mag_ang[:1, :, :])\n",
    "        m2 = mag_ang[:1, :, :]\n",
    "        import matplotlib.pyplot as plt\n",
    "        plt.plot(m1[:, :, 0].reshape(1025)[:100])\n",
    "        plt.plot(m2[:, :, 0].reshape(1025)[:100])\n",
    "        plt.show()\n",
    "        \n",
    "    def scheduler(epoch):\n",
    "        if epoch % 5 == 4:\n",
    "            autoencoder.save()\n",
    "        if epoch < 30:\n",
    "            return 0.001\n",
    "        elif epoch < 100:\n",
    "            return 0.0005\n",
    "        else:\n",
    "            return 0.0001\n",
    "        \n",
    "    autoencoder.fit(mag_ang[:50, :1024, :], mag_ang[:50, :1024, :], epochs=600, \n",
    "            callbacks=[tensorboard_callback, tf.keras.callbacks.LambdaCallback(on_epoch_end=my_callback2),\n",
    "                       tf.keras.callbacks.LearningRateScheduler(scheduler)], validation_split=0.2)\n",
    "    autoencoder.save()\n",
    "    \n",
    "    \n",
    "def run_proc(task):\n",
    "    import multiprocessing\n",
    "    print(\"starting proc\")\n",
    "    p = multiprocessing.Process(target=task)\n",
    "    try:\n",
    "        p.start()\n",
    "        p.join()\n",
    "    except KeyboardInterrupt:\n",
    "        print(\"terminating proccess\")\n",
    "        p.terminate()\n",
    "        from time import sleep\n",
    "        sleep(1)\n",
    "        print(\"killing\")\n",
    "        p.kill()\n",
    "    \n",
    "# run_proc(run)"
   ]
  },
  {
   "cell_type": "code",
   "execution_count": null,
   "id": "c4072a45",
   "metadata": {
    "cellId": "3bgy14l8rdvkrpoizne3pn"
   },
   "outputs": [],
   "source": [
    "#!g2.mig\n"
   ]
  },
  {
   "cell_type": "code",
   "execution_count": 156,
   "id": "aa93bb4b",
   "metadata": {
    "cellId": "x6mkqn51mb9xwwm3m2ska"
   },
   "outputs": [
    {
     "name": "stdout",
     "output_type": "stream",
     "text": [
      "[[0. 0.]\n",
      " [0. 0.]]\n",
      "<module 'matplotlib.pyplot' from '/kernel/lib/python3.8/site-packages/matplotlib/pyplot.py'>\n"
     ]
    }
   ],
   "source": [
    "import inspect\n",
    "registered_functions = {}\n",
    "\n",
    "\n",
    "def register(name):\n",
    "    def decorator(fn):\n",
    "        def wrapper():\n",
    "            res = fn()\n",
    "            return {\n",
    "                name : res\n",
    "            }\n",
    "        \n",
    "        registered_functions[name] = wrapper\n",
    "        return fn\n",
    "    return decorator\n",
    "\n",
    "\n",
    "def register_dict(name):\n",
    "    def decorator(fn):\n",
    "        def wrapper():\n",
    "            res = fn()\n",
    "            return res\n",
    "        \n",
    "        registered_functions[name] = wrapper\n",
    "        return fn\n",
    "    return decorator\n",
    "    \n",
    "\n",
    "def inject(*names):\n",
    "    def decorator(fn):\n",
    "        from functools import wraps\n",
    "        @wraps(fn)\n",
    "        def wrapper(*args, **kwargs):\n",
    "            backup = {}\n",
    "            for name in names:\n",
    "                if name not in registered_functions:\n",
    "                    raise Exception(\"Not found \" + str(name) + \" in registered functions. \" + str(registered_functions.keys()))\n",
    "                    \n",
    "                function_result = registered_functions[name]()\n",
    "                    \n",
    "                for var_name in function_result:\n",
    "                    if var_name in fn.__globals__:\n",
    "                        backup[var_name] = fn.__globals__[var_name]\n",
    "                    fn.__globals__[var_name] = function_result[var_name]\n",
    "            \n",
    "            res = fn(*args, **kwargs)\n",
    "            \n",
    "            for name in backup:\n",
    "                fn.__globals__[name] = backup[name]\n",
    "            \n",
    "            return res\n",
    "            \n",
    "        return wrapper\n",
    "    return decorator\n",
    "\n",
    "\n",
    "@register_dict(\"mnp\")\n",
    "def import_mnp():\n",
    "    import matplotlib.pyplot as plt\n",
    "    import numpy as np\n",
    "    return locals()\n",
    "\n"
   ]
  },
  {
   "cell_type": "code",
   "execution_count": null,
   "id": "defae624",
   "metadata": {
    "cellId": "c2bvl0324qb6weh1lsgkwo"
   },
   "outputs": [],
   "source": [
    "#!g2.mig\n"
   ]
  },
  {
   "cell_type": "code",
   "execution_count": 132,
   "id": "7669f382",
   "metadata": {
    "cellId": "h8joxq3kkw6sj37wg2d5zd"
   },
   "outputs": [],
   "source": [
    "#!g2.mig\n"
   ]
  },
  {
   "cell_type": "code",
   "execution_count": 136,
   "id": "57d480c3",
   "metadata": {
    "cellId": "cfvij6uljdhq5bzxtr2es8",
    "scrolled": true
   },
   "outputs": [
    {
     "name": "stdout",
     "output_type": "stream",
     "text": [
      "starting proc\n",
      "reading and calculating stft\n",
      "preparing y\n",
      "proccessing\n",
      "(7996, 1024, 9) (7996, 8)\n",
      "Epoch 1/100\n",
      "200/200 - 6s - loss: 2.5374 - categorical_accuracy: 0.1574 - val_loss: 2.0130 - val_categorical_accuracy: 0.1813\n",
      "Epoch 2/100\n",
      "200/200 - 2s - loss: 2.2512 - categorical_accuracy: 0.1812 - val_loss: 2.0684 - val_categorical_accuracy: 0.1863\n",
      "Epoch 3/100\n",
      "200/200 - 2s - loss: 2.1057 - categorical_accuracy: 0.2009 - val_loss: 1.8541 - val_categorical_accuracy: 0.2800\n",
      "Epoch 4/100\n",
      "200/200 - 2s - loss: 2.0105 - categorical_accuracy: 0.2190 - val_loss: 1.8575 - val_categorical_accuracy: 0.3269\n",
      "Epoch 5/100\n",
      "200/200 - 3s - loss: 1.9374 - categorical_accuracy: 0.2583 - val_loss: 2.0022 - val_categorical_accuracy: 0.1912\n",
      "Epoch 6/100\n",
      "200/200 - 2s - loss: 1.8873 - categorical_accuracy: 0.2724 - val_loss: 1.9825 - val_categorical_accuracy: 0.2850\n",
      "Epoch 7/100\n",
      "200/200 - 2s - loss: 1.8606 - categorical_accuracy: 0.2913 - val_loss: 1.7586 - val_categorical_accuracy: 0.3162\n",
      "Epoch 8/100\n",
      "200/200 - 2s - loss: 1.8437 - categorical_accuracy: 0.2977 - val_loss: 1.8629 - val_categorical_accuracy: 0.2644\n",
      "Epoch 9/100\n",
      "200/200 - 2s - loss: 1.8281 - categorical_accuracy: 0.3108 - val_loss: 2.0159 - val_categorical_accuracy: 0.2356\n",
      "Epoch 10/100\n",
      "200/200 - 3s - loss: 1.8263 - categorical_accuracy: 0.3133 - val_loss: 1.7902 - val_categorical_accuracy: 0.3038\n",
      "Epoch 11/100\n",
      "200/200 - 2s - loss: 1.7887 - categorical_accuracy: 0.3277 - val_loss: 1.7599 - val_categorical_accuracy: 0.3406\n",
      "Epoch 12/100\n",
      "200/200 - 2s - loss: 1.7597 - categorical_accuracy: 0.3429 - val_loss: 1.8943 - val_categorical_accuracy: 0.3162\n",
      "Epoch 13/100\n",
      "200/200 - 2s - loss: 1.7504 - categorical_accuracy: 0.3430 - val_loss: 1.6450 - val_categorical_accuracy: 0.3919\n",
      "Epoch 14/100\n",
      "200/200 - 2s - loss: 1.7117 - categorical_accuracy: 0.3652 - val_loss: 2.1285 - val_categorical_accuracy: 0.1906\n",
      "Epoch 15/100\n",
      "200/200 - 3s - loss: 1.7113 - categorical_accuracy: 0.3662 - val_loss: 1.8630 - val_categorical_accuracy: 0.2919\n",
      "Epoch 16/100\n",
      "200/200 - 2s - loss: 1.6881 - categorical_accuracy: 0.3735 - val_loss: 1.6475 - val_categorical_accuracy: 0.3719\n",
      "Epoch 17/100\n",
      "200/200 - 2s - loss: 1.6759 - categorical_accuracy: 0.3790 - val_loss: 1.6400 - val_categorical_accuracy: 0.4087\n",
      "Epoch 18/100\n",
      "200/200 - 2s - loss: 1.6567 - categorical_accuracy: 0.3917 - val_loss: 1.6706 - val_categorical_accuracy: 0.3950\n",
      "Epoch 19/100\n",
      "200/200 - 2s - loss: 1.6399 - categorical_accuracy: 0.4042 - val_loss: 1.8623 - val_categorical_accuracy: 0.3600\n",
      "Epoch 20/100\n",
      "200/200 - 3s - loss: 1.6341 - categorical_accuracy: 0.3929 - val_loss: 1.9705 - val_categorical_accuracy: 0.3713\n",
      "Epoch 21/100\n",
      "200/200 - 2s - loss: 1.6245 - categorical_accuracy: 0.4106 - val_loss: 1.7974 - val_categorical_accuracy: 0.3475\n",
      "Epoch 22/100\n",
      "200/200 - 2s - loss: 1.5890 - categorical_accuracy: 0.4232 - val_loss: 2.7481 - val_categorical_accuracy: 0.3100\n",
      "Epoch 23/100\n",
      "200/200 - 2s - loss: 1.5592 - categorical_accuracy: 0.4303 - val_loss: 1.6658 - val_categorical_accuracy: 0.3963\n",
      "Epoch 24/100\n",
      "200/200 - 2s - loss: 1.5398 - categorical_accuracy: 0.4365 - val_loss: 1.6980 - val_categorical_accuracy: 0.3681\n",
      "Epoch 25/100\n",
      "200/200 - 3s - loss: 1.5336 - categorical_accuracy: 0.4378 - val_loss: 1.7223 - val_categorical_accuracy: 0.3787\n",
      "Epoch 26/100\n",
      "200/200 - 2s - loss: 1.5223 - categorical_accuracy: 0.4401 - val_loss: 1.8418 - val_categorical_accuracy: 0.3269\n",
      "Epoch 27/100\n",
      "200/200 - 2s - loss: 1.4944 - categorical_accuracy: 0.4581 - val_loss: 1.7340 - val_categorical_accuracy: 0.3744\n",
      "Epoch 28/100\n",
      "200/200 - 2s - loss: 1.4674 - categorical_accuracy: 0.4642 - val_loss: 1.6810 - val_categorical_accuracy: 0.4038\n",
      "Epoch 29/100\n",
      "200/200 - 2s - loss: 1.4532 - categorical_accuracy: 0.4673 - val_loss: 1.6696 - val_categorical_accuracy: 0.3906\n",
      "Epoch 30/100\n",
      "terminating proccess\n",
      "killing\n"
     ]
    },
    {
     "name": "stderr",
     "output_type": "stream",
     "text": [
      "2022-09-16 22:35:41.784704: I tensorflow/core/platform/cpu_feature_guard.cc:142] This TensorFlow binary is optimized with oneAPI Deep Neural Network Library (oneDNN) to use the following CPU instructions in performance-critical operations:  AVX2 FMA\n",
      "To enable them in other operations, rebuild TensorFlow with the appropriate compiler flags.\n",
      "2022-09-16 22:35:42.199291: I tensorflow/core/common_runtime/gpu/gpu_device.cc:1510] Created device /job:localhost/replica:0/task:0/device:GPU:0 with 2629 MB memory:  -> device: 0, name: GRID A100X-1-5C MIG 1g.5gb, pci bus id: 0000:8c:00.0, compute capability: 8.0\n",
      "2022-09-16 22:35:42.675565: I tensorflow/compiler/mlir/mlir_graph_optimization_pass.cc:185] None of the MLIR Optimization Passes are enabled (registered 2)\n",
      "2022-09-16 22:35:44.247083: I tensorflow/stream_executor/cuda/cuda_dnn.cc:369] Loaded cuDNN version 8101\n",
      "2022-09-16 22:35:45.507406: I tensorflow/stream_executor/cuda/cuda_blas.cc:1760] TensorFloat-32 will be used for the matrix multiplication. This will only be logged once.\n"
     ]
    }
   ],
   "source": [
    "#!g2.mig\n",
    "def run():\n",
    "    import numpy as np\n",
    "    print(\"reading and calculating stft\")\n",
    "    mag_ang = nnorm(get_x_stft(load_x()))\n",
    "    mag, ang = np.dsplit(mag_ang, 2)\n",
    "    \n",
    "    print(\"preparing y\")\n",
    "    import pandas as pd\n",
    "    y = load_y()\n",
    "    df = pd.DataFrame(data={'col1': y})\n",
    "    y_cat = pd.get_dummies(df['col1']).to_numpy()\n",
    "    \n",
    "    print(\"proccessing\")\n",
    "    mag_encoded = mag[:, :1024, :]\n",
    "    \n",
    "    from keras.layers import Conv2D, Conv1D, BatchNormalization, ReLU, MaxPooling1D, MaxPooling2D, UpSampling1D, Dense, Softmax, Reshape, Flatten, Input, Dropout\n",
    "    import tensorflow as tf\n",
    "    from tensorflow.keras.optimizers import Adam\n",
    "    \n",
    "    def conv(filters_cnt):\n",
    "        return [\n",
    "            Conv2D(filters=10, kernel_size=3, activation='tanh', padding=\"same\"),\n",
    "            BatchNormalization(),\n",
    "            MaxPooling2D(pool_size = (2, 1)),\n",
    "        ]\n",
    "    \n",
    "    model = tf.keras.Sequential([\n",
    "               Input((1024, 9)),\n",
    "               Reshape((1024, 9, 1))\n",
    "            ] +\n",
    "            conv(10) +\n",
    "            conv(10) +\n",
    "            conv(10) +\n",
    "            conv(10) +\n",
    "        \n",
    "            [\n",
    "                Flatten(),\n",
    "                Dense(512, activation='relu'),\n",
    "                Dropout(0.6),\n",
    "                BatchNormalization(),\n",
    "        \n",
    "                Dense(512, activation='relu'),\n",
    "                Dropout(0.6),\n",
    "                BatchNormalization(),\n",
    "        \n",
    "                Dense(512, activation='relu'),\n",
    "                Dropout(0.6),\n",
    "                BatchNormalization(),\n",
    "        \n",
    "                Dense(8, activation='softmax'),\n",
    "            ])\n",
    "#     model = tf.keras.Sequential([\n",
    "#             Input((64, 16)),\n",
    "#             Flatten(),\n",
    "#             Dense(256, activation='tanh'),\n",
    "#             Dense(256, activation='sigmoid'),\n",
    "#             Dense(256, activation='relu'),\n",
    "#             Dense(8, activation='softmax'),\n",
    "#         ])\n",
    "    \n",
    "    def scheduler(epoch):\n",
    "        if epoch % 5 == 4:\n",
    "            model.save(\"model.keras\")\n",
    "        return 0.001\n",
    "        if epoch < 30:\n",
    "            return 0.001\n",
    "        elif epoch < 100:\n",
    "            return 0.0005\n",
    "        else:\n",
    "            return 0.0001\n",
    "    print(mag_encoded.shape, y_cat.shape)\n",
    "    model.compile(Adam(), 'categorical_crossentropy', 'categorical_accuracy')\n",
    "    model.fit(mag_encoded, y_cat, epochs=100, \n",
    "            callbacks=[tf.keras.callbacks.LearningRateScheduler(scheduler)], validation_split=0.2, verbose=2)\n",
    "\n",
    "run_proc(run)"
   ]
  },
  {
   "cell_type": "code",
   "execution_count": 35,
   "id": "cf43bf54",
   "metadata": {
    "cellId": "jn48slpxa9qmypgap7bsnq"
   },
   "outputs": [
    {
     "name": "stdout",
     "output_type": "stream",
     "text": [
      "starting proc\n",
      "processing x\n",
      "  autoencoder\n",
      "WARNING:tensorflow:No training configuration found in the save file, so the model was *not* compiled. Compile it manually.\n",
      "WARNING:tensorflow:No training configuration found in the save file, so the model was *not* compiled. Compile it manually.\n",
      "processing y\n",
      "load model\n",
      "confusion matrix\n",
      "(7996, 8)\n",
      "[[0.11667339 0.14175113 0.11960492 0.12665664 0.12259732 0.12679233\n",
      "  0.13212846 0.11379588]\n",
      " [0.14226915 0.12479449 0.08894964 0.17497246 0.10102151 0.1280257\n",
      "  0.1292968  0.11067025]\n",
      " [0.09513927 0.13377663 0.10467512 0.09310499 0.0640965  0.1157955\n",
      "  0.12832224 0.26508972]]\n",
      "[[  0 230  34 514  61  30   0 130]\n",
      " [  1 345  98 122 162 130   0 141]\n",
      " [  0 169 390  48 177 118   0  98]\n",
      " [  1 151  10 560  14  53   0 210]\n",
      " [  1 285 153  83 347  79   0  52]\n",
      " [  0 237  91 163  70 300   0 139]\n",
      " [  0 269  84 225  61 108   0 253]\n",
      " [  0 138  68 174  32  47   0 540]]\n"
     ]
    },
    {
     "name": "stderr",
     "output_type": "stream",
     "text": [
      "2022-09-16 16:26:34.905193: I tensorflow/core/platform/cpu_feature_guard.cc:142] This TensorFlow binary is optimized with oneAPI Deep Neural Network Library (oneDNN) to use the following CPU instructions in performance-critical operations:  AVX2 FMA\n",
      "To enable them in other operations, rebuild TensorFlow with the appropriate compiler flags.\n",
      "2022-09-16 16:26:35.334946: I tensorflow/core/common_runtime/gpu/gpu_device.cc:1510] Created device /job:localhost/replica:0/task:0/device:GPU:0 with 2629 MB memory:  -> device: 0, name: GRID A100X-1-5C MIG 1g.5gb, pci bus id: 0000:8c:00.0, compute capability: 8.0\n",
      "2022-09-16 16:26:36.054330: I tensorflow/compiler/mlir/mlir_graph_optimization_pass.cc:185] None of the MLIR Optimization Passes are enabled (registered 2)\n",
      "2022-09-16 16:26:36.743816: I tensorflow/stream_executor/cuda/cuda_dnn.cc:369] Loaded cuDNN version 8101\n",
      "2022-09-16 16:26:37.933607: I tensorflow/stream_executor/cuda/cuda_blas.cc:1760] TensorFloat-32 will be used for the matrix multiplication. This will only be logged once.\n"
     ]
    }
   ],
   "source": [
    "#!g2.mig\n",
    "def test():\n",
    "    import numpy as np\n",
    "    print(\"processing x\")\n",
    "    mag_ang = nnorm(get_x_stft(np.load(\"x.npy\")))\n",
    "    mag, ang = np.dsplit(mag_ang, 2)\n",
    "    \n",
    "    print(\"  autoencoder\")\n",
    "    autoencoder = getAutoencoder()()\n",
    "    autoencoder.load()\n",
    "    autoencoder.encoder.compile()\n",
    "    mag_encoded = autoencoder.encoder.predict(mag[:, :1024, :])\n",
    "    \n",
    "    print(\"processing y\")\n",
    "    import pandas as pd\n",
    "    y = np.load(\"y.npy\")\n",
    "    df = pd.DataFrame(data={'col1': y})\n",
    "    y_cat = pd.get_dummies(df['col1']).to_numpy()\n",
    "    \n",
    "    print(\"load model\")\n",
    "    from keras.models import load_model\n",
    "    model = load_model(\"model.keras\")\n",
    "    \n",
    "    print(\"confusion matrix\")\n",
    "    y_pred = model.predict(mag_encoded)\n",
    "    from sklearn.metrics import confusion_matrix\n",
    "    print(y_pred.shape)\n",
    "    print(y_pred[:3])\n",
    "    print(confusion_matrix(y_cat.argmax(axis=1), y_pred.argmax(axis=1)))\n",
    "\n",
    "run_proc(test)"
   ]
  },
  {
   "cell_type": "code",
   "execution_count": null,
   "id": "72592696",
   "metadata": {
    "cellId": "gk320owbjeom8tznu6aqdd"
   },
   "outputs": [],
   "source": [
    "#!g2.mig\n"
   ]
  },
  {
   "cell_type": "code",
   "execution_count": null,
   "id": "9d763fef",
   "metadata": {
    "cellId": "dtqs2r61u2wwqqdkyi8omm"
   },
   "outputs": [],
   "source": [
    "#!g2.mig\n",
    "#!g2.mig\n",
    "def run():\n",
    "    import numpy as np\n",
    "    print(\"loading autoencoder\")\n",
    "    autoencoder = getAutoencoder()()\n",
    "    autoencoder.load()\n",
    "    autoencoder.encoder.compile()\n",
    "    print(\"reading and calculating stft\")\n",
    "    mag_ang = nnorm(get_x_stft(np.load(\"x.npy\")))\n",
    "    mag, ang = np.dsplit(mag_ang, 2)\n",
    "    \n",
    "    print(\"preparing y\")\n",
    "    import pandas as pd\n",
    "    y = np.load(\"y.npy\")\n",
    "    df = pd.DataFrame(data={'col1': y})\n",
    "    y_cat = pd.get_dummies(df['col1']).to_numpy()\n",
    "    \n",
    "    print(\"proccessing\")\n",
    "    mag_encoded = autoencoder.encoder.predict(mag[:, :1024, :])\n",
    "    print(mag_encoded.shape)\n",
    "    \n",
    "    from keras.layers import Conv2D, Conv1D, BatchNormalization, ReLU, MaxPooling1D, UpSampling1D, Dense, Softmax, Reshape, Flatten, Input, Dropout\n",
    "    import tensorflow as tf\n",
    "    from tensorflow.keras.optimizers import Adam\n",
    "    \n",
    "    model = tf.keras.Sequential([\n",
    "                Input((64, 16)),\n",
    "                Flatten(),\n",
    "                Dense(512, activation='tanh'),\n",
    "                Dropout(0.8),\n",
    "                Dense(512, activation='sigmoid'),\n",
    "                Dropout(0.8),\n",
    "                Dense(512, activation='relu'),\n",
    "                Dropout(0.5),\n",
    "                Dense(8, activation='softmax'),\n",
    "            ])\n",
    "#     model = tf.keras.Sequential([\n",
    "#             Input((64, 16)),\n",
    "#             Flatten(),\n",
    "#             Dense(256, activation='tanh'),\n",
    "#             Dense(256, activation='sigmoid'),\n",
    "#             Dense(256, activation='relu'),\n",
    "#             Dense(8, activation='softmax'),\n",
    "#         ])\n",
    "    \n",
    "    def scheduler(epoch):\n",
    "        if epoch % 5 == 4:\n",
    "            model.save(\"model.keras\")\n",
    "        return 0.001\n",
    "        if epoch < 30:\n",
    "            return 0.001\n",
    "        elif epoch < 100:\n",
    "            return 0.0005\n",
    "        else:\n",
    "            return 0.0001\n",
    "    print(mag_encoded.shape, y_cat.shape)\n",
    "    model.compile(Adam(), 'categorical_crossentropy', 'categorical_accuracy')\n",
    "    model.fit(mag_encoded, y_cat, epochs=100, \n",
    "            callbacks=[tf.keras.callbacks.LearningRateScheduler(scheduler)], validation_split=0.2, verbose=2)\n",
    "\n",
    "run_proc(run)"
   ]
  },
  {
   "cell_type": "code",
   "execution_count": 21,
   "id": "7ff4635e",
   "metadata": {
    "cellId": "uobmumg9vsfipxx9kmdai"
   },
   "outputs": [
    {
     "data": {
      "text/plain": [
       "array([ 999,  999, 1000,  999, 1000, 1000, 1000,  999], dtype=uint64)"
      ]
     },
     "metadata": {},
     "output_type": "display_data"
    }
   ],
   "source": [
    "#!g2.mig\n",
    "def test():\n",
    "    import numpy as np\n",
    "    import pandas as pd\n",
    "    y = np.load(\"y.npy\")\n",
    "    df = pd.DataFrame(data={'col1': y})\n",
    "    y_cat = pd.get_dummies(df['col1']).to_numpy()\n",
    "    return y_cat.sum(axis=0)\n",
    "test()"
   ]
  },
  {
   "cell_type": "code",
   "execution_count": 21,
   "id": "81aa84b4",
   "metadata": {
    "cellId": "2012exnl55s0g7q0habel3o"
   },
   "outputs": [
    {
     "data": {
      "text/plain": [
       "(2, 5, 2)"
      ]
     },
     "metadata": {},
     "output_type": "display_data"
    }
   ],
   "source": [
    "#!g2.mig\n",
    "import numpy as np\n",
    "a = np.array([[[1, 100], [2, 200], [2, 300], [4, 123], [5, 1234]], \n",
    "              [[5, 12345], [6, 51235], [7, 152], [8, 51235], [123, 42134253]]])\n",
    "a.shape"
   ]
  },
  {
   "cell_type": "code",
   "execution_count": 25,
   "id": "0eb4b899",
   "metadata": {
    "cellId": "g4gn2616r6qudvyeb2vv8"
   },
   "outputs": [
    {
     "ename": "ValueError",
     "evalue": "all the input array dimensions for the concatenation axis must match exactly, but along dimension 1, the array at index 0 has size 3 and the array at index 1 has size 1",
     "output_type": "error",
     "traceback": [
      "\u001b[0;31m---------------------------------------------------------------------------\u001b[0m",
      "\u001b[0;31mValueError\u001b[0m                                Traceback (most recent call last)",
      "\u001b[0;32m<ipython-input-26-96767db7a5b6>\u001b[0m in \u001b[0;36m<module>\u001b[0;34m\u001b[0m\n\u001b[0;32m----> 1\u001b[0;31m \u001b[0mnp\u001b[0m\u001b[0;34m.\u001b[0m\u001b[0mconcatenate\u001b[0m\u001b[0;34m(\u001b[0m\u001b[0;34m(\u001b[0m\u001b[0ma\u001b[0m\u001b[0;34m[\u001b[0m\u001b[0;34m:\u001b[0m\u001b[0;34m,\u001b[0m \u001b[0;34m:\u001b[0m\u001b[0;36m3\u001b[0m\u001b[0;34m,\u001b[0m \u001b[0;34m:\u001b[0m\u001b[0;34m]\u001b[0m\u001b[0;34m,\u001b[0m \u001b[0ma\u001b[0m\u001b[0;34m[\u001b[0m\u001b[0;34m:\u001b[0m\u001b[0;34m,\u001b[0m \u001b[0;36m3\u001b[0m\u001b[0;34m:\u001b[0m\u001b[0;36m4\u001b[0m\u001b[0;34m,\u001b[0m \u001b[0;34m:\u001b[0m\u001b[0;34m]\u001b[0m\u001b[0;34m)\u001b[0m\u001b[0;34m,\u001b[0m \u001b[0maxis\u001b[0m\u001b[0;34m=\u001b[0m\u001b[0;36m2\u001b[0m\u001b[0;34m)\u001b[0m\u001b[0;34m\u001b[0m\u001b[0;34m\u001b[0m\u001b[0m\n\u001b[0m\u001b[1;32m      2\u001b[0m \u001b[0;31m#\u001b[0m\u001b[0;34m\u001b[0m\u001b[0;34m\u001b[0m\u001b[0;34m\u001b[0m\u001b[0m\n",
      "\u001b[0;32m<__array_function__ internals>\u001b[0m in \u001b[0;36mconcatenate\u001b[0;34m(*args, **kwargs)\u001b[0m\n",
      "\u001b[0;31mValueError\u001b[0m: all the input array dimensions for the concatenation axis must match exactly, but along dimension 1, the array at index 0 has size 3 and the array at index 1 has size 1"
     ]
    }
   ],
   "source": [
    "#!g2.mig\n",
    "np.concatenate((a[:, :3, :], a[:, 3:4, :]), axis=2)"
   ]
  },
  {
   "cell_type": "code",
   "execution_count": 4,
   "id": "46cf95ab",
   "metadata": {
    "cellId": "ajan73dsqvgsa950mb585"
   },
   "outputs": [
    {
     "data": {
      "text/plain": [
       "1"
      ]
     },
     "metadata": {},
     "output_type": "display_data"
    }
   ],
   "source": [
    "#!g2.mig\n",
    "1"
   ]
  },
  {
   "cell_type": "code",
   "execution_count": null,
   "id": "4eebcccf",
   "metadata": {
    "cellId": "i2hejzn7dls7ny7k9f7l3"
   },
   "outputs": [],
   "source": [
    "#!g2.mig\n"
   ]
  },
  {
   "cell_type": "code",
   "execution_count": null,
   "id": "85d098f2",
   "metadata": {
    "cellId": "z1o8u0zcqy71tqtt7ctib"
   },
   "outputs": [],
   "source": [
    "#!g2.mig\n"
   ]
  },
  {
   "cell_type": "code",
   "execution_count": null,
   "id": "bf0acb92",
   "metadata": {
    "cellId": "egxyoaads7myre4c8hpn8"
   },
   "outputs": [],
   "source": [
    "#!g2.mig\n"
   ]
  },
  {
   "cell_type": "code",
   "execution_count": null,
   "id": "8d2922f2",
   "metadata": {
    "cellId": "fzqi34geytga7onnf8c4ei"
   },
   "outputs": [],
   "source": [
    "#!g2.mig\n"
   ]
  },
  {
   "cell_type": "code",
   "execution_count": null,
   "id": "3c37f27e",
   "metadata": {
    "cellId": "4e73d01s493j01bqmbel4q"
   },
   "outputs": [],
   "source": [
    "#!g2.mig\n"
   ]
  },
  {
   "cell_type": "code",
   "execution_count": null,
   "id": "e6dd51c2",
   "metadata": {
    "cellId": "z3brnke1u0jqux9z03wyzk"
   },
   "outputs": [],
   "source": [
    "#!g2.mig\n",
    "x_stft[0].shape"
   ]
  },
  {
   "cell_type": "code",
   "execution_count": null,
   "id": "01c17eaf",
   "metadata": {
    "cellId": "84gpoalbisb2bvfvwyv7zg"
   },
   "outputs": [],
   "source": [
    "#!g2.mig\n",
    "np.sum((aaa -bbb))"
   ]
  },
  {
   "cell_type": "code",
   "execution_count": null,
   "id": "fc92acd5",
   "metadata": {
    "cellId": "o8ga8htcc7ukqgoyt1v1b"
   },
   "outputs": [],
   "source": [
    "#!g2.mig\n"
   ]
  },
  {
   "cell_type": "code",
   "execution_count": null,
   "id": "9c4008a9",
   "metadata": {
    "cellId": "7jpfoaf31faq38hxqnpz3"
   },
   "outputs": [],
   "source": [
    "#!g2.mig\n"
   ]
  },
  {
   "cell_type": "code",
   "execution_count": null,
   "id": "4e6661e9",
   "metadata": {
    "cellId": "4lv5fk2uuo5qvphotig33"
   },
   "outputs": [],
   "source": [
    "#!g2.mig\n",
    "mag_ang[0, :, :].shape"
   ]
  },
  {
   "cell_type": "code",
   "execution_count": null,
   "id": "d3345f8f",
   "metadata": {
    "cellId": "2sc1xq40uqlxcx1njxuk1d"
   },
   "outputs": [],
   "source": [
    "#!g2.mig\n",
    "mag_ang[0:, :, :].shape"
   ]
  },
  {
   "cell_type": "code",
   "execution_count": null,
   "id": "b2435d05",
   "metadata": {
    "cellId": "swgzqsi7ewj45by0fsq1ky"
   },
   "outputs": [],
   "source": [
    "#!g2.mig\n",
    "def test():\n",
    "    from keras.models import load_model\n",
    "    import numpy as np\n",
    "\n",
    "    mag_ang = nnorm(get_x_stft(np.load(\"x.npy\")))\n",
    "    mag, ang = np.dsplit(mag_ang[0:1, :, :], 2)\n",
    "    ma = np.dstack((mag[:, :, 2], ang[:, :, 2]))\n",
    "    model = load_model('model.keras')\n",
    "#     m1, a1 = np.dsplit(model.predict(ma), 2)\n",
    "    m2, a2 = np.dsplit(ma, 2)\n",
    "    m1, a1 = model.predict(m2), a2\n",
    "\n",
    "    np.save(\"m1,a1,m2,a2\", [m1.reshape(1025),a1.reshape(1025),m2.reshape(1025),a2.reshape(1025)])\n",
    "\n",
    "def run():\n",
    "    run_proc(test)\n",
    "    m1,a1,m2,a2 = np.load(\"m1,a1,m2,a2.npy\", allow_pickle=True)\n",
    "    \n",
    "    import matplotlib.pyplot as plt\n",
    "    plt.plot(m1[:100])\n",
    "    plt.plot(m2[:100])\n",
    "    plt.show()\n",
    "    plt.plot(a1[:100])\n",
    "    plt.plot(a2[:100])\n",
    "run()"
   ]
  },
  {
   "cell_type": "code",
   "execution_count": null,
   "id": "c006d5bc",
   "metadata": {
    "cellId": "ppkb8ib3vdbl0vnoniaoce"
   },
   "outputs": [],
   "source": [
    "#!g2.mig\n"
   ]
  },
  {
   "cell_type": "code",
   "execution_count": null,
   "id": "470d1cd6",
   "metadata": {
    "cellId": "fy5p6pxgjx4qb4hg6wa9q"
   },
   "outputs": [],
   "source": [
    "#!g2.mig\n"
   ]
  },
  {
   "cell_type": "code",
   "execution_count": 75,
   "id": "a20ec7f9",
   "metadata": {
    "cellId": "smh4odam9fk8pg7o4ned8i"
   },
   "outputs": [
    {
     "name": "stdout",
     "output_type": "stream",
     "text": [
      "starting proc\n",
      "WARNING:tensorflow:No training configuration found in the save file, so the model was *not* compiled. Compile it manually.\n",
      "WARNING:tensorflow:No training configuration found in the save file, so the model was *not* compiled. Compile it manually.\n",
      "(1, 1025, 18)\n",
      "(1, 1025, 1)\n",
      "(1, 1025, 1)\n",
      "(1, 1025, 1)\n",
      "(1, 1025, 1)\n",
      "(1, 1025, 1)\n",
      "(1, 1025, 1)\n",
      "(1, 1025, 1)\n",
      "(1, 1025, 1)\n",
      "(1, 1025, 1)\n"
     ]
    },
    {
     "name": "stderr",
     "output_type": "stream",
     "text": [
      "2022-09-15 19:43:01.756117: I tensorflow/core/platform/cpu_feature_guard.cc:142] This TensorFlow binary is optimized with oneAPI Deep Neural Network Library (oneDNN) to use the following CPU instructions in performance-critical operations:  AVX2 FMA\n",
      "To enable them in other operations, rebuild TensorFlow with the appropriate compiler flags.\n",
      "2022-09-15 19:43:02.210690: I tensorflow/core/common_runtime/gpu/gpu_device.cc:1510] Created device /job:localhost/replica:0/task:0/device:GPU:0 with 2629 MB memory:  -> device: 0, name: GRID A100X-1-5C MIG 1g.5gb, pci bus id: 0000:8c:00.0, compute capability: 8.0\n",
      "2022-09-15 19:43:09.671023: I tensorflow/compiler/mlir/mlir_graph_optimization_pass.cc:185] None of the MLIR Optimization Passes are enabled (registered 2)\n",
      "2022-09-15 19:43:10.540951: I tensorflow/stream_executor/cuda/cuda_dnn.cc:369] Loaded cuDNN version 8101\n",
      "2022-09-15 19:43:11.658420: I tensorflow/stream_executor/cuda/cuda_blas.cc:1760] TensorFloat-32 will be used for the matrix multiplication. This will only be logged once.\n"
     ]
    }
   ],
   "source": [
    "#!g2.mig\n",
    "\n",
    "\n",
    "def test():\n",
    "    global x_stft_pred\n",
    "    import numpy as np\n",
    "    model = getAutoencoder()()\n",
    "    model.load()\n",
    "    \n",
    "    x_stft_pred = []\n",
    "    mag_ang = nnorm(get_x_stft(np.load(\"x.npy\")))[1:2, :, :]\n",
    "    print(mag_ang.shape)\n",
    "    mag, ang = np.dsplit(mag_ang, 2)\n",
    "    for i in range(9):\n",
    "    #     print(x_stft[0, :, i].shape)\n",
    "#         a = model.predict(np.dstack([  mag[0, :, i], ang[0, :, i]    ]))\n",
    "        m1 = np.array([   mag[0, :, i:i+1]   ])\n",
    "        a = np.dstack([       model_predict_mag(model, m1), ang[0, :, i]    ])\n",
    "        print(denorm(a).shape)\n",
    "        x_stft_pred.append(denorm(a).reshape(1025))\n",
    "\n",
    "    x_stft_pred = np.array(x_stft_pred)\n",
    "    x_stft_pred = np.swapaxes(x_stft_pred, 0, 1)\n",
    "    \n",
    "    np.save(\"x_stft_pred\", x_stft_pred)\n",
    "\n",
    "run_proc(test)"
   ]
  },
  {
   "cell_type": "code",
   "execution_count": 106,
   "id": "d87d5dd3",
   "metadata": {
    "cellId": "k37z762pwoi4wcufs5pai6"
   },
   "outputs": [
    {
     "name": "stdout",
     "output_type": "stream",
     "text": [
      "starting proc\n",
      "WARNING:tensorflow:No training configuration found in the save file, so the model was *not* compiled. Compile it manually.\n",
      "WARNING:tensorflow:No training configuration found in the save file, so the model was *not* compiled. Compile it manually.\n",
      "(5, 1025, 18)\n",
      "(5, 1025, 9) (5, 1025, 9)\n",
      "(5, 1025, 18)\n",
      "(5, 1025, 9)\n"
     ]
    },
    {
     "name": "stderr",
     "output_type": "stream",
     "text": [
      "2022-09-15 20:06:53.001103: I tensorflow/core/platform/cpu_feature_guard.cc:142] This TensorFlow binary is optimized with oneAPI Deep Neural Network Library (oneDNN) to use the following CPU instructions in performance-critical operations:  AVX2 FMA\n",
      "To enable them in other operations, rebuild TensorFlow with the appropriate compiler flags.\n",
      "2022-09-15 20:06:53.522106: I tensorflow/core/common_runtime/gpu/gpu_device.cc:1510] Created device /job:localhost/replica:0/task:0/device:GPU:0 with 2629 MB memory:  -> device: 0, name: GRID A100X-1-5C MIG 1g.5gb, pci bus id: 0000:8c:00.0, compute capability: 8.0\n",
      "2022-09-15 20:07:00.892888: I tensorflow/compiler/mlir/mlir_graph_optimization_pass.cc:185] None of the MLIR Optimization Passes are enabled (registered 2)\n",
      "2022-09-15 20:07:01.792924: I tensorflow/stream_executor/cuda/cuda_dnn.cc:369] Loaded cuDNN version 8101\n",
      "2022-09-15 20:07:02.925166: I tensorflow/stream_executor/cuda/cuda_blas.cc:1760] TensorFloat-32 will be used for the matrix multiplication. This will only be logged once.\n"
     ]
    }
   ],
   "source": [
    "#!g2.mig\n",
    "\n",
    "\n",
    "def test():\n",
    "    global x_stft_pred\n",
    "    import numpy as np\n",
    "    model = getAutoencoder()()\n",
    "    model.load()\n",
    "    \n",
    "    x_stft_pred = []\n",
    "    mag_ang = nnorm(get_x_stft(np.load(\"x.npy\")))[:10, :, :]\n",
    "    print(mag_ang.shape)\n",
    "    mag, ang = np.dsplit(mag_ang, 2)\n",
    "    \n",
    "    m1 = mag[:, :, :]\n",
    "    \n",
    "    mag_pred = model_predict_mag(model, m1)\n",
    "    ang_pred = ang[:, :, :]\n",
    "    \n",
    "    print(mag_pred.shape, ang_pred.shape)\n",
    "    \n",
    "    a = np.dstack((mag_pred, ang_pred))\n",
    "    print(a.shape)\n",
    "    x_stft_pred = denorm(a)\n",
    "    print(x_stft_pred.shape)\n",
    "#     x_stft_pred = .reshape(1025)\n",
    "\n",
    "#     x_stft_pred = np.array(x_stft_pred)\n",
    "#     x_stft_pred = np.swapaxes(x_stft_pred, 0, 1)\n",
    "    \n",
    "    np.save(\"x_stft_pred\", x_stft_pred)\n",
    "\n",
    "run_proc(test)"
   ]
  },
  {
   "cell_type": "code",
   "execution_count": 172,
   "id": "2fdd4edf",
   "metadata": {
    "cellId": "iqf3vbvmhdm5g6nhcfn8"
   },
   "outputs": [
    {
     "data": {
      "text/html": [
       "\n",
       "                <audio  controls=\"controls\" >\n",
       "                    <source src=\"data:audio/wav;base64,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\" type=\"audio/wav\" />\n",
       "                    Your browser does not support the audio element.\n",
       "                </audio>\n",
       "              "
      ],
      "text/plain": [
       "<IPython.lib.display.Audio object>"
      ]
     },
     "metadata": {},
     "output_type": "display_data"
    }
   ],
   "source": [
    "#!g2.mig\n",
    "import IPython.display as ipd\n",
    "import librosa\n",
    "import numpy as np\n",
    "SAMPLE_RATE = 4096\n",
    "\n",
    "ipd.Audio(data=librosa.istft(librosa.stft(np.load(\"x.npy\")[4])), rate=SAMPLE_RATE)"
   ]
  },
  {
   "cell_type": "code",
   "execution_count": 116,
   "id": "a29bb1ae",
   "metadata": {
    "cellId": "hazkiqj4haa979yz6da0si"
   },
   "outputs": [
    {
     "data": {
      "text/html": [
       "\n",
       "                <audio  controls=\"controls\" >\n",
       "                    <source src=\"data:audio/wav;base64,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\" type=\"audio/wav\" />\n",
       "                    Your browser does not support the audio element.\n",
       "                </audio>\n",
       "              "
      ],
      "text/plain": [
       "<IPython.lib.display.Audio object>"
      ]
     },
     "metadata": {},
     "output_type": "display_data"
    }
   ],
   "source": [
    "#!g2.mig\n",
    "\n",
    "ipd.Audio(data=librosa.istft(np.load(\"x_stft_pred.npy\")[4]), rate=SAMPLE_RATE)"
   ]
  },
  {
   "cell_type": "code",
   "execution_count": null,
   "id": "16928f51",
   "metadata": {
    "cellId": "vzdi4tbgt4kt2niyx2xyv"
   },
   "outputs": [],
   "source": []
  },
  {
   "cell_type": "code",
   "execution_count": null,
   "id": "249427c2",
   "metadata": {
    "cellId": "ulzfdmggfw8i8rm9fx156d"
   },
   "outputs": [],
   "source": [
    "#!g2.mig\n",
    "plt.plot(np.abs(x_stft[0, :, 0]))\n",
    "plt.show()\n",
    "plt.plot(np.abs(x_stft_pred[:, 0]))"
   ]
  },
  {
   "cell_type": "code",
   "execution_count": null,
   "id": "13da992c",
   "metadata": {
    "cellId": "tlun7d363xmuk91ti7jva"
   },
   "outputs": [],
   "source": [
    "#!g2.mig\n",
    "import matplotlib.pyplot as plt\n",
    "\n",
    "plt.plot(librosa.istft(librosa.stft(x[0])))\n",
    "plt.plot(librosa.istft(x_stft_pred))\n"
   ]
  },
  {
   "cell_type": "code",
   "execution_count": null,
   "id": "f528b970",
   "metadata": {
    "cellId": "9e7xludwltrmws2clfz2xk"
   },
   "outputs": [],
   "source": [
    "#!g2.mig\n",
    "librosa.istft(x_stft[0])"
   ]
  },
  {
   "cell_type": "code",
   "execution_count": null,
   "id": "87eff4f0",
   "metadata": {
    "cellId": "b4qpk2v6rca8ubc3570k5a"
   },
   "outputs": [],
   "source": [
    "#!g2.mig\n",
    "librosa.istft(x_stft[0])"
   ]
  },
  {
   "cell_type": "code",
   "execution_count": null,
   "id": "298e7f92",
   "metadata": {
    "cellId": "d97nlyfaaeugd0rmkgrwk"
   },
   "outputs": [],
   "source": [
    "#!g2.mig\n",
    "librosa.istft(x_stft_pred)"
   ]
  },
  {
   "cell_type": "code",
   "execution_count": null,
   "id": "08cfc5ea",
   "metadata": {
    "cellId": "z10o9z45et8q0yg82wrrqj"
   },
   "outputs": [],
   "source": [
    "#!g2.mig\n",
    "x_stft[0].shape"
   ]
  },
  {
   "cell_type": "code",
   "execution_count": null,
   "id": "fe71a2af",
   "metadata": {
    "cellId": "ii0tg1m9l2aqryybh61zd"
   },
   "outputs": [],
   "source": [
    "#!g2.mig\n",
    "x_stft_pred.shape"
   ]
  },
  {
   "cell_type": "code",
   "execution_count": null,
   "id": "8a72c5ac",
   "metadata": {
    "cellId": "61xtlz5m0e6d4mpm7kdpw"
   },
   "outputs": [],
   "source": [
    "#!g2.mig\n"
   ]
  },
  {
   "cell_type": "code",
   "execution_count": null,
   "id": "1ef61ec3",
   "metadata": {
    "cellId": "u59spjsk9mo4h06fs1tf9p"
   },
   "outputs": [],
   "source": [
    "#!g2.mig\n",
    "!nvidia-smi"
   ]
  },
  {
   "cell_type": "code",
   "execution_count": null,
   "id": "92dddaa0",
   "metadata": {
    "cellId": "k54ijgmntlm43bokkcqa"
   },
   "outputs": [],
   "source": [
    "#!g2.mig\n"
   ]
  },
  {
   "cell_type": "code",
   "execution_count": null,
   "id": "1aed1ffd",
   "metadata": {
    "cellId": "d4t8xaruyif5vcpt2yptbu"
   },
   "outputs": [],
   "source": [
    "#!g2.mig\n"
   ]
  },
  {
   "cell_type": "code",
   "execution_count": null,
   "id": "cbc8a27c",
   "metadata": {
    "cellId": "pa22opyw6vajokplpo0yy"
   },
   "outputs": [],
   "source": [
    "#!g2.mig\n"
   ]
  },
  {
   "cell_type": "code",
   "execution_count": null,
   "id": "899bf293",
   "metadata": {
    "cellId": "ac1yiwayfd4jp3afc9spgd"
   },
   "outputs": [],
   "source": [
    "#!g2.mig\n"
   ]
  },
  {
   "cell_type": "code",
   "execution_count": null,
   "id": "1ffbffe1",
   "metadata": {
    "cellId": "lcu456urc3xjcfzylp7oq"
   },
   "outputs": [],
   "source": [
    "#!g2.mig\n"
   ]
  },
  {
   "cell_type": "code",
   "execution_count": null,
   "id": "7fe01c5a",
   "metadata": {
    "cellId": "t9boutrbum19u0nia8ytr"
   },
   "outputs": [],
   "source": [
    "#!g2.mig\n"
   ]
  }
 ],
 "metadata": {
  "kernelspec": {
   "display_name": "Python 3 (ipykernel)",
   "language": "python",
   "name": "python3"
  },
  "notebookId": "32a05a17-2f20-4bf0-a208-5a96531d8966",
  "notebookPath": "gan.ipynb"
 },
 "nbformat": 4,
 "nbformat_minor": 5
}
