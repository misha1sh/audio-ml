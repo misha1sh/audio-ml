{
 "cells": [
  {
   "cell_type": "code",
   "execution_count": 1,
   "metadata": {},
   "outputs": [
    {
     "data": {
      "text/plain": [
       "(True,\n",
       " tensor([0.8343, 0.2181, 0.1514, 0.9240, 0.2124, 0.7090, 0.9350, 0.6035, 0.3245,\n",
       "         0.9577], device='cuda:0'))"
      ]
     },
     "execution_count": 1,
     "metadata": {},
     "output_type": "execute_result"
    }
   ],
   "source": [
    "import torch\n",
    "import torch.nn as nn\n",
    "from torch.optim.lr_scheduler import ReduceLROnPlateau\n",
    "from torch import Tensor\n",
    "import functools\n",
    "import os\n",
    "import numpy as np\n",
    "\n",
    "import warnings\n",
    "import glob\n",
    "\n",
    "\n",
    "import io\n",
    "from joblib import delayed \n",
    "\n",
    "from cacher import root, file_cached, mem_cached, clear_cache\n",
    "\n",
    "import pymorphy2\n",
    "\n",
    "from corus import load_lenta2\n",
    "from navec import Navec\n",
    "from razdel import tokenize, sentenize\n",
    "\n",
    "from utils import ProgressParallel\n",
    "from joblib import delayed\n",
    "\n",
    "from utils import download_file\n",
    "\n",
    "from slovnet.model.emb import NavecEmbedding\n",
    "\n",
    "# from torchmetrics.functional.classification import binary_accuracy\n",
    "\n",
    "import random\n",
    "import string\n",
    "import pymorphy2\n",
    "morph = pymorphy2.MorphAnalyzer()\n",
    "\n",
    "def reverse_dict(d, priority_for_duplicates=[]):\n",
    "    res = {val: key for key, val in d.items()}\n",
    "    for key in priority_for_duplicates:\n",
    "        res[d[key]] = key\n",
    "    return res\n",
    "\n",
    "def run_proc(task):\n",
    "    import multiprocessing\n",
    "    print(\"starting proc\")\n",
    "    p = multiprocessing.Process(target=task)\n",
    "    try:\n",
    "        p.start()\n",
    "        p.join()\n",
    "    except KeyboardInterrupt:\n",
    "        print(\"terminating proccess\")\n",
    "        p.terminate()\n",
    "        from time import sleep\n",
    "        sleep(1)\n",
    "        print(\"killing\")\n",
    "        p.kill()\n",
    "torch.cuda.is_available(), torch.rand(10).to('cuda:0')"
   ]
  },
  {
   "cell_type": "code",
   "execution_count": null,
   "metadata": {},
   "outputs": [],
   "source": []
  },
  {
   "cell_type": "code",
   "execution_count": 2,
   "metadata": {},
   "outputs": [
    {
     "data": {
      "text/plain": [
       "53"
      ]
     },
     "execution_count": 2,
     "metadata": {},
     "output_type": "execute_result"
    }
   ],
   "source": [
    "from pymorphy2.tagset import OpencorporaTag\n",
    "\n",
    "# https://pymorphy2.readthedocs.io/en/stable/user/grammemes.html\n",
    "# http://opencorpora.org/dict.php?act=gram\n",
    "# https://github.com/pymorphy2/pymorphy2/blob/92d546f042ff14601376d3646242908d5ab786c1/pymorphy2/tagset.py#L130\n",
    "feature_tags_array = [\n",
    "    OpencorporaTag.PARTS_OF_SPEECH, # часть речи\n",
    "    OpencorporaTag.GENDERS, # род\n",
    "    OpencorporaTag.NUMBERS, # число\n",
    "    OpencorporaTag.CASES, # падеж\n",
    "    OpencorporaTag.ASPECTS, # соверш / несоверш\n",
    "    OpencorporaTag.TRANSITIVITY, # перех / непереходный\n",
    "    OpencorporaTag.PERSONS, # лицо\n",
    "    OpencorporaTag.TENSES, # время\n",
    "    OpencorporaTag.MOODS, # наклонение\n",
    "    OpencorporaTag.VOICES, # залог\n",
    "    #INVOLVEMENT\n",
    "    ['Prnt'], # вводные слова\n",
    "    ['Apro'], # местоимение\n",
    "    ['NUMB'], # число вида 1234\n",
    "    ['LATIN'], # текст на английском\n",
    "    ['UNKN'], # неизвестный токен\n",
    "]\n",
    "\n",
    "feature_tags_dict = {tag: i for i, tag in enumerate([item for sublist in feature_tags_array for item in sublist])}\n",
    "\n",
    "len(feature_tags_dict)"
   ]
  },
  {
   "cell_type": "code",
   "execution_count": null,
   "metadata": {},
   "outputs": [],
   "source": []
  },
  {
   "cell_type": "code",
   "execution_count": null,
   "metadata": {},
   "outputs": [],
   "source": []
  },
  {
   "cell_type": "code",
   "execution_count": 3,
   "metadata": {},
   "outputs": [],
   "source": [
    "VARIANTS_CNT = 2\n",
    "FEATURES_CNT = len(feature_tags_dict) + 1\n",
    "VARIANT_PROB_IDX = len(feature_tags_dict)\n",
    "\n",
    "NO_PUNCT = 0\n",
    "PUNCTUATION_TARGET = {\n",
    "    \"$empty\": 0,\n",
    "    \".\": 1,\n",
    "    \"!\": 1,\n",
    "    \"?\": 1,\n",
    "    \",\": 2,\n",
    "}\n",
    "ID_TO_PUNCTUATION = reverse_dict(PUNCTUATION_TARGET, priority_for_duplicates=['.'])\n",
    "TARGET_CLASSES_COUNT = 3\n",
    "\n",
    "PUNCTUATION_ALL = string.punctuation\n",
    "\n",
    "INPUT_WORDS_CNT = 5\n",
    "INPUT_WORDS_CNT_LEFT = INPUT_WORDS_CNT // 2\n",
    "INPUT_WORDS_CNT_RIGHT = INPUT_WORDS_CNT - INPUT_WORDS_CNT_LEFT\n",
    "\n",
    "def empty_word_features():\n",
    "    return torch.zeros([VARIANTS_CNT, FEATURES_CNT], dtype=torch.float32)\n",
    "\n",
    "def get_word_features(word):\n",
    "    res = empty_word_features()\n",
    "    for i, variant in enumerate(morph.parse(word)[:VARIANTS_CNT]):\n",
    "        for tag in variant.tag._grammemes_tuple:\n",
    "            tag_index = feature_tags_dict.get(tag, None)\n",
    "            if tag_index:\n",
    "                res[i][tag_index] = True\n",
    "        res[i][VARIANT_PROB_IDX] = variant.score\n",
    "    return res\n",
    "\n",
    "def build_input_and_output(text):\n",
    "    input = []\n",
    "    output = []\n",
    "\n",
    "    for i in range(INPUT_WORDS_CNT_LEFT):\n",
    "        input.append(empty_word_features())\n",
    "        output.append(NO_PUNCT)\n",
    "\n",
    "    for token in tokenize(text):\n",
    "        s = token.text\n",
    "        puntuation_idx = PUNCTUATION_TARGET.get(s, None)\n",
    "        if puntuation_idx is not None:\n",
    "            if output[-1] != NO_PUNCT: \n",
    "                # we are unable to handle double punctuation yey\n",
    "                continue \n",
    "            output[-1] = puntuation_idx\n",
    "            continue\n",
    "\n",
    "        input.append(get_word_features(s))\n",
    "        output.append(NO_PUNCT)\n",
    "\n",
    "    for i in range(INPUT_WORDS_CNT_RIGHT):\n",
    "        input.append(empty_word_features())\n",
    "        output.append(NO_PUNCT)\n",
    "    \n",
    "    return torch.stack(input), torch.LongTensor(output)\n",
    "\n",
    "def create_dataset_for_text(text):\n",
    "    sampled_input = []\n",
    "    sampled_output = [] \n",
    "    \n",
    "    # input is (N_words, N_variants, N_features)\n",
    "    # output is (N_words, )\n",
    "    txt = text\n",
    "    input, output = build_input_and_output(txt)\n",
    "\n",
    "    for i in range(INPUT_WORDS_CNT_LEFT, len(input) - INPUT_WORDS_CNT_RIGHT):\n",
    "        if output[i] != 0 or random.random() < 0.1:\n",
    "            sampled_input.append(input[i - INPUT_WORDS_CNT_LEFT: i + INPUT_WORDS_CNT_RIGHT])\n",
    "            sampled_output.append(output[i])\n",
    "    if len(sampled_input) == 0: return None\n",
    "    return torch.stack(sampled_input), torch.stack(sampled_output)\n",
    "\n",
    "def create_dataset(texts):\n",
    "    tasks = []\n",
    "    for text in texts:\n",
    "        tasks.append(delayed(create_dataset_for_text)(text))\n",
    "    completed_tasks = ProgressParallel(n_jobs=16, total=len(tasks))(tasks)\n",
    "    # for i, o in completed_tasks:\n",
    "        # print(i.shape, o.shape)\n",
    "    input, output = zip(*filter(lambda res: res is not None, completed_tasks))\n",
    "    input_tensor, output_tensor = torch.cat(input), torch.cat(output)\n",
    "    output_tensor = torch.nn.functional.one_hot(output_tensor, TARGET_CLASSES_COUNT)\n",
    "    return input_tensor, output_tensor.float()\n",
    "            \n",
    "# input, output = create_dataset([\n",
    "#     'Однако самые ранние свидетельства приручения кошек древними египтянами относились к 2000—1900 годам до нашей эры. А недавно было установлено, что в Древний Египет домашняя кошка попала, как и на Кипр, с территории Анатолии. В настоящее время кошка является одним из самых популярных домашних животных. ',\n",
    "#     'В лесу родилась елочка, в лесу она росла.'])\n",
    "# input.shape, output.shape\n"
   ]
  },
  {
   "cell_type": "code",
   "execution_count": 4,
   "metadata": {},
   "outputs": [
    {
     "data": {
      "text/plain": [
       "(torch.Size([1670055, 5, 2, 54]), torch.Size([1670055, 3]))"
      ]
     },
     "execution_count": 4,
     "metadata": {},
     "output_type": "execute_result"
    }
   ],
   "source": [
    "lenta_path = download_file(\"lenta-ru-news.csv.gz\", \n",
    "    \"https://github.com/yutkin/Lenta.Ru-News-Dataset/releases/download/v1.1/lenta-ru-news.csv.bz2\")\n",
    "\n",
    "@mem_cached(\"read_lenta_records\")\n",
    "def read_lenta_records(cnt):\n",
    "    records = load_lenta2(lenta_path)\n",
    "    res = []\n",
    "    for record in records:\n",
    "        if len(res) >= cnt: break\n",
    "        res.append(record.text)\n",
    "    return res\n",
    "\n",
    "@mem_cached(\"create_lenta_dataset\")\n",
    "@file_cached(\"create_lenta_dataset\")\n",
    "def create_lenta_dataset(cnt):\n",
    "    texts = read_lenta_records(cnt)\n",
    "    input, output = create_dataset(texts)\n",
    "    return {\"input\": input, \"output\": output}\n",
    "\n",
    "dataset = create_lenta_dataset(50000)\n",
    "input, output = dataset['input'], dataset['output']\n",
    "input.shape, output.shape, \n"
   ]
  },
  {
   "cell_type": "code",
   "execution_count": 5,
   "metadata": {},
   "outputs": [
    {
     "data": {
      "text/plain": [
       "('3440 Mb', '19 Mb', tensor([0.3940, 0.2556, 0.3504]))"
      ]
     },
     "execution_count": 5,
     "metadata": {},
     "output_type": "execute_result"
    }
   ],
   "source": [
    "def size_of_tensor(tensor):\n",
    "    return str(round(tensor.nelement() * tensor.element_size() / 1024 / 1024 )) + \" Mb\"\n",
    "def count_parameters(model):\n",
    "    param_size = 0\n",
    "    for param in model.parameters():\n",
    "        param_size += param.nelement() * param.element_size()\n",
    "    return param_size / 1024 ** 2\n",
    "size_of_tensor(input), size_of_tensor(output), torch.sum(output, 0) / len(output)"
   ]
  },
  {
   "cell_type": "code",
   "execution_count": null,
   "metadata": {},
   "outputs": [],
   "source": []
  },
  {
   "cell_type": "code",
   "execution_count": 83,
   "metadata": {},
   "outputs": [
    {
     "data": {
      "text/plain": [
       "(torch.Size([1671211, 5, 2, 60]), torch.Size([1671211, 600]))"
      ]
     },
     "execution_count": 83,
     "metadata": {},
     "output_type": "execute_result"
    }
   ],
   "source": [
    "# a = nn.Conv2d(N, 32, \n",
    "#               kernel_size=FEATURES_CNT, \n",
    "#                     stride=FEATURES_CNT) # convolve each word into 32-vector-embedding\n",
    "a = nn.Flatten(1)\n",
    "input.shape, a(input).shape"
   ]
  },
  {
   "cell_type": "code",
   "execution_count": 6,
   "metadata": {},
   "outputs": [
    {
     "name": "stderr",
     "output_type": "stream",
     "text": [
      "A matching Triton is not available, some optimizations will not be enabled.\n",
      "Error caught was: No module named 'triton'\n",
      "Triton is not available, some optimizations will not be enabled.\n",
      "This is just a warning: No module named 'triton'\n",
      "Triton is not available, FusedMLP will not be enabled.\n",
      "Either FairScale or torch distributed is not available, MixtureOfExperts will not be exposed. Please install them if you would like to use MoE\n"
     ]
    }
   ],
   "source": [
    "from xformers.factory import xFormerEncoderBlock, xFormerEncoderConfig\n",
    "N_words = INPUT_WORDS_CNT\n",
    "N_variants = VARIANTS_CNT\n",
    "N_features = FEATURES_CNT\n",
    "\n",
    "encoder_config = {\n",
    "    \"dim_model\": N_variants * N_features,\n",
    "    \"residual_norm_style\": \"pre\",  # Optional, pre/post\n",
    "    \"position_encoding_config\": {\n",
    "        \"name\": \"sine\",  # whatever position encodinhg makes sense\n",
    "        # \"dim_model\": VARIANTS_CNT * N_features,\n",
    "    },\n",
    "    \"multi_head_config\": {\n",
    "        \"num_heads\": 4,\n",
    "        \"residual_dropout\": 0,\n",
    "        \"attention\": {\n",
    "            \"name\": \"linformer\", #m fourier_mix, \"linformer\" scaled_dot_product,  # whatever attention mechanism\n",
    "            \"dropout\": 0, # linformer\n",
    "            \"seq_len\": N_words, # linformer, scaled_dot_product\n",
    "            \"to_seq_len\": N_words, # scaled_dot_product\n",
    "        },\n",
    "    },\n",
    "    \"feedforward_config\": {\n",
    "        \"name\": \"MLP\",\n",
    "        \"dropout\": 0,\n",
    "        \"activation\": \"relu\",\n",
    "        \"hidden_layer_multiplier\": 1,\n",
    "    },\n",
    "}"
   ]
  },
  {
   "cell_type": "code",
   "execution_count": 7,
   "metadata": {},
   "outputs": [
    {
     "name": "stdout",
     "output_type": "stream",
     "text": [
      "torch.Size([10, 5, 108]) torch.Size([10, 5, 108])\n"
     ]
    }
   ],
   "source": [
    "inp = nn.Flatten(2)(input[:11])\n",
    "\n",
    "config = xFormerEncoderConfig(**encoder_config)\n",
    "\n",
    "encoder = xFormerEncoderBlock(config)\n",
    "\n",
    "#  Test out with dummy inputs\n",
    "x = (torch.rand((10, N_words, N_variants * N_features))).abs().to(torch.float32)\n",
    "y = encoder(x) # (x, x, x)\n",
    "print(x.shape, y.shape)\n",
    "\n",
    "# a = nn.TransformerEncoderLayer(d_model=N_variants *N_features,\n",
    "#                                nhead=4, dim_feedforward=10, batch_first=True)\n",
    "# inp.shape, a(inp).shape, count_parameters(a)"
   ]
  },
  {
   "cell_type": "code",
   "execution_count": 6,
   "metadata": {},
   "outputs": [
    {
     "ename": "TypeError",
     "evalue": "_transformer_encoder_layer_fwd(): argument 'src' (position 1) must be Tensor, not int",
     "output_type": "error",
     "traceback": [
      "\u001b[0;31m---------------------------------------------------------------------------\u001b[0m",
      "\u001b[0;31mTypeError\u001b[0m                                 Traceback (most recent call last)",
      "Cell \u001b[0;32mIn[6], line 1\u001b[0m\n\u001b[0;32m----> 1\u001b[0m torch\u001b[39m.\u001b[39;49m_transformer_encoder_layer_fwd(\u001b[39m1\u001b[39;49m, \u001b[39m2\u001b[39;49m, \u001b[39m3\u001b[39;49m, \u001b[39m4\u001b[39;49m, \u001b[39m5\u001b[39;49m, \u001b[39m6\u001b[39;49m, \u001b[39m7\u001b[39;49m)\n",
      "\u001b[0;31mTypeError\u001b[0m: _transformer_encoder_layer_fwd(): argument 'src' (position 1) must be Tensor, not int"
     ]
    }
   ],
   "source": [
    "torch._transformer_encoder_layer_fwd(1, 2, 3, 4, 5, 6, 7)"
   ]
  },
  {
   "cell_type": "code",
   "execution_count": 8,
   "metadata": {},
   "outputs": [
    {
     "name": "stdout",
     "output_type": "stream",
     "text": [
      "0.55 Mb of parameters\n",
      "[0/400] [11.5 s]\t loss: 0.5737 loss_test: 0.5167  lr: 0.0010  \n",
      "[1/400] [22.5 s]\t loss: 0.4898 loss_test: 0.4779  lr: 0.0010  \n",
      "[2/400] [33.5 s]\t loss: 0.4682 loss_test: 0.4702  lr: 0.0010  \n",
      "[3/400] [44.6 s]\t loss: 0.4557 loss_test: 0.4570  lr: 0.0010  \n",
      "[4/400] [55.7 s]\t loss: 0.4471 loss_test: 0.4510  lr: 0.0010  \n",
      "[5/400] [66.9 s]\t loss: 0.4404 loss_test: 0.4465  lr: 0.0010  \n",
      "[6/400] [78.3 s]\t loss: 0.4350 loss_test: 0.4416  lr: 0.0010  \n",
      "[7/400] [89.6 s]\t loss: 0.4311 loss_test: 0.4388  lr: 0.0010  \n",
      "[8/400] [100.8 s]\t loss: 0.4276 loss_test: 0.4356  lr: 0.0010  \n",
      "[9/400] [112.0 s]\t loss: 0.4245 loss_test: 0.4321  lr: 0.0010  \n",
      "[10/400] [123.3 s]\t loss: 0.4218 loss_test: 0.4315  lr: 0.0010  \n",
      "interrupted\n"
     ]
    },
    {
     "data": {
      "image/png": "[encoded data removed]",
      "text/plain": [
       "<Figure size 640x480 with 1 Axes>"
      ]
     },
     "metadata": {},
     "output_type": "display_data"
    }
   ],
   "source": [
    "class Model(nn.Module):\n",
    "    def __init__(self, **kwargs):\n",
    "        super().__init__()\n",
    "        N_words = INPUT_WORDS_CNT\n",
    "        N_variants = VARIANTS_CNT\n",
    "        N_features = FEATURES_CNT\n",
    "\n",
    " \n",
    "\n",
    "\n",
    "        # input is (N, N_words, N_variants, N_features)\n",
    "        # output is (N, N_words, )\n",
    "\n",
    "        # self.model = nn.Sequential(\n",
    "        #     nn.Flatten(1), # (N, N_words* N_variants *N_features)\n",
    "        #     nn.Linear(N_words* N_variants *N_features, 100),\n",
    "        #     nn.Tanh(),\n",
    "        #     nn.Linear(100, 100),\n",
    "        #     nn.ReLU(),\n",
    "        #     nn.Linear(100, TARGET_CLASSES_COUNT),\n",
    "        #     # nn.Tanh(),\n",
    "        #     # nn.Tanhshrink(),\n",
    "        #     # nn.Sigmoid(),\n",
    "        #     # nn.ReLU(),\n",
    "        # )\n",
    "        # encoder_layer = nn.TransformerEncoderLayer(d_model=N_variants *N_features,\n",
    "        #                            nhead=1, dim_feedforward=10,\n",
    "        #                            dropout=0.1, activation=nn.ReLU(), batch_first=True)\n",
    "        self.model = nn.Sequential(\n",
    "            nn.Flatten(2), # (N, N_words, N_variants *N_features)\n",
    "            # nn.TransformerEncoder(encoder_layer, num_layers=1),encoder = \n",
    "            xFormerEncoderBlock(xFormerEncoderConfig(**encoder_config)),\n",
    "            xFormerEncoderBlock(xFormerEncoderConfig(**encoder_config)),\n",
    "\n",
    "            nn.Flatten(1), # (N, N_words* N_variants *N_features)\n",
    "            # nn.Tanh(),\n",
    "            nn.Linear(N_words* N_variants *N_features, TARGET_CLASSES_COUNT),\n",
    "            # nn.ReLU(),\n",
    "            # nn.Linear(100, TARGET_CLASSES_COUNT),\n",
    "            # nn.Tanh(),\n",
    "            # nn.Tanhshrink(),\n",
    "            # nn.Sigmoid(),\n",
    "            # nn.ReLU(),\n",
    "        )\n",
    "\n",
    "\n",
    "    def forward(self, x):\n",
    "        return self.model(x)\n",
    "\n",
    "    # buffer_size = 0\n",
    "    # for buffer in model.buffers():\n",
    "    #     buffer_size += buffer.nelement() * buffer.element_size()\n",
    "    # return (param_size + buffer_size) / 1024**2\n",
    "\n",
    "def train_model():\n",
    "    model = Model()\n",
    "    print(round(count_parameters(model), 3), \"Mb of parameters\")\n",
    "    import importlib\n",
    "    import trainer_mod\n",
    "    importlib.reload(trainer_mod)\n",
    "    Trainer = trainer_mod.Trainer\n",
    "\n",
    "    optimizer = torch.optim.Adam(model.parameters(), \n",
    "                            lr=1e-3)\n",
    "                            # betas=(0.5, 0.999))\n",
    "\n",
    "    trainer = Trainer(model=model, \n",
    "                    # loss=nn.MSELoss(),\n",
    "                    loss=nn.CrossEntropyLoss(),\n",
    "                    optimizer=optimizer,\n",
    "                    scheduler=None,\n",
    "                    # scheduler=ReduceLROnPlateau(optimizer, factor=0.2, threshold=1e-5, patience=50),\n",
    "                    additional_losses={\n",
    "                        # \"accurancy\": lambda trainer: {\"accurancy\": \n",
    "                        #    float(torch.mean(torch.abs(trainer.model(trainer.x_test) - trainer.y_test)).detach())\n",
    "                        # },\n",
    "                    })\n",
    "\n",
    "    trainer.set_data(input, output, train_test_split=0.9)\n",
    "    try:\n",
    "        trainer.train(400, batch=1000, trial=None, log=True)\n",
    "    except KeyboardInterrupt:\n",
    "        print(\"interrupted\")\n",
    "        pass\n",
    "    \n",
    "    trainer.plot_history(cutoff=0)\n",
    "    return trainer\n",
    "import os\n",
    "# os.environ[\"CUDA_HOME\"] = \"/home/misha-sh/cuda\"\n",
    "\n",
    "trainer = train_model()\n",
    "# run_proc(train_model)"
   ]
  },
  {
   "cell_type": "code",
   "execution_count": 11,
   "metadata": {},
   "outputs": [
    {
     "data": {
      "text/plain": [
       "torch.Size([1670055, 5, 2, 54])"
      ]
     },
     "execution_count": 11,
     "metadata": {},
     "output_type": "execute_result"
    }
   ],
   "source": [
    "input.shape"
   ]
  },
  {
   "cell_type": "code",
   "execution_count": 9,
   "metadata": {},
   "outputs": [],
   "source": [
    "try: del _ \n",
    "except: pass\n",
    "try: del __\n",
    "except: pass\n",
    "try: del ___\n",
    "except: pass\n",
    "try: del ____\n",
    "except: pass\n",
    "try: del _____\n",
    "except: pass\n",
    "try: del trainer\n",
    "except: pass\n",
    "try: del model\n",
    "except: pass\n",
    "try: del optimizer\n",
    "except: pass\n",
    "import gc\n",
    "gc.collect()\n",
    "torch.cuda.empty_cache() "
   ]
  },
  {
   "cell_type": "code",
   "execution_count": 96,
   "metadata": {},
   "outputs": [
    {
     "data": {
      "text/plain": [
       "(array([0, 2, 2, ..., 2, 0, 0]), array([0, 2, 2, ..., 1, 0, 0]))"
      ]
     },
     "execution_count": 96,
     "metadata": {},
     "output_type": "execute_result"
    }
   ],
   "source": [
    "y_test, y_pred"
   ]
  },
  {
   "cell_type": "code",
   "execution_count": 9,
   "metadata": {},
   "outputs": [
    {
     "data": {
      "text/plain": [
       "<AxesSubplot: >"
      ]
     },
     "execution_count": 9,
     "metadata": {},
     "output_type": "execute_result"
    },
    {
     "data": {
      "image/png": "[encoded data removed]",
      "text/plain": [
       "<Figure size 640x480 with 2 Axes>"
      ]
     },
     "metadata": {},
     "output_type": "display_data"
    }
   ],
   "source": [
    "with torch.no_grad():\n",
    "    trainer.model.eval()\n",
    "    y_test_pred = trainer.model(trainer.x_test)\n",
    "    _, y_pred_tags = torch.max(y_test_pred, dim = 1)\n",
    "    y_pred = y_pred_tags.cpu().numpy()\n",
    "    _, y_test_tags = torch.max(trainer.y_test, dim = 1)\n",
    "    y_test = y_test_tags.cpu().numpy()\n",
    "    \n",
    "import pandas as pd\n",
    "import seaborn as sns\n",
    "from sklearn.metrics import confusion_matrix\n",
    "confusion_matrix_df = pd.DataFrame(confusion_matrix(y_test, y_pred, normalize=\"true\")).rename(\n",
    "        columns=ID_TO_PUNCTUATION, index=ID_TO_PUNCTUATION)\n",
    "sns.heatmap(confusion_matrix_df, annot=True)"
   ]
  },
  {
   "cell_type": "code",
   "execution_count": null,
   "metadata": {},
   "outputs": [],
   "source": [
    "with torch.no_grad():\n",
    "    model.eval()\n",
    "    model.to"
   ]
  },
  {
   "cell_type": "code",
   "execution_count": 93,
   "metadata": {},
   "outputs": [
    {
     "data": {
      "text/plain": [
       "((167122, 3), (1, 167122))"
      ]
     },
     "execution_count": 93,
     "metadata": {},
     "output_type": "execute_result"
    }
   ],
   "source": [
    "y_test.shape, y_pred_list.shape"
   ]
  },
  {
   "cell_type": "code",
   "execution_count": null,
   "metadata": {},
   "outputs": [],
   "source": []
  },
  {
   "cell_type": "code",
   "execution_count": 31,
   "metadata": {},
   "outputs": [
    {
     "data": {
      "text/plain": [
       "tensor([0., 0., 0., 0., 0., 0., 0., 0., 0., 0., 0., 1., 0., 0., 0., 0., 1., 2.,\n",
       "        0., 0., 0., 0., 0., 0., 0., 0., 0., 0., 2., 0., 0., 0., 1., 0., 0., 0.,\n",
       "        0., 0., 0.])"
      ]
     },
     "execution_count": 31,
     "metadata": {},
     "output_type": "execute_result"
    }
   ],
   "source": [
    "trainer.y_train"
   ]
  },
  {
   "cell_type": "code",
   "execution_count": null,
   "metadata": {},
   "outputs": [],
   "source": [
    "# scaler = GradScaler()\n",
    "\n",
    "# for input, target in data:\n",
    "#     with torch.autocast(device_type='cuda'):\n",
    "#         output = model(input)\n",
    "#         loss = loss_fn(output, target)\n",
    "#     scaler.scale(loss).backward()\n",
    "#     scaler.step(optimizer)\n",
    "#     scaler.update()\n"
   ]
  },
  {
   "cell_type": "code",
   "execution_count": null,
   "metadata": {},
   "outputs": [],
   "source": []
  },
  {
   "cell_type": "code",
   "execution_count": null,
   "metadata": {},
   "outputs": [],
   "source": []
  },
  {
   "cell_type": "code",
   "execution_count": null,
   "metadata": {},
   "outputs": [],
   "source": []
  },
  {
   "cell_type": "code",
   "execution_count": null,
   "metadata": {},
   "outputs": [],
   "source": []
  }
 ],
 "metadata": {
  "kernelspec": {
   "display_name": "Python 3.10.6 64-bit",
   "language": "python",
   "name": "python3"
  },
  "language_info": {
   "codemirror_mode": {
    "name": "ipython",
    "version": 3
   },
   "file_extension": ".py",
   "mimetype": "text/x-python",
   "name": "python",
   "nbconvert_exporter": "python",
   "pygments_lexer": "ipython3",
   "version": "3.10.6"
  },
  "orig_nbformat": 4,
  "vscode": {
   "interpreter": {
    "hash": "916dbcbb3f70747c44a77c7bcd40155683ae19c65e1c03b4aa3499c5328201f1"
   }
  }
 },
 "nbformat": 4,
 "nbformat_minor": 2
}
