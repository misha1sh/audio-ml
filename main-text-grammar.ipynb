{
 "cells": [
  {
   "cell_type": "code",
   "execution_count": 1,
   "metadata": {},
   "outputs": [],
   "source": [
    "import torch\n",
    "import torch.nn as nn\n",
    "from torch.optim.lr_scheduler import ReduceLROnPlateau\n",
    "from torch import Tensor\n",
    "import functools\n",
    "import os\n",
    "import numpy as np\n",
    "\n",
    "import warnings\n",
    "import glob\n",
    "import io\n",
    "from joblib import delayed \n",
    "\n",
    "from cacher import root, file_cached, mem_cached, clear_cache\n",
    "\n",
    "import pymorphy2\n",
    "\n",
    "from corus import load_lenta2\n",
    "from navec import Navec\n",
    "from razdel import tokenize, sentenize\n",
    "\n",
    "# from data_loader import download_file\n",
    "\n",
    "from slovnet.model.emb import NavecEmbedding\n",
    "\n",
    "\n",
    "# from torchmetrics.functional.classification import binary_accuracy\n",
    "\n",
    "import random\n",
    "\n",
    "import pymorphy2\n",
    "morph = pymorphy2.MorphAnalyzer()\n"
   ]
  },
  {
   "cell_type": "code",
   "execution_count": 47,
   "metadata": {},
   "outputs": [
    {
     "data": {
      "text/plain": [
       "OpencorporaTag('VERB,perf,tran masc,sing,past,indc')"
      ]
     },
     "execution_count": 47,
     "metadata": {},
     "output_type": "execute_result"
    }
   ],
   "source": [
    "# POS = _select_grammeme_from(PARTS_OF_SPEECH)\n",
    "# animacy = _select_grammeme_from(ANIMACY)\n",
    "# aspect = _select_grammeme_from(ASPECTS)\n",
    "# case = _select_grammeme_from(CASES)\n",
    "# gender = _select_grammeme_from(GENDERS)\n",
    "# involvement = _select_grammeme_from(INVOLVEMENT)\n",
    "# mood = _select_grammeme_from(MOODS)\n",
    "# number = _select_grammeme_from(NUMBERS)\n",
    "# person = _select_grammeme_from(PERSONS)\n",
    "# tense = _select_grammeme_from(TENSES)\n",
    "# transitivity = _select_grammeme_from(TRANSITIVITY)\n",
    "# voice = _select_grammeme_from(VOICES)\n",
    "\n",
    "morph.parse('решил')[0].tag"
   ]
  },
  {
   "cell_type": "code",
   "execution_count": 48,
   "metadata": {},
   "outputs": [
    {
     "ename": "NameError",
     "evalue": "name 'navec' is not defined",
     "output_type": "error",
     "traceback": [
      "\u001b[0;31m---------------------------------------------------------------------------\u001b[0m",
      "\u001b[0;31mNameError\u001b[0m                                 Traceback (most recent call last)",
      "Cell \u001b[0;32mIn [48], line 1\u001b[0m\n\u001b[0;32m----> 1\u001b[0m navec\u001b[39m.\u001b[39mvocab\n",
      "\u001b[0;31mNameError\u001b[0m: name 'navec' is not defined"
     ]
    }
   ],
   "source": [
    "navec.vocab"
   ]
  }
 ],
 "metadata": {
  "kernelspec": {
   "display_name": "Python 3.10.4 64-bit",
   "language": "python",
   "name": "python3"
  },
  "language_info": {
   "codemirror_mode": {
    "name": "ipython",
    "version": 3
   },
   "file_extension": ".py",
   "mimetype": "text/x-python",
   "name": "python",
   "nbconvert_exporter": "python",
   "pygments_lexer": "ipython3",
   "version": "3.10.4"
  },
  "orig_nbformat": 4,
  "vscode": {
   "interpreter": {
    "hash": "767d51c1340bd893661ea55ea3124f6de3c7a262a8b4abca0554b478b1e2ff90"
   }
  }
 },
 "nbformat": 4,
 "nbformat_minor": 2
}
