{
 "cells": [
  {
   "cell_type": "code",
   "execution_count": 1,
   "id": "7373823a-aabb-4da3-93d7-88b3a8734740",
   "metadata": {
    "tags": []
   },
   "outputs": [
    {
     "name": "stdout",
     "output_type": "stream",
     "text": [
      "Server is listening on 0.0.0.0:65231\n"
     ]
    },
    {
     "data": {
      "text/plain": [
       "<__main__.RemoteRunnerServer at 0x7fb1ffc054b0>"
      ]
     },
     "execution_count": 1,
     "metadata": {},
     "output_type": "execute_result"
    }
   ],
   "source": [
    "import socket\n",
    "import dill\n",
    "import torch\n",
    "import concurrent\n",
    "import io\n",
    "import queue\n",
    "import threading\n",
    "\n",
    "class FileAsyncResult:\n",
    "    def __init__(self, filepath):\n",
    "        self.event = threading.Event()\n",
    "        self.filepath = filepath\n",
    "        self.exception = None\n",
    "        \n",
    "    def set_exception(self, exception):\n",
    "        self.exception = exception\n",
    "        self.event.set()\n",
    "\n",
    "    def set_result(self, sockfile):\n",
    "        with open(self.filepath) as file:\n",
    "            size = dill.load(sockfile)\n",
    "            while size > 0:\n",
    "                cnt_read = min(size, 10 * 1024 * 1024)\n",
    "                file.write(sockfile.read(cnt_read))\n",
    "                size -= cnt_read\n",
    "        self.event.set()\n",
    "\n",
    "class BasicAsyncResult:\n",
    "    def __init__(self):\n",
    "        self.event = threading.Event()\n",
    "        self.result = None\n",
    "        self.exception = None\n",
    "        \n",
    "    def set_exception(self, exception):\n",
    "        self.exception = exception\n",
    "        self.event.set()\n",
    "        \n",
    "    def set_result(self, sockfile):\n",
    "        self.result = dill.load(sockfile)\n",
    "        self.event.set()\n",
    "        \n",
    "class RemoteRunnerServer:\n",
    "    def __init__(self):\n",
    "        self.requests_queue = queue.Queue()\n",
    "\n",
    "    def connection_handler(self, sock):\n",
    "        with sock, sock.makefile('rwb') as sockfile:\n",
    "            while True:\n",
    "                result, typ, rpc_request = self.requests_queue.get()\n",
    "                \n",
    "                # GLOBALS\n",
    "                # sockfile.write(b'0')\n",
    "                # dill.dump({\n",
    "                #     \"func4\": func4\n",
    "                # }, sockfile)\n",
    "            \n",
    "                # RPC COMMAND\n",
    "                sockfile.write(typ) # b'1'\n",
    "                dill.dump(rpc_request, sockfile)                          \n",
    "                sockfile.flush()\n",
    "                \n",
    "                typ = sockfile.read(1)\n",
    "                if typ == b'0':\n",
    "                    result.set_result(sockfile)\n",
    "                elif typ == b'1':\n",
    "                    result.set_exception(dill.load(sockfile))\n",
    "                else:\n",
    "                    raise Exception(\"unknown type \" + str(typ))\n",
    "    \n",
    "    def send_globals(self, globls):\n",
    "        assert isinstance(globls, dict)\n",
    "        \n",
    "        result = BasicAsyncResult()\n",
    "        self.requests_queue.put((result, b'0', globls))\n",
    "        result.event.wait()\n",
    "        return result.result     \n",
    "    \n",
    "    def rpc_simple(self, func, *args, **kwargs):\n",
    "        assert callable(func)\n",
    "                                \n",
    "        result = BasicAsyncResult()\n",
    "        self.requests_queue.put((result, b'1', ((func, args, kwargs, 1))))\n",
    "        result.event.wait()\n",
    "        if result.exception:\n",
    "            raise result.exception\n",
    "        return result.result\n",
    "        \n",
    "    def rpc_file(self, file, func, *args, **kwargs):\n",
    "        assert callable(func)\n",
    "        assert isinstance(file, str)\n",
    "        result = FileAsyncResult(file)\n",
    "        self.requests_queue.put((result, b'1', ((func, args, kwargs, 1))))\n",
    "        result.event.wait()\n",
    "        if result.exception:\n",
    "            raise result.exception\n",
    "        return True\n",
    "    \n",
    "    def host_server(self):\n",
    "        HOST = '0.0.0.0' \n",
    "        PORT = 65231\n",
    "\n",
    "        with socket.socket(socket.AF_INET, socket.SOCK_STREAM) as s:\n",
    "            s.setsockopt(socket.SOL_SOCKET, socket.SO_REUSEADDR, 1)\n",
    "            s.bind((HOST, PORT))\n",
    "            # listen for incoming connections\n",
    "            s.listen()\n",
    "            print(f\"Server is listening on {HOST}:{PORT}\")\n",
    "            # wait for a client to connect\n",
    "            \n",
    "            with concurrent.futures.ThreadPoolExecutor(4, \"ServerConnectionHandler\") as executor:\n",
    "                while True:\n",
    "                    conn, addr = s.accept()\n",
    "                    print(f\"Connected by {addr}\")\n",
    "                    self.connection_handler(conn)\n",
    "                    # executor.submit(self.handle_connection, conn)\n",
    "                        # receive data from the client\n",
    "    \n",
    "    def run(self):\n",
    "        self.thread = threading.Thread(target=self.host_server)\n",
    "        self.thread.start()\n",
    "\n",
    "def is_sendable(x):\n",
    "    if callable(x):\n",
    "        return True\n",
    "    if str(type(x)) != \"<class 'module'>\":\n",
    "        return False\n",
    "    return 'built-in' not in str(x) \n",
    "\n",
    "def get_sendable_globals(globs):\n",
    "    res = {}\n",
    "    for k,v in globs.items():\n",
    "        if k in ['exit', 'open', 'quit', 'get_ipython']: continue\n",
    "        if not is_sendable(v): continue\n",
    "        res[k] = v\n",
    "    return res\n",
    "        \n",
    "server = RemoteRunnerServer()\n",
    "server.run()\n",
    "server"
   ]
  },
  {
   "cell_type": "code",
   "execution_count": null,
   "id": "6afb457f-1ccf-4a61-9b4c-141f14730c19",
   "metadata": {
    "tags": []
   },
   "outputs": [],
   "source": []
  },
  {
   "cell_type": "code",
   "execution_count": 2,
   "id": "f2a0a757-7bd9-49f0-8387-8dfaa7d5c783",
   "metadata": {
    "tags": []
   },
   "outputs": [
    {
     "ename": "AttributeError",
     "evalue": "'BasicAsyncResult' object has no attribute 'exception'",
     "output_type": "error",
     "traceback": [
      "\u001b[0;31m---------------------------------------------------------------------------\u001b[0m",
      "\u001b[0;31mAttributeError\u001b[0m                            Traceback (most recent call last)",
      "Cell \u001b[0;32mIn[2], line 6\u001b[0m\n\u001b[1;32m      3\u001b[0m     \u001b[38;5;28;01mreturn\u001b[39;00m torch\u001b[38;5;241m.\u001b[39mTensor(\u001b[38;5;241m10\u001b[39m) \u001b[38;5;66;03m# x * 2 #torch.Tensor((1000, 1000, 1000))\u001b[39;00m\n\u001b[1;32m      5\u001b[0m server\u001b[38;5;241m.\u001b[39msend_globals(\u001b[38;5;28mglobals\u001b[39m())\u001b[38;5;66;03m# get_sendable_globals(globals()))\u001b[39;00m\n\u001b[0;32m----> 6\u001b[0m \u001b[43mserver\u001b[49m\u001b[38;5;241;43m.\u001b[39;49m\u001b[43mrpc_simple\u001b[49m\u001b[43m(\u001b[49m\u001b[43mfunc\u001b[49m\u001b[43m,\u001b[49m\u001b[43m \u001b[49m\u001b[38;5;241;43m100\u001b[39;49m\u001b[43m)\u001b[49m\n",
      "Cell \u001b[0;32mIn[1], line 84\u001b[0m, in \u001b[0;36mRemoteRunnerServer.rpc_simple\u001b[0;34m(self, func, *args, **kwargs)\u001b[0m\n\u001b[1;32m     82\u001b[0m \u001b[38;5;28mself\u001b[39m\u001b[38;5;241m.\u001b[39mrequests_queue\u001b[38;5;241m.\u001b[39mput((result, \u001b[38;5;124mb\u001b[39m\u001b[38;5;124m'\u001b[39m\u001b[38;5;124m1\u001b[39m\u001b[38;5;124m'\u001b[39m, ((func, args, kwargs, \u001b[38;5;241m1\u001b[39m))))\n\u001b[1;32m     83\u001b[0m result\u001b[38;5;241m.\u001b[39mevent\u001b[38;5;241m.\u001b[39mwait()\n\u001b[0;32m---> 84\u001b[0m \u001b[38;5;28;01mif\u001b[39;00m \u001b[43mresult\u001b[49m\u001b[38;5;241;43m.\u001b[39;49m\u001b[43mexception\u001b[49m:\n\u001b[1;32m     85\u001b[0m     \u001b[38;5;28;01mraise\u001b[39;00m result\u001b[38;5;241m.\u001b[39mexception\n\u001b[1;32m     86\u001b[0m \u001b[38;5;28;01mreturn\u001b[39;00m result\u001b[38;5;241m.\u001b[39mresult\n",
      "\u001b[0;31mAttributeError\u001b[0m: 'BasicAsyncResult' object has no attribute 'exception'"
     ]
    }
   ],
   "source": [
    "import torch\n",
    "def func(x):\n",
    "    return torch.Tensor(10) # x * 2 #torch.Tensor((1000, 1000, 1000))\n",
    "\n",
    "server.send_globals(globals())# get_sendable_globals(globals()))\n",
    "server.rpc_simple(func, 100)"
   ]
  },
  {
   "cell_type": "code",
   "execution_count": 51,
   "id": "b96eae35-3d79-45ce-af18-bdd39b2a4848",
   "metadata": {
    "tags": []
   },
   "outputs": [
    {
     "data": {
      "text/plain": [
       "{'torch': <module 'torch' from '/home/misha-sh/micromamba/envs/pytorch-env/lib/python3.10/site-packages/torch/__init__.py'>,\n",
       " 'func': <function __main__.func(x)>,\n",
       " '_3': <module 'torch' from '/home/misha-sh/micromamba/envs/pytorch-env/lib/python3.10/site-packages/torch/__init__.py'>,\n",
       " '_5': <module 'torch' from '/home/misha-sh/micromamba/envs/pytorch-env/lib/python3.10/site-packages/torch/__init__.py'>,\n",
       " '_6': module,\n",
       " 'is_module': <function __main__.is_module(x)>,\n",
       " 'get_modules_dict': <function __main__.get_modules_dict(globs)>,\n",
       " 'dill': <module 'dill' from '/home/misha-sh/micromamba/envs/pytorch-env/lib/python3.10/site-packages/dill/__init__.py'>,\n",
       " '_35': <module 'dill' from '/home/misha-sh/micromamba/envs/pytorch-env/lib/python3.10/site-packages/dill/__init__.py'>,\n",
       " 'is_sendable': <function __main__.is_sendable(x)>,\n",
       " 'get_sendable_globals': <function __main__.get_sendable_globals(globs)>}"
      ]
     },
     "execution_count": 51,
     "metadata": {},
     "output_type": "execute_result"
    }
   ],
   "source": [
    "\n",
    "   \n",
    "import dill\n",
    "dill.loads(dill.dumps(get_sendable_globals(globals())))\n"
   ]
  },
  {
   "cell_type": "code",
   "execution_count": 33,
   "id": "b8481fd9-3a58-4919-be0c-8345cec34a8d",
   "metadata": {
    "tags": []
   },
   "outputs": [
    {
     "data": {
      "text/plain": [
       "{'torch': <module 'torch' from '/home/misha-sh/micromamba/envs/pytorch-env/lib/python3.10/site-packages/torch/__init__.py'>,\n",
       " '_3': <module 'torch' from '/home/misha-sh/micromamba/envs/pytorch-env/lib/python3.10/site-packages/torch/__init__.py'>,\n",
       " '_5': <module 'torch' from '/home/misha-sh/micromamba/envs/pytorch-env/lib/python3.10/site-packages/torch/__init__.py'>,\n",
       " 'dill': <module 'dill' from '/home/misha-sh/micromamba/envs/pytorch-env/lib/python3.10/site-packages/dill/__init__.py'>}"
      ]
     },
     "execution_count": 33,
     "metadata": {},
     "output_type": "execute_result"
    }
   ],
   "source": [
    "get_modules_dict(globals())"
   ]
  },
  {
   "cell_type": "raw",
   "id": "2ff0f4a8-75d4-4fea-bb44-a412aaefb8b2",
   "metadata": {
    "tags": []
   },
   "source": [
    "class Kek(io.RawIOBase):\n",
    "    def __init__(self, a):\n",
    "        self.a_copy = a\n",
    "        self.a = io.BytesIO(a)\n",
    "    \n",
    "    def read(self, cnt=-1): \n",
    "        print(cnt)\n",
    "        return self.a.read(cnt)\n",
    "    def readline(self): raise Exception(\"no realization\")\n",
    "    def readable(self): return True\n",
    "    def seekable(self): return True\n",
    "    def seek(self, byte, whence=0):\n",
    "        print(byte, whence)\n",
    "        self.a = io.BytesIO(self.a_copy)\n",
    "        return 0\n",
    "    # def tell(self):\n",
    "    #     return 0\n",
    "        \n",
    "\n",
    "import io\n",
    "import torch\n",
    "import numpy as np\n",
    "a = io.BytesIO()\n",
    "\n",
    "# torch.save(torch.Tensor([1, 2, 3]), a, _use_new_zipfile_serialization=True)\n",
    "# dill.dump(torch.Tensor([1, 2, 3]), a)\n",
    "np.save(a, torch.Tensor([1, 2, 3]).numpy(), allow_pickle=False)\n",
    "np.save(a, torch.Tensor([1, 2, 3]).numpy(), allow_pickle=False)\n",
    "np.save(a, torch.Tensor([1, 2, 3]).numpy(), allow_pickle=False)\n",
    "# dill.dump(\"kek\", a)\n",
    "# dill.dump(\"beb\", a)\n",
    "\n",
    "# k = io.BufferedReader(Kek(a.getvalue()))\n",
    "k =  io.BytesIO((a.getvalue()))\n",
    "np.load(k)\n",
    "np.load(k)\n",
    "np.load(k)\n",
    "# torch.load(k)\n",
    "# np.load(k)\n",
    "# dill.load(k)\n",
    "# dill.load(k)\n",
    "# b = io.BufferedReader(Kek(a.getvalue()))\n",
    "# b.read()"
   ]
  },
  {
   "cell_type": "code",
   "execution_count": 97,
   "id": "7ccaeaa1-cf25-4f8d-9767-ca16b53b8072",
   "metadata": {
    "tags": []
   },
   "outputs": [
    {
     "data": {
      "text/plain": [
       "array([1., 2., 3.], dtype=float32)"
      ]
     },
     "execution_count": 97,
     "metadata": {},
     "output_type": "execute_result"
    }
   ],
   "source": [
    "torch.Tensor([1, 2, 3]).numpy().save()"
   ]
  },
  {
   "cell_type": "code",
   "execution_count": null,
   "id": "7aaeaf8e-2107-4066-b1d9-3a485e42dc8f",
   "metadata": {
    "tags": []
   },
   "outputs": [],
   "source": []
  },
  {
   "cell_type": "code",
   "execution_count": null,
   "id": "a0805223-5db5-4339-a369-a0af938fe6b9",
   "metadata": {
    "tags": []
   },
   "outputs": [],
   "source": []
  },
  {
   "cell_type": "code",
   "execution_count": null,
   "id": "76272daf-6894-4269-9870-a4b334032527",
   "metadata": {
    "tags": []
   },
   "outputs": [],
   "source": [
    "from enum import Enum\n",
    "\n",
    "# class FRAME(Enum):\n",
    "#     FUNCTION = 1,\n",
    "#     ARGS = 2,\n",
    "#     KWARGS = 3,\n",
    "#     TENSOR = 4\n",
    "\n",
    "# def decode_frame(f):\n",
    "#     typ = int.from_bytes(f.read(4), byteorder='little')\n",
    "#     decoded = dill.load(f)\n",
    "#     #     decoded = torch.load(io.BytesIO(f.read(size))\n",
    "#     return FRAME(typ), decoded\n",
    "    \n",
    "# def send_func(f, func)\n",
    "#     f.write(FRAME.FUNCTION)\n",
    "#     dill.dump(func, f)\n",
    "# def send_args(f, args):\n",
    "#     f.write(FRAME.ARGS)\n",
    "#     dill.dump(func, f)\n",
    "# def send_kwargs(f, args):\n",
    "#     f.write(FRAME.KWARGS)\n",
    "#     dill.dump(func, f)\n",
    "# def send_tensor(f, tensor):\n",
    "#     f.write(FRAME.TENSOR)\n",
    "#     torch.save(tensor, f)\n",
    "\n",
    "    "
   ]
  }
 ],
 "metadata": {
  "kernelspec": {
   "display_name": "Python 3 (ipykernel)",
   "language": "python",
   "name": "python3"
  },
  "language_info": {
   "codemirror_mode": {
    "name": "ipython",
    "version": 3
   },
   "file_extension": ".py",
   "mimetype": "text/x-python",
   "name": "python",
   "nbconvert_exporter": "python",
   "pygments_lexer": "ipython3",
   "version": "3.10.10"
  }
 },
 "nbformat": 4,
 "nbformat_minor": 5
}
