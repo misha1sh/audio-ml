{
 "cells": [
  {
   "cell_type": "code",
   "execution_count": 19,
   "id": "4dc6e813",
   "metadata": {},
   "outputs": [],
   "source": [
    "import imports\n",
    "import importlib\n",
    "importlib.reload(imports)\n",
    "from imports import *\n",
    "\n",
    "# https://pymorphy2.readthedocs.io/en/stable/user/grammemes.html\n",
    "# http://opencorpora.org/dict.php?act=gram\n",
    "# https://github.com/pymorphy2/pymorphy2/blob/92d546f042ff14601376d3646242908d5ab786c1/pymorphy2/tagset.py#L130\n",
    "feature_tags_array = [\n",
    "    OpencorporaTag.PARTS_OF_SPEECH, # часть речи\n",
    "    OpencorporaTag.GENDERS, # род\n",
    "    OpencorporaTag.NUMBERS, # число\n",
    "    OpencorporaTag.CASES, # падеж\n",
    "    OpencorporaTag.ASPECTS, # соверш / несоверш\n",
    "    OpencorporaTag.TRANSITIVITY, # перех / непереходный\n",
    "    OpencorporaTag.PERSONS, # лицо\n",
    "    OpencorporaTag.TENSES, # время\n",
    "    OpencorporaTag.MOODS, # наклонение\n",
    "    OpencorporaTag.VOICES, # залог\n",
    "    #INVOLVEMENT\n",
    "    ['Prnt'], # вводные слова\n",
    "    ['Apro'], # местоимение\n",
    "    ['NUMB'], # число вида 1234\n",
    "    ['LATIN'], # текст на английском\n",
    "    ['UNKN'], # неизвестный токен\n",
    "    ['PUNCT_DASH', 'PUNCT_DOT', 'PUNCT_COMMA', 'PUNCT_QUOTE',\n",
    "     'PUNCT_LEFT_PARENTHESIS', 'PUNCT_RIGHT_PARENTHESIS' ], # \"()\n",
    "    ['CAPITALIZED'], # начинается с заглавной буквы\n",
    "    ['Fixd', 'Abbr'] # неизменяемое, сокращение\n",
    "]\n",
    "\n",
    "CUT_NAVEC_TAGS_ARRAY = [\n",
    "    #'NOUN', #'ADJF'\n",
    "]\n",
    "\n",
    "params = build_params({\n",
    "    \"VARIANTS_CNT\": 1,\n",
    "    \"TARGET_CLASSES_COUNT\": 3,\n",
    "    \"INPUT_WORDS_CNT\": 16,\n",
    "    \"feature_tags_array\": feature_tags_array,\n",
    "    \"PUNCTUATION_TARGET\": {\n",
    "        \"$empty\": NO_PUNCT,\n",
    "        \",\": 1,\n",
    "        \".\": 2,\n",
    "        \"!\": 2,\n",
    "        \"?\": 2,\n",
    "    },\n",
    "    \"USE_NAVEC\": True,\n",
    "    'CUT_NAVEC_TAGS_SET': set(CUT_NAVEC_TAGS_ARRAY),\n",
    "    'INFECTED_TEXT_PROB': 0.1,\n",
    "    \"RETAIN_LEFT_PUNCT\": True,\n",
    "    'type': 'lenta',\n",
    "})"
   ]
  },
  {
   "cell_type": "code",
   "execution_count": 102,
   "id": "7373823a-aabb-4da3-93d7-88b3a8734740",
   "metadata": {
    "tags": []
   },
   "outputs": [
    {
     "name": "stdout",
     "output_type": "stream",
     "text": [
      "server already running\n",
      "/home/misha-sh/micromamba/envs/pytorch-env/envs/pytorch-env/lib/python3.10/site-packages/setuptools/command/install.py:34: SetuptoolsDeprecationWarning: setup.py install is deprecated. Use build and pip and other standards-based tools.\n",
      "  warnings.warn(\n",
      "zip_safe flag not set; analyzing archive contents...\n"
     ]
    }
   ],
   "source": [
    "from remote_server import RemoteRunnerServer\n",
    "\n",
    "try:\n",
    "    def func(): return 1\n",
    "    assert server.rpc_simple(func) == 1\n",
    "    print(\"server already running\")\n",
    "except:\n",
    "    server = RemoteRunnerServer()\n",
    "    server.run()\n",
    "\n",
    "def server_install_packages():\n",
    "    def package_install(package_data):\n",
    "        global egg_file\n",
    "        import tempfile\n",
    "        import pkgutil\n",
    "        import importlib\n",
    "        import sys\n",
    "        egg_file = tempfile.NamedTemporaryFile(suffix=\".egg\")\n",
    "        egg_file.write(package_data)\n",
    "        egg_file.flush()\n",
    "\n",
    "        if egg_file.name not in sys.path:\n",
    "            sys.path.insert(0, egg_file.name)\n",
    "        for i in list(pkgutil.iter_modules([egg_file.name])):\n",
    "            importlib.reload(importlib.import_module(i.name))\n",
    "            print(\"loaded \", i.name)\n",
    "\n",
    "    !python setup.py bdist_egg > /dev/null\n",
    "    with open(glob.glob('dist/*.egg')[0], \"rb\") as f:\n",
    "        package_data = f.read()\n",
    "    server.rpc_simple(package_install, package_data)\n",
    "    server.rpc_simple(exec, \"from imports import *\")\n",
    "    # server.rpc_simple(exec, \"import importlib\\nimport dataset_builder\\nimportlib.reload(dataset_builder)\")\n",
    "\n",
    "server_install_packages()"
   ]
  },
  {
   "cell_type": "code",
   "execution_count": 103,
   "id": "c439c4b9",
   "metadata": {},
   "outputs": [
    {
     "name": "stdout",
     "output_type": "stream",
     "text": [
      "/home/misha-sh/micromamba/envs/pytorch-env/envs/pytorch-env/lib/python3.10/site-packages/setuptools/command/install.py:34: SetuptoolsDeprecationWarning: setup.py install is deprecated. Use build and pip and other standards-based tools.\n",
      "  warnings.warn(\n",
      "zip_safe flag not set; analyzing archive contents...\n"
     ]
    },
    {
     "data": {
      "text/plain": [
       "(tensor([[[0., 0., 0.,  ..., 0., 0., 0.],\n",
       "          [0., 0., 0.,  ..., 0., 0., 0.],\n",
       "          [0., 0., 0.,  ..., 0., 0., 0.],\n",
       "          ...,\n",
       "          [0., 0., 0.,  ..., 0., 0., 0.],\n",
       "          [0., 0., 0.,  ..., 0., 0., 0.],\n",
       "          [0., 0., 0.,  ..., 0., 0., 0.]],\n",
       " \n",
       "         [[0., 0., 0.,  ..., 0., 0., 0.],\n",
       "          [0., 0., 0.,  ..., 0., 0., 0.],\n",
       "          [0., 0., 0.,  ..., 0., 0., 0.],\n",
       "          ...,\n",
       "          [0., 0., 0.,  ..., 0., 0., 0.],\n",
       "          [0., 0., 0.,  ..., 0., 0., 0.],\n",
       "          [0., 0., 0.,  ..., 0., 0., 0.]]], dtype=torch.float16),\n",
       " tensor([[0, 1, 0],\n",
       "         [1, 0, 0]], dtype=torch.int32),\n",
       " [['PAD',\n",
       "   'PAD',\n",
       "   'PAD',\n",
       "   'PAD',\n",
       "   'PAD',\n",
       "   'PAD',\n",
       "   'PAD',\n",
       "   'а',\n",
       "   ' #,# ',\n",
       "   'б',\n",
       "   'PAD',\n",
       "   'PAD',\n",
       "   'PAD',\n",
       "   'PAD',\n",
       "   'PAD',\n",
       "   'PAD',\n",
       "   'PAD'],\n",
       "  ['PAD',\n",
       "   'PAD',\n",
       "   'PAD',\n",
       "   'PAD',\n",
       "   'PAD',\n",
       "   'PAD',\n",
       "   'а',\n",
       "   ',',\n",
       "   ' #$empty# ',\n",
       "   'б',\n",
       "   'PAD',\n",
       "   'PAD',\n",
       "   'PAD',\n",
       "   'PAD',\n",
       "   'PAD',\n",
       "   'PAD',\n",
       "   'PAD']],\n",
       " tensor([False, False]))"
      ]
     },
     "execution_count": 103,
     "metadata": {},
     "output_type": "execute_result"
    }
   ],
   "source": [
    "server_install_packages()\n",
    "server.rpc_simple(dataset_builder.create_dataset, ['а, б'], params, False)"
   ]
  },
  {
   "cell_type": "code",
   "execution_count": 32,
   "id": "3082f4ec",
   "metadata": {},
   "outputs": [
    {
     "data": {
      "text/plain": [
       "(1048576, 4)"
      ]
     },
     "execution_count": 32,
     "metadata": {},
     "output_type": "execute_result"
    }
   ],
   "source": []
  },
  {
   "cell_type": "code",
   "execution_count": null,
   "id": "d2a782d4",
   "metadata": {},
   "outputs": [],
   "source": []
  },
  {
   "cell_type": "code",
   "execution_count": 85,
   "id": "b3315edc",
   "metadata": {},
   "outputs": [
    {
     "name": "stdout",
     "output_type": "stream",
     "text": [
      "2048.0 MB\n",
      "4096.000408172607 MB\n"
     ]
    }
   ],
   "source": [
    "import dill\n",
    "print(size_of_tensor(torch.rand((1024, 1024, 1024)).half()) / 1024 / 1024, \"MB\")\n",
    "print(len(dill.dumps(torch.rand((1024, 1024, 1024)))) / 1024 / 1024, \"MB\")"
   ]
  },
  {
   "cell_type": "code",
   "execution_count": 13,
   "id": "86f74bec-7036-44d4-9489-8bfe6ab60d7d",
   "metadata": {
    "tags": []
   },
   "outputs": [
    {
     "data": {
      "text/plain": [
       "<module 'distributed' from '/home/misha-sh/micromamba/envs/pytorch-env/lib/python3.10/site-packages/distributed/__init__.py'>"
      ]
     },
     "execution_count": 13,
     "metadata": {},
     "output_type": "execute_result"
    }
   ],
   "source": [
    "import distributed\n",
    "distributed"
   ]
  },
  {
   "cell_type": "code",
   "execution_count": 10,
   "id": "6afb457f-1ccf-4a61-9b4c-141f14730c19",
   "metadata": {
    "tags": []
   },
   "outputs": [
    {
     "data": {
      "text/plain": [
       "b'\\x80\\x04\\x951\\x00\\x00\\x00\\x00\\x00\\x00\\x00\\x8c\\ndill._dill\\x94\\x8c\\x0e_import_module\\x94\\x93\\x94\\x8c\\tpymorphy3\\x94\\x85\\x94R\\x94.'"
      ]
     },
     "execution_count": 10,
     "metadata": {},
     "output_type": "execute_result"
    }
   ],
   "source": [
    "import dill\n",
    "import pymorphy3\n",
    "dill.dumps(pymorphy3, byref=False)"
   ]
  },
  {
   "cell_type": "code",
   "execution_count": 8,
   "id": "f2a0a757-7bd9-49f0-8387-8dfaa7d5c783",
   "metadata": {
    "tags": []
   },
   "outputs": [
    {
     "data": {
      "text/plain": [
       "tensor([-9.8635e-22,  4.5646e-41, -9.8635e-22,  4.5646e-41,  4.4842e-44,\n",
       "         0.0000e+00,  1.1210e-43,  0.0000e+00,  1.3183e-27,  3.0882e-41])"
      ]
     },
     "execution_count": 8,
     "metadata": {},
     "output_type": "execute_result"
    }
   ],
   "source": [
    "import torch\n",
    "def func(x):\n",
    "    return torch.Tensor(10) # x * 2 #torch.Tensor((1000, 1000, 1000))\n",
    "\n",
    "server.send_globals(globals())# get_sendable_globals(globals()))\n",
    "server.rpc_simple(func, 100)"
   ]
  },
  {
   "cell_type": "code",
   "execution_count": 51,
   "id": "b96eae35-3d79-45ce-af18-bdd39b2a4848",
   "metadata": {
    "tags": []
   },
   "outputs": [
    {
     "data": {
      "text/plain": [
       "{'torch': <module 'torch' from '/home/misha-sh/micromamba/envs/pytorch-env/lib/python3.10/site-packages/torch/__init__.py'>,\n",
       " 'func': <function __main__.func(x)>,\n",
       " '_3': <module 'torch' from '/home/misha-sh/micromamba/envs/pytorch-env/lib/python3.10/site-packages/torch/__init__.py'>,\n",
       " '_5': <module 'torch' from '/home/misha-sh/micromamba/envs/pytorch-env/lib/python3.10/site-packages/torch/__init__.py'>,\n",
       " '_6': module,\n",
       " 'is_module': <function __main__.is_module(x)>,\n",
       " 'get_modules_dict': <function __main__.get_modules_dict(globs)>,\n",
       " 'dill': <module 'dill' from '/home/misha-sh/micromamba/envs/pytorch-env/lib/python3.10/site-packages/dill/__init__.py'>,\n",
       " '_35': <module 'dill' from '/home/misha-sh/micromamba/envs/pytorch-env/lib/python3.10/site-packages/dill/__init__.py'>,\n",
       " 'is_sendable': <function __main__.is_sendable(x)>,\n",
       " 'get_sendable_globals': <function __main__.get_sendable_globals(globs)>}"
      ]
     },
     "execution_count": 51,
     "metadata": {},
     "output_type": "execute_result"
    }
   ],
   "source": [
    "\n",
    "   \n",
    "import dill\n",
    "dill.loads(dill.dumps(get_sendable_globals(globals())))\n"
   ]
  },
  {
   "cell_type": "code",
   "execution_count": 33,
   "id": "b8481fd9-3a58-4919-be0c-8345cec34a8d",
   "metadata": {
    "tags": []
   },
   "outputs": [
    {
     "data": {
      "text/plain": [
       "{'torch': <module 'torch' from '/home/misha-sh/micromamba/envs/pytorch-env/lib/python3.10/site-packages/torch/__init__.py'>,\n",
       " '_3': <module 'torch' from '/home/misha-sh/micromamba/envs/pytorch-env/lib/python3.10/site-packages/torch/__init__.py'>,\n",
       " '_5': <module 'torch' from '/home/misha-sh/micromamba/envs/pytorch-env/lib/python3.10/site-packages/torch/__init__.py'>,\n",
       " 'dill': <module 'dill' from '/home/misha-sh/micromamba/envs/pytorch-env/lib/python3.10/site-packages/dill/__init__.py'>}"
      ]
     },
     "execution_count": 33,
     "metadata": {},
     "output_type": "execute_result"
    }
   ],
   "source": [
    "get_modules_dict(globals())"
   ]
  },
  {
   "cell_type": "raw",
   "id": "2ff0f4a8-75d4-4fea-bb44-a412aaefb8b2",
   "metadata": {
    "tags": []
   },
   "source": [
    "class Kek(io.RawIOBase):\n",
    "    def __init__(self, a):\n",
    "        self.a_copy = a\n",
    "        self.a = io.BytesIO(a)\n",
    "    \n",
    "    def read(self, cnt=-1): \n",
    "        print(cnt)\n",
    "        return self.a.read(cnt)\n",
    "    def readline(self): raise Exception(\"no realization\")\n",
    "    def readable(self): return True\n",
    "    def seekable(self): return True\n",
    "    def seek(self, byte, whence=0):\n",
    "        print(byte, whence)\n",
    "        self.a = io.BytesIO(self.a_copy)\n",
    "        return 0\n",
    "    # def tell(self):\n",
    "    #     return 0\n",
    "        \n",
    "\n",
    "import io\n",
    "import torch\n",
    "import numpy as np\n",
    "a = io.BytesIO()\n",
    "\n",
    "# torch.save(torch.Tensor([1, 2, 3]), a, _use_new_zipfile_serialization=True)\n",
    "# dill.dump(torch.Tensor([1, 2, 3]), a)\n",
    "np.save(a, torch.Tensor([1, 2, 3]).numpy(), allow_pickle=False)\n",
    "np.save(a, torch.Tensor([1, 2, 3]).numpy(), allow_pickle=False)\n",
    "np.save(a, torch.Tensor([1, 2, 3]).numpy(), allow_pickle=False)\n",
    "# dill.dump(\"kek\", a)\n",
    "# dill.dump(\"beb\", a)\n",
    "\n",
    "# k = io.BufferedReader(Kek(a.getvalue()))\n",
    "k =  io.BytesIO((a.getvalue()))\n",
    "np.load(k)\n",
    "np.load(k)\n",
    "np.load(k)\n",
    "# torch.load(k)\n",
    "# np.load(k)\n",
    "# dill.load(k)\n",
    "# dill.load(k)\n",
    "# b = io.BufferedReader(Kek(a.getvalue()))\n",
    "# b.read()"
   ]
  },
  {
   "cell_type": "code",
   "execution_count": 97,
   "id": "7ccaeaa1-cf25-4f8d-9767-ca16b53b8072",
   "metadata": {
    "tags": []
   },
   "outputs": [
    {
     "data": {
      "text/plain": [
       "array([1., 2., 3.], dtype=float32)"
      ]
     },
     "execution_count": 97,
     "metadata": {},
     "output_type": "execute_result"
    }
   ],
   "source": [
    "torch.Tensor([1, 2, 3]).numpy().save()"
   ]
  },
  {
   "cell_type": "code",
   "execution_count": 55,
   "id": "268da96d",
   "metadata": {},
   "outputs": [
    {
     "data": {
      "text/plain": [
       "0"
      ]
     },
     "execution_count": 55,
     "metadata": {},
     "output_type": "execute_result"
    }
   ],
   "source": [
    "a.seek(0)"
   ]
  },
  {
   "cell_type": "code",
   "execution_count": 56,
   "id": "f83b95c3",
   "metadata": {},
   "outputs": [
    {
     "data": {
      "text/plain": [
       "b'\\x80\\x04\\x95'"
      ]
     },
     "execution_count": 56,
     "metadata": {},
     "output_type": "execute_result"
    }
   ],
   "source": [
    "a.read(3)"
   ]
  },
  {
   "cell_type": "code",
   "execution_count": 57,
   "id": "d3b3d7ec",
   "metadata": {},
   "outputs": [
    {
     "data": {
      "text/plain": [
       "b'\\xc7\\x9d\\x00\\x00\\x00\\x00\\x00\\x00'"
      ]
     },
     "execution_count": 57,
     "metadata": {},
     "output_type": "execute_result"
    }
   ],
   "source": [
    "a.read(8)"
   ]
  },
  {
   "cell_type": "code",
   "execution_count": 79,
   "id": "7aaeaf8e-2107-4066-b1d9-3a485e42dc8f",
   "metadata": {
    "tags": []
   },
   "outputs": [
    {
     "name": "stdout",
     "output_type": "stream",
     "text": [
      "read 1\n",
      "read 1\n",
      "read 1\n",
      "read 8\n",
      "read 76\n",
      "read 1\n",
      "read 4\n",
      "readitno 400254\n",
      "read 1\n",
      "read 8\n",
      "read 57\n",
      " \n",
      "read 1\n",
      "read 1\n",
      "read 1\n",
      "read 8\n",
      "read 40391\n"
     ]
    },
    {
     "data": {
      "text/plain": [
       "tensor([[0.0343, 0.3130, 0.9664,  ..., 0.9170, 0.8214, 0.4181],\n",
       "        [0.1939, 0.8381, 0.9809,  ..., 0.8195, 0.0140, 0.3864],\n",
       "        [0.5518, 0.9054, 0.8290,  ..., 0.7422, 0.3867, 0.7458],\n",
       "        ...,\n",
       "        [0.3726, 0.8367, 0.0867,  ..., 0.4286, 0.4905, 0.2414],\n",
       "        [0.8013, 0.9115, 0.5852,  ..., 0.7848, 0.8943, 0.6425],\n",
       "        [0.7150, 0.8926, 0.2941,  ..., 0.7563, 0.1146, 0.6488]])"
      ]
     },
     "execution_count": 79,
     "metadata": {},
     "output_type": "execute_result"
    }
   ],
   "source": [
    "import io\n",
    "\n",
    "# class Kek(io.RawIOBase):\n",
    "#     def __init__(self, a):\n",
    "#         self.a = a\n",
    "    \n",
    "#     def read(self, cnt=-1): \n",
    "#         print(cnt)\n",
    "#         return self.a.read(cnt)\n",
    "#     def readline(self): raise Exception(\"no realization\")\n",
    "#     def readable(self): return True\n",
    "#     def seekable(self): return True\n",
    "#     def seek(self, byte, whence=0):\n",
    "#         print(byte, whence)\n",
    "#         self.a = io.BytesIO(self.a_copy)\n",
    "#         return 0\n",
    "#     def tell(self):\n",
    "#         print(\"tell\")\n",
    "#         return 0\n",
    "\n",
    "class Kek(io.BytesIO):\n",
    "    def __init__(self, *args, **kwargs):\n",
    "        super().__init__(*args, **kwargs)\n",
    "\n",
    "    def read(self, cnt=-1):\n",
    "        print(\"read\", cnt)\n",
    "        return super().read(cnt)\n",
    "    \n",
    "    def readinto(self, b):\n",
    "        print(\"readitno\", len(b))\n",
    "        return super().readinto(b)\n",
    "    \n",
    "\n",
    "a = io.BytesIO()\n",
    "dill.dump(torch.rand((100 * 1000)), a)\n",
    "dill.dump(torch.rand((100, 100)), a)\n",
    "\n",
    "a.seek(0)\n",
    "\n",
    "a = Kek(a.read())\n",
    "\n",
    "dill.load(a)\n",
    "print(\" \")\n",
    "dill.load(a)"
   ]
  },
  {
   "cell_type": "code",
   "execution_count": 83,
   "id": "a0805223-5db5-4339-a369-a0af938fe6b9",
   "metadata": {
    "tags": []
   },
   "outputs": [
    {
     "ename": "TypeError",
     "evalue": "memoryview: a bytes-like object is required, not 'Kek'",
     "output_type": "error",
     "traceback": [
      "\u001b[0;31m---------------------------------------------------------------------------\u001b[0m",
      "\u001b[0;31mTypeError\u001b[0m                                 Traceback (most recent call last)",
      "Cell \u001b[0;32mIn[83], line 1\u001b[0m\n\u001b[0;32m----> 1\u001b[0m \u001b[39mmemoryview\u001b[39;49m(a)\n",
      "\u001b[0;31mTypeError\u001b[0m: memoryview: a bytes-like object is required, not 'Kek'"
     ]
    }
   ],
   "source": [
    "import mmap\n",
    "\n",
    "with open('input.bin', 'rb') as f:\n",
    "    with mmap.mmap(f.fileno(), length=0, access=mmap.ACCESS_READ) as mm:\n",
    "        memoryview(mm)"
   ]
  },
  {
   "cell_type": "code",
   "execution_count": null,
   "id": "76272daf-6894-4269-9870-a4b334032527",
   "metadata": {
    "tags": []
   },
   "outputs": [],
   "source": [
    "from enum import Enum\n",
    "\n",
    "# class FRAME(Enum):\n",
    "#     FUNCTION = 1,\n",
    "#     ARGS = 2,\n",
    "#     KWARGS = 3,\n",
    "#     TENSOR = 4\n",
    "\n",
    "# def decode_frame(f):\n",
    "#     typ = int.from_bytes(f.read(4), byteorder='little')\n",
    "#     decoded = dill.load(f)\n",
    "#     #     decoded = torch.load(io.BytesIO(f.read(size))\n",
    "#     return FRAME(typ), decoded\n",
    "    \n",
    "# def send_func(f, func)\n",
    "#     f.write(FRAME.FUNCTION)\n",
    "#     dill.dump(func, f)\n",
    "# def send_args(f, args):\n",
    "#     f.write(FRAME.ARGS)\n",
    "#     dill.dump(func, f)\n",
    "# def send_kwargs(f, args):\n",
    "#     f.write(FRAME.KWARGS)\n",
    "#     dill.dump(func, f)\n",
    "# def send_tensor(f, tensor):\n",
    "#     f.write(FRAME.TENSOR)\n",
    "#     torch.save(tensor, f)\n",
    "\n",
    "    "
   ]
  }
 ],
 "metadata": {
  "kernelspec": {
   "display_name": "Python 3 (ipykernel)",
   "language": "python",
   "name": "python3"
  },
  "language_info": {
   "codemirror_mode": {
    "name": "ipython",
    "version": 3
   },
   "file_extension": ".py",
   "mimetype": "text/x-python",
   "name": "python",
   "nbconvert_exporter": "python",
   "pygments_lexer": "ipython3",
   "version": "3.10.10"
  }
 },
 "nbformat": 4,
 "nbformat_minor": 5
}
