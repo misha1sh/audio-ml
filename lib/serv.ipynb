{
 "cells": [
  {
   "cell_type": "code",
   "execution_count": 1,
   "id": "7373823a-aabb-4da3-93d7-88b3a8734740",
   "metadata": {
    "tags": []
   },
   "outputs": [
    {
     "name": "stdout",
     "output_type": "stream",
     "text": [
      "Server is listening on 0.0.0.0:65231\n"
     ]
    },
    {
     "data": {
      "text/plain": [
       "<__main__.RemoteRunnerServer at 0x7f9cc4e6d4b0>"
      ]
     },
     "execution_count": 1,
     "metadata": {},
     "output_type": "execute_result"
    }
   ],
   "source": [
    "import socket\n",
    "import dill\n",
    "import torch\n",
    "import concurrent\n",
    "import io\n",
    "import queue\n",
    "import threading\n",
    "\n",
    "class FileAsyncResult:\n",
    "    def __init__(self, filepath):\n",
    "        self.event = threading.Event()\n",
    "        self.filepath = filepath\n",
    "        self.exception = None\n",
    "        \n",
    "    def set_exception(self, exception):\n",
    "        self.exception = exception\n",
    "        self.event.set()\n",
    "\n",
    "    def set_result(self, sockfile):\n",
    "        with open(self.filepath) as file:\n",
    "            size = dill.load(sockfile)\n",
    "            while size > 0:\n",
    "                cnt_read = min(size, 10 * 1024 * 1024)\n",
    "                file.write(sockfile.read(cnt_read))\n",
    "                size -= cnt_read\n",
    "        self.event.set()\n",
    "\n",
    "class BasicAsyncResult:\n",
    "    def __init__(self):\n",
    "        self.event = threading.Event()\n",
    "        self.result = None\n",
    "        self.exception = None\n",
    "        \n",
    "    def set_exception(self, exception):\n",
    "        self.exception = exception\n",
    "        self.event.set()\n",
    "        \n",
    "    def set_result(self, sockfile):\n",
    "        self.result = dill.load(sockfile)\n",
    "        self.event.set()\n",
    "        \n",
    "class RemoteRunnerServer:\n",
    "    def __init__(self):\n",
    "        self.requests_queue = queue.Queue()\n",
    "\n",
    "    def connection_handler(self, sock):\n",
    "        with sock, sock.makefile('rwb') as sockfile:\n",
    "            while True:\n",
    "                result, typ, rpc_request = self.requests_queue.get()\n",
    "                \n",
    "                # GLOBALS\n",
    "                # sockfile.write(b'0')\n",
    "                # dill.dump({\n",
    "                #     \"func4\": func4\n",
    "                # }, sockfile)\n",
    "            \n",
    "                # RPC COMMAND\n",
    "                sockfile.write(typ) # b'1'\n",
    "                dill.dump(rpc_request, sockfile)                          \n",
    "                sockfile.flush()\n",
    "                \n",
    "                typ = sockfile.read(1)\n",
    "                if typ == b'0':\n",
    "                    result.set_result(sockfile)\n",
    "                elif typ == b'1':\n",
    "                    result.set_exception(dill.load(sockfile))\n",
    "                else:\n",
    "                    raise Exception(\"unknown type \" + str(typ))\n",
    "    \n",
    "    def send_globals(self, globls):\n",
    "        assert isinstance(globls, dict)\n",
    "        \n",
    "        result = BasicAsyncResult()\n",
    "        self.requests_queue.put((result, b'0', globls))\n",
    "        result.event.wait()\n",
    "        return result.result     \n",
    "    \n",
    "    def rpc_simple(self, func, *args, **kwargs):\n",
    "        assert callable(func)\n",
    "                                \n",
    "        result = BasicAsyncResult()\n",
    "        self.requests_queue.put((result, b'1', ((func, args, kwargs, 1))))\n",
    "        result.event.wait()\n",
    "        if result.exception:\n",
    "            raise result.exception\n",
    "        return result.result\n",
    "        \n",
    "    def rpc_file(self, file, func, *args, **kwargs):\n",
    "        assert callable(func)\n",
    "        assert isinstance(file, str)\n",
    "        result = FileAsyncResult(file)\n",
    "        self.requests_queue.put((result, b'1', ((func, args, kwargs, 1))))\n",
    "        result.event.wait()\n",
    "        if result.exception:\n",
    "            raise result.exception\n",
    "        return True\n",
    "    \n",
    "    def host_server(self):\n",
    "        HOST = '0.0.0.0' \n",
    "        PORT = 65231\n",
    "\n",
    "        with socket.socket(socket.AF_INET, socket.SOCK_STREAM) as s:\n",
    "            s.setsockopt(socket.SOL_SOCKET, socket.SO_REUSEADDR, 1)\n",
    "            s.bind((HOST, PORT))\n",
    "            # listen for incoming connections\n",
    "            s.listen()\n",
    "            print(f\"Server is listening on {HOST}:{PORT}\")\n",
    "            # wait for a client to connect\n",
    "            \n",
    "            with concurrent.futures.ThreadPoolExecutor(4, \"ServerConnectionHandler\") as executor:\n",
    "                while True:\n",
    "                    conn, addr = s.accept()\n",
    "                    print(f\"Connected by {addr}\")\n",
    "                    self.connection_handler(conn)\n",
    "                    # executor.submit(self.handle_connection, conn)\n",
    "                        # receive data from the client\n",
    "    \n",
    "    def run(self):\n",
    "        self.thread = threading.Thread(target=self.host_server)\n",
    "        self.thread.start()\n",
    "\n",
    "def is_sendable(x):\n",
    "    if callable(x):\n",
    "        return True\n",
    "    if str(type(x)) != \"<class 'module'>\":\n",
    "        return False\n",
    "    return 'built-in' not in str(x) \n",
    "\n",
    "def get_sendable_globals(globs):\n",
    "    res = {}\n",
    "    for k,v in globs.items():\n",
    "        if k in ['exit', 'open', 'quit', 'get_ipython']: continue\n",
    "        if not is_sendable(v): continue\n",
    "        res[k] = v\n",
    "    return res\n",
    "        \n",
    "server = RemoteRunnerServer()\n",
    "server.run()\n",
    "server"
   ]
  },
  {
   "cell_type": "code",
   "execution_count": 9,
   "id": "c439c4b9",
   "metadata": {},
   "outputs": [],
   "source": [
    "import dill"
   ]
  },
  {
   "cell_type": "code",
   "execution_count": 11,
   "id": "b3315edc",
   "metadata": {},
   "outputs": [
    {
     "data": {
      "text/plain": [
       "{'__builtins__': {'__name__': 'builtins',\n",
       "  '__doc__': \"Built-in functions, exceptions, and other objects.\\n\\nNoteworthy: None is the `nil' object; Ellipsis represents `...' in slices.\",\n",
       "  '__package__': '',\n",
       "  '__loader__': _frozen_importlib.BuiltinImporter,\n",
       "  '__spec__': ModuleSpec(name='builtins', loader=<class '_frozen_importlib.BuiltinImporter'>, origin='built-in'),\n",
       "  '__build_class__': <function __build_class__>,\n",
       "  '__import__': <function __import__>,\n",
       "  'abs': <function abs(x, /)>,\n",
       "  'all': <function all(iterable, /)>,\n",
       "  'any': <function any(iterable, /)>,\n",
       "  'ascii': <function ascii(obj, /)>,\n",
       "  'bin': <function bin(number, /)>,\n",
       "  'breakpoint': <function breakpoint>,\n",
       "  'callable': <function callable(obj, /)>,\n",
       "  'chr': <function chr(i, /)>,\n",
       "  'compile': <function compile(source, filename, mode, flags=0, dont_inherit=False, optimize=-1, *, _feature_version=-1)>,\n",
       "  'delattr': <function delattr(obj, name, /)>,\n",
       "  'dir': <function dir>,\n",
       "  'divmod': <function divmod(x, y, /)>,\n",
       "  'eval': <function eval(source, globals=None, locals=None, /)>,\n",
       "  'exec': <function exec(source, globals=None, locals=None, /)>,\n",
       "  'format': <function format(value, format_spec='', /)>,\n",
       "  'getattr': <function getattr>,\n",
       "  'globals': <function globals()>,\n",
       "  'hasattr': <function hasattr(obj, name, /)>,\n",
       "  'hash': <function hash(obj, /)>,\n",
       "  'hex': <function hex(number, /)>,\n",
       "  'id': <function id(obj, /)>,\n",
       "  'input': <bound method Kernel.raw_input of <ipykernel.ipkernel.IPythonKernel object at 0x7f97934e4490>>,\n",
       "  'isinstance': <function isinstance(obj, class_or_tuple, /)>,\n",
       "  'issubclass': <function issubclass(cls, class_or_tuple, /)>,\n",
       "  'iter': <function iter>,\n",
       "  'aiter': <function aiter(async_iterable, /)>,\n",
       "  'len': <function len(obj, /)>,\n",
       "  'locals': <function locals()>,\n",
       "  'max': <function max>,\n",
       "  'min': <function min>,\n",
       "  'next': <function next>,\n",
       "  'anext': <function anext>,\n",
       "  'oct': <function oct(number, /)>,\n",
       "  'ord': <function ord(c, /)>,\n",
       "  'pow': <function pow(base, exp, mod=None)>,\n",
       "  'print': <function print>,\n",
       "  'repr': <function repr(obj, /)>,\n",
       "  'round': <function round(number, ndigits=None)>,\n",
       "  'setattr': <function setattr(obj, name, value, /)>,\n",
       "  'sorted': <function sorted(iterable, /, *, key=None, reverse=False)>,\n",
       "  'sum': <function sum(iterable, /, start=0)>,\n",
       "  'vars': <function vars>,\n",
       "  'None': None,\n",
       "  'Ellipsis': Ellipsis,\n",
       "  'NotImplemented': NotImplemented,\n",
       "  'False': False,\n",
       "  'True': True,\n",
       "  'bool': bool,\n",
       "  'memoryview': memoryview,\n",
       "  'bytearray': bytearray,\n",
       "  'bytes': bytes,\n",
       "  'classmethod': classmethod,\n",
       "  'complex': complex,\n",
       "  'dict': dict,\n",
       "  'enumerate': enumerate,\n",
       "  'filter': filter,\n",
       "  'float': float,\n",
       "  'frozenset': frozenset,\n",
       "  'property': property,\n",
       "  'int': int,\n",
       "  'list': list,\n",
       "  'map': map,\n",
       "  'object': object,\n",
       "  'range': range,\n",
       "  'reversed': reversed,\n",
       "  'set': set,\n",
       "  'slice': slice,\n",
       "  'staticmethod': staticmethod,\n",
       "  'str': str,\n",
       "  'super': super,\n",
       "  'tuple': tuple,\n",
       "  'type': type,\n",
       "  'zip': zip,\n",
       "  '__debug__': True,\n",
       "  'BaseException': BaseException,\n",
       "  'Exception': Exception,\n",
       "  'TypeError': TypeError,\n",
       "  'StopAsyncIteration': StopAsyncIteration,\n",
       "  'StopIteration': StopIteration,\n",
       "  'GeneratorExit': GeneratorExit,\n",
       "  'SystemExit': SystemExit,\n",
       "  'KeyboardInterrupt': KeyboardInterrupt,\n",
       "  'ImportError': ImportError,\n",
       "  'ModuleNotFoundError': ModuleNotFoundError,\n",
       "  'OSError': OSError,\n",
       "  'EnvironmentError': OSError,\n",
       "  'IOError': OSError,\n",
       "  'EOFError': EOFError,\n",
       "  'RuntimeError': RuntimeError,\n",
       "  'RecursionError': RecursionError,\n",
       "  'NotImplementedError': NotImplementedError,\n",
       "  'NameError': NameError,\n",
       "  'UnboundLocalError': UnboundLocalError,\n",
       "  'AttributeError': AttributeError,\n",
       "  'SyntaxError': SyntaxError,\n",
       "  'IndentationError': IndentationError,\n",
       "  'TabError': TabError,\n",
       "  'LookupError': LookupError,\n",
       "  'IndexError': IndexError,\n",
       "  'KeyError': KeyError,\n",
       "  'ValueError': ValueError,\n",
       "  'UnicodeError': UnicodeError,\n",
       "  'UnicodeEncodeError': UnicodeEncodeError,\n",
       "  'UnicodeDecodeError': UnicodeDecodeError,\n",
       "  'UnicodeTranslateError': UnicodeTranslateError,\n",
       "  'AssertionError': AssertionError,\n",
       "  'ArithmeticError': ArithmeticError,\n",
       "  'FloatingPointError': FloatingPointError,\n",
       "  'OverflowError': OverflowError,\n",
       "  'ZeroDivisionError': ZeroDivisionError,\n",
       "  'SystemError': SystemError,\n",
       "  'ReferenceError': ReferenceError,\n",
       "  'MemoryError': MemoryError,\n",
       "  'BufferError': BufferError,\n",
       "  'Warning': Warning,\n",
       "  'UserWarning': UserWarning,\n",
       "  'EncodingWarning': EncodingWarning,\n",
       "  'DeprecationWarning': DeprecationWarning,\n",
       "  'PendingDeprecationWarning': PendingDeprecationWarning,\n",
       "  'SyntaxWarning': SyntaxWarning,\n",
       "  'RuntimeWarning': RuntimeWarning,\n",
       "  'FutureWarning': FutureWarning,\n",
       "  'ImportWarning': ImportWarning,\n",
       "  'UnicodeWarning': UnicodeWarning,\n",
       "  'BytesWarning': BytesWarning,\n",
       "  'ResourceWarning': ResourceWarning,\n",
       "  'ConnectionError': ConnectionError,\n",
       "  'BlockingIOError': BlockingIOError,\n",
       "  'BrokenPipeError': BrokenPipeError,\n",
       "  'ChildProcessError': ChildProcessError,\n",
       "  'ConnectionAbortedError': ConnectionAbortedError,\n",
       "  'ConnectionRefusedError': ConnectionRefusedError,\n",
       "  'ConnectionResetError': ConnectionResetError,\n",
       "  'FileExistsError': FileExistsError,\n",
       "  'FileNotFoundError': FileNotFoundError,\n",
       "  'IsADirectoryError': IsADirectoryError,\n",
       "  'NotADirectoryError': NotADirectoryError,\n",
       "  'InterruptedError': InterruptedError,\n",
       "  'PermissionError': PermissionError,\n",
       "  'ProcessLookupError': ProcessLookupError,\n",
       "  'TimeoutError': TimeoutError,\n",
       "  'open': <function io.open(file, mode='r', buffering=-1, encoding=None, errors=None, newline=None, closefd=True, opener=None)>,\n",
       "  'copyright': Copyright (c) 2001-2023 Python Software Foundation.\n",
       "  All Rights Reserved.\n",
       "  \n",
       "  Copyright (c) 2000 BeOpen.com.\n",
       "  All Rights Reserved.\n",
       "  \n",
       "  Copyright (c) 1995-2001 Corporation for National Research Initiatives.\n",
       "  All Rights Reserved.\n",
       "  \n",
       "  Copyright (c) 1991-1995 Stichting Mathematisch Centrum, Amsterdam.\n",
       "  All Rights Reserved.,\n",
       "  'credits':     Thanks to CWI, CNRI, BeOpen.com, Zope Corporation and a cast of thousands\n",
       "      for supporting Python development.  See www.python.org for more information.,\n",
       "  'license': Type license() to see the full license text,\n",
       "  'help': Type help() for interactive help, or help(object) for help about object.,\n",
       "  'execfile': <function _pydev_bundle._pydev_execfile.execfile(file, glob=None, loc=None)>,\n",
       "  'runfile': <function _pydev_bundle.pydev_umd.runfile(filename, args=None, wdir=None, namespace=None)>,\n",
       "  '__IPYTHON__': True,\n",
       "  'display': <function IPython.core.display_functions.display(*objs, include=None, exclude=None, metadata=None, transient=None, display_id=None, raw=False, clear=False, **kwargs)>,\n",
       "  '__pybind11_internals_v4_gcc_libstdcpp_cxxabi1011__': <capsule object NULL at 0x7f979033bf00>,\n",
       "  'get_ipython': <bound method InteractiveShell.get_ipython of <ipykernel.zmqshell.ZMQInteractiveShell object at 0x7f97934e49a0>>},\n",
       " 'torch': <module 'torch' from '/home/misha-sh/micromamba/envs/pytorch-env/envs/pytorch-env/lib/python3.10/site-packages/torch/__init__.py'>,\n",
       " 'nn': <module 'torch.nn' from '/home/misha-sh/micromamba/envs/pytorch-env/envs/pytorch-env/lib/python3.10/site-packages/torch/nn/__init__.py'>,\n",
       " 'ReduceLROnPlateau': torch.optim.lr_scheduler.ReduceLROnPlateau,\n",
       " 'Tensor': torch.Tensor,\n",
       " 'functools': <module 'functools' from '/home/misha-sh/micromamba/envs/pytorch-env/envs/pytorch-env/lib/python3.10/functools.py'>,\n",
       " 'os': <module 'os' from '/home/misha-sh/micromamba/envs/pytorch-env/envs/pytorch-env/lib/python3.10/os.py'>,\n",
       " 'np': <module 'numpy' from '/home/misha-sh/micromamba/envs/pytorch-env/envs/pytorch-env/lib/python3.10/site-packages/numpy/__init__.py'>,\n",
       " 'warnings': <module 'warnings' from '/home/misha-sh/micromamba/envs/pytorch-env/envs/pytorch-env/lib/python3.10/warnings.py'>,\n",
       " 'glob': <module 'glob' from '/home/misha-sh/micromamba/envs/pytorch-env/envs/pytorch-env/lib/python3.10/glob.py'>,\n",
       " 'io': <module 'io' from '/home/misha-sh/micromamba/envs/pytorch-env/envs/pytorch-env/lib/python3.10/io.py'>,\n",
       " 'delayed': <function joblib.parallel.delayed(function)>,\n",
       " 'root': '/home/misha-sh/audio-ml/cache/',\n",
       " 'file_cached': <function cacher.file_cached(name)>,\n",
       " 'mem_cached': <function cacher.mem_cached(name)>,\n",
       " 'clear_cache': <function cacher.clear_cache(name)>,\n",
       " 'pymorphy3': <module 'pymorphy3' from '/home/misha-sh/micromamba/envs/pytorch-env/envs/pytorch-env/lib/python3.10/site-packages/pymorphy3/__init__.py'>,\n",
       " 'load_lenta2': <function corus.sources.lenta.load_lenta2(path)>,\n",
       " 'Navec': navec.navec.Navec,\n",
       " 'tokenize': TokenSegmenter(TokenSplitter(),\n",
       "                [DashRule(),\n",
       "                 UnderscoreRule(),\n",
       "                 FloatRule(),\n",
       "                 FractionRule(),\n",
       "                 FunctionRule('punct'),\n",
       "                 FunctionRule('other'),\n",
       "                 FunctionRule('yahoo')]),\n",
       " 'sentenize': SentSegmenter(SentSplitter('([=:;]-?[)(]{1,3}|[\\\\.\\\\?!…;\"„\\'»”’\\\\)\\\\]\\\\}])',\n",
       "                            10),\n",
       "               [FunctionRule('empty_side'),\n",
       "                FunctionRule('no_space_prefix'),\n",
       "                FunctionRule('lower_right'),\n",
       "                FunctionRule('delimiter_right'),\n",
       "                FunctionRule('sokr_left'),\n",
       "                FunctionRule('inside_pair_sokr'),\n",
       "                FunctionRule('initials_left'),\n",
       "                FunctionRule('list_item'),\n",
       "                FunctionRule('close_quote'),\n",
       "                FunctionRule('close_bracket'),\n",
       "                FunctionRule('dash_right')]),\n",
       " 'load_nerus': <function nerus.load_nerus(path)>,\n",
       " 'ProgressParallel': utils.ProgressParallel,\n",
       " 'chunks': <function utils.chunks(multiple_lists, chunk_size)>,\n",
       " 'size_of_tensor': <function utils.size_of_tensor(tensor)>,\n",
       " 'count_parameters': <function utils.count_parameters(model)>,\n",
       " 'download_file': <function utils.download_file(file, url)>,\n",
       " 'NavecEmbedding': slovnet.model.emb.NavecEmbedding,\n",
       " 'random': <module 'random' from '/home/misha-sh/micromamba/envs/pytorch-env/envs/pytorch-env/lib/python3.10/random.py'>,\n",
       " 'string': <module 'string' from '/home/misha-sh/micromamba/envs/pytorch-env/envs/pytorch-env/lib/python3.10/string.py'>,\n",
       " 'importlib': <module 'importlib' from '/home/misha-sh/micromamba/envs/pytorch-env/envs/pytorch-env/lib/python3.10/importlib/__init__.py'>,\n",
       " 'OpencorporaTag': pymorphy3.tagset.OpencorporaTag,\n",
       " 'NO_PUNCT': 0,\n",
       " 'build_params': <function params.build_params(params)>,\n",
       " 'dill': <module 'dill' from '/home/misha-sh/.local/lib/python3.10/site-packages/dill/__init__.py'>,\n",
       " 'socket': <module 'socket' from '/home/misha-sh/micromamba/envs/pytorch-env/envs/pytorch-env/lib/python3.10/socket.py'>,\n",
       " 'concurrent': <module 'concurrent' from '/home/misha-sh/micromamba/envs/pytorch-env/envs/pytorch-env/lib/python3.10/concurrent/__init__.py'>,\n",
       " 'queue': <module 'queue' from '/home/misha-sh/micromamba/envs/pytorch-env/envs/pytorch-env/lib/python3.10/queue.py'>,\n",
       " 'threading': <module 'threading' from '/home/misha-sh/micromamba/envs/pytorch-env/envs/pytorch-env/lib/python3.10/threading.py'>}"
      ]
     },
     "execution_count": 11,
     "metadata": {},
     "output_type": "execute_result"
    }
   ],
   "source": [
    "globs = {}\n",
    "exec(\"from imports import *\", globs)\n",
    "globs"
   ]
  },
  {
   "cell_type": "code",
   "execution_count": 13,
   "id": "86f74bec-7036-44d4-9489-8bfe6ab60d7d",
   "metadata": {
    "tags": []
   },
   "outputs": [
    {
     "data": {
      "text/plain": [
       "<module 'distributed' from '/home/misha-sh/micromamba/envs/pytorch-env/lib/python3.10/site-packages/distributed/__init__.py'>"
      ]
     },
     "execution_count": 13,
     "metadata": {},
     "output_type": "execute_result"
    }
   ],
   "source": [
    "import distributed\n",
    "distributed"
   ]
  },
  {
   "cell_type": "code",
   "execution_count": 10,
   "id": "6afb457f-1ccf-4a61-9b4c-141f14730c19",
   "metadata": {
    "tags": []
   },
   "outputs": [
    {
     "data": {
      "text/plain": [
       "b'\\x80\\x04\\x951\\x00\\x00\\x00\\x00\\x00\\x00\\x00\\x8c\\ndill._dill\\x94\\x8c\\x0e_import_module\\x94\\x93\\x94\\x8c\\tpymorphy3\\x94\\x85\\x94R\\x94.'"
      ]
     },
     "execution_count": 10,
     "metadata": {},
     "output_type": "execute_result"
    }
   ],
   "source": [
    "import dill\n",
    "import pymorphy3\n",
    "dill.dumps(pymorphy3, byref=False)"
   ]
  },
  {
   "cell_type": "code",
   "execution_count": 8,
   "id": "f2a0a757-7bd9-49f0-8387-8dfaa7d5c783",
   "metadata": {
    "tags": []
   },
   "outputs": [
    {
     "data": {
      "text/plain": [
       "tensor([-9.8635e-22,  4.5646e-41, -9.8635e-22,  4.5646e-41,  4.4842e-44,\n",
       "         0.0000e+00,  1.1210e-43,  0.0000e+00,  1.3183e-27,  3.0882e-41])"
      ]
     },
     "execution_count": 8,
     "metadata": {},
     "output_type": "execute_result"
    }
   ],
   "source": [
    "import torch\n",
    "def func(x):\n",
    "    return torch.Tensor(10) # x * 2 #torch.Tensor((1000, 1000, 1000))\n",
    "\n",
    "server.send_globals(globals())# get_sendable_globals(globals()))\n",
    "server.rpc_simple(func, 100)"
   ]
  },
  {
   "cell_type": "code",
   "execution_count": 51,
   "id": "b96eae35-3d79-45ce-af18-bdd39b2a4848",
   "metadata": {
    "tags": []
   },
   "outputs": [
    {
     "data": {
      "text/plain": [
       "{'torch': <module 'torch' from '/home/misha-sh/micromamba/envs/pytorch-env/lib/python3.10/site-packages/torch/__init__.py'>,\n",
       " 'func': <function __main__.func(x)>,\n",
       " '_3': <module 'torch' from '/home/misha-sh/micromamba/envs/pytorch-env/lib/python3.10/site-packages/torch/__init__.py'>,\n",
       " '_5': <module 'torch' from '/home/misha-sh/micromamba/envs/pytorch-env/lib/python3.10/site-packages/torch/__init__.py'>,\n",
       " '_6': module,\n",
       " 'is_module': <function __main__.is_module(x)>,\n",
       " 'get_modules_dict': <function __main__.get_modules_dict(globs)>,\n",
       " 'dill': <module 'dill' from '/home/misha-sh/micromamba/envs/pytorch-env/lib/python3.10/site-packages/dill/__init__.py'>,\n",
       " '_35': <module 'dill' from '/home/misha-sh/micromamba/envs/pytorch-env/lib/python3.10/site-packages/dill/__init__.py'>,\n",
       " 'is_sendable': <function __main__.is_sendable(x)>,\n",
       " 'get_sendable_globals': <function __main__.get_sendable_globals(globs)>}"
      ]
     },
     "execution_count": 51,
     "metadata": {},
     "output_type": "execute_result"
    }
   ],
   "source": [
    "\n",
    "   \n",
    "import dill\n",
    "dill.loads(dill.dumps(get_sendable_globals(globals())))\n"
   ]
  },
  {
   "cell_type": "code",
   "execution_count": 33,
   "id": "b8481fd9-3a58-4919-be0c-8345cec34a8d",
   "metadata": {
    "tags": []
   },
   "outputs": [
    {
     "data": {
      "text/plain": [
       "{'torch': <module 'torch' from '/home/misha-sh/micromamba/envs/pytorch-env/lib/python3.10/site-packages/torch/__init__.py'>,\n",
       " '_3': <module 'torch' from '/home/misha-sh/micromamba/envs/pytorch-env/lib/python3.10/site-packages/torch/__init__.py'>,\n",
       " '_5': <module 'torch' from '/home/misha-sh/micromamba/envs/pytorch-env/lib/python3.10/site-packages/torch/__init__.py'>,\n",
       " 'dill': <module 'dill' from '/home/misha-sh/micromamba/envs/pytorch-env/lib/python3.10/site-packages/dill/__init__.py'>}"
      ]
     },
     "execution_count": 33,
     "metadata": {},
     "output_type": "execute_result"
    }
   ],
   "source": [
    "get_modules_dict(globals())"
   ]
  },
  {
   "cell_type": "raw",
   "id": "2ff0f4a8-75d4-4fea-bb44-a412aaefb8b2",
   "metadata": {
    "tags": []
   },
   "source": [
    "class Kek(io.RawIOBase):\n",
    "    def __init__(self, a):\n",
    "        self.a_copy = a\n",
    "        self.a = io.BytesIO(a)\n",
    "    \n",
    "    def read(self, cnt=-1): \n",
    "        print(cnt)\n",
    "        return self.a.read(cnt)\n",
    "    def readline(self): raise Exception(\"no realization\")\n",
    "    def readable(self): return True\n",
    "    def seekable(self): return True\n",
    "    def seek(self, byte, whence=0):\n",
    "        print(byte, whence)\n",
    "        self.a = io.BytesIO(self.a_copy)\n",
    "        return 0\n",
    "    # def tell(self):\n",
    "    #     return 0\n",
    "        \n",
    "\n",
    "import io\n",
    "import torch\n",
    "import numpy as np\n",
    "a = io.BytesIO()\n",
    "\n",
    "# torch.save(torch.Tensor([1, 2, 3]), a, _use_new_zipfile_serialization=True)\n",
    "# dill.dump(torch.Tensor([1, 2, 3]), a)\n",
    "np.save(a, torch.Tensor([1, 2, 3]).numpy(), allow_pickle=False)\n",
    "np.save(a, torch.Tensor([1, 2, 3]).numpy(), allow_pickle=False)\n",
    "np.save(a, torch.Tensor([1, 2, 3]).numpy(), allow_pickle=False)\n",
    "# dill.dump(\"kek\", a)\n",
    "# dill.dump(\"beb\", a)\n",
    "\n",
    "# k = io.BufferedReader(Kek(a.getvalue()))\n",
    "k =  io.BytesIO((a.getvalue()))\n",
    "np.load(k)\n",
    "np.load(k)\n",
    "np.load(k)\n",
    "# torch.load(k)\n",
    "# np.load(k)\n",
    "# dill.load(k)\n",
    "# dill.load(k)\n",
    "# b = io.BufferedReader(Kek(a.getvalue()))\n",
    "# b.read()"
   ]
  },
  {
   "cell_type": "code",
   "execution_count": 97,
   "id": "7ccaeaa1-cf25-4f8d-9767-ca16b53b8072",
   "metadata": {
    "tags": []
   },
   "outputs": [
    {
     "data": {
      "text/plain": [
       "array([1., 2., 3.], dtype=float32)"
      ]
     },
     "execution_count": 97,
     "metadata": {},
     "output_type": "execute_result"
    }
   ],
   "source": [
    "torch.Tensor([1, 2, 3]).numpy().save()"
   ]
  },
  {
   "cell_type": "code",
   "execution_count": null,
   "id": "7aaeaf8e-2107-4066-b1d9-3a485e42dc8f",
   "metadata": {
    "tags": []
   },
   "outputs": [],
   "source": []
  },
  {
   "cell_type": "code",
   "execution_count": null,
   "id": "a0805223-5db5-4339-a369-a0af938fe6b9",
   "metadata": {
    "tags": []
   },
   "outputs": [],
   "source": []
  },
  {
   "cell_type": "code",
   "execution_count": null,
   "id": "76272daf-6894-4269-9870-a4b334032527",
   "metadata": {
    "tags": []
   },
   "outputs": [],
   "source": [
    "from enum import Enum\n",
    "\n",
    "# class FRAME(Enum):\n",
    "#     FUNCTION = 1,\n",
    "#     ARGS = 2,\n",
    "#     KWARGS = 3,\n",
    "#     TENSOR = 4\n",
    "\n",
    "# def decode_frame(f):\n",
    "#     typ = int.from_bytes(f.read(4), byteorder='little')\n",
    "#     decoded = dill.load(f)\n",
    "#     #     decoded = torch.load(io.BytesIO(f.read(size))\n",
    "#     return FRAME(typ), decoded\n",
    "    \n",
    "# def send_func(f, func)\n",
    "#     f.write(FRAME.FUNCTION)\n",
    "#     dill.dump(func, f)\n",
    "# def send_args(f, args):\n",
    "#     f.write(FRAME.ARGS)\n",
    "#     dill.dump(func, f)\n",
    "# def send_kwargs(f, args):\n",
    "#     f.write(FRAME.KWARGS)\n",
    "#     dill.dump(func, f)\n",
    "# def send_tensor(f, tensor):\n",
    "#     f.write(FRAME.TENSOR)\n",
    "#     torch.save(tensor, f)\n",
    "\n",
    "    "
   ]
  }
 ],
 "metadata": {
  "kernelspec": {
   "display_name": "Python 3 (ipykernel)",
   "language": "python",
   "name": "python3"
  },
  "language_info": {
   "codemirror_mode": {
    "name": "ipython",
    "version": 3
   },
   "file_extension": ".py",
   "mimetype": "text/x-python",
   "name": "python",
   "nbconvert_exporter": "python",
   "pygments_lexer": "ipython3",
   "version": "3.10.10"
  }
 },
 "nbformat": 4,
 "nbformat_minor": 5
}
