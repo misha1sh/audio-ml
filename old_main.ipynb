{
 "cells": [
  {
   "cell_type": "code",
   "execution_count": 1,
   "metadata": {},
   "outputs": [
    {
     "name": "stdout",
     "output_type": "stream",
     "text": [
      "1\n",
      "2\n"
     ]
    }
   ],
   "source": [
    "print(1)\n",
    "import torchaudio\n",
    "from torchdata.datapipes.iter import FileOpener, HttpReader, IterableWrapper\n",
    "from torch.utils.data import DataLoader\n",
    "import functools\n",
    "import os\n",
    "print(2)"
   ]
  },
  {
   "cell_type": "code",
   "execution_count": 3,
   "metadata": {},
   "outputs": [
    {
     "name": "stdout",
     "output_type": "stream",
     "text": [
      "mp3\n"
     ]
    },
    {
     "name": "stderr",
     "output_type": "stream",
     "text": [
      "formats: can't open input file `': SoX was compiled without MP3 decoding support\n"
     ]
    },
    {
     "ename": "RuntimeError",
     "evalue": "Failed to fetch metadata from StreamWrapper<<zipfile.ZipExtFile name='fma_small/000/000002.mp3' mode='r' compress_type=bzip2>>\nThis exception is thrown by __iter__ of MapperIterDataPipe()",
     "output_type": "error",
     "traceback": [
      "\u001b[0;31m---------------------------------------------------------------------------\u001b[0m",
      "\u001b[0;31mRuntimeError\u001b[0m                              Traceback (most recent call last)",
      "Cell \u001b[0;32mIn [3], line 40\u001b[0m\n\u001b[1;32m     37\u001b[0m fma_small_files_dp \u001b[38;5;241m=\u001b[39m download_dp(\u001b[38;5;124m\"\u001b[39m\u001b[38;5;124mfma_small.zip\u001b[39m\u001b[38;5;124m\"\u001b[39m)\u001b[38;5;241m.\u001b[39mfilter(is_mp3)\u001b[38;5;241m.\u001b[39mmap(read_wav)\n\u001b[1;32m     38\u001b[0m \u001b[38;5;66;03m# fma_small_files_dp.map()\u001b[39;00m\n\u001b[0;32m---> 40\u001b[0m \u001b[38;5;28;43mnext\u001b[39;49m\u001b[43m(\u001b[49m\u001b[38;5;28;43miter\u001b[39;49m\u001b[43m(\u001b[49m\u001b[43mfma_small_files_dp\u001b[49m\u001b[43m)\u001b[49m\u001b[43m)\u001b[49m\n",
      "File \u001b[0;32m~/.local/lib/python3.8/site-packages/torch/utils/data/datapipes/_typing.py:514\u001b[0m, in \u001b[0;36mhook_iterator.<locals>.wrap_generator\u001b[0;34m(*args, **kwargs)\u001b[0m\n\u001b[1;32m    512\u001b[0m         response \u001b[39m=\u001b[39m gen\u001b[39m.\u001b[39msend(\u001b[39mNone\u001b[39;00m)\n\u001b[1;32m    513\u001b[0m \u001b[39melse\u001b[39;00m:\n\u001b[0;32m--> 514\u001b[0m     response \u001b[39m=\u001b[39m gen\u001b[39m.\u001b[39;49msend(\u001b[39mNone\u001b[39;49;00m)\n\u001b[1;32m    516\u001b[0m \u001b[39mwhile\u001b[39;00m \u001b[39mTrue\u001b[39;00m:\n\u001b[1;32m    517\u001b[0m     request \u001b[39m=\u001b[39m \u001b[39myield\u001b[39;00m response\n",
      "File \u001b[0;32m~/.local/lib/python3.8/site-packages/torch/utils/data/datapipes/iter/callable.py:116\u001b[0m, in \u001b[0;36mMapperIterDataPipe.__iter__\u001b[0;34m(self)\u001b[0m\n\u001b[1;32m    114\u001b[0m \u001b[39mdef\u001b[39;00m \u001b[39m__iter__\u001b[39m(\u001b[39mself\u001b[39m) \u001b[39m-\u001b[39m\u001b[39m>\u001b[39m Iterator[T_co]:\n\u001b[1;32m    115\u001b[0m     \u001b[39mfor\u001b[39;00m data \u001b[39min\u001b[39;00m \u001b[39mself\u001b[39m\u001b[39m.\u001b[39mdatapipe:\n\u001b[0;32m--> 116\u001b[0m         \u001b[39myield\u001b[39;00m \u001b[39mself\u001b[39;49m\u001b[39m.\u001b[39;49m_apply_fn(data)\n",
      "File \u001b[0;32m~/.local/lib/python3.8/site-packages/torch/utils/data/datapipes/iter/callable.py:81\u001b[0m, in \u001b[0;36mMapperIterDataPipe._apply_fn\u001b[0;34m(self, data)\u001b[0m\n\u001b[1;32m     79\u001b[0m \u001b[39mdef\u001b[39;00m \u001b[39m_apply_fn\u001b[39m(\u001b[39mself\u001b[39m, data):\n\u001b[1;32m     80\u001b[0m     \u001b[39mif\u001b[39;00m \u001b[39mself\u001b[39m\u001b[39m.\u001b[39minput_col \u001b[39mis\u001b[39;00m \u001b[39mNone\u001b[39;00m \u001b[39mand\u001b[39;00m \u001b[39mself\u001b[39m\u001b[39m.\u001b[39moutput_col \u001b[39mis\u001b[39;00m \u001b[39mNone\u001b[39;00m:\n\u001b[0;32m---> 81\u001b[0m         \u001b[39mreturn\u001b[39;00m \u001b[39mself\u001b[39;49m\u001b[39m.\u001b[39;49mfn(data)\n\u001b[1;32m     83\u001b[0m     \u001b[39mif\u001b[39;00m \u001b[39mself\u001b[39m\u001b[39m.\u001b[39minput_col \u001b[39mis\u001b[39;00m \u001b[39mNone\u001b[39;00m:\n\u001b[1;32m     84\u001b[0m         res \u001b[39m=\u001b[39m \u001b[39mself\u001b[39m\u001b[39m.\u001b[39mfn(data)\n",
      "Cell \u001b[0;32mIn [3], line 31\u001b[0m, in \u001b[0;36mread_wav\u001b[0;34m(file_and_stream)\u001b[0m\n\u001b[1;32m     29\u001b[0m file, stream \u001b[38;5;241m=\u001b[39m file_and_stream\n\u001b[1;32m     30\u001b[0m \u001b[38;5;28mprint\u001b[39m(file\u001b[38;5;241m.\u001b[39msplit(\u001b[38;5;124m\"\u001b[39m\u001b[38;5;124m.\u001b[39m\u001b[38;5;124m\"\u001b[39m)[\u001b[38;5;241m-\u001b[39m\u001b[38;5;241m1\u001b[39m])\n\u001b[0;32m---> 31\u001b[0m metadata \u001b[38;5;241m=\u001b[39m \u001b[43mtorchaudio\u001b[49m\u001b[38;5;241;43m.\u001b[39;49m\u001b[43minfo\u001b[49m\u001b[43m(\u001b[49m\u001b[43mstream\u001b[49m\u001b[43m,\u001b[49m\u001b[43m \u001b[49m\u001b[38;5;28;43mformat\u001b[39;49m\u001b[38;5;241;43m=\u001b[39;49m\u001b[38;5;124;43m\"\u001b[39;49m\u001b[38;5;124;43mMP3\u001b[39;49m\u001b[38;5;124;43m\"\u001b[39;49m\u001b[43m)\u001b[49m\n\u001b[1;32m     32\u001b[0m \u001b[38;5;28mprint\u001b[39m(metadata)\n\u001b[1;32m     33\u001b[0m waveform, sample_rate \u001b[38;5;241m=\u001b[39m torchaudio\u001b[38;5;241m.\u001b[39mload(response\u001b[38;5;241m.\u001b[39mraw, \n\u001b[1;32m     34\u001b[0m     frame_offset\u001b[38;5;241m=\u001b[39mframe_offset, num_frames\u001b[38;5;241m=\u001b[39mnum_frames)\n",
      "File \u001b[0;32m~/.local/lib/python3.8/site-packages/torchaudio/backend/sox_io_backend.py:99\u001b[0m, in \u001b[0;36minfo\u001b[0;34m(filepath, format)\u001b[0m\n\u001b[1;32m     97\u001b[0m         \u001b[39mif\u001b[39;00m sinfo \u001b[39mis\u001b[39;00m \u001b[39mnot\u001b[39;00m \u001b[39mNone\u001b[39;00m:\n\u001b[1;32m     98\u001b[0m             \u001b[39mreturn\u001b[39;00m AudioMetaData(\u001b[39m*\u001b[39msinfo)\n\u001b[0;32m---> 99\u001b[0m         \u001b[39mreturn\u001b[39;00m _fallback_info_fileobj(filepath, \u001b[39mformat\u001b[39;49m)\n\u001b[1;32m    100\u001b[0m     filepath \u001b[39m=\u001b[39m os\u001b[39m.\u001b[39mfspath(filepath)\n\u001b[1;32m    101\u001b[0m sinfo \u001b[39m=\u001b[39m torch\u001b[39m.\u001b[39mops\u001b[39m.\u001b[39mtorchaudio\u001b[39m.\u001b[39msox_io_get_info(filepath, \u001b[39mformat\u001b[39m)\n",
      "File \u001b[0;32m~/.local/lib/python3.8/site-packages/torchaudio/backend/sox_io_backend.py:17\u001b[0m, in \u001b[0;36m_fail_info_fileobj\u001b[0;34m(fileobj, format)\u001b[0m\n\u001b[1;32m     16\u001b[0m \u001b[39mdef\u001b[39;00m \u001b[39m_fail_info_fileobj\u001b[39m(fileobj, \u001b[39mformat\u001b[39m: Optional[\u001b[39mstr\u001b[39m]) \u001b[39m-\u001b[39m\u001b[39m>\u001b[39m AudioMetaData:\n\u001b[0;32m---> 17\u001b[0m     \u001b[39mraise\u001b[39;00m \u001b[39mRuntimeError\u001b[39;00m(\u001b[39m\"\u001b[39m\u001b[39mFailed to fetch metadata from \u001b[39m\u001b[39m{}\u001b[39;00m\u001b[39m\"\u001b[39m\u001b[39m.\u001b[39mformat(fileobj))\n",
      "\u001b[0;31mRuntimeError\u001b[0m: Failed to fetch metadata from StreamWrapper<<zipfile.ZipExtFile name='fma_small/000/000002.mp3' mode='r' compress_type=bzip2>>\nThis exception is thrown by __iter__ of MapperIterDataPipe()"
     ]
    }
   ],
   "source": [
    "BASE_URL = \"https://os.unil.cloud.switch.ch/fma/\"\n",
    "\n",
    "_CHECKSUMS = {\n",
    "    \"fma_metadata.zip\": \"f0df49ffe5f2a6008d7dc83c6915b31835dfe733\",\n",
    "    \"fma_small.zip\": \"ade154f733639d52e35e32f5593efe5be76c6d70\",\n",
    "    \"fma_medium.zip\": \"c67b69ea232021025fca9231fc1c7c1a063ab50b\",\n",
    "    \"fma_large.zip\": \"497109f4dd721066b5ce5e5f250ec604dc78939e\",\n",
    "    \"fma_full.zip\": \"0f0ace23fbe9ba30ecb7e95f763e435ea802b8ab\",\n",
    "}\n",
    "\n",
    "root = os.fspath(\"./cache/\")\n",
    "checksum_dict = {os.path.join(root, key): value for key, value in _CHECKSUMS.items()}\n",
    "\n",
    "def download_dp(file_name):\n",
    "    urls = [BASE_URL + file_name]\n",
    "\n",
    "    url_dp = IterableWrapper(urls)\n",
    "    cache_compressed_dp = url_dp.on_disk_cache(\n",
    "        filepath_fn=lambda url: os.path.join(root, os.path.basename(url))\n",
    "    )\n",
    "    cache_compressed_dp = HttpReader(cache_compressed_dp).end_caching(same_filepath_fn=True)\n",
    "\n",
    "    return FileOpener(cache_compressed_dp, mode=\"b\").load_from_zip()\n",
    "\n",
    "def is_mp3(file):\n",
    "    return file[0].endswith(\".mp3\")\n",
    "\n",
    "def read_wav(file_and_stream):\n",
    "    file, stream = file_and_stream\n",
    "    print(file.split(\".\")[-1])\n",
    "    metadata = torchaudio.info(stream, format=\"MP3\")\n",
    "    print(metadata)\n",
    "    waveform, sample_rate = torchaudio.load(response.raw, \n",
    "        frame_offset=frame_offset, num_frames=num_frames)\n",
    "    return 1\n",
    "\n",
    "fma_small_files_dp = download_dp(\"fma_small.zip\").filter(is_mp3).map(read_wav)\n",
    "# fma_small_files_dp.map()\n",
    "\n",
    "next(iter(fma_small_files_dp))"
   ]
  },
  {
   "cell_type": "markdown",
   "metadata": {},
   "source": []
  },
  {
   "cell_type": "code",
   "execution_count": 6,
   "metadata": {},
   "outputs": [
    {
     "data": {
      "text/plain": [
       "('cache/fma_metadata.zip/fma_metadata/README.txt',\n",
       " StreamWrapper<<zipfile.ZipExtFile name='fma_metadata/README.txt' mode='r' compress_type=bzip2>>)"
      ]
     },
     "execution_count": 6,
     "metadata": {},
     "output_type": "execute_result"
    }
   ],
   "source": []
  },
  {
   "cell_type": "code",
   "execution_count": 10,
   "metadata": {},
   "outputs": [
    {
     "name": "stdout",
     "output_type": "stream",
     "text": [
      "('cache/fma_metadata.zip/fma_metadata/README.txt', StreamWrapper<<zipfile.ZipExtFile name='fma_metadata/README.txt' mode='r' compress_type=bzip2>>)\n",
      "('cache/fma_metadata.zip/fma_metadata/checksums', StreamWrapper<<zipfile.ZipExtFile name='fma_metadata/checksums' mode='r' compress_type=bzip2>>)\n",
      "('cache/fma_metadata.zip/fma_metadata/not_found.pickle', StreamWrapper<<zipfile.ZipExtFile name='fma_metadata/not_found.pickle' mode='r' compress_type=bzip2>>)\n",
      "('cache/fma_metadata.zip/fma_metadata/raw_genres.csv', StreamWrapper<<zipfile.ZipExtFile name='fma_metadata/raw_genres.csv' mode='r' compress_type=bzip2>>)\n",
      "('cache/fma_metadata.zip/fma_metadata/raw_albums.csv', StreamWrapper<<zipfile.ZipExtFile name='fma_metadata/raw_albums.csv' mode='r' compress_type=bzip2>>)\n",
      "('cache/fma_metadata.zip/fma_metadata/raw_artists.csv', StreamWrapper<<zipfile.ZipExtFile name='fma_metadata/raw_artists.csv' mode='r' compress_type=bzip2>>)\n",
      "('cache/fma_metadata.zip/fma_metadata/raw_tracks.csv', StreamWrapper<<zipfile.ZipExtFile name='fma_metadata/raw_tracks.csv' mode='r' compress_type=bzip2>>)\n",
      "('cache/fma_metadata.zip/fma_metadata/tracks.csv', StreamWrapper<<zipfile.ZipExtFile name='fma_metadata/tracks.csv' mode='r' compress_type=bzip2>>)\n",
      "('cache/fma_metadata.zip/fma_metadata/genres.csv', StreamWrapper<<zipfile.ZipExtFile name='fma_metadata/genres.csv' mode='r' compress_type=bzip2>>)\n",
      "('cache/fma_metadata.zip/fma_metadata/raw_echonest.csv', StreamWrapper<<zipfile.ZipExtFile name='fma_metadata/raw_echonest.csv' mode='r' compress_type=bzip2>>)\n",
      "('cache/fma_metadata.zip/fma_metadata/echonest.csv', StreamWrapper<<zipfile.ZipExtFile name='fma_metadata/echonest.csv' mode='r' compress_type=bzip2>>)\n",
      "('cache/fma_metadata.zip/fma_metadata/features.csv', StreamWrapper<<zipfile.ZipExtFile name='fma_metadata/features.csv' mode='r' compress_type=bzip2>>)\n",
      "('cache/fma_small.zip/fma_small/README.txt', StreamWrapper<<zipfile.ZipExtFile name='fma_small/README.txt' mode='r' compress_type=bzip2>>)\n",
      "('cache/fma_small.zip/fma_small/checksums', StreamWrapper<<zipfile.ZipExtFile name='fma_small/checksums' mode='r' compress_type=bzip2>>)\n",
      "('cache/fma_small.zip/fma_small/000/000002.mp3', StreamWrapper<<zipfile.ZipExtFile name='fma_small/000/000002.mp3' mode='r' compress_type=bzip2>>)\n",
      "('cache/fma_small.zip/fma_small/000/000005.mp3', StreamWrapper<<zipfile.ZipExtFile name='fma_small/000/000005.mp3' mode='r' compress_type=bzip2>>)\n",
      "('cache/fma_small.zip/fma_small/000/000010.mp3', StreamWrapper<<zipfile.ZipExtFile name='fma_small/000/000010.mp3' mode='r' compress_type=bzip2>>)\n",
      "('cache/fma_small.zip/fma_small/000/000140.mp3', StreamWrapper<<zipfile.ZipExtFile name='fma_small/000/000140.mp3' mode='r' compress_type=bzip2>>)\n",
      "('cache/fma_small.zip/fma_small/000/000141.mp3', StreamWrapper<<zipfile.ZipExtFile name='fma_small/000/000141.mp3' mode='r' compress_type=bzip2>>)\n",
      "('cache/fma_small.zip/fma_small/000/000148.mp3', StreamWrapper<<zipfile.ZipExtFile name='fma_small/000/000148.mp3' mode='r' compress_type=bzip2>>)\n",
      "('cache/fma_small.zip/fma_small/000/000182.mp3', StreamWrapper<<zipfile.ZipExtFile name='fma_small/000/000182.mp3' mode='r' compress_type=bzip2>>)\n",
      "('cache/fma_small.zip/fma_small/000/000190.mp3', StreamWrapper<<zipfile.ZipExtFile name='fma_small/000/000190.mp3' mode='r' compress_type=bzip2>>)\n",
      "('cache/fma_small.zip/fma_small/000/000193.mp3', StreamWrapper<<zipfile.ZipExtFile name='fma_small/000/000193.mp3' mode='r' compress_type=bzip2>>)\n",
      "('cache/fma_small.zip/fma_small/000/000194.mp3', StreamWrapper<<zipfile.ZipExtFile name='fma_small/000/000194.mp3' mode='r' compress_type=bzip2>>)\n",
      "('cache/fma_small.zip/fma_small/000/000197.mp3', StreamWrapper<<zipfile.ZipExtFile name='fma_small/000/000197.mp3' mode='r' compress_type=bzip2>>)\n",
      "('cache/fma_small.zip/fma_small/000/000200.mp3', StreamWrapper<<zipfile.ZipExtFile name='fma_small/000/000200.mp3' mode='r' compress_type=bzip2>>)\n",
      "('cache/fma_small.zip/fma_small/000/000203.mp3', StreamWrapper<<zipfile.ZipExtFile name='fma_small/000/000203.mp3' mode='r' compress_type=bzip2>>)\n",
      "('cache/fma_small.zip/fma_small/000/000204.mp3', StreamWrapper<<zipfile.ZipExtFile name='fma_small/000/000204.mp3' mode='r' compress_type=bzip2>>)\n",
      "('cache/fma_small.zip/fma_small/000/000207.mp3', StreamWrapper<<zipfile.ZipExtFile name='fma_small/000/000207.mp3' mode='r' compress_type=bzip2>>)\n",
      "('cache/fma_small.zip/fma_small/000/000210.mp3', StreamWrapper<<zipfile.ZipExtFile name='fma_small/000/000210.mp3' mode='r' compress_type=bzip2>>)\n",
      "('cache/fma_small.zip/fma_small/000/000211.mp3', StreamWrapper<<zipfile.ZipExtFile name='fma_small/000/000211.mp3' mode='r' compress_type=bzip2>>)\n",
      "('cache/fma_small.zip/fma_small/000/000212.mp3', StreamWrapper<<zipfile.ZipExtFile name='fma_small/000/000212.mp3' mode='r' compress_type=bzip2>>)\n",
      "('cache/fma_small.zip/fma_small/000/000213.mp3', StreamWrapper<<zipfile.ZipExtFile name='fma_small/000/000213.mp3' mode='r' compress_type=bzip2>>)\n",
      "('cache/fma_small.zip/fma_small/000/000255.mp3', StreamWrapper<<zipfile.ZipExtFile name='fma_small/000/000255.mp3' mode='r' compress_type=bzip2>>)\n",
      "('cache/fma_small.zip/fma_small/000/000256.mp3', StreamWrapper<<zipfile.ZipExtFile name='fma_small/000/000256.mp3' mode='r' compress_type=bzip2>>)\n",
      "('cache/fma_small.zip/fma_small/000/000368.mp3', StreamWrapper<<zipfile.ZipExtFile name='fma_small/000/000368.mp3' mode='r' compress_type=bzip2>>)\n",
      "('cache/fma_small.zip/fma_small/000/000424.mp3', StreamWrapper<<zipfile.ZipExtFile name='fma_small/000/000424.mp3' mode='r' compress_type=bzip2>>)\n",
      "('cache/fma_small.zip/fma_small/000/000459.mp3', StreamWrapper<<zipfile.ZipExtFile name='fma_small/000/000459.mp3' mode='r' compress_type=bzip2>>)\n",
      "('cache/fma_small.zip/fma_small/000/000534.mp3', StreamWrapper<<zipfile.ZipExtFile name='fma_small/000/000534.mp3' mode='r' compress_type=bzip2>>)\n",
      "('cache/fma_small.zip/fma_small/000/000540.mp3', StreamWrapper<<zipfile.ZipExtFile name='fma_small/000/000540.mp3' mode='r' compress_type=bzip2>>)\n",
      "('cache/fma_small.zip/fma_small/000/000546.mp3', StreamWrapper<<zipfile.ZipExtFile name='fma_small/000/000546.mp3' mode='r' compress_type=bzip2>>)\n",
      "('cache/fma_small.zip/fma_small/000/000574.mp3', StreamWrapper<<zipfile.ZipExtFile name='fma_small/000/000574.mp3' mode='r' compress_type=bzip2>>)\n",
      "('cache/fma_small.zip/fma_small/000/000602.mp3', StreamWrapper<<zipfile.ZipExtFile name='fma_small/000/000602.mp3' mode='r' compress_type=bzip2>>)\n",
      "('cache/fma_small.zip/fma_small/000/000615.mp3', StreamWrapper<<zipfile.ZipExtFile name='fma_small/000/000615.mp3' mode='r' compress_type=bzip2>>)\n",
      "('cache/fma_small.zip/fma_small/000/000620.mp3', StreamWrapper<<zipfile.ZipExtFile name='fma_small/000/000620.mp3' mode='r' compress_type=bzip2>>)\n",
      "('cache/fma_small.zip/fma_small/000/000621.mp3', StreamWrapper<<zipfile.ZipExtFile name='fma_small/000/000621.mp3' mode='r' compress_type=bzip2>>)\n",
      "('cache/fma_small.zip/fma_small/000/000625.mp3', StreamWrapper<<zipfile.ZipExtFile name='fma_small/000/000625.mp3' mode='r' compress_type=bzip2>>)\n",
      "('cache/fma_small.zip/fma_small/000/000666.mp3', StreamWrapper<<zipfile.ZipExtFile name='fma_small/000/000666.mp3' mode='r' compress_type=bzip2>>)\n",
      "('cache/fma_small.zip/fma_small/000/000667.mp3', StreamWrapper<<zipfile.ZipExtFile name='fma_small/000/000667.mp3' mode='r' compress_type=bzip2>>)\n",
      "('cache/fma_small.zip/fma_small/000/000676.mp3', StreamWrapper<<zipfile.ZipExtFile name='fma_small/000/000676.mp3' mode='r' compress_type=bzip2>>)\n",
      "('cache/fma_small.zip/fma_small/000/000690.mp3', StreamWrapper<<zipfile.ZipExtFile name='fma_small/000/000690.mp3' mode='r' compress_type=bzip2>>)\n",
      "('cache/fma_small.zip/fma_small/000/000694.mp3', StreamWrapper<<zipfile.ZipExtFile name='fma_small/000/000694.mp3' mode='r' compress_type=bzip2>>)\n",
      "('cache/fma_small.zip/fma_small/000/000695.mp3', StreamWrapper<<zipfile.ZipExtFile name='fma_small/000/000695.mp3' mode='r' compress_type=bzip2>>)\n",
      "('cache/fma_small.zip/fma_small/000/000704.mp3', StreamWrapper<<zipfile.ZipExtFile name='fma_small/000/000704.mp3' mode='r' compress_type=bzip2>>)\n",
      "('cache/fma_small.zip/fma_small/000/000705.mp3', StreamWrapper<<zipfile.ZipExtFile name='fma_small/000/000705.mp3' mode='r' compress_type=bzip2>>)\n",
      "('cache/fma_small.zip/fma_small/000/000706.mp3', StreamWrapper<<zipfile.ZipExtFile name='fma_small/000/000706.mp3' mode='r' compress_type=bzip2>>)\n",
      "('cache/fma_small.zip/fma_small/000/000707.mp3', StreamWrapper<<zipfile.ZipExtFile name='fma_small/000/000707.mp3' mode='r' compress_type=bzip2>>)\n",
      "('cache/fma_small.zip/fma_small/000/000708.mp3', StreamWrapper<<zipfile.ZipExtFile name='fma_small/000/000708.mp3' mode='r' compress_type=bzip2>>)\n",
      "('cache/fma_small.zip/fma_small/000/000709.mp3', StreamWrapper<<zipfile.ZipExtFile name='fma_small/000/000709.mp3' mode='r' compress_type=bzip2>>)\n",
      "('cache/fma_small.zip/fma_small/000/000714.mp3', StreamWrapper<<zipfile.ZipExtFile name='fma_small/000/000714.mp3' mode='r' compress_type=bzip2>>)\n",
      "('cache/fma_small.zip/fma_small/000/000715.mp3', StreamWrapper<<zipfile.ZipExtFile name='fma_small/000/000715.mp3' mode='r' compress_type=bzip2>>)\n",
      "('cache/fma_small.zip/fma_small/000/000716.mp3', StreamWrapper<<zipfile.ZipExtFile name='fma_small/000/000716.mp3' mode='r' compress_type=bzip2>>)\n",
      "('cache/fma_small.zip/fma_small/000/000718.mp3', StreamWrapper<<zipfile.ZipExtFile name='fma_small/000/000718.mp3' mode='r' compress_type=bzip2>>)\n",
      "('cache/fma_small.zip/fma_small/000/000777.mp3', StreamWrapper<<zipfile.ZipExtFile name='fma_small/000/000777.mp3' mode='r' compress_type=bzip2>>)\n",
      "('cache/fma_small.zip/fma_small/000/000814.mp3', StreamWrapper<<zipfile.ZipExtFile name='fma_small/000/000814.mp3' mode='r' compress_type=bzip2>>)\n",
      "('cache/fma_small.zip/fma_small/000/000821.mp3', StreamWrapper<<zipfile.ZipExtFile name='fma_small/000/000821.mp3' mode='r' compress_type=bzip2>>)\n",
      "('cache/fma_small.zip/fma_small/000/000822.mp3', StreamWrapper<<zipfile.ZipExtFile name='fma_small/000/000822.mp3' mode='r' compress_type=bzip2>>)\n",
      "('cache/fma_small.zip/fma_small/000/000825.mp3', StreamWrapper<<zipfile.ZipExtFile name='fma_small/000/000825.mp3' mode='r' compress_type=bzip2>>)\n",
      "('cache/fma_small.zip/fma_small/000/000853.mp3', StreamWrapper<<zipfile.ZipExtFile name='fma_small/000/000853.mp3' mode='r' compress_type=bzip2>>)\n",
      "('cache/fma_small.zip/fma_small/000/000890.mp3', StreamWrapper<<zipfile.ZipExtFile name='fma_small/000/000890.mp3' mode='r' compress_type=bzip2>>)\n",
      "('cache/fma_small.zip/fma_small/000/000892.mp3', StreamWrapper<<zipfile.ZipExtFile name='fma_small/000/000892.mp3' mode='r' compress_type=bzip2>>)\n",
      "('cache/fma_small.zip/fma_small/000/000897.mp3', StreamWrapper<<zipfile.ZipExtFile name='fma_small/000/000897.mp3' mode='r' compress_type=bzip2>>)\n",
      "('cache/fma_small.zip/fma_small/000/000993.mp3', StreamWrapper<<zipfile.ZipExtFile name='fma_small/000/000993.mp3' mode='r' compress_type=bzip2>>)\n",
      "('cache/fma_small.zip/fma_small/000/000995.mp3', StreamWrapper<<zipfile.ZipExtFile name='fma_small/000/000995.mp3' mode='r' compress_type=bzip2>>)\n",
      "('cache/fma_small.zip/fma_small/000/000997.mp3', StreamWrapper<<zipfile.ZipExtFile name='fma_small/000/000997.mp3' mode='r' compress_type=bzip2>>)\n",
      "('cache/fma_small.zip/fma_small/000/000998.mp3', StreamWrapper<<zipfile.ZipExtFile name='fma_small/000/000998.mp3' mode='r' compress_type=bzip2>>)\n",
      "('cache/fma_small.zip/fma_small/001/001039.mp3', StreamWrapper<<zipfile.ZipExtFile name='fma_small/001/001039.mp3' mode='r' compress_type=bzip2>>)\n",
      "('cache/fma_small.zip/fma_small/001/001040.mp3', StreamWrapper<<zipfile.ZipExtFile name='fma_small/001/001040.mp3' mode='r' compress_type=bzip2>>)\n",
      "('cache/fma_small.zip/fma_small/001/001066.mp3', StreamWrapper<<zipfile.ZipExtFile name='fma_small/001/001066.mp3' mode='r' compress_type=bzip2>>)\n",
      "('cache/fma_small.zip/fma_small/001/001069.mp3', StreamWrapper<<zipfile.ZipExtFile name='fma_small/001/001069.mp3' mode='r' compress_type=bzip2>>)\n",
      "('cache/fma_small.zip/fma_small/001/001073.mp3', StreamWrapper<<zipfile.ZipExtFile name='fma_small/001/001073.mp3' mode='r' compress_type=bzip2>>)\n",
      "('cache/fma_small.zip/fma_small/001/001075.mp3', StreamWrapper<<zipfile.ZipExtFile name='fma_small/001/001075.mp3' mode='r' compress_type=bzip2>>)\n",
      "('cache/fma_small.zip/fma_small/001/001082.mp3', StreamWrapper<<zipfile.ZipExtFile name='fma_small/001/001082.mp3' mode='r' compress_type=bzip2>>)\n",
      "('cache/fma_small.zip/fma_small/001/001083.mp3', StreamWrapper<<zipfile.ZipExtFile name='fma_small/001/001083.mp3' mode='r' compress_type=bzip2>>)\n",
      "('cache/fma_small.zip/fma_small/001/001087.mp3', StreamWrapper<<zipfile.ZipExtFile name='fma_small/001/001087.mp3' mode='r' compress_type=bzip2>>)\n",
      "('cache/fma_small.zip/fma_small/001/001102.mp3', StreamWrapper<<zipfile.ZipExtFile name='fma_small/001/001102.mp3' mode='r' compress_type=bzip2>>)\n",
      "('cache/fma_small.zip/fma_small/001/001193.mp3', StreamWrapper<<zipfile.ZipExtFile name='fma_small/001/001193.mp3' mode='r' compress_type=bzip2>>)\n",
      "('cache/fma_small.zip/fma_small/001/001195.mp3', StreamWrapper<<zipfile.ZipExtFile name='fma_small/001/001195.mp3' mode='r' compress_type=bzip2>>)\n",
      "('cache/fma_small.zip/fma_small/001/001196.mp3', StreamWrapper<<zipfile.ZipExtFile name='fma_small/001/001196.mp3' mode='r' compress_type=bzip2>>)\n",
      "('cache/fma_small.zip/fma_small/001/001197.mp3', StreamWrapper<<zipfile.ZipExtFile name='fma_small/001/001197.mp3' mode='r' compress_type=bzip2>>)\n",
      "('cache/fma_small.zip/fma_small/001/001249.mp3', StreamWrapper<<zipfile.ZipExtFile name='fma_small/001/001249.mp3' mode='r' compress_type=bzip2>>)\n",
      "('cache/fma_small.zip/fma_small/001/001259.mp3', StreamWrapper<<zipfile.ZipExtFile name='fma_small/001/001259.mp3' mode='r' compress_type=bzip2>>)\n",
      "('cache/fma_small.zip/fma_small/001/001270.mp3', StreamWrapper<<zipfile.ZipExtFile name='fma_small/001/001270.mp3' mode='r' compress_type=bzip2>>)\n",
      "('cache/fma_small.zip/fma_small/001/001276.mp3', StreamWrapper<<zipfile.ZipExtFile name='fma_small/001/001276.mp3' mode='r' compress_type=bzip2>>)\n",
      "('cache/fma_small.zip/fma_small/001/001277.mp3', StreamWrapper<<zipfile.ZipExtFile name='fma_small/001/001277.mp3' mode='r' compress_type=bzip2>>)\n",
      "('cache/fma_small.zip/fma_small/001/001278.mp3', StreamWrapper<<zipfile.ZipExtFile name='fma_small/001/001278.mp3' mode='r' compress_type=bzip2>>)\n",
      "('cache/fma_small.zip/fma_small/001/001417.mp3', StreamWrapper<<zipfile.ZipExtFile name='fma_small/001/001417.mp3' mode='r' compress_type=bzip2>>)\n",
      "('cache/fma_small.zip/fma_small/001/001427.mp3', StreamWrapper<<zipfile.ZipExtFile name='fma_small/001/001427.mp3' mode='r' compress_type=bzip2>>)\n",
      "('cache/fma_small.zip/fma_small/001/001443.mp3', StreamWrapper<<zipfile.ZipExtFile name='fma_small/001/001443.mp3' mode='r' compress_type=bzip2>>)\n",
      "('cache/fma_small.zip/fma_small/001/001482.mp3', StreamWrapper<<zipfile.ZipExtFile name='fma_small/001/001482.mp3' mode='r' compress_type=bzip2>>)\n"
     ]
    }
   ],
   "source": [
    "it = iter(cache_decompressed_dp)\n",
    "for i in range(100):\n",
    "    print(next(it))"
   ]
  },
  {
   "cell_type": "code",
   "execution_count": 2,
   "metadata": {},
   "outputs": [
    {
     "data": {
      "text/plain": [
       "1234"
      ]
     },
     "execution_count": 2,
     "metadata": {},
     "output_type": "execute_result"
    }
   ],
   "source": [
    "\n",
    "unzip fma_metadata.zip\n",
    "unzip fma_small.zip\n",
    "unzip fma_medium.zip\n",
    "unzip fma_large.zip\n",
    "unzip fma_full.zip"
   ]
  },
  {
   "cell_type": "code",
   "execution_count": null,
   "metadata": {},
   "outputs": [],
   "source": []
  }
 ],
 "metadata": {
  "kernelspec": {
   "display_name": "Python 3 (ipykernel)",
   "language": "python",
   "name": "python3"
  },
  "orig_nbformat": 4
 },
 "nbformat": 4,
 "nbformat_minor": 2
}
